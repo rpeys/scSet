{
 "cells": [
  {
   "cell_type": "code",
   "execution_count": 81,
   "metadata": {},
   "outputs": [],
   "source": [
    "import numpy as np\n",
    "import pandas as pd\n",
    "import scanpy as sc\n",
    "from scipy.sparse import csr_matrix\n",
    "import anndata as ad"
   ]
  },
  {
   "cell_type": "markdown",
   "metadata": {},
   "source": [
    "## preprocess both files supplied in GEO in bash"
   ]
  },
  {
   "cell_type": "raw",
   "metadata": {},
   "source": [
    "#subset metadata file to the table containing info for each cell:\n",
    "cat GSE120575_patient_ID_single_cells.txt | awk 'NR>=20 && NR<=16311' > GSE120575_processed_metadata.txt\n",
    "\n",
    "#the TPM file has two lines of headers; delete the second line (which contains patient id, rather than cell id; this is fine since cell ids are unique across patients (I checked this in table pts below))\n",
    "sed '2d' GSE120575_Sade_Feldman_melanoma_single_cells_TPM_GEO.txt > GSE120575_processed_TPM.txt\n",
    "also need to remove trailing white space (tabs, specifically) from the end of each line:\n",
    "in vim, run :%s/\\s\\+$//e (takes some time, perhaps better to do with sed in the future)"
   ]
  },
  {
   "cell_type": "markdown",
   "metadata": {},
   "source": [
    "## read in sample/cell info"
   ]
  },
  {
   "cell_type": "code",
   "execution_count": 4,
   "metadata": {},
   "outputs": [
    {
     "name": "stderr",
     "output_type": "stream",
     "text": [
      "/anaconda3/lib/python3.7/site-packages/ipykernel_launcher.py:1: FutureWarning: read_table is deprecated, use read_csv instead, passing sep='\\t'.\n",
      "  \"\"\"Entry point for launching an IPython kernel.\n"
     ]
    }
   ],
   "source": [
    "pts = pd.read_table(\"/data/rna_rep_learning/sadefeldman/GSE120575_processed_metadata.txt\")"
   ]
  },
  {
   "cell_type": "code",
   "execution_count": 7,
   "metadata": {},
   "outputs": [
    {
     "data": {
      "text/plain": [
       "anti-PD1          11653\n",
       "anti-CTLA4+PD1     4121\n",
       "anti-CTLA4          517\n",
       "Name: characteristics: therapy, dtype: int64"
      ]
     },
     "execution_count": 7,
     "metadata": {},
     "output_type": "execute_result"
    }
   ],
   "source": [
    "pts['characteristics: therapy'].value_counts()"
   ]
  },
  {
   "cell_type": "markdown",
   "metadata": {},
   "source": [
    "#### drop empty columns"
   ]
  },
  {
   "cell_type": "code",
   "execution_count": 23,
   "metadata": {},
   "outputs": [],
   "source": [
    "#check that all are empty\n",
    "(~pts.loc[:,'molecule':'Unnamed: 34'].isna()).sum() "
   ]
  },
  {
   "cell_type": "code",
   "execution_count": 23,
   "metadata": {},
   "outputs": [],
   "source": [
    "# drop\n",
    "pts.drop(columns=pts.columns[7:], inplace=True)"
   ]
  },
  {
   "cell_type": "code",
   "execution_count": 34,
   "metadata": {},
   "outputs": [
    {
     "data": {
      "text/plain": [
       "16291"
      ]
     },
     "execution_count": 34,
     "metadata": {},
     "output_type": "execute_result"
    }
   ],
   "source": [
    "len(pd.unique(pts.title))"
   ]
  },
  {
   "cell_type": "markdown",
   "metadata": {},
   "source": [
    "## clean up column names, drop meaningless columns"
   ]
  },
  {
   "cell_type": "code",
   "execution_count": 92,
   "metadata": {},
   "outputs": [],
   "source": [
    "pts.drop(columns=[\"Sample name\",\"organism\",\"source name\"], inplace=True)"
   ]
  },
  {
   "cell_type": "code",
   "execution_count": 94,
   "metadata": {},
   "outputs": [
    {
     "data": {
      "text/plain": [
       "Index(['title',\n",
       "       'characteristics: patinet ID (Pre=baseline; Post= on treatment)',\n",
       "       'characteristics: response', 'characteristics: therapy'],\n",
       "      dtype='object')"
      ]
     },
     "execution_count": 94,
     "metadata": {},
     "output_type": "execute_result"
    }
   ],
   "source": [
    "pts.columns"
   ]
  },
  {
   "cell_type": "code",
   "execution_count": 95,
   "metadata": {},
   "outputs": [],
   "source": [
    "pts.rename(columns={'title':'cellid',\n",
    "       'characteristics: patinet ID (Pre=baseline; Post= on treatment)':\"pid\",\n",
    "       'characteristics: response':\"response\", 'characteristics: therapy':\"therapy\"}, inplace=True)"
   ]
  },
  {
   "cell_type": "code",
   "execution_count": 96,
   "metadata": {},
   "outputs": [
    {
     "data": {
      "text/html": [
       "<div>\n",
       "<style scoped>\n",
       "    .dataframe tbody tr th:only-of-type {\n",
       "        vertical-align: middle;\n",
       "    }\n",
       "\n",
       "    .dataframe tbody tr th {\n",
       "        vertical-align: top;\n",
       "    }\n",
       "\n",
       "    .dataframe thead th {\n",
       "        text-align: right;\n",
       "    }\n",
       "</style>\n",
       "<table border=\"1\" class=\"dataframe\">\n",
       "  <thead>\n",
       "    <tr style=\"text-align: right;\">\n",
       "      <th></th>\n",
       "      <th>cellid</th>\n",
       "      <th>pid</th>\n",
       "      <th>response</th>\n",
       "      <th>therapy</th>\n",
       "    </tr>\n",
       "  </thead>\n",
       "  <tbody>\n",
       "    <tr>\n",
       "      <th>0</th>\n",
       "      <td>A10_P3_M11</td>\n",
       "      <td>Pre_P1</td>\n",
       "      <td>Responder</td>\n",
       "      <td>anti-CTLA4</td>\n",
       "    </tr>\n",
       "    <tr>\n",
       "      <th>1</th>\n",
       "      <td>A11_P1_M11</td>\n",
       "      <td>Pre_P1</td>\n",
       "      <td>Responder</td>\n",
       "      <td>anti-CTLA4</td>\n",
       "    </tr>\n",
       "    <tr>\n",
       "      <th>2</th>\n",
       "      <td>A11_P3_M11</td>\n",
       "      <td>Pre_P1</td>\n",
       "      <td>Responder</td>\n",
       "      <td>anti-CTLA4</td>\n",
       "    </tr>\n",
       "    <tr>\n",
       "      <th>3</th>\n",
       "      <td>A11_P4_M11</td>\n",
       "      <td>Pre_P1</td>\n",
       "      <td>Responder</td>\n",
       "      <td>anti-CTLA4</td>\n",
       "    </tr>\n",
       "    <tr>\n",
       "      <th>4</th>\n",
       "      <td>A12_P3_M11</td>\n",
       "      <td>Pre_P1</td>\n",
       "      <td>Responder</td>\n",
       "      <td>anti-CTLA4</td>\n",
       "    </tr>\n",
       "  </tbody>\n",
       "</table>\n",
       "</div>"
      ],
      "text/plain": [
       "       cellid     pid   response     therapy\n",
       "0  A10_P3_M11  Pre_P1  Responder  anti-CTLA4\n",
       "1  A11_P1_M11  Pre_P1  Responder  anti-CTLA4\n",
       "2  A11_P3_M11  Pre_P1  Responder  anti-CTLA4\n",
       "3  A11_P4_M11  Pre_P1  Responder  anti-CTLA4\n",
       "4  A12_P3_M11  Pre_P1  Responder  anti-CTLA4"
      ]
     },
     "execution_count": 96,
     "metadata": {},
     "output_type": "execute_result"
    }
   ],
   "source": [
    "pts.head()"
   ]
  },
  {
   "cell_type": "markdown",
   "metadata": {},
   "source": [
    "## read in gene expression data"
   ]
  },
  {
   "cell_type": "code",
   "execution_count": 60,
   "metadata": {},
   "outputs": [],
   "source": [
    "adata_orig = sc.read_csv(\"/data/rna_rep_learning/sadefeldman/GSE120575_processed_TPM.txt\", delimiter=\"\\t\", first_column_names=True)"
   ]
  },
  {
   "cell_type": "code",
   "execution_count": 86,
   "metadata": {},
   "outputs": [],
   "source": [
    "# need to tranpose adata\n",
    "adata = ad.AnnData(np.transpose(adata_orig.X), obs = adata_orig.var.copy(), var=adata_orig.obs.copy())\n",
    "\n",
    "del adata_orig"
   ]
  },
  {
   "cell_type": "code",
   "execution_count": 100,
   "metadata": {},
   "outputs": [
    {
     "name": "stdout",
     "output_type": "stream",
     "text": [
      "16291\n",
      "16291\n",
      "16291\n"
     ]
    }
   ],
   "source": [
    "print(len(pd.merge(pts, adata.obs, right_index=True, left_on=\"cellid\")))\n",
    "print(len(pts))\n",
    "print(len(adata.obs))\n",
    "\n",
    "##all same length, so ready to merge"
   ]
  },
  {
   "cell_type": "code",
   "execution_count": 103,
   "metadata": {},
   "outputs": [],
   "source": [
    "adata.obs = pd.merge(pts, adata.obs, right_index=True, left_on=\"cellid\").set_index(\"cellid\")"
   ]
  },
  {
   "cell_type": "markdown",
   "metadata": {},
   "source": [
    "#### they use about 20,000 protein coding genes in their analysis (see table S6). what are the other 30K genes present?"
   ]
  },
  {
   "cell_type": "markdown",
   "metadata": {},
   "source": [
    "## convert adata to sparse format & save adata object"
   ]
  },
  {
   "cell_type": "code",
   "execution_count": 108,
   "metadata": {},
   "outputs": [],
   "source": [
    "adata.X = csr_matrix(adata.X)\n",
    "adata.write(\"/data/rna_rep_learning/sadefeldman/processed_adata_sparse.h5ad\")"
   ]
  }
 ],
 "metadata": {
  "kernelspec": {
   "display_name": "Python 3",
   "language": "python",
   "name": "python3"
  },
  "language_info": {
   "codemirror_mode": {
    "name": "ipython",
    "version": 3
   },
   "file_extension": ".py",
   "mimetype": "text/x-python",
   "name": "python",
   "nbconvert_exporter": "python",
   "pygments_lexer": "ipython3",
   "version": "3.7.3"
  }
 },
 "nbformat": 4,
 "nbformat_minor": 2
}
