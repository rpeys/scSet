{
 "cells": [
  {
   "cell_type": "code",
   "execution_count": 2,
   "id": "d8fb4c65-bd0b-4172-8bc8-7a28b28a1fd3",
   "metadata": {
    "tags": []
   },
   "outputs": [
    {
     "name": "stderr",
     "output_type": "stream",
     "text": [
      "/opt/conda/rpeyser/envs/scgpt_4/lib/python3.10/site-packages/tqdm/auto.py:21: TqdmWarning: IProgress not found. Please update jupyter and ipywidgets. See https://ipywidgets.readthedocs.io/en/stable/user_install.html\n",
      "  from .autonotebook import tqdm as notebook_tqdm\n"
     ]
    }
   ],
   "source": [
    "import numpy as np\n",
    "import pandas as pd\n",
    "import matplotlib.pyplot as plt\n",
    "import seaborn as sns\n",
    "import os\n",
    "import sys\n",
    "import scanpy as sc\n",
    "from sklearn.neighbors import KNeighborsClassifier, KNeighborsRegressor\n",
    "from sklearn.linear_model import LogisticRegression, LinearRegression, Lasso\n",
    "from sklearn.metrics import accuracy_score, roc_auc_score, mean_absolute_error, mean_squared_error\n",
    "from sklearn.ensemble import RandomForestClassifier, RandomForestRegressor\n",
    "from datetime import datetime\n",
    "import torch\n",
    "import torch.nn as nn\n",
    "import torch.optim as optim\n",
    "from torch.utils.data import DataLoader, TensorDataset, random_split\n",
    "import pytorch_lightning as pl\n",
    "import scipy\n",
    "import random\n",
    "import scgpt as scg\n",
    "from pathlib import Path\n",
    "import sklearn\n"
   ]
  },
  {
   "cell_type": "markdown",
   "id": "70534cde-2340-4212-8141-1d78299a3d2d",
   "metadata": {},
   "source": [
    "# read data"
   ]
  },
  {
   "cell_type": "code",
   "execution_count": 3,
   "id": "fa9cd7b6-1235-4bc3-a73e-563c151ce003",
   "metadata": {},
   "outputs": [],
   "source": [
    "adata_full = sc.read_h5ad(\"/data/rna_rep_learning/luca_salcher2022/luca_w_scGPT_embeds.h5ad\")"
   ]
  },
  {
   "cell_type": "code",
   "execution_count": 10,
   "id": "ae77901e-75c7-4610-a87d-8d8bef66cf74",
   "metadata": {},
   "outputs": [],
   "source": [
    "adata_full"
   ]
  },
  {
   "cell_type": "markdown",
   "id": "53862143-8cc5-4c18-a43c-d9799326a2b3",
   "metadata": {
    "jp-MarkdownHeadingCollapsed": true
   },
   "source": [
    "# task 1: predict biopsy site: primary vs metastatic, based on tumor cells alone"
   ]
  },
  {
   "cell_type": "markdown",
   "id": "cf0fc6b4-a103-4ec2-a38f-2d17c9c5d202",
   "metadata": {
    "jp-MarkdownHeadingCollapsed": true
   },
   "source": [
    "## define sample pool, target, X, splits for this task"
   ]
  },
  {
   "cell_type": "markdown",
   "id": "17c3b3f8-0569-49a4-ae40-70241142d715",
   "metadata": {},
   "source": [
    "### define sample_pool for this target"
   ]
  },
  {
   "cell_type": "code",
   "execution_count": 75,
   "id": "e3e95109-82ca-4a8b-b5b9-fc77f7eb0b06",
   "metadata": {},
   "outputs": [],
   "source": [
    "#filter adata to just tumor cells\n",
    "adata = adata_full"
   ]
  },
  {
   "cell_type": "code",
   "execution_count": 76,
   "id": "f39c9003-ea6e-490f-ac0b-ae3ac42d0887",
   "metadata": {},
   "outputs": [],
   "source": [
    "sample_col = 'sample'\n",
    "target_col = 'origin'"
   ]
  },
  {
   "cell_type": "code",
   "execution_count": 77,
   "id": "011938c3-1425-4e85-ba30-e51af900d910",
   "metadata": {
    "scrolled": true
   },
   "outputs": [
    {
     "data": {
      "text/plain": [
       "origin\n",
       "tumor_primary       254\n",
       "normal_adjacent     137\n",
       "normal              109\n",
       "tumor_metastasis     54\n",
       "nan                   2\n",
       "Name: count, dtype: int64"
      ]
     },
     "execution_count": 77,
     "metadata": {},
     "output_type": "execute_result"
    }
   ],
   "source": [
    "adata.obs[[sample_col, target_col]].drop_duplicates()[target_col].value_counts()"
   ]
  },
  {
   "cell_type": "code",
   "execution_count": 78,
   "id": "84832503-fbdc-4520-bee1-537c2f6d0581",
   "metadata": {},
   "outputs": [
    {
     "name": "stderr",
     "output_type": "stream",
     "text": [
      "/tmp/ipykernel_4043237/829841891.py:2: FutureWarning: The default of observed=False is deprecated and will be changed to True in a future version of pandas. Pass observed=False to retain current behavior or observed=True to adopt the future default and silence this warning.\n",
      "  luca_malig_filter = pd.DataFrame(adata.obs.groupby([\"origin\",sample_col]).cell_type.value_counts()).rename(columns={'count':'cell_type_counts'})\n"
     ]
    },
    {
     "data": {
      "text/plain": [
       "(array([18., 15., 12.,  8.,  7.,  7.,  6.,  2.,  2.,  2., 10.,  5.,  4.,\n",
       "         2.,  7.,  1.,  3.,  5.,  4.,  3.]),\n",
       " array([ 1. ,  5.9, 10.8, 15.7, 20.6, 25.5, 30.4, 35.3, 40.2, 45.1, 50. ,\n",
       "        54.9, 59.8, 64.7, 69.6, 74.5, 79.4, 84.3, 89.2, 94.1, 99. ]),\n",
       " <BarContainer object of 20 artists>)"
      ]
     },
     "execution_count": 78,
     "metadata": {},
     "output_type": "execute_result"
    },
    {
     "data": {
      "image/png": "[encoded data removed]",
      "text/plain": [
       "<Figure size 640x480 with 1 Axes>"
      ]
     },
     "metadata": {},
     "output_type": "display_data"
    }
   ],
   "source": [
    "#only keep samples that have >=n tumor cells. histogram of n tumor cells per sample, for samples with 0 > n < 100 cells. To help decide on cutoff\n",
    "luca_malig_filter = pd.DataFrame(adata.obs.groupby([\"origin\",sample_col]).cell_type.value_counts()).rename(columns={'count':'cell_type_counts'})\n",
    "luca_malig_filter = luca_malig_filter.reset_index()\n",
    "luca_malig_filter = luca_malig_filter[((luca_malig_filter.origin==\"tumor_primary\") | (luca_malig_filter.origin==\"tumor_metastasis\")) & (luca_malig_filter.cell_type==\"malignant cell\") & (luca_malig_filter.cell_type_counts !=0)]\n",
    "\n",
    "plt.hist(luca_malig_filter[luca_malig_filter.cell_type_counts<=100].cell_type_counts, bins=20)"
   ]
  },
  {
   "cell_type": "code",
   "execution_count": 79,
   "id": "36beeb55-5990-4c2c-9a69-22cf56f7ba75",
   "metadata": {},
   "outputs": [],
   "source": [
    "luca_malig_filter.index = luca_malig_filter[sample_col]\n",
    "\n",
    "tumor_cell_samples = luca_malig_filter[luca_malig_filter.cell_type_counts >=15][sample_col]"
   ]
  },
  {
   "cell_type": "code",
   "execution_count": 80,
   "id": "3968a803-18ff-4ffa-9b6c-5af23d775b3f",
   "metadata": {},
   "outputs": [
    {
     "data": {
      "text/plain": [
       "206"
      ]
     },
     "execution_count": 80,
     "metadata": {},
     "output_type": "execute_result"
    }
   ],
   "source": [
    "len(tumor_cell_samples)"
   ]
  },
  {
   "cell_type": "code",
   "execution_count": 81,
   "id": "d8a3425d-84e9-4b11-99a9-74ffe6ccf691",
   "metadata": {},
   "outputs": [
    {
     "name": "stdout",
     "output_type": "stream",
     "text": [
      "this target has 554 non-NA samples\n"
     ]
    }
   ],
   "source": [
    "#get sample IDs that are not NA for this target\n",
    "notNA_samples = adata.obs[[sample_col,target_col]].drop_duplicates()[sample_col][adata.obs[[sample_col,target_col]].drop_duplicates()[target_col]!=\"nan\"]\n",
    "print(\"this target has {} non-NA samples\".format(len(notNA_samples)))"
   ]
  },
  {
   "cell_type": "code",
   "execution_count": 82,
   "id": "dce02c61-dcea-4ca8-b341-ea135a917355",
   "metadata": {},
   "outputs": [
    {
     "name": "stdout",
     "output_type": "stream",
     "text": [
      "206\n"
     ]
    }
   ],
   "source": [
    "sample_pool = np.intersect1d(tumor_cell_samples, notNA_samples)\n",
    "print(len(sample_pool))"
   ]
  },
  {
   "cell_type": "code",
   "execution_count": 85,
   "id": "053d5d26-d68f-4788-8f82-18f2d1b88284",
   "metadata": {},
   "outputs": [
    {
     "name": "stdout",
     "output_type": "stream",
     "text": [
      "72\n"
     ]
    }
   ],
   "source": [
    "# create a balanced dataset\n",
    "counts_total_sample_pool = adata.obs.loc[adata.obs[sample_col].isin(sample_pool),[target_col,sample_col]].drop_duplicates()[target_col].astype(\"string\").value_counts()\n",
    "sample_pool = adata.obs.loc[(adata.obs[sample_col].isin(sample_pool)),[sample_col, target_col]].astype(\"string\").drop_duplicates().groupby(target_col).sample(n=np.min(counts_total_sample_pool))[\"sample\"]\n",
    "print(len(sample_pool))"
   ]
  },
  {
   "cell_type": "markdown",
   "id": "e646c036-9fc7-465d-a912-23807d815ae3",
   "metadata": {
    "jp-MarkdownHeadingCollapsed": true
   },
   "source": [
    "### define target, and limit/order by sample_pool"
   ]
  },
  {
   "cell_type": "code",
   "execution_count": 86,
   "id": "1298656a-a9ab-4499-9ee3-5bd0f0689c99",
   "metadata": {},
   "outputs": [],
   "source": [
    "## Define targets\n",
    "targets = adata.obs.loc[:, [sample_col, target_col]].drop_duplicates().set_index(sample_col).loc[sample_pool,target_col]\n",
    "labels, targets_ind = np.unique(targets, return_inverse=True)\n",
    "targets = pd.Series(targets_ind, index=targets.index)"
   ]
  },
  {
   "cell_type": "code",
   "execution_count": 87,
   "id": "f13430f8-327d-4258-90f3-9bc6d1f4a559",
   "metadata": {},
   "outputs": [
    {
     "data": {
      "text/plain": [
       "array(['tumor_metastasis', 'tumor_primary'], dtype=object)"
      ]
     },
     "execution_count": 87,
     "metadata": {},
     "output_type": "execute_result"
    }
   ],
   "source": [
    "labels"
   ]
  },
  {
   "cell_type": "code",
   "execution_count": 88,
   "id": "0454d064-7636-44b1-9aa9-1266a681716b",
   "metadata": {
    "scrolled": true
   },
   "outputs": [
    {
     "data": {
      "text/plain": [
       "0    0.5\n",
       "1    0.5\n",
       "Name: count, dtype: float64"
      ]
     },
     "execution_count": 88,
     "metadata": {},
     "output_type": "execute_result"
    }
   ],
   "source": [
    "targets.value_counts()/len(targets)"
   ]
  },
  {
   "cell_type": "markdown",
   "id": "31fb9278-9d96-480b-bb49-9c78a908cb12",
   "metadata": {
    "jp-MarkdownHeadingCollapsed": true
   },
   "source": [
    "### splits for grouped (by dataset) 10 fold cross validation (cv outer loop)"
   ]
  },
  {
   "cell_type": "code",
   "execution_count": 89,
   "id": "b8453ac6-4b10-42c2-b0af-1503e7390d7d",
   "metadata": {},
   "outputs": [],
   "source": [
    "from sklearn.model_selection import GroupKFold\n",
    "group_kfold = GroupKFold(n_splits=10)\n",
    "groups = adata.obs.set_index(sample_col).loc[sample_pool, 'dataset'].reset_index().drop_duplicates().dataset\n",
    "splits = list(group_kfold.split(sample_pool, groups=groups)) #if don't convert to list, iterator is exhausted after one use\n"
   ]
  },
  {
   "cell_type": "code",
   "execution_count": 90,
   "id": "073734c9-e383-41a3-8606-051dc3c9ccd1",
   "metadata": {},
   "outputs": [
    {
     "name": "stderr",
     "output_type": "stream",
     "text": [
      "/tmp/ipykernel_4043237/1982975917.py:2: FutureWarning: Series.__getitem__ treating keys as positions is deprecated. In a future version, integer keys will always be treated as labels (consistent with DataFrame behavior). To access a value by position, use `ser.iloc[pos]`\n",
      "  print(\"datasets reserved for test fold: \", list(adata.obs.set_index(sample_col).loc[sample_pool[test_index]].dataset.drop_duplicates()))\n",
      "/tmp/ipykernel_4043237/1982975917.py:2: FutureWarning: Series.__getitem__ treating keys as positions is deprecated. In a future version, integer keys will always be treated as labels (consistent with DataFrame behavior). To access a value by position, use `ser.iloc[pos]`\n",
      "  print(\"datasets reserved for test fold: \", list(adata.obs.set_index(sample_col).loc[sample_pool[test_index]].dataset.drop_duplicates()))\n"
     ]
    },
    {
     "name": "stdout",
     "output_type": "stream",
     "text": [
      "datasets reserved for test fold:  ['Kim_Lee_2020']\n",
      "n samples in train:  50\n",
      "n samples in test:  22\n",
      "\n",
      "\n",
      "datasets reserved for test fold:  ['Maynard_Bivona_2020']\n",
      "n samples in train:  55\n",
      "n samples in test:  17\n",
      "\n",
      "\n",
      "datasets reserved for test fold:  ['Wu_Zhou_2021']\n",
      "n samples in train:  66\n",
      "n samples in test:  6\n",
      "\n",
      "\n"
     ]
    },
    {
     "name": "stderr",
     "output_type": "stream",
     "text": [
      "/tmp/ipykernel_4043237/1982975917.py:2: FutureWarning: Series.__getitem__ treating keys as positions is deprecated. In a future version, integer keys will always be treated as labels (consistent with DataFrame behavior). To access a value by position, use `ser.iloc[pos]`\n",
      "  print(\"datasets reserved for test fold: \", list(adata.obs.set_index(sample_col).loc[sample_pool[test_index]].dataset.drop_duplicates()))\n",
      "/tmp/ipykernel_4043237/1982975917.py:2: FutureWarning: Series.__getitem__ treating keys as positions is deprecated. In a future version, integer keys will always be treated as labels (consistent with DataFrame behavior). To access a value by position, use `ser.iloc[pos]`\n",
      "  print(\"datasets reserved for test fold: \", list(adata.obs.set_index(sample_col).loc[sample_pool[test_index]].dataset.drop_duplicates()))\n",
      "/tmp/ipykernel_4043237/1982975917.py:2: FutureWarning: Series.__getitem__ treating keys as positions is deprecated. In a future version, integer keys will always be treated as labels (consistent with DataFrame behavior). To access a value by position, use `ser.iloc[pos]`\n",
      "  print(\"datasets reserved for test fold: \", list(adata.obs.set_index(sample_col).loc[sample_pool[test_index]].dataset.drop_duplicates()))\n"
     ]
    },
    {
     "name": "stdout",
     "output_type": "stream",
     "text": [
      "datasets reserved for test fold:  ['Zilionis_Klein_2019']\n",
      "n samples in train:  68\n",
      "n samples in test:  4\n",
      "\n",
      "\n",
      "datasets reserved for test fold:  ['Leader_Merad_2021_10x_3p_v2_digest-deadcell_cite']\n",
      "n samples in train:  68\n",
      "n samples in test:  4\n",
      "\n",
      "\n",
      "datasets reserved for test fold:  ['Laughney_Massague_2020']\n",
      "n samples in train:  68\n",
      "n samples in test:  4\n",
      "\n",
      "\n"
     ]
    },
    {
     "name": "stderr",
     "output_type": "stream",
     "text": [
      "/tmp/ipykernel_4043237/1982975917.py:2: FutureWarning: Series.__getitem__ treating keys as positions is deprecated. In a future version, integer keys will always be treated as labels (consistent with DataFrame behavior). To access a value by position, use `ser.iloc[pos]`\n",
      "  print(\"datasets reserved for test fold: \", list(adata.obs.set_index(sample_col).loc[sample_pool[test_index]].dataset.drop_duplicates()))\n",
      "/tmp/ipykernel_4043237/1982975917.py:2: FutureWarning: Series.__getitem__ treating keys as positions is deprecated. In a future version, integer keys will always be treated as labels (consistent with DataFrame behavior). To access a value by position, use `ser.iloc[pos]`\n",
      "  print(\"datasets reserved for test fold: \", list(adata.obs.set_index(sample_col).loc[sample_pool[test_index]].dataset.drop_duplicates()))\n",
      "/tmp/ipykernel_4043237/1982975917.py:2: FutureWarning: Series.__getitem__ treating keys as positions is deprecated. In a future version, integer keys will always be treated as labels (consistent with DataFrame behavior). To access a value by position, use `ser.iloc[pos]`\n",
      "  print(\"datasets reserved for test fold: \", list(adata.obs.set_index(sample_col).loc[sample_pool[test_index]].dataset.drop_duplicates()))\n"
     ]
    },
    {
     "name": "stdout",
     "output_type": "stream",
     "text": [
      "datasets reserved for test fold:  ['Leader_Merad_2021_10x_3p_v2_beads', 'Lambrechts_Thienpont_2018_6149v2']\n",
      "n samples in train:  68\n",
      "n samples in test:  4\n",
      "\n",
      "\n",
      "datasets reserved for test fold:  ['UKIM-V-2', 'Goveia_Carmeliet_2020']\n",
      "n samples in train:  68\n",
      "n samples in test:  4\n",
      "\n",
      "\n",
      "datasets reserved for test fold:  ['UKIM-V', 'Lambrechts_Thienpont_2018_6149v1', 'Chen_Zhang_2020']\n",
      "n samples in train:  68\n",
      "n samples in test:  4\n",
      "\n",
      "\n",
      "datasets reserved for test fold:  ['Lambrechts_Thienpont_2018_6653', 'He_Fan_2021']\n",
      "n samples in train:  69\n",
      "n samples in test:  3\n",
      "\n",
      "\n"
     ]
    },
    {
     "name": "stderr",
     "output_type": "stream",
     "text": [
      "/tmp/ipykernel_4043237/1982975917.py:2: FutureWarning: Series.__getitem__ treating keys as positions is deprecated. In a future version, integer keys will always be treated as labels (consistent with DataFrame behavior). To access a value by position, use `ser.iloc[pos]`\n",
      "  print(\"datasets reserved for test fold: \", list(adata.obs.set_index(sample_col).loc[sample_pool[test_index]].dataset.drop_duplicates()))\n",
      "/tmp/ipykernel_4043237/1982975917.py:2: FutureWarning: Series.__getitem__ treating keys as positions is deprecated. In a future version, integer keys will always be treated as labels (consistent with DataFrame behavior). To access a value by position, use `ser.iloc[pos]`\n",
      "  print(\"datasets reserved for test fold: \", list(adata.obs.set_index(sample_col).loc[sample_pool[test_index]].dataset.drop_duplicates()))\n"
     ]
    }
   ],
   "source": [
    "for (train_index, test_index) in splits:\n",
    "    print(\"datasets reserved for test fold: \", list(adata.obs.set_index(sample_col).loc[sample_pool[test_index]].dataset.drop_duplicates()))\n",
    "    print(\"n samples in train: \", len(train_index))\n",
    "    print(\"n samples in test: \", len(test_index))\n",
    "    print(\"\\n\")"
   ]
  },
  {
   "cell_type": "markdown",
   "id": "b94789b1-14fd-4998-a36c-08970dba913f",
   "metadata": {},
   "source": [
    "## create pseudobulk embeddings to use downstream"
   ]
  },
  {
   "cell_type": "code",
   "execution_count": 91,
   "id": "882f7902-f714-4dea-af5a-09b940acd41d",
   "metadata": {},
   "outputs": [
    {
     "data": {
      "text/plain": [
       "View of AnnData object with n_obs × n_vars = 28394 × 17811\n",
       "    obs: 'sample', 'uicc_stage', 'ever_smoker', 'age', 'donor_id', 'origin', 'dataset', 'ann_fine', 'cell_type_predicted', 'doublet_status', 'leiden', 'n_genes_by_counts', 'total_counts', 'total_counts_mito', 'pct_counts_mito', 'ann_coarse', 'cell_type_tumor', 'tumor_stage', 'EGFR_mutation', 'TP53_mutation', 'ALK_mutation', 'BRAF_mutation', 'ERBB2_mutation', 'KRAS_mutation', 'ROS_mutation', 'origin_fine', 'study', 'platform', 'cell_type_major', 'cell_type_neutro', 'cell_type_neutro_coarse', 'suspension_type', 'assay_ontology_term_id', 'cell_type_ontology_term_id', 'development_stage_ontology_term_id', 'disease_ontology_term_id', 'self_reported_ethnicity_ontology_term_id', 'is_primary_data', 'organism_ontology_term_id', 'sex_ontology_term_id', 'tissue_ontology_term_id', 'cell_type', 'assay', 'disease', 'organism', 'sex', 'tissue', 'self_reported_ethnicity', 'development_stage'\n",
       "    var: 'is_highly_variable', 'mito', 'n_cells_by_counts', 'mean_counts', 'pct_dropout_by_counts', 'total_counts', 'feature_is_filtered', 'feature_name', 'feature_reference', 'feature_biotype', 'id_in_vocab'\n",
       "    uns: '_scvi', 'ann_fine_colors', 'batch_condition', 'cell_type_major_colors', 'cell_type_tumor_colors', 'dataset_colors', 'default_embedding', 'hvg', 'neighbors', 'origin_colors', 'platform_colors', 'schema_version', 'title', 'umap'\n",
       "    obsm: 'X_scANVI', 'X_scGPT', 'X_scVI', 'X_umap'\n",
       "    layers: 'count', 'counts_length_scaled', 'lognorm'\n",
       "    obsp: 'connectivities', 'distances'"
      ]
     },
     "execution_count": 91,
     "metadata": {},
     "output_type": "execute_result"
    }
   ],
   "source": [
    "adata = adata[(adata.obs[sample_col].isin(sample_pool)) & (adata.obs.cell_type==\"malignant cell\")]\n",
    "adata"
   ]
  },
  {
   "cell_type": "code",
   "execution_count": 92,
   "id": "37021ea9-c63b-472e-86b9-2370f7e95d65",
   "metadata": {},
   "outputs": [
    {
     "data": {
      "text/plain": [
       "72"
      ]
     },
     "execution_count": 92,
     "metadata": {},
     "output_type": "execute_result"
    }
   ],
   "source": [
    "adata.obs[sample_col].drop_duplicates().size"
   ]
  },
  {
   "cell_type": "code",
   "execution_count": 93,
   "id": "9585e898-3721-486f-97b2-a5e718252db2",
   "metadata": {},
   "outputs": [
    {
     "data": {
      "text/plain": [
       "cell_type\n",
       "malignant cell    28394\n",
       "Name: count, dtype: int64"
      ]
     },
     "execution_count": 93,
     "metadata": {},
     "output_type": "execute_result"
    }
   ],
   "source": [
    "adata.obs.cell_type.value_counts()"
   ]
  },
  {
   "cell_type": "code",
   "execution_count": 94,
   "id": "edc24668-7c0f-4227-bdf2-25897e2f4d70",
   "metadata": {},
   "outputs": [],
   "source": [
    "pbulk_embs = {}"
   ]
  },
  {
   "cell_type": "markdown",
   "id": "2f690578-e768-4f51-a158-0edfe275ec1b",
   "metadata": {},
   "source": [
    "#### scGPT"
   ]
  },
  {
   "cell_type": "code",
   "execution_count": 95,
   "id": "b191e606-5bda-49fd-8cc6-84fab78cb267",
   "metadata": {},
   "outputs": [
    {
     "name": "stderr",
     "output_type": "stream",
     "text": [
      "/tmp/ipykernel_4043237/2538767356.py:4: FutureWarning: The default of observed=False is deprecated and will be changed to True in a future version of pandas. Pass observed=False to retain current behavior or observed=True to adopt the future default and silence this warning.\n",
      "  pseudobulk_input = pd.DataFrame(adata.obsm[emb_name], index=adata.obs.loc[:,sample_col]).reset_index().groupby(sample_col).mean()\n"
     ]
    }
   ],
   "source": [
    "emb_name = 'X_scGPT'\n",
    "\n",
    "## Input\n",
    "pseudobulk_input = pd.DataFrame(adata.obsm[emb_name], index=adata.obs.loc[:,sample_col]).reset_index().groupby(sample_col).mean()\n",
    "\n",
    "#limit to the sample pool, this will also put it in the right order to index using the groupkfold inds\n",
    "pbulk_embs[emb_name] = pseudobulk_input#.loc[sample_pool,:]"
   ]
  },
  {
   "cell_type": "markdown",
   "id": "66275db8-8d2f-41fa-a392-4371df82fee2",
   "metadata": {},
   "source": [
    "#### scGPT -> 40 PCs"
   ]
  },
  {
   "cell_type": "code",
   "execution_count": 96,
   "id": "91e18ce0-049b-47a0-a93f-404e7eb1c261",
   "metadata": {},
   "outputs": [
    {
     "name": "stderr",
     "output_type": "stream",
     "text": [
      "/tmp/ipykernel_4043237/2718990846.py:7: FutureWarning: The default of observed=False is deprecated and will be changed to True in a future version of pandas. Pass observed=False to retain current behavior or observed=True to adopt the future default and silence this warning.\n",
      "  pseudobulk_input = pd.DataFrame(scgpt_input_pca, index=adata.obs.loc[:,sample_col]).reset_index().groupby(sample_col).mean()\n"
     ]
    }
   ],
   "source": [
    "emb_name = 'X_scGPT'\n",
    "\n",
    "pca = sklearn.decomposition.PCA(n_components=40)\n",
    "scgpt_input_pca = pca.fit_transform(adata.obsm[emb_name])\n",
    "\n",
    "## Input\n",
    "pseudobulk_input = pd.DataFrame(scgpt_input_pca, index=adata.obs.loc[:,sample_col]).reset_index().groupby(sample_col).mean()\n",
    "\n",
    "#limit to the sample pool, this will also put it in the right order to index using the groupkfold inds\n",
    "pbulk_embs['scgpt_40PCs'] = pseudobulk_input#.loc[sample_pool,:]"
   ]
  },
  {
   "cell_type": "markdown",
   "id": "5415043c-f98c-4927-94e5-40b6143537c2",
   "metadata": {},
   "source": [
    "#### scANVI"
   ]
  },
  {
   "cell_type": "code",
   "execution_count": 97,
   "id": "f898ac10-59f7-4732-88ab-86d57a299e3a",
   "metadata": {},
   "outputs": [
    {
     "name": "stderr",
     "output_type": "stream",
     "text": [
      "/tmp/ipykernel_4043237/967565294.py:4: FutureWarning: The default of observed=False is deprecated and will be changed to True in a future version of pandas. Pass observed=False to retain current behavior or observed=True to adopt the future default and silence this warning.\n",
      "  pseudobulk_input = pd.DataFrame(adata.obsm[emb_name], index=adata.obs.loc[:,sample_col]).reset_index().groupby(sample_col).mean()\n"
     ]
    }
   ],
   "source": [
    "emb_name = 'X_scANVI'\n",
    "\n",
    "## Input\n",
    "pseudobulk_input = pd.DataFrame(adata.obsm[emb_name], index=adata.obs.loc[:,sample_col]).reset_index().groupby(sample_col).mean()\n",
    "\n",
    "#limit to the sample pool, this will also put it in the right order to index using the groupkfold inds\n",
    "pbulk_embs[emb_name] = pseudobulk_input#.loc[sample_pool,:]"
   ]
  },
  {
   "cell_type": "markdown",
   "id": "a74aaf0d-15f3-48c0-ab29-e97722c240f0",
   "metadata": {},
   "source": [
    "#### cell type props"
   ]
  },
  {
   "cell_type": "code",
   "execution_count": 98,
   "id": "e30c08b6-ee9d-4a03-a57a-cf5cc99eae13",
   "metadata": {},
   "outputs": [
    {
     "name": "stderr",
     "output_type": "stream",
     "text": [
      "/tmp/ipykernel_4043237/540146638.py:2: FutureWarning: The default of observed=False is deprecated and will be changed to True in a future version of pandas. Pass observed=False to retain current behavior or observed=True to adopt the future default and silence this warning.\n",
      "  celltype_counts_df = pd.DataFrame(adata.obs.groupby(sample_col).cell_type.value_counts()).rename({'count':'cell_type_counts'},axis=1).reset_index().pivot(index=sample_col, columns=\"cell_type\", values=\"cell_type_counts\")\n"
     ]
    }
   ],
   "source": [
    "## Input\n",
    "celltype_counts_df = pd.DataFrame(adata.obs.groupby(sample_col).cell_type.value_counts()).rename({'count':'cell_type_counts'},axis=1).reset_index().pivot(index=sample_col, columns=\"cell_type\", values=\"cell_type_counts\")\n",
    "celltype_fracs_df = celltype_counts_df.div(celltype_counts_df.sum(axis=1), axis=0)\n",
    "pseudobulk_input = celltype_fracs_df\n",
    "pbulk_embs['ct_props'] = pseudobulk_input#.loc[sample_pool,:]"
   ]
  },
  {
   "cell_type": "markdown",
   "id": "b721587a-4fd5-41e3-99d8-540ea4de311e",
   "metadata": {},
   "source": [
    "#### cell type props + mean embedding based on scGPT"
   ]
  },
  {
   "cell_type": "code",
   "execution_count": 99,
   "id": "c7241268-752b-4df3-a218-de8fd74eaf51",
   "metadata": {},
   "outputs": [
    {
     "name": "stderr",
     "output_type": "stream",
     "text": [
      "/tmp/ipykernel_4043237/3601337964.py:6: FutureWarning: The default of observed=False is deprecated and will be changed to True in a future version of pandas. Pass observed=False to retain current behavior or observed=True to adopt the future default and silence this warning.\n",
      "  pseudobulk_input = pd.DataFrame(adata.obsm[emb_name], index=adata.obs.index).merge(adata.obs[[sample_col,'cell_type']], right_index=True, left_index=True).groupby([sample_col,'cell_type']).mean()\n"
     ]
    }
   ],
   "source": [
    "#get mean embedding per cell type\n",
    "\n",
    "emb_name = 'X_scGPT'\n",
    "\n",
    "# get mean embedding per sample+cell_type\n",
    "pseudobulk_input = pd.DataFrame(adata.obsm[emb_name], index=adata.obs.index).merge(adata.obs[[sample_col,'cell_type']], right_index=True, left_index=True).groupby([sample_col,'cell_type']).mean()\n",
    "\n",
    "# change columns to more interpretable strs \n",
    "pseudobulk_input.columns = ['scgpt_'+str(c) for c in pseudobulk_input.columns]\n",
    "\n",
    "# cell types that dont exist in a given sample - fill 0 for mean expression\n",
    "pseudobulk_input = pseudobulk_input.fillna(0).reset_index()\n",
    "\n",
    "# Pivot the dataframe\n",
    "psblk_per_celltype = pseudobulk_input.pivot(index=sample_col, columns='cell_type')\n",
    "\n",
    "# Flatten the multi-level columns\n",
    "psblk_per_celltype.columns = ['_'.join(col).strip() for col in psblk_per_celltype.columns.values]"
   ]
  },
  {
   "cell_type": "code",
   "execution_count": 100,
   "id": "4ce6ddba-837f-435c-9390-05676488b3b1",
   "metadata": {},
   "outputs": [],
   "source": [
    "# concat cell type fracs and mean embs dfs\n",
    "pbulk_embs['ct_fracs_means_scGPTfull'] = pbulk_embs['ct_props'].merge(psblk_per_celltype, right_index=True, left_index=True)"
   ]
  },
  {
   "cell_type": "markdown",
   "id": "91a67df2-c202-45de-90af-f486b7399c70",
   "metadata": {},
   "source": [
    "#### cell type props + mean embedding based on scGPT+40PCs"
   ]
  },
  {
   "cell_type": "code",
   "execution_count": 101,
   "id": "275cf92f-b4e5-4e7d-8c09-a079896555c1",
   "metadata": {},
   "outputs": [
    {
     "name": "stderr",
     "output_type": "stream",
     "text": [
      "/tmp/ipykernel_4043237/125621020.py:8: FutureWarning: The default of observed=False is deprecated and will be changed to True in a future version of pandas. Pass observed=False to retain current behavior or observed=True to adopt the future default and silence this warning.\n",
      "  pseudobulk_input = pd.DataFrame(scgpt_input_pca, index=adata.obs.index).merge(adata.obs[[sample_col,'cell_type']], right_index=True, left_index=True).groupby([sample_col,'cell_type']).mean()\n"
     ]
    }
   ],
   "source": [
    "#get mean embedding per cell type\n",
    "\n",
    "emb_name = 'X_scGPT'\n",
    "pca = sklearn.decomposition.PCA(n_components=40)\n",
    "scgpt_input_pca = pca.fit_transform(adata.obsm[emb_name])\n",
    "\n",
    "# get mean embedding per sample+cell_type\n",
    "pseudobulk_input = pd.DataFrame(scgpt_input_pca, index=adata.obs.index).merge(adata.obs[[sample_col,'cell_type']], right_index=True, left_index=True).groupby([sample_col,'cell_type']).mean()\n",
    "\n",
    "# change columns to more interpretable strs \n",
    "pseudobulk_input.columns = ['scgpt_'+str(c) for c in pseudobulk_input.columns]\n",
    "\n",
    "# cell types that dont exist in a given sample - fill 0 for mean expression\n",
    "pseudobulk_input = pseudobulk_input.fillna(0).reset_index()\n",
    "\n",
    "# Pivot the dataframe\n",
    "psblk_per_celltype = pseudobulk_input.pivot(index=sample_col, columns='cell_type')\n",
    "\n",
    "# Flatten the multi-level columns\n",
    "psblk_per_celltype.columns = ['_'.join(col).strip() for col in psblk_per_celltype.columns.values]"
   ]
  },
  {
   "cell_type": "code",
   "execution_count": 102,
   "id": "0abf8cff-bbd9-42c1-b213-3d941a4774bc",
   "metadata": {},
   "outputs": [],
   "source": [
    "# concat cell type fracs and mean embs dfs\n",
    "pbulk_embs['ct_fracs_means_scGPT_40PCs'] = pbulk_embs['ct_props'].merge(psblk_per_celltype, right_index=True, left_index=True)"
   ]
  },
  {
   "cell_type": "markdown",
   "id": "41643ee6-b568-47e6-b283-5553a0e263a6",
   "metadata": {},
   "source": [
    "#### cell type props + mean embedding based on scANVI"
   ]
  },
  {
   "cell_type": "code",
   "execution_count": 103,
   "id": "8cbc7f63-d15d-41a4-a177-42e04c195868",
   "metadata": {},
   "outputs": [
    {
     "name": "stderr",
     "output_type": "stream",
     "text": [
      "/tmp/ipykernel_4043237/2841900010.py:6: FutureWarning: The default of observed=False is deprecated and will be changed to True in a future version of pandas. Pass observed=False to retain current behavior or observed=True to adopt the future default and silence this warning.\n",
      "  pseudobulk_input = pd.DataFrame(adata.obsm[emb_name], index=adata.obs.index).merge(adata.obs[[sample_col,'cell_type']], right_index=True, left_index=True).groupby([sample_col,'cell_type']).mean()\n"
     ]
    }
   ],
   "source": [
    "#get mean embedding per cell type\n",
    "\n",
    "emb_name = 'X_scANVI'\n",
    "\n",
    "# get mean embedding per sample+cell_type\n",
    "pseudobulk_input = pd.DataFrame(adata.obsm[emb_name], index=adata.obs.index).merge(adata.obs[[sample_col,'cell_type']], right_index=True, left_index=True).groupby([sample_col,'cell_type']).mean()\n",
    "\n",
    "# change columns to more interpretable strs \n",
    "pseudobulk_input.columns = ['scanvi_'+str(c) for c in pseudobulk_input.columns]\n",
    "\n",
    "# cell types that dont exist in a given sample - fill 0 for mean expression\n",
    "pseudobulk_input = pseudobulk_input.fillna(0).reset_index()\n",
    "\n",
    "# Pivot the dataframe\n",
    "psblk_per_celltype = pseudobulk_input.pivot(index=sample_col, columns='cell_type')\n",
    "\n",
    "# Flatten the multi-level columns\n",
    "psblk_per_celltype.columns = ['_'.join(col).strip() for col in psblk_per_celltype.columns.values]"
   ]
  },
  {
   "cell_type": "code",
   "execution_count": 104,
   "id": "1076ece6-eff5-4fa1-b4db-560fd0545cc4",
   "metadata": {},
   "outputs": [],
   "source": [
    "# concat cell type fracs and mean embs dfs\n",
    "pbulk_embs['ct_fracs_means_scANVI'] = pbulk_embs['ct_props'].merge(psblk_per_celltype, right_index=True, left_index=True)"
   ]
  },
  {
   "cell_type": "markdown",
   "id": "1577b790-a22a-44e3-bfb8-ce28c4d6f77e",
   "metadata": {},
   "source": [
    "### limit/order pseudobulk embeddings by sample_pool"
   ]
  },
  {
   "cell_type": "code",
   "execution_count": 105,
   "id": "faefa3ba-44b4-4317-a2aa-97f7e4e38da5",
   "metadata": {},
   "outputs": [],
   "source": [
    "this_pbulk_embs = {}\n",
    "for emb in pbulk_embs:\n",
    "    this_pbulk_embs[emb] = pbulk_embs[emb].loc[sample_pool]"
   ]
  },
  {
   "cell_type": "markdown",
   "id": "f1f6ceda-8cc0-4615-9ad4-b65adda2a046",
   "metadata": {},
   "source": [
    "## calculate heuristic baseline performance on these splits\n",
    "\n",
    "not including majority class per study as a baseline, since we shouldn't have study based batch effects affecting performance using our GroupKFold!"
   ]
  },
  {
   "cell_type": "code",
   "execution_count": 106,
   "id": "c4936a70-483a-4bc9-93af-902225831198",
   "metadata": {},
   "outputs": [
    {
     "name": "stdout",
     "output_type": "stream",
     "text": [
      "baseline accuracy on K val sets:  [0.136 0.235 0.    0.    0.    0.    0.    0.    0.    0.   ]\n",
      "mean accuracy:  0.037\n"
     ]
    }
   ],
   "source": [
    "val_majclass_bline_accs= []\n",
    "\n",
    "for (train_index, val_index) in splits:\n",
    "    #calculate baseline performance - majority class\n",
    "    majclass_bline_pred = targets.iloc[train_index].value_counts().index[targets.iloc[train_index].value_counts().argmax()]\n",
    "    if majclass_bline_pred not in targets.iloc[val_index].value_counts().index:\n",
    "        val_majclass_bline_accs.append(0)\n",
    "    else:\n",
    "        val_majclass_bline_accs.append(targets.iloc[val_index].value_counts()[majclass_bline_pred]/len(val_index))\n",
    "\n",
    "print(\"baseline accuracy on K val sets: \", np.around(val_majclass_bline_accs,3))\n",
    "print(\"mean accuracy: \", np.round(np.mean(val_majclass_bline_accs),3))"
   ]
  },
  {
   "cell_type": "markdown",
   "id": "fa9f1a29-fd38-4e2a-84e1-3df34869cf02",
   "metadata": {},
   "source": [
    "## Evaluate models using nested GroupKFold CV"
   ]
  },
  {
   "cell_type": "code",
   "execution_count": 107,
   "id": "f100bd64-5130-44ed-9cef-be8e2971752e",
   "metadata": {
    "scrolled": true
   },
   "outputs": [],
   "source": [
    "## train KNN w/ Kfold CV\n",
    "from sklearn.model_selection import GridSearchCV, cross_val_score\n",
    "\n",
    "def nested_kfold_eval(pseudobulk_input, targets, splits, model, param_grid):\n",
    "\n",
    "    # Inner CV for hyperparameter tuning\n",
    "    inner_cv = GridSearchCV(model, param_grid, cv=5)\n",
    "\n",
    "    # Nested CV\n",
    "    nested_score = cross_val_score(inner_cv, pseudobulk_input, targets, cv=group_kfold, groups=groups)\n",
    "    \n",
    "    print(\"Nested CV Score: \", np.round(nested_score.mean(),3))\n",
    "    \n",
    "    return nested_score"
   ]
  },
  {
   "cell_type": "code",
   "execution_count": 108,
   "id": "936db901-2700-4a23-bbc1-990a7aa269de",
   "metadata": {},
   "outputs": [],
   "source": [
    "# set up a dict with models and hparams to test\n",
    "\n",
    "model_param_dict = {\n",
    "    'KNN': (KNeighborsClassifier(), {'n_neighbors':np.arange(10)+1}),\n",
    "    'random_forest' : (RandomForestClassifier(), {'min_samples_leaf': [1,2,3,4,5,6,7,8,9,10,11,12,13,14,15,16,17,18,19,20]}),\n",
    "    'logistic_regression': (LogisticRegression(max_iter=500), {'C':[1e-5,1e-4,1e-3,1e-2,1e-1,1,10,100,1000,10000]})\n",
    "}\n"
   ]
  },
  {
   "cell_type": "code",
   "execution_count": 112,
   "id": "93792fe1-2174-494a-b72d-d9ad770ea6ea",
   "metadata": {},
   "outputs": [
    {
     "name": "stdout",
     "output_type": "stream",
     "text": [
      "--------- logistic_regression ----------\n",
      "embedding:  X_scGPT\n",
      "shape of embedding:  (72, 512)\n",
      "Nested CV Score:  0.537\n",
      "\n",
      "\n",
      "embedding:  scgpt_40PCs\n",
      "shape of embedding:  (72, 40)\n",
      "Nested CV Score:  0.557\n",
      "\n",
      "\n",
      "embedding:  X_scANVI\n",
      "shape of embedding:  (72, 10)\n",
      "Nested CV Score:  0.037\n",
      "\n",
      "\n",
      "\n",
      "\n"
     ]
    }
   ],
   "source": [
    "task1_results = {}\n",
    "for model in model_param_dict:\n",
    "    print(\"--------- {} ----------\".format(model))\n",
    "    task1_results[model] = {}\n",
    "    for emb in ['X_scGPT', 'scgpt_40PCs', 'X_scANVI']: #our proxies arent meaningful when there is only one cell type\n",
    "        print('embedding: ', emb)\n",
    "        print('shape of embedding: ', this_pbulk_embs[emb].shape)\n",
    "        task1_results[model][emb] = nested_kfold_eval(this_pbulk_embs[emb], targets, splits, model=model_param_dict[model][0], param_grid = model_param_dict[model][1])\n",
    "        print(\"\\n\")\n",
    "    print(\"\\n\")"
   ]
  },
  {
   "cell_type": "markdown",
   "id": "fff488fd-4cd2-46ac-be4e-9903cf97aaac",
   "metadata": {},
   "source": [
    "## TO DO - significance testing, not most important for getting high level sense of where the signal is"
   ]
  },
  {
   "cell_type": "code",
   "execution_count": null,
   "id": "fb536229-3674-4986-8bbc-52dbf083d1c1",
   "metadata": {},
   "outputs": [],
   "source": [
    "# check significance of promising results\n",
    "\n",
    "# need to record per-sample predictions and then FOR SAMPLES where models disagree, can run either binomial or wilcoxon signed-rank test\n"
   ]
  },
  {
   "cell_type": "markdown",
   "id": "e95375de-7dca-447b-810e-4ca6b2bdb1a8",
   "metadata": {},
   "source": [
    "# task 2a: predict stage, early vs advanced - only include lung biopsies (pretty hard problem), all cells"
   ]
  },
  {
   "cell_type": "markdown",
   "id": "5deb5c84-b291-4a15-bf93-2542def7b52c",
   "metadata": {},
   "source": [
    "## define sample pool, target, X, splits for this task"
   ]
  },
  {
   "cell_type": "markdown",
   "id": "317b1cb5-dc7a-49bd-a3df-18794dc2709d",
   "metadata": {},
   "source": [
    "### define sample_pool for this target"
   ]
  },
  {
   "cell_type": "code",
   "execution_count": 4,
   "id": "1bad1048-854a-475b-886f-a3166ba5488d",
   "metadata": {},
   "outputs": [],
   "source": [
    "#filter adata to just tumor cells\n",
    "adata = adata_full"
   ]
  },
  {
   "cell_type": "code",
   "execution_count": 5,
   "id": "dd0f6f42-a7a3-4225-985e-c2f3d7572057",
   "metadata": {},
   "outputs": [],
   "source": [
    "sample_col = 'sample'\n",
    "target_col = 'tumor_stage'"
   ]
  },
  {
   "cell_type": "code",
   "execution_count": 6,
   "id": "37f141e9-9e4d-46de-bffb-75945479a168",
   "metadata": {
    "scrolled": true
   },
   "outputs": [
    {
     "data": {
      "text/plain": [
       "tumor_stage\n",
       "early         262\n",
       "advanced      173\n",
       "non-cancer    120\n",
       "NaN             1\n",
       "Name: count, dtype: int64"
      ]
     },
     "execution_count": 6,
     "metadata": {},
     "output_type": "execute_result"
    }
   ],
   "source": [
    "adata.obs[[sample_col, target_col]].drop_duplicates()[target_col].value_counts(dropna=False)"
   ]
  },
  {
   "cell_type": "code",
   "execution_count": 7,
   "id": "31cc4e52-1ff2-4bd5-8ce1-a69f8637c9f3",
   "metadata": {},
   "outputs": [
    {
     "name": "stdout",
     "output_type": "stream",
     "text": [
      "this target has 555 non-NA samples\n"
     ]
    }
   ],
   "source": [
    "#get sample IDs that are not NA for this target\n",
    "notNA_samples = adata.obs[[sample_col,target_col]].drop_duplicates()[sample_col][~adata.obs[[sample_col,target_col]].drop_duplicates()[target_col].isna()]\n",
    "print(\"this target has {} non-NA samples\".format(len(notNA_samples)))"
   ]
  },
  {
   "cell_type": "code",
   "execution_count": 8,
   "id": "e19b527f-834f-4035-a8a2-e4d4d34a6928",
   "metadata": {},
   "outputs": [],
   "source": [
    "# dont include non-cancer samples\n",
    "cancer_samples = adata.obs.loc[adata.obs.tumor_stage!=\"non-cancer\",sample_col].drop_duplicates()"
   ]
  },
  {
   "cell_type": "code",
   "execution_count": 9,
   "id": "b3d75fb3-33f0-40e9-b541-47d9fe80ec8e",
   "metadata": {},
   "outputs": [],
   "source": [
    "# only include lung samples\n",
    "lung_samples = adata.obs.loc[adata.obs.tissue==\"lung\",sample_col].drop_duplicates()"
   ]
  },
  {
   "cell_type": "code",
   "execution_count": 10,
   "id": "750f3dbb-b3c9-4b36-a0fc-349490ee927f",
   "metadata": {},
   "outputs": [
    {
     "name": "stdout",
     "output_type": "stream",
     "text": [
      "376\n"
     ]
    }
   ],
   "source": [
    "sample_pool = np.intersect1d(np.intersect1d(cancer_samples, notNA_samples), lung_samples)\n",
    "print(len(sample_pool))"
   ]
  },
  {
   "cell_type": "code",
   "execution_count": 11,
   "id": "b9b82935-5d36-40fd-b16f-a42f8e23fe84",
   "metadata": {},
   "outputs": [
    {
     "name": "stdout",
     "output_type": "stream",
     "text": [
      "tumor_stage\n",
      "early       249\n",
      "advanced    127\n",
      "Name: count, dtype: Int64\n",
      "\n",
      "dataset size after sampling to balance classes:  254\n"
     ]
    }
   ],
   "source": [
    "# create a balanced dataset\n",
    "counts_total_sample_pool = adata.obs.loc[adata.obs[sample_col].isin(sample_pool),[target_col,sample_col]].drop_duplicates()[target_col].astype(\"string\").value_counts()\n",
    "print(counts_total_sample_pool)\n",
    "\n",
    "sample_pool = adata.obs.loc[(adata.obs[sample_col].isin(sample_pool)),[sample_col, target_col]].astype(\"string\").drop_duplicates().groupby(target_col).sample(n=np.min(counts_total_sample_pool))[\"sample\"]\n",
    "print(\"\\ndataset size after sampling to balance classes: \", len(sample_pool))\n"
   ]
  },
  {
   "cell_type": "markdown",
   "id": "c63f214e-16e2-4595-ad65-728fa698adb6",
   "metadata": {},
   "source": [
    "#### save an anndata object that only contains sample_pool to pass into scSet"
   ]
  },
  {
   "cell_type": "code",
   "execution_count": 12,
   "id": "d6539fb2-7369-4fdb-80a3-7f04172ffd62",
   "metadata": {},
   "outputs": [],
   "source": [
    "adata[adata.obs[sample_col].isin(sample_pool),:].write(\"/data/rna_rep_learning/luca_salcher2022/luca_salcher2022_SAMPLEPOOL_lungonly_earlyvsadvanced_n254.h5ad\")"
   ]
  },
  {
   "cell_type": "markdown",
   "id": "c1b86599-1ab0-452e-9371-2237b1988a1e",
   "metadata": {},
   "source": [
    "### define target, and limit/order by sample_pool"
   ]
  },
  {
   "cell_type": "code",
   "execution_count": 137,
   "id": "254c0547-9056-44d2-beae-37d22eb56cac",
   "metadata": {},
   "outputs": [],
   "source": [
    "## Define targets\n",
    "targets = adata.obs.loc[:, [sample_col, target_col]].drop_duplicates().set_index(sample_col).loc[sample_pool,target_col]\n",
    "labels, targets_ind = np.unique(targets, return_inverse=True)\n",
    "targets = pd.Series(targets_ind, index=targets.index)"
   ]
  },
  {
   "cell_type": "code",
   "execution_count": 138,
   "id": "eaa173f6-376a-47d7-b866-2bcbb8971943",
   "metadata": {},
   "outputs": [
    {
     "data": {
      "text/plain": [
       "array(['advanced', 'early'], dtype=object)"
      ]
     },
     "execution_count": 138,
     "metadata": {},
     "output_type": "execute_result"
    }
   ],
   "source": [
    "labels"
   ]
  },
  {
   "cell_type": "code",
   "execution_count": 139,
   "id": "eb70c07a-f426-46c5-ae63-24974a3b377c",
   "metadata": {
    "scrolled": true
   },
   "outputs": [
    {
     "data": {
      "text/plain": [
       "0    0.5\n",
       "1    0.5\n",
       "Name: count, dtype: float64"
      ]
     },
     "execution_count": 139,
     "metadata": {},
     "output_type": "execute_result"
    }
   ],
   "source": [
    "targets.value_counts()/len(targets)"
   ]
  },
  {
   "cell_type": "markdown",
   "id": "70aad053-75c8-4c71-87e3-9f818b3dbeef",
   "metadata": {
    "jp-MarkdownHeadingCollapsed": true
   },
   "source": [
    "### splits for grouped (by dataset) 10 fold cross validation (cv outer loop)"
   ]
  },
  {
   "cell_type": "code",
   "execution_count": 140,
   "id": "9b086ced-d4db-4a53-a9b3-e633aaf095c8",
   "metadata": {},
   "outputs": [],
   "source": [
    "from sklearn.model_selection import GroupKFold\n",
    "group_kfold = GroupKFold(n_splits=10)\n",
    "groups = adata.obs.set_index(sample_col).loc[sample_pool, 'dataset'].reset_index().drop_duplicates().dataset\n",
    "splits = list(group_kfold.split(sample_pool, groups=groups)) #if don't convert to list, iterator is exhausted after one use\n"
   ]
  },
  {
   "cell_type": "code",
   "execution_count": 141,
   "id": "8f826cf7-08a4-4bf1-8a64-84fab34c93f8",
   "metadata": {},
   "outputs": [
    {
     "name": "stderr",
     "output_type": "stream",
     "text": [
      "/tmp/ipykernel_4043237/1982975917.py:2: FutureWarning: Series.__getitem__ treating keys as positions is deprecated. In a future version, integer keys will always be treated as labels (consistent with DataFrame behavior). To access a value by position, use `ser.iloc[pos]`\n",
      "  print(\"datasets reserved for test fold: \", list(adata.obs.set_index(sample_col).loc[sample_pool[test_index]].dataset.drop_duplicates()))\n",
      "/tmp/ipykernel_4043237/1982975917.py:2: FutureWarning: Series.__getitem__ treating keys as positions is deprecated. In a future version, integer keys will always be treated as labels (consistent with DataFrame behavior). To access a value by position, use `ser.iloc[pos]`\n",
      "  print(\"datasets reserved for test fold: \", list(adata.obs.set_index(sample_col).loc[sample_pool[test_index]].dataset.drop_duplicates()))\n"
     ]
    },
    {
     "name": "stdout",
     "output_type": "stream",
     "text": [
      "datasets reserved for test fold:  ['Wu_Zhou_2021']\n",
      "n samples in train:  212\n",
      "n samples in test:  42\n",
      "\n",
      "\n",
      "datasets reserved for test fold:  ['Guo_Zhang_2018']\n",
      "n samples in train:  213\n",
      "n samples in test:  41\n",
      "\n",
      "\n"
     ]
    },
    {
     "name": "stderr",
     "output_type": "stream",
     "text": [
      "/tmp/ipykernel_4043237/1982975917.py:2: FutureWarning: Series.__getitem__ treating keys as positions is deprecated. In a future version, integer keys will always be treated as labels (consistent with DataFrame behavior). To access a value by position, use `ser.iloc[pos]`\n",
      "  print(\"datasets reserved for test fold: \", list(adata.obs.set_index(sample_col).loc[sample_pool[test_index]].dataset.drop_duplicates()))\n",
      "/tmp/ipykernel_4043237/1982975917.py:2: FutureWarning: Series.__getitem__ treating keys as positions is deprecated. In a future version, integer keys will always be treated as labels (consistent with DataFrame behavior). To access a value by position, use `ser.iloc[pos]`\n",
      "  print(\"datasets reserved for test fold: \", list(adata.obs.set_index(sample_col).loc[sample_pool[test_index]].dataset.drop_duplicates()))\n"
     ]
    },
    {
     "name": "stdout",
     "output_type": "stream",
     "text": [
      "datasets reserved for test fold:  ['Leader_Merad_2021_10x_3p_v2_beads']\n",
      "n samples in train:  231\n",
      "n samples in test:  23\n",
      "\n",
      "\n",
      "datasets reserved for test fold:  ['UKIM-V-2']\n",
      "n samples in train:  232\n",
      "n samples in test:  22\n",
      "\n",
      "\n"
     ]
    },
    {
     "name": "stderr",
     "output_type": "stream",
     "text": [
      "/tmp/ipykernel_4043237/1982975917.py:2: FutureWarning: Series.__getitem__ treating keys as positions is deprecated. In a future version, integer keys will always be treated as labels (consistent with DataFrame behavior). To access a value by position, use `ser.iloc[pos]`\n",
      "  print(\"datasets reserved for test fold: \", list(adata.obs.set_index(sample_col).loc[sample_pool[test_index]].dataset.drop_duplicates()))\n",
      "/tmp/ipykernel_4043237/1982975917.py:2: FutureWarning: Series.__getitem__ treating keys as positions is deprecated. In a future version, integer keys will always be treated as labels (consistent with DataFrame behavior). To access a value by position, use `ser.iloc[pos]`\n",
      "  print(\"datasets reserved for test fold: \", list(adata.obs.set_index(sample_col).loc[sample_pool[test_index]].dataset.drop_duplicates()))\n"
     ]
    },
    {
     "name": "stdout",
     "output_type": "stream",
     "text": [
      "datasets reserved for test fold:  ['Kim_Lee_2020', 'Leader_Merad_2021_10x_5p_v1_beads', 'Leader_Merad_2021_10x_3p_v3_beads']\n",
      "n samples in train:  232\n",
      "n samples in test:  22\n",
      "\n",
      "\n",
      "datasets reserved for test fold:  ['Maynard_Bivona_2020', 'Leader_Merad_2021_10x_3p_v1_sort', 'Goveia_Carmeliet_2020']\n",
      "n samples in train:  233\n",
      "n samples in test:  21\n",
      "\n",
      "\n"
     ]
    },
    {
     "name": "stderr",
     "output_type": "stream",
     "text": [
      "/tmp/ipykernel_4043237/1982975917.py:2: FutureWarning: Series.__getitem__ treating keys as positions is deprecated. In a future version, integer keys will always be treated as labels (consistent with DataFrame behavior). To access a value by position, use `ser.iloc[pos]`\n",
      "  print(\"datasets reserved for test fold: \", list(adata.obs.set_index(sample_col).loc[sample_pool[test_index]].dataset.drop_duplicates()))\n",
      "/tmp/ipykernel_4043237/1982975917.py:2: FutureWarning: Series.__getitem__ treating keys as positions is deprecated. In a future version, integer keys will always be treated as labels (consistent with DataFrame behavior). To access a value by position, use `ser.iloc[pos]`\n",
      "  print(\"datasets reserved for test fold: \", list(adata.obs.set_index(sample_col).loc[sample_pool[test_index]].dataset.drop_duplicates()))\n"
     ]
    },
    {
     "name": "stdout",
     "output_type": "stream",
     "text": [
      "datasets reserved for test fold:  ['Zilionis_Klein_2019', 'Leader_Merad_2021_10x_3p_v2_sort', 'He_Fan_2021']\n",
      "n samples in train:  233\n",
      "n samples in test:  21\n",
      "\n",
      "\n",
      "datasets reserved for test fold:  ['Lambrechts_Thienpont_2018_6653', 'Leader_Merad_2021_10x_5p_v1_CD2', 'Leader_Merad_2021_10x_3p_v2_digest-deadcell_cite']\n",
      "n samples in train:  234\n",
      "n samples in test:  20\n",
      "\n",
      "\n"
     ]
    },
    {
     "name": "stderr",
     "output_type": "stream",
     "text": [
      "/tmp/ipykernel_4043237/1982975917.py:2: FutureWarning: Series.__getitem__ treating keys as positions is deprecated. In a future version, integer keys will always be treated as labels (consistent with DataFrame behavior). To access a value by position, use `ser.iloc[pos]`\n",
      "  print(\"datasets reserved for test fold: \", list(adata.obs.set_index(sample_col).loc[sample_pool[test_index]].dataset.drop_duplicates()))\n",
      "/tmp/ipykernel_4043237/1982975917.py:2: FutureWarning: Series.__getitem__ treating keys as positions is deprecated. In a future version, integer keys will always be treated as labels (consistent with DataFrame behavior). To access a value by position, use `ser.iloc[pos]`\n",
      "  print(\"datasets reserved for test fold: \", list(adata.obs.set_index(sample_col).loc[sample_pool[test_index]].dataset.drop_duplicates()))\n"
     ]
    },
    {
     "name": "stdout",
     "output_type": "stream",
     "text": [
      "datasets reserved for test fold:  ['Lambrechts_Thienpont_2018_6149v2', 'Lambrechts_Thienpont_2018_6149v1', 'Leader_Merad_2021_10x_3p_v2_beads_cite']\n",
      "n samples in train:  233\n",
      "n samples in test:  21\n",
      "\n",
      "\n",
      "datasets reserved for test fold:  ['Laughney_Massague_2020', 'Chen_Zhang_2020', 'UKIM-V']\n",
      "n samples in train:  233\n",
      "n samples in test:  21\n",
      "\n",
      "\n"
     ]
    }
   ],
   "source": [
    "for (train_index, test_index) in splits:\n",
    "    print(\"datasets reserved for test fold: \", list(adata.obs.set_index(sample_col).loc[sample_pool[test_index]].dataset.drop_duplicates()))\n",
    "    print(\"n samples in train: \", len(train_index))\n",
    "    print(\"n samples in test: \", len(test_index))\n",
    "    print(\"\\n\")"
   ]
  },
  {
   "cell_type": "markdown",
   "id": "ee15d594-49e7-41b5-b508-7a37b681938c",
   "metadata": {
    "jp-MarkdownHeadingCollapsed": true
   },
   "source": [
    "## create pseudobulk embeddings to use downstream"
   ]
  },
  {
   "cell_type": "code",
   "execution_count": 142,
   "id": "aa048c85-0baa-470a-99ba-f48d39a9ca49",
   "metadata": {},
   "outputs": [],
   "source": [
    "pbulk_embs = {}"
   ]
  },
  {
   "cell_type": "markdown",
   "id": "ee48b4b2-7cb6-4de8-abd8-96b445003261",
   "metadata": {
    "jp-MarkdownHeadingCollapsed": true
   },
   "source": [
    "#### scGPT"
   ]
  },
  {
   "cell_type": "code",
   "execution_count": 143,
   "id": "5d8dbfd4-bcb9-4abb-beed-1ef5ed83ba97",
   "metadata": {},
   "outputs": [
    {
     "name": "stderr",
     "output_type": "stream",
     "text": [
      "/tmp/ipykernel_4043237/2538767356.py:4: FutureWarning: The default of observed=False is deprecated and will be changed to True in a future version of pandas. Pass observed=False to retain current behavior or observed=True to adopt the future default and silence this warning.\n",
      "  pseudobulk_input = pd.DataFrame(adata.obsm[emb_name], index=adata.obs.loc[:,sample_col]).reset_index().groupby(sample_col).mean()\n"
     ]
    }
   ],
   "source": [
    "emb_name = 'X_scGPT'\n",
    "\n",
    "## Input\n",
    "pseudobulk_input = pd.DataFrame(adata.obsm[emb_name], index=adata.obs.loc[:,sample_col]).reset_index().groupby(sample_col).mean()\n",
    "\n",
    "#limit to the sample pool, this will also put it in the right order to index using the groupkfold inds\n",
    "pbulk_embs[emb_name] = pseudobulk_input#.loc[sample_pool,:]"
   ]
  },
  {
   "cell_type": "markdown",
   "id": "30a401d6-4161-4c3d-83c0-2dd3db1af1e1",
   "metadata": {
    "jp-MarkdownHeadingCollapsed": true
   },
   "source": [
    "#### scGPT -> 40 PCs"
   ]
  },
  {
   "cell_type": "code",
   "execution_count": 144,
   "id": "5c1d94cc-af0a-4cd9-9d7a-8329ea40ec4b",
   "metadata": {},
   "outputs": [
    {
     "name": "stderr",
     "output_type": "stream",
     "text": [
      "/tmp/ipykernel_4043237/2718990846.py:7: FutureWarning: The default of observed=False is deprecated and will be changed to True in a future version of pandas. Pass observed=False to retain current behavior or observed=True to adopt the future default and silence this warning.\n",
      "  pseudobulk_input = pd.DataFrame(scgpt_input_pca, index=adata.obs.loc[:,sample_col]).reset_index().groupby(sample_col).mean()\n"
     ]
    }
   ],
   "source": [
    "emb_name = 'X_scGPT'\n",
    "\n",
    "pca = sklearn.decomposition.PCA(n_components=40)\n",
    "scgpt_input_pca = pca.fit_transform(adata.obsm[emb_name])\n",
    "\n",
    "## Input\n",
    "pseudobulk_input = pd.DataFrame(scgpt_input_pca, index=adata.obs.loc[:,sample_col]).reset_index().groupby(sample_col).mean()\n",
    "\n",
    "#limit to the sample pool, this will also put it in the right order to index using the groupkfold inds\n",
    "pbulk_embs['scgpt_40PCs'] = pseudobulk_input#.loc[sample_pool,:]"
   ]
  },
  {
   "cell_type": "markdown",
   "id": "15db85a4-1e7f-45e4-81cd-704ed8fa2611",
   "metadata": {
    "jp-MarkdownHeadingCollapsed": true
   },
   "source": [
    "#### scANVI"
   ]
  },
  {
   "cell_type": "code",
   "execution_count": 145,
   "id": "5e3f177f-4904-422d-8e18-a58274be2c8e",
   "metadata": {},
   "outputs": [
    {
     "name": "stderr",
     "output_type": "stream",
     "text": [
      "/tmp/ipykernel_4043237/967565294.py:4: FutureWarning: The default of observed=False is deprecated and will be changed to True in a future version of pandas. Pass observed=False to retain current behavior or observed=True to adopt the future default and silence this warning.\n",
      "  pseudobulk_input = pd.DataFrame(adata.obsm[emb_name], index=adata.obs.loc[:,sample_col]).reset_index().groupby(sample_col).mean()\n"
     ]
    }
   ],
   "source": [
    "emb_name = 'X_scANVI'\n",
    "\n",
    "## Input\n",
    "pseudobulk_input = pd.DataFrame(adata.obsm[emb_name], index=adata.obs.loc[:,sample_col]).reset_index().groupby(sample_col).mean()\n",
    "\n",
    "#limit to the sample pool, this will also put it in the right order to index using the groupkfold inds\n",
    "pbulk_embs[emb_name] = pseudobulk_input#.loc[sample_pool,:]"
   ]
  },
  {
   "cell_type": "markdown",
   "id": "0f2ea0cd-8219-44f5-a762-11f167a52139",
   "metadata": {
    "jp-MarkdownHeadingCollapsed": true
   },
   "source": [
    "#### cell type props"
   ]
  },
  {
   "cell_type": "code",
   "execution_count": 146,
   "id": "f35a65d3-9c33-461a-9dae-7921bccad5e2",
   "metadata": {},
   "outputs": [
    {
     "name": "stderr",
     "output_type": "stream",
     "text": [
      "/tmp/ipykernel_4043237/540146638.py:2: FutureWarning: The default of observed=False is deprecated and will be changed to True in a future version of pandas. Pass observed=False to retain current behavior or observed=True to adopt the future default and silence this warning.\n",
      "  celltype_counts_df = pd.DataFrame(adata.obs.groupby(sample_col).cell_type.value_counts()).rename({'count':'cell_type_counts'},axis=1).reset_index().pivot(index=sample_col, columns=\"cell_type\", values=\"cell_type_counts\")\n"
     ]
    }
   ],
   "source": [
    "## Input\n",
    "celltype_counts_df = pd.DataFrame(adata.obs.groupby(sample_col).cell_type.value_counts()).rename({'count':'cell_type_counts'},axis=1).reset_index().pivot(index=sample_col, columns=\"cell_type\", values=\"cell_type_counts\")\n",
    "celltype_fracs_df = celltype_counts_df.div(celltype_counts_df.sum(axis=1), axis=0)\n",
    "pseudobulk_input = celltype_fracs_df\n",
    "pbulk_embs['ct_props'] = pseudobulk_input#.loc[sample_pool,:]"
   ]
  },
  {
   "cell_type": "markdown",
   "id": "d4f88fd8-cd47-49ee-adb9-a149c4d8eb73",
   "metadata": {
    "jp-MarkdownHeadingCollapsed": true
   },
   "source": [
    "#### cell type props + mean embedding based on scGPT"
   ]
  },
  {
   "cell_type": "code",
   "execution_count": 147,
   "id": "99a8090b-ac12-4d7f-9536-4707b6bc84a4",
   "metadata": {},
   "outputs": [
    {
     "name": "stderr",
     "output_type": "stream",
     "text": [
      "/tmp/ipykernel_4043237/3601337964.py:6: FutureWarning: The default of observed=False is deprecated and will be changed to True in a future version of pandas. Pass observed=False to retain current behavior or observed=True to adopt the future default and silence this warning.\n",
      "  pseudobulk_input = pd.DataFrame(adata.obsm[emb_name], index=adata.obs.index).merge(adata.obs[[sample_col,'cell_type']], right_index=True, left_index=True).groupby([sample_col,'cell_type']).mean()\n"
     ]
    }
   ],
   "source": [
    "#get mean embedding per cell type\n",
    "\n",
    "emb_name = 'X_scGPT'\n",
    "\n",
    "# get mean embedding per sample+cell_type\n",
    "pseudobulk_input = pd.DataFrame(adata.obsm[emb_name], index=adata.obs.index).merge(adata.obs[[sample_col,'cell_type']], right_index=True, left_index=True).groupby([sample_col,'cell_type']).mean()\n",
    "\n",
    "# change columns to more interpretable strs \n",
    "pseudobulk_input.columns = ['scgpt_'+str(c) for c in pseudobulk_input.columns]\n",
    "\n",
    "# cell types that dont exist in a given sample - fill 0 for mean expression\n",
    "pseudobulk_input = pseudobulk_input.fillna(0).reset_index()\n",
    "\n",
    "# Pivot the dataframe\n",
    "psblk_per_celltype = pseudobulk_input.pivot(index=sample_col, columns='cell_type')\n",
    "\n",
    "# Flatten the multi-level columns\n",
    "psblk_per_celltype.columns = ['_'.join(col).strip() for col in psblk_per_celltype.columns.values]"
   ]
  },
  {
   "cell_type": "code",
   "execution_count": 148,
   "id": "d621672e-1d7b-4b44-9634-2a4d6d756830",
   "metadata": {},
   "outputs": [],
   "source": [
    "# concat cell type fracs and mean embs dfs\n",
    "pbulk_embs['ct_fracs_means_scGPTfull'] = pbulk_embs['ct_props'].merge(psblk_per_celltype, right_index=True, left_index=True)"
   ]
  },
  {
   "cell_type": "markdown",
   "id": "3019e280-a7fc-4486-a0bd-7224f58d5514",
   "metadata": {
    "jp-MarkdownHeadingCollapsed": true
   },
   "source": [
    "#### cell type props + mean embedding based on scGPT+40PCs"
   ]
  },
  {
   "cell_type": "code",
   "execution_count": 149,
   "id": "f540bfe9-2857-4a7a-8934-531108dc6287",
   "metadata": {},
   "outputs": [
    {
     "name": "stderr",
     "output_type": "stream",
     "text": [
      "/tmp/ipykernel_4043237/125621020.py:8: FutureWarning: The default of observed=False is deprecated and will be changed to True in a future version of pandas. Pass observed=False to retain current behavior or observed=True to adopt the future default and silence this warning.\n",
      "  pseudobulk_input = pd.DataFrame(scgpt_input_pca, index=adata.obs.index).merge(adata.obs[[sample_col,'cell_type']], right_index=True, left_index=True).groupby([sample_col,'cell_type']).mean()\n"
     ]
    }
   ],
   "source": [
    "#get mean embedding per cell type\n",
    "\n",
    "emb_name = 'X_scGPT'\n",
    "pca = sklearn.decomposition.PCA(n_components=40)\n",
    "scgpt_input_pca = pca.fit_transform(adata.obsm[emb_name])\n",
    "\n",
    "# get mean embedding per sample+cell_type\n",
    "pseudobulk_input = pd.DataFrame(scgpt_input_pca, index=adata.obs.index).merge(adata.obs[[sample_col,'cell_type']], right_index=True, left_index=True).groupby([sample_col,'cell_type']).mean()\n",
    "\n",
    "# change columns to more interpretable strs \n",
    "pseudobulk_input.columns = ['scgpt_'+str(c) for c in pseudobulk_input.columns]\n",
    "\n",
    "# cell types that dont exist in a given sample - fill 0 for mean expression\n",
    "pseudobulk_input = pseudobulk_input.fillna(0).reset_index()\n",
    "\n",
    "# Pivot the dataframe\n",
    "psblk_per_celltype = pseudobulk_input.pivot(index=sample_col, columns='cell_type')\n",
    "\n",
    "# Flatten the multi-level columns\n",
    "psblk_per_celltype.columns = ['_'.join(col).strip() for col in psblk_per_celltype.columns.values]"
   ]
  },
  {
   "cell_type": "code",
   "execution_count": 150,
   "id": "b2b66eac-06db-4208-ab36-f606715df816",
   "metadata": {},
   "outputs": [],
   "source": [
    "# concat cell type fracs and mean embs dfs\n",
    "pbulk_embs['ct_fracs_means_scGPT_40PCs'] = pbulk_embs['ct_props'].merge(psblk_per_celltype, right_index=True, left_index=True)"
   ]
  },
  {
   "cell_type": "markdown",
   "id": "0498b534-fcc7-4f39-b6a3-928c651e012c",
   "metadata": {
    "jp-MarkdownHeadingCollapsed": true
   },
   "source": [
    "#### cell type props + mean embedding based on scANVI"
   ]
  },
  {
   "cell_type": "code",
   "execution_count": 151,
   "id": "94f6140d-565b-4973-85d9-00cc21663bb4",
   "metadata": {},
   "outputs": [
    {
     "name": "stderr",
     "output_type": "stream",
     "text": [
      "/tmp/ipykernel_4043237/2841900010.py:6: FutureWarning: The default of observed=False is deprecated and will be changed to True in a future version of pandas. Pass observed=False to retain current behavior or observed=True to adopt the future default and silence this warning.\n",
      "  pseudobulk_input = pd.DataFrame(adata.obsm[emb_name], index=adata.obs.index).merge(adata.obs[[sample_col,'cell_type']], right_index=True, left_index=True).groupby([sample_col,'cell_type']).mean()\n"
     ]
    }
   ],
   "source": [
    "#get mean embedding per cell type\n",
    "\n",
    "emb_name = 'X_scANVI'\n",
    "\n",
    "# get mean embedding per sample+cell_type\n",
    "pseudobulk_input = pd.DataFrame(adata.obsm[emb_name], index=adata.obs.index).merge(adata.obs[[sample_col,'cell_type']], right_index=True, left_index=True).groupby([sample_col,'cell_type']).mean()\n",
    "\n",
    "# change columns to more interpretable strs \n",
    "pseudobulk_input.columns = ['scanvi_'+str(c) for c in pseudobulk_input.columns]\n",
    "\n",
    "# cell types that dont exist in a given sample - fill 0 for mean expression\n",
    "pseudobulk_input = pseudobulk_input.fillna(0).reset_index()\n",
    "\n",
    "# Pivot the dataframe\n",
    "psblk_per_celltype = pseudobulk_input.pivot(index=sample_col, columns='cell_type')\n",
    "\n",
    "# Flatten the multi-level columns\n",
    "psblk_per_celltype.columns = ['_'.join(col).strip() for col in psblk_per_celltype.columns.values]"
   ]
  },
  {
   "cell_type": "code",
   "execution_count": 152,
   "id": "cecb419a-0356-4756-9edc-da35d3e43ec4",
   "metadata": {},
   "outputs": [],
   "source": [
    "# concat cell type fracs and mean embs dfs\n",
    "pbulk_embs['ct_fracs_means_scANVI'] = pbulk_embs['ct_props'].merge(psblk_per_celltype, right_index=True, left_index=True)"
   ]
  },
  {
   "cell_type": "markdown",
   "id": "9856e3a9-db66-47e4-9a41-96b26af9c9d8",
   "metadata": {},
   "source": [
    "### limit/order pseudobulk embeddings by sample_pool"
   ]
  },
  {
   "cell_type": "code",
   "execution_count": 153,
   "id": "45572c86-6129-4108-9f46-dc183c1a08a4",
   "metadata": {},
   "outputs": [],
   "source": [
    "this_pbulk_embs = {}\n",
    "for emb in pbulk_embs:\n",
    "    this_pbulk_embs[emb] = pbulk_embs[emb].loc[sample_pool]"
   ]
  },
  {
   "cell_type": "markdown",
   "id": "3905a48b-d62e-4f52-9cb0-a501b46d679e",
   "metadata": {},
   "source": [
    "## calculate heuristic baseline performance on these splits\n",
    "\n",
    "not including majority class per study as a baseline, since we shouldn't have study based batch effects affecting performance using our GroupKFold!"
   ]
  },
  {
   "cell_type": "code",
   "execution_count": 158,
   "id": "b4b976a3-882a-4a95-9f99-af0b4ed8aa6a",
   "metadata": {},
   "outputs": [
    {
     "name": "stdout",
     "output_type": "stream",
     "text": [
      "baseline accuracy on K val sets:  [0.   0.46 0.26 0.36 0.36 0.38 0.43 0.2  0.19 0.48]\n",
      "mean accuracy:  0.31\n"
     ]
    }
   ],
   "source": [
    "val_majclass_bline_accs= []\n",
    "\n",
    "for (train_index, val_index) in splits:\n",
    "    #calculate baseline performance - majority class\n",
    "    majclass_bline_pred = targets.iloc[train_index].value_counts().index[targets.iloc[train_index].value_counts().argmax()]\n",
    "    if majclass_bline_pred not in targets.iloc[val_index].value_counts().index:\n",
    "        val_majclass_bline_accs.append(0)\n",
    "    else:\n",
    "        val_majclass_bline_accs.append(targets.iloc[val_index].value_counts()[majclass_bline_pred]/len(val_index))\n",
    "\n",
    "print(\"baseline accuracy on K val sets: \", np.around(val_majclass_bline_accs,2))\n",
    "print(\"mean accuracy: \", np.round(np.mean(val_majclass_bline_accs),2))"
   ]
  },
  {
   "cell_type": "markdown",
   "id": "e65a3030-b384-41d0-b197-9432ecc0a832",
   "metadata": {},
   "source": [
    "## Evaluate models using nested GroupKFold CV"
   ]
  },
  {
   "cell_type": "code",
   "execution_count": 159,
   "id": "7634329e-6f40-4dcf-aae7-04810c581a3d",
   "metadata": {
    "scrolled": true
   },
   "outputs": [],
   "source": [
    "## train KNN w/ Kfold CV\n",
    "from sklearn.model_selection import GridSearchCV, cross_val_score\n",
    "\n",
    "def nested_kfold_eval(pseudobulk_input, targets, splits, model, param_grid):\n",
    "\n",
    "    # Inner CV for hyperparameter tuning\n",
    "    inner_cv = GridSearchCV(model, param_grid, cv=5)\n",
    "\n",
    "    # Nested CV\n",
    "    nested_score = cross_val_score(inner_cv, pseudobulk_input, targets, cv=group_kfold, groups=groups)\n",
    "    \n",
    "    print(\"Nested CV Score: \", np.round(nested_score.mean(),2))\n",
    "    \n",
    "    return nested_score"
   ]
  },
  {
   "cell_type": "code",
   "execution_count": 160,
   "id": "e4dbca03-99ab-409c-941e-2faf9d0c8a96",
   "metadata": {},
   "outputs": [],
   "source": [
    "# set up a dict with models and hparams to test\n",
    "\n",
    "model_param_dict = {\n",
    "    'KNN': (KNeighborsClassifier(), {'n_neighbors':np.arange(10)+1}),\n",
    "    'random_forest' : (RandomForestClassifier(), {'min_samples_leaf': [1,2,3,4,5,6,7,8,9,10,11,12,13,14,15,16,17,18,19,20]}),\n",
    "    'logistic_regression': (LogisticRegression(max_iter=500), {'C':[1e-5,1e-4,1e-3,1e-2,1e-1,1,10,100,1000,10000]})\n",
    "}\n"
   ]
  },
  {
   "cell_type": "code",
   "execution_count": 161,
   "id": "0fcf73d2-5abc-41ad-9027-9dab94fa7805",
   "metadata": {},
   "outputs": [
    {
     "name": "stdout",
     "output_type": "stream",
     "text": [
      "--------- KNN ----------\n",
      "embedding:  X_scGPT\n",
      "shape of embedding:  (254, 512)\n",
      "Nested CV Score:  0.53\n",
      "\n",
      "\n",
      "embedding:  scgpt_40PCs\n",
      "shape of embedding:  (254, 40)\n",
      "Nested CV Score:  0.55\n",
      "\n",
      "\n",
      "embedding:  X_scANVI\n",
      "shape of embedding:  (254, 10)\n",
      "Nested CV Score:  0.65\n",
      "\n",
      "\n",
      "embedding:  ct_props\n",
      "shape of embedding:  (254, 33)\n",
      "Nested CV Score:  0.64\n",
      "\n",
      "\n",
      "embedding:  ct_fracs_means_scGPTfull\n",
      "shape of embedding:  (254, 16929)\n",
      "Nested CV Score:  0.66\n",
      "\n",
      "\n",
      "embedding:  ct_fracs_means_scGPT_40PCs\n",
      "shape of embedding:  (254, 1353)\n",
      "Nested CV Score:  0.7\n",
      "\n",
      "\n",
      "embedding:  ct_fracs_means_scANVI\n",
      "shape of embedding:  (254, 363)\n",
      "Nested CV Score:  0.67\n",
      "\n",
      "\n",
      "\n",
      "\n",
      "--------- random_forest ----------\n",
      "embedding:  X_scGPT\n",
      "shape of embedding:  (254, 512)\n",
      "Nested CV Score:  0.63\n",
      "\n",
      "\n",
      "embedding:  scgpt_40PCs\n",
      "shape of embedding:  (254, 40)\n",
      "Nested CV Score:  0.59\n",
      "\n",
      "\n",
      "embedding:  X_scANVI\n",
      "shape of embedding:  (254, 10)\n",
      "Nested CV Score:  0.62\n",
      "\n",
      "\n",
      "embedding:  ct_props\n",
      "shape of embedding:  (254, 33)\n",
      "Nested CV Score:  0.72\n",
      "\n",
      "\n",
      "embedding:  ct_fracs_means_scGPTfull\n",
      "shape of embedding:  (254, 16929)\n",
      "Nested CV Score:  0.7\n",
      "\n",
      "\n",
      "embedding:  ct_fracs_means_scGPT_40PCs\n",
      "shape of embedding:  (254, 1353)\n",
      "Nested CV Score:  0.71\n",
      "\n",
      "\n",
      "embedding:  ct_fracs_means_scANVI\n",
      "shape of embedding:  (254, 363)\n",
      "Nested CV Score:  0.73\n",
      "\n",
      "\n",
      "\n",
      "\n",
      "--------- logistic_regression ----------\n",
      "embedding:  X_scGPT\n",
      "shape of embedding:  (254, 512)\n",
      "Nested CV Score:  0.56\n",
      "\n",
      "\n",
      "embedding:  scgpt_40PCs\n",
      "shape of embedding:  (254, 40)\n",
      "Nested CV Score:  0.58\n",
      "\n",
      "\n",
      "embedding:  X_scANVI\n",
      "shape of embedding:  (254, 10)\n",
      "Nested CV Score:  0.64\n",
      "\n",
      "\n",
      "embedding:  ct_props\n",
      "shape of embedding:  (254, 33)\n",
      "Nested CV Score:  0.64\n",
      "\n",
      "\n",
      "embedding:  ct_fracs_means_scGPTfull\n",
      "shape of embedding:  (254, 16929)\n",
      "Nested CV Score:  0.63\n",
      "\n",
      "\n",
      "embedding:  ct_fracs_means_scGPT_40PCs\n",
      "shape of embedding:  (254, 1353)\n",
      "Nested CV Score:  0.66\n",
      "\n",
      "\n",
      "embedding:  ct_fracs_means_scANVI\n",
      "shape of embedding:  (254, 363)\n",
      "Nested CV Score:  0.72\n",
      "\n",
      "\n",
      "\n",
      "\n"
     ]
    }
   ],
   "source": [
    "task2_results_k10 = {}\n",
    "for model in model_param_dict:\n",
    "    print(\"--------- {} ----------\".format(model))\n",
    "    task2_results_k10[model] = {}\n",
    "    for emb in this_pbulk_embs:\n",
    "        print('embedding: ', emb)\n",
    "        print('shape of embedding: ', this_pbulk_embs[emb].shape)\n",
    "        task2_results_k10[model][emb] = nested_kfold_eval(this_pbulk_embs[emb], targets, splits, model=model_param_dict[model][0], param_grid = model_param_dict[model][1])\n",
    "        print(\"\\n\")\n",
    "    print(\"\\n\")"
   ]
  },
  {
   "cell_type": "code",
   "execution_count": 162,
   "id": "68c8103f-008c-4cf8-a922-86578d213579",
   "metadata": {},
   "outputs": [
    {
     "data": {
      "image/png": "[encoded data removed]",
      "text/plain": [
       "<Figure size 1000x300 with 1 Axes>"
      ]
     },
     "metadata": {},
     "output_type": "display_data"
    }
   ],
   "source": [
    "import seaborn as sns\n",
    "import matplotlib.pyplot as plt\n",
    "\n",
    "# Adjust the figure size\n",
    "plt.figure(figsize=(10, 3))  # Width = 12, Height = 6 (you can change these values as needed)\n",
    "\n",
    "# Create the stripplot\n",
    "sns.stripplot(\n",
    "    data=pd.DataFrame(task2_results_k10['KNN']).reset_index().rename(columns={\"index\": \"fold\"}).melt(id_vars=\"fold\"),\n",
    "    x=\"fold\",\n",
    "    y=\"value\",\n",
    "    hue=\"variable\"\n",
    ")\n",
    "\n",
    "# Move the legend to the right side outside the plot\n",
    "plt.legend(bbox_to_anchor=(1.02, 1), loc='upper left')\n",
    "plt.ylabel(\"accuracy\")\n",
    "plt.title(\"Cross Validation Results using KNN\")\n",
    "\n",
    "# Show the plot\n",
    "plt.show()"
   ]
  },
  {
   "cell_type": "code",
   "execution_count": 163,
   "id": "df998d56-f35e-47e2-a10a-d863c64892af",
   "metadata": {},
   "outputs": [
    {
     "data": {
      "image/png": "[encoded data removed]",
      "text/plain": [
       "<Figure size 1000x300 with 1 Axes>"
      ]
     },
     "metadata": {},
     "output_type": "display_data"
    }
   ],
   "source": [
    "import seaborn as sns\n",
    "import matplotlib.pyplot as plt\n",
    "\n",
    "# Adjust the figure size\n",
    "plt.figure(figsize=(10, 3))  # Width = 12, Height = 6 (you can change these values as needed)\n",
    "\n",
    "# Create the stripplot\n",
    "sns.stripplot(\n",
    "    data=pd.DataFrame(task2_results_k10['random_forest']).reset_index().rename(columns={\"index\": \"fold\"}).melt(id_vars=\"fold\"),\n",
    "    x=\"fold\",\n",
    "    y=\"value\",\n",
    "    hue=\"variable\"\n",
    ")\n",
    "\n",
    "# Move the legend to the right side outside the plot\n",
    "plt.legend(bbox_to_anchor=(1.02, 1), loc='upper left')\n",
    "plt.ylabel(\"accuracy\")\n",
    "plt.title(\"Cross Validation Results using Random Forest\")\n",
    "\n",
    "# Show the plot\n",
    "plt.show()"
   ]
  },
  {
   "cell_type": "code",
   "execution_count": 164,
   "id": "1b5bb32a-e3a1-42c3-8f12-681fb9d837c2",
   "metadata": {},
   "outputs": [
    {
     "data": {
      "image/png": "[encoded data removed]",
      "text/plain": [
       "<Figure size 1000x300 with 1 Axes>"
      ]
     },
     "metadata": {},
     "output_type": "display_data"
    }
   ],
   "source": [
    "import seaborn as sns\n",
    "import matplotlib.pyplot as plt\n",
    "\n",
    "# Adjust the figure size\n",
    "plt.figure(figsize=(10, 3))  # Width = 12, Height = 6 (you can change these values as needed)\n",
    "\n",
    "# Create the stripplot\n",
    "sns.stripplot(\n",
    "    data=pd.DataFrame(task2_results_k10['logistic_regression']).reset_index().rename(columns={\"index\": \"fold\"}).melt(id_vars=\"fold\"),\n",
    "    x=\"fold\",\n",
    "    y=\"value\",\n",
    "    hue=\"variable\"\n",
    ")\n",
    "\n",
    "# Move the legend to the right side outside the plot\n",
    "plt.legend(bbox_to_anchor=(1.02, 1), loc='upper left')\n",
    "plt.ylabel(\"accuracy\")\n",
    "plt.title(\"Cross Validation Results using L2 Logistic Regression\")\n",
    "\n",
    "# Show the plot\n",
    "plt.show()"
   ]
  },
  {
   "cell_type": "markdown",
   "id": "080431f6-b20d-4343-a96a-093677979f70",
   "metadata": {},
   "source": [
    "## TO DO - significance testing, not most important for getting high level sense of where the signal is"
   ]
  },
  {
   "cell_type": "code",
   "execution_count": 132,
   "id": "bdd5624c-b4c8-44a5-8422-7955d6ed485e",
   "metadata": {
    "scrolled": true
   },
   "outputs": [
    {
     "name": "stdout",
     "output_type": "stream",
     "text": [
      "wilcoxon signed-rank test p-value=0.109\n"
     ]
    }
   ],
   "source": [
    "print(\"wilcoxon signed-rank test p-value={}\".format(np.round(scipy.stats.wilcoxon(task2_results_k10['KNN']['ct_fracs_means_scGPT_40PCs'], val_majclass_bline_accs)[1],3)))\n"
   ]
  },
  {
   "cell_type": "code",
   "execution_count": null,
   "id": "98c565b4-2cf4-4abd-b5e4-5bede3e10093",
   "metadata": {},
   "outputs": [],
   "source": [
    "# check significance of promising results\n",
    "\n",
    "# need to record per-sample predictions and then FOR SAMPLES where models disagree, can run either binomial or wilcoxon signed-rank test\n"
   ]
  }
 ],
 "metadata": {
  "kernelspec": {
   "display_name": "scgpt_4",
   "language": "python",
   "name": "scgpt_4"
  },
  "language_info": {
   "codemirror_mode": {
    "name": "ipython",
    "version": 3
   },
   "file_extension": ".py",
   "mimetype": "text/x-python",
   "name": "python",
   "nbconvert_exporter": "python",
   "pygments_lexer": "ipython3",
   "version": "3.10.11"
  }
 },
 "nbformat": 4,
 "nbformat_minor": 5
}
