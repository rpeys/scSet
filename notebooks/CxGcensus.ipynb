{
 "cells": [
  {
   "cell_type": "code",
   "execution_count": 1,
   "id": "4441c22f-58a7-4e8c-af35-ca997f732d01",
   "metadata": {
    "tags": []
   },
   "outputs": [
    {
     "name": "stderr",
     "output_type": "stream",
     "text": [
      "/opt/conda/rpeyser/envs/scgpt_4/lib/python3.10/site-packages/tqdm/auto.py:21: TqdmWarning: IProgress not found. Please update jupyter and ipywidgets. See https://ipywidgets.readthedocs.io/en/stable/user_install.html\n",
      "  from .autonotebook import tqdm as notebook_tqdm\n"
     ]
    }
   ],
   "source": [
    "from os.path import join\n",
    "import sys\n",
    "import anndata\n",
    "import scanpy as sc\n",
    "import numpy as np\n",
    "import pandas as pd\n",
    "import lightning.pytorch as pl\n",
    "import dask.dataframe as dd\n",
    "from scipy.sparse import csr_matrix\n",
    "import cellxgene_census\n",
    "import sklearn\n",
    "import sklearn.decomposition\n",
    "from sklearn.neighbors import KNeighborsClassifier, KNeighborsRegressor\n",
    "from sklearn.linear_model import LogisticRegression, LinearRegression, Lasso\n",
    "from sklearn.metrics import accuracy_score, roc_auc_score, mean_absolute_error, mean_squared_error\n",
    "from sklearn.ensemble import RandomForestClassifier, RandomForestRegressor"
   ]
  },
  {
   "cell_type": "markdown",
   "id": "db4eda89-a379-4f96-8aaf-cbf736a63185",
   "metadata": {},
   "source": [
    "# experiment with lung based tasks - didn't end up using since overlaps largely with HLCA"
   ]
  },
  {
   "cell_type": "code",
   "execution_count": 53,
   "id": "42a30ee2-5239-40d8-ac76-385f3e456f65",
   "metadata": {},
   "outputs": [
    {
     "name": "stderr",
     "output_type": "stream",
     "text": [
      "The \"stable\" release is currently 2023-12-15. Specify 'census_version=\"2023-12-15\"' in future calls to open_soma() to ensure data consistency.\n"
     ]
    },
    {
     "name": "stdout",
     "output_type": "stream",
     "text": [
      "AnnData object with n_obs × n_vars = 2907156 × 60664\n",
      "    obs: 'assay', 'cell_type', 'tissue', 'tissue_general', 'suspension_type', 'disease', 'donor_id', 'dataset_id', 'is_primary_data'\n",
      "    var: 'soma_joinid', 'feature_id', 'feature_name', 'feature_length', 'nnz', 'n_measured_obs'\n",
      "    obsm: 'scgpt'\n"
     ]
    }
   ],
   "source": [
    "with cellxgene_census.open_soma() as census:\n",
    "    #print(census.get_embedding_metadata())\n",
    "    lung_adata = cellxgene_census.get_anndata(\n",
    "        census = census,\n",
    "        organism = \"Homo sapiens\",\n",
    "        measurement_name = \"RNA\",\n",
    "        obs_value_filter = \"is_primary_data == True and tissue_general == 'lung'\",\n",
    "        column_names = {\"obs\": [\"assay\", \"cell_type\", \"tissue\", \"tissue_general\", \"suspension_type\", \"disease\", \"donor_id\",\"dataset_id\"]},\n",
    "        obs_embeddings = [\"scgpt\"]\n",
    "    )\n",
    "\n",
    "    print(lung_adata)"
   ]
  },
  {
   "cell_type": "code",
   "execution_count": 71,
   "id": "c45a5260-7272-4577-b35c-4d3d53e48ac8",
   "metadata": {},
   "outputs": [
    {
     "name": "stderr",
     "output_type": "stream",
     "text": [
      "The \"stable\" release is currently 2023-12-15. Specify 'census_version=\"2023-12-15\"' in future calls to open_soma() to ensure data consistency.\n"
     ]
    }
   ],
   "source": [
    "census = cellxgene_census.open_soma()#[\"datasets\"]"
   ]
  },
  {
   "cell_type": "code",
   "execution_count": 80,
   "id": "8a41b6ae-108b-45e5-9c8b-950c405b489a",
   "metadata": {},
   "outputs": [],
   "source": [
    "census_dataset_info = census[\"census_info\"][\"datasets\"].read().concat().to_pandas()"
   ]
  },
  {
   "cell_type": "code",
   "execution_count": 81,
   "id": "7dc3911a-913d-42cc-911b-80f0b844ed0b",
   "metadata": {},
   "outputs": [
    {
     "data": {
      "text/html": [
       "<div>\n",
       "<style scoped>\n",
       "    .dataframe tbody tr th:only-of-type {\n",
       "        vertical-align: middle;\n",
       "    }\n",
       "\n",
       "    .dataframe tbody tr th {\n",
       "        vertical-align: top;\n",
       "    }\n",
       "\n",
       "    .dataframe thead th {\n",
       "        text-align: right;\n",
       "    }\n",
       "</style>\n",
       "<table border=\"1\" class=\"dataframe\">\n",
       "  <thead>\n",
       "    <tr style=\"text-align: right;\">\n",
       "      <th></th>\n",
       "      <th>soma_joinid</th>\n",
       "      <th>collection_id</th>\n",
       "      <th>collection_name</th>\n",
       "      <th>collection_doi</th>\n",
       "      <th>dataset_id</th>\n",
       "      <th>dataset_version_id</th>\n",
       "      <th>dataset_title</th>\n",
       "      <th>dataset_h5ad_path</th>\n",
       "      <th>dataset_total_cell_count</th>\n",
       "    </tr>\n",
       "  </thead>\n",
       "  <tbody>\n",
       "    <tr>\n",
       "      <th>115</th>\n",
       "      <td>115</td>\n",
       "      <td>6f6d381a-7701-4781-935c-db10d30de293</td>\n",
       "      <td>The integrated Human Lung Cell Atlas</td>\n",
       "      <td>10.1038/s41591-023-02327-2</td>\n",
       "      <td>9f222629-9e39-47d0-b83f-e08d610c7479</td>\n",
       "      <td>6ef3eb6d-479a-414f-b40e-c5ba015f9cc2</td>\n",
       "      <td>An integrated cell atlas of the human lung in ...</td>\n",
       "      <td>9f222629-9e39-47d0-b83f-e08d610c7479.h5ad</td>\n",
       "      <td>2282447</td>\n",
       "    </tr>\n",
       "  </tbody>\n",
       "</table>\n",
       "</div>"
      ],
      "text/plain": [
       "     soma_joinid                         collection_id  \\\n",
       "115          115  6f6d381a-7701-4781-935c-db10d30de293   \n",
       "\n",
       "                          collection_name              collection_doi  \\\n",
       "115  The integrated Human Lung Cell Atlas  10.1038/s41591-023-02327-2   \n",
       "\n",
       "                               dataset_id  \\\n",
       "115  9f222629-9e39-47d0-b83f-e08d610c7479   \n",
       "\n",
       "                       dataset_version_id  \\\n",
       "115  6ef3eb6d-479a-414f-b40e-c5ba015f9cc2   \n",
       "\n",
       "                                         dataset_title  \\\n",
       "115  An integrated cell atlas of the human lung in ...   \n",
       "\n",
       "                             dataset_h5ad_path  dataset_total_cell_count  \n",
       "115  9f222629-9e39-47d0-b83f-e08d610c7479.h5ad                   2282447  "
      ]
     },
     "execution_count": 81,
     "metadata": {},
     "output_type": "execute_result"
    }
   ],
   "source": [
    "census_dataset_info[census_dataset_info.dataset_id==\"9f222629-9e39-47d0-b83f-e08d610c7479\"]"
   ]
  },
  {
   "cell_type": "code",
   "execution_count": 82,
   "id": "1156c56b-8212-4b4f-a596-85e23a0afe8c",
   "metadata": {},
   "outputs": [
    {
     "data": {
      "text/html": [
       "<div>\n",
       "<style scoped>\n",
       "    .dataframe tbody tr th:only-of-type {\n",
       "        vertical-align: middle;\n",
       "    }\n",
       "\n",
       "    .dataframe tbody tr th {\n",
       "        vertical-align: top;\n",
       "    }\n",
       "\n",
       "    .dataframe thead th {\n",
       "        text-align: right;\n",
       "    }\n",
       "</style>\n",
       "<table border=\"1\" class=\"dataframe\">\n",
       "  <thead>\n",
       "    <tr style=\"text-align: right;\">\n",
       "      <th></th>\n",
       "      <th>soma_joinid</th>\n",
       "      <th>collection_id</th>\n",
       "      <th>collection_name</th>\n",
       "      <th>collection_doi</th>\n",
       "      <th>dataset_id</th>\n",
       "      <th>dataset_version_id</th>\n",
       "      <th>dataset_title</th>\n",
       "      <th>dataset_h5ad_path</th>\n",
       "      <th>dataset_total_cell_count</th>\n",
       "    </tr>\n",
       "  </thead>\n",
       "  <tbody>\n",
       "    <tr>\n",
       "      <th>429</th>\n",
       "      <td>429</td>\n",
       "      <td>62e8f058-9c37-48bc-9200-e767f318a8ec</td>\n",
       "      <td>HTAN MSK - Single cell profiling reveals novel...</td>\n",
       "      <td>10.1016/j.ccell.2021.09.008</td>\n",
       "      <td>f64e1be1-de15-4d27-8da4-82225cd4c035</td>\n",
       "      <td>aa0c4b0a-e79f-4d87-af19-a2c0106b37b2</td>\n",
       "      <td>Immune cells</td>\n",
       "      <td>f64e1be1-de15-4d27-8da4-82225cd4c035.h5ad</td>\n",
       "      <td>73047</td>\n",
       "    </tr>\n",
       "    <tr>\n",
       "      <th>436</th>\n",
       "      <td>436</td>\n",
       "      <td>62e8f058-9c37-48bc-9200-e767f318a8ec</td>\n",
       "      <td>HTAN MSK - Single cell profiling reveals novel...</td>\n",
       "      <td>10.1016/j.ccell.2021.09.008</td>\n",
       "      <td>576f193c-75d0-4a11-bd25-8676587e6dc2</td>\n",
       "      <td>da76b084-39ac-4b59-b4e7-99e510ccc29e</td>\n",
       "      <td>Combined samples</td>\n",
       "      <td>576f193c-75d0-4a11-bd25-8676587e6dc2.h5ad</td>\n",
       "      <td>147137</td>\n",
       "    </tr>\n",
       "  </tbody>\n",
       "</table>\n",
       "</div>"
      ],
      "text/plain": [
       "     soma_joinid                         collection_id  \\\n",
       "429          429  62e8f058-9c37-48bc-9200-e767f318a8ec   \n",
       "436          436  62e8f058-9c37-48bc-9200-e767f318a8ec   \n",
       "\n",
       "                                       collection_name  \\\n",
       "429  HTAN MSK - Single cell profiling reveals novel...   \n",
       "436  HTAN MSK - Single cell profiling reveals novel...   \n",
       "\n",
       "                  collection_doi                            dataset_id  \\\n",
       "429  10.1016/j.ccell.2021.09.008  f64e1be1-de15-4d27-8da4-82225cd4c035   \n",
       "436  10.1016/j.ccell.2021.09.008  576f193c-75d0-4a11-bd25-8676587e6dc2   \n",
       "\n",
       "                       dataset_version_id     dataset_title  \\\n",
       "429  aa0c4b0a-e79f-4d87-af19-a2c0106b37b2      Immune cells   \n",
       "436  da76b084-39ac-4b59-b4e7-99e510ccc29e  Combined samples   \n",
       "\n",
       "                             dataset_h5ad_path  dataset_total_cell_count  \n",
       "429  f64e1be1-de15-4d27-8da4-82225cd4c035.h5ad                     73047  \n",
       "436  576f193c-75d0-4a11-bd25-8676587e6dc2.h5ad                    147137  "
      ]
     },
     "execution_count": 82,
     "metadata": {},
     "output_type": "execute_result"
    }
   ],
   "source": [
    "census_dataset_info[census_dataset_info.dataset_id.isin(['f64e1be1-de15-4d27-8da4-82225cd4c035', '576f193c-75d0-4a11-bd25-8676587e6dc2'])]"
   ]
  },
  {
   "cell_type": "code",
   "execution_count": 83,
   "id": "993ba205-8641-43db-a775-88d8bf1bbe3e",
   "metadata": {},
   "outputs": [],
   "source": [
    "census.close()"
   ]
  },
  {
   "cell_type": "code",
   "execution_count": 18,
   "id": "5a6095b2-08b5-44e4-ba80-37a4d3a3e4cb",
   "metadata": {},
   "outputs": [
    {
     "data": {
      "text/plain": [
       "0.0"
      ]
     },
     "execution_count": 18,
     "metadata": {},
     "output_type": "execute_result"
    }
   ],
   "source": [
    "lung_adata.X.min()"
   ]
  },
  {
   "cell_type": "code",
   "execution_count": 20,
   "id": "095a6374-3355-430d-8eed-e977d2c9a9c1",
   "metadata": {},
   "outputs": [
    {
     "data": {
      "text/plain": [
       "7972410.0"
      ]
     },
     "execution_count": 20,
     "metadata": {},
     "output_type": "execute_result"
    }
   ],
   "source": [
    "lung_adata.X.max()"
   ]
  },
  {
   "cell_type": "code",
   "execution_count": 22,
   "id": "b561f84f-609e-464e-9bfc-4d3bdca241c8",
   "metadata": {},
   "outputs": [
    {
     "data": {
      "text/plain": [
       "disease\n",
       "normal                                   217\n",
       "lung adenocarcinoma                      162\n",
       "COVID-19                                  68\n",
       "squamous cell lung carcinoma              47\n",
       "cystic fibrosis                           22\n",
       "chronic obstructive pulmonary disease     18\n",
       "non-small cell lung carcinoma             15\n",
       "pneumonia                                 13\n",
       "small cell lung carcinoma                  9\n",
       "pulmonary fibrosis                         6\n",
       "interstitial lung disease                  6\n",
       "pulmonary emphysema                        3\n",
       "lymphangioleiomyomatosis                   2\n",
       "pleomorphic carcinoma                      1\n",
       "lung large cell carcinoma                  1\n",
       "Name: count, dtype: int64"
      ]
     },
     "execution_count": 22,
     "metadata": {},
     "output_type": "execute_result"
    }
   ],
   "source": [
    "lung_adata.obs[['donor_id','disease']].drop_duplicates().disease.value_counts()"
   ]
  },
  {
   "cell_type": "code",
   "execution_count": 65,
   "id": "71812e4c-093d-408c-95f0-ba96e1f687c2",
   "metadata": {},
   "outputs": [
    {
     "data": {
      "text/html": [
       "<div>\n",
       "<style scoped>\n",
       "    .dataframe tbody tr th:only-of-type {\n",
       "        vertical-align: middle;\n",
       "    }\n",
       "\n",
       "    .dataframe tbody tr th {\n",
       "        vertical-align: top;\n",
       "    }\n",
       "\n",
       "    .dataframe thead th {\n",
       "        text-align: right;\n",
       "    }\n",
       "</style>\n",
       "<table border=\"1\" class=\"dataframe\">\n",
       "  <thead>\n",
       "    <tr style=\"text-align: right;\">\n",
       "      <th></th>\n",
       "      <th>assay</th>\n",
       "      <th>cell_type</th>\n",
       "      <th>tissue</th>\n",
       "      <th>tissue_general</th>\n",
       "      <th>suspension_type</th>\n",
       "      <th>disease</th>\n",
       "      <th>donor_id</th>\n",
       "      <th>dataset_id</th>\n",
       "      <th>is_primary_data</th>\n",
       "    </tr>\n",
       "  </thead>\n",
       "  <tbody>\n",
       "    <tr>\n",
       "      <th>0</th>\n",
       "      <td>10x 3' v2</td>\n",
       "      <td>native cell</td>\n",
       "      <td>lung</td>\n",
       "      <td>lung</td>\n",
       "      <td>cell</td>\n",
       "      <td>normal</td>\n",
       "      <td>homosapiens_None_2023_None_sikkemalisa_002_d10...</td>\n",
       "      <td>9f222629-9e39-47d0-b83f-e08d610c7479</td>\n",
       "      <td>True</td>\n",
       "    </tr>\n",
       "    <tr>\n",
       "      <th>1</th>\n",
       "      <td>Drop-seq</td>\n",
       "      <td>ciliated columnar cell of tracheobronchial tree</td>\n",
       "      <td>lung</td>\n",
       "      <td>lung</td>\n",
       "      <td>cell</td>\n",
       "      <td>pulmonary fibrosis</td>\n",
       "      <td>homosapiens_None_2023_None_sikkemalisa_002_d10...</td>\n",
       "      <td>9f222629-9e39-47d0-b83f-e08d610c7479</td>\n",
       "      <td>True</td>\n",
       "    </tr>\n",
       "    <tr>\n",
       "      <th>2</th>\n",
       "      <td>10x 3' transcription profiling</td>\n",
       "      <td>CD8-positive, alpha-beta T cell</td>\n",
       "      <td>lung</td>\n",
       "      <td>lung</td>\n",
       "      <td>cell</td>\n",
       "      <td>squamous cell lung carcinoma</td>\n",
       "      <td>homosapiens_None_2023_None_sikkemalisa_002_d10...</td>\n",
       "      <td>9f222629-9e39-47d0-b83f-e08d610c7479</td>\n",
       "      <td>True</td>\n",
       "    </tr>\n",
       "    <tr>\n",
       "      <th>3</th>\n",
       "      <td>10x 3' v2</td>\n",
       "      <td>CD4-positive, alpha-beta T cell</td>\n",
       "      <td>lung</td>\n",
       "      <td>lung</td>\n",
       "      <td>cell</td>\n",
       "      <td>lung adenocarcinoma</td>\n",
       "      <td>homosapiens_None_2023_None_sikkemalisa_002_d10...</td>\n",
       "      <td>9f222629-9e39-47d0-b83f-e08d610c7479</td>\n",
       "      <td>True</td>\n",
       "    </tr>\n",
       "    <tr>\n",
       "      <th>4</th>\n",
       "      <td>10x 3' v2</td>\n",
       "      <td>CD8-positive, alpha-beta T cell</td>\n",
       "      <td>lung</td>\n",
       "      <td>lung</td>\n",
       "      <td>cell</td>\n",
       "      <td>lung adenocarcinoma</td>\n",
       "      <td>homosapiens_None_2023_None_sikkemalisa_002_d10...</td>\n",
       "      <td>9f222629-9e39-47d0-b83f-e08d610c7479</td>\n",
       "      <td>True</td>\n",
       "    </tr>\n",
       "  </tbody>\n",
       "</table>\n",
       "</div>"
      ],
      "text/plain": [
       "                            assay  \\\n",
       "0                       10x 3' v2   \n",
       "1                        Drop-seq   \n",
       "2  10x 3' transcription profiling   \n",
       "3                       10x 3' v2   \n",
       "4                       10x 3' v2   \n",
       "\n",
       "                                         cell_type tissue tissue_general  \\\n",
       "0                                      native cell   lung           lung   \n",
       "1  ciliated columnar cell of tracheobronchial tree   lung           lung   \n",
       "2                  CD8-positive, alpha-beta T cell   lung           lung   \n",
       "3                  CD4-positive, alpha-beta T cell   lung           lung   \n",
       "4                  CD8-positive, alpha-beta T cell   lung           lung   \n",
       "\n",
       "  suspension_type                       disease  \\\n",
       "0            cell                        normal   \n",
       "1            cell            pulmonary fibrosis   \n",
       "2            cell  squamous cell lung carcinoma   \n",
       "3            cell           lung adenocarcinoma   \n",
       "4            cell           lung adenocarcinoma   \n",
       "\n",
       "                                            donor_id  \\\n",
       "0  homosapiens_None_2023_None_sikkemalisa_002_d10...   \n",
       "1  homosapiens_None_2023_None_sikkemalisa_002_d10...   \n",
       "2  homosapiens_None_2023_None_sikkemalisa_002_d10...   \n",
       "3  homosapiens_None_2023_None_sikkemalisa_002_d10...   \n",
       "4  homosapiens_None_2023_None_sikkemalisa_002_d10...   \n",
       "\n",
       "                             dataset_id  is_primary_data  \n",
       "0  9f222629-9e39-47d0-b83f-e08d610c7479             True  \n",
       "1  9f222629-9e39-47d0-b83f-e08d610c7479             True  \n",
       "2  9f222629-9e39-47d0-b83f-e08d610c7479             True  \n",
       "3  9f222629-9e39-47d0-b83f-e08d610c7479             True  \n",
       "4  9f222629-9e39-47d0-b83f-e08d610c7479             True  "
      ]
     },
     "execution_count": 65,
     "metadata": {},
     "output_type": "execute_result"
    }
   ],
   "source": [
    "lung_adata.obs.head()"
   ]
  },
  {
   "cell_type": "markdown",
   "id": "d1745d52-97bd-4364-bcf8-cfb71a9f684b",
   "metadata": {},
   "source": [
    "## create pseudobulk embeddings to use downstream"
   ]
  },
  {
   "cell_type": "code",
   "execution_count": 26,
   "id": "ab53301b-880c-4591-a583-a463bb49948c",
   "metadata": {},
   "outputs": [],
   "source": [
    "adata = lung_adata"
   ]
  },
  {
   "cell_type": "code",
   "execution_count": 24,
   "id": "30171bfb-b929-4b2c-a694-63cf27d6d1ca",
   "metadata": {},
   "outputs": [],
   "source": [
    "sample_col = 'donor_id'"
   ]
  },
  {
   "cell_type": "code",
   "execution_count": 63,
   "id": "ad5d80f8-73fb-4a1a-81b0-5f572e7c04b7",
   "metadata": {},
   "outputs": [
    {
     "name": "stdout",
     "output_type": "stream",
     "text": [
      "homosapiens_None_2023_None_sikkemalisa_002_d10_1101_2022_03_10_483747RU682\n",
      "homosapiens_None_2023_None_sikkemalisa_002_d10_1101_2022_03_10_483747RU675\n",
      "homosapiens_None_2023_None_sikkemalisa_002_d10_1101_2022_03_10_483747RU684\n",
      "RU682\n",
      "RU675\n",
      "RU684\n"
     ]
    }
   ],
   "source": [
    "for i in lung_adata.obs[['tissue','disease','donor_id']].drop_duplicates()[lung_adata.obs[['tissue','disease','donor_id']].drop_duplicates().donor_id.duplicated()].donor_id:\n",
    "    print(i)"
   ]
  },
  {
   "cell_type": "code",
   "execution_count": 67,
   "id": "e0a33e1f-f105-48aa-9746-60fbf88b8ea5",
   "metadata": {},
   "outputs": [
    {
     "data": {
      "text/html": [
       "<div>\n",
       "<style scoped>\n",
       "    .dataframe tbody tr th:only-of-type {\n",
       "        vertical-align: middle;\n",
       "    }\n",
       "\n",
       "    .dataframe tbody tr th {\n",
       "        vertical-align: top;\n",
       "    }\n",
       "\n",
       "    .dataframe thead th {\n",
       "        text-align: right;\n",
       "    }\n",
       "</style>\n",
       "<table border=\"1\" class=\"dataframe\">\n",
       "  <thead>\n",
       "    <tr style=\"text-align: right;\">\n",
       "      <th></th>\n",
       "      <th>assay</th>\n",
       "      <th>tissue</th>\n",
       "      <th>tissue_general</th>\n",
       "      <th>suspension_type</th>\n",
       "      <th>disease</th>\n",
       "      <th>donor_id</th>\n",
       "      <th>dataset_id</th>\n",
       "      <th>is_primary_data</th>\n",
       "    </tr>\n",
       "  </thead>\n",
       "  <tbody>\n",
       "    <tr>\n",
       "      <th>2260955</th>\n",
       "      <td>10x 3' v2</td>\n",
       "      <td>lung</td>\n",
       "      <td>lung</td>\n",
       "      <td>cell</td>\n",
       "      <td>normal</td>\n",
       "      <td>RU675</td>\n",
       "      <td>f64e1be1-de15-4d27-8da4-82225cd4c035</td>\n",
       "      <td>True</td>\n",
       "    </tr>\n",
       "    <tr>\n",
       "      <th>2261004</th>\n",
       "      <td>10x 3' v2</td>\n",
       "      <td>lung</td>\n",
       "      <td>lung</td>\n",
       "      <td>cell</td>\n",
       "      <td>normal</td>\n",
       "      <td>RU675</td>\n",
       "      <td>576f193c-75d0-4a11-bd25-8676587e6dc2</td>\n",
       "      <td>True</td>\n",
       "    </tr>\n",
       "    <tr>\n",
       "      <th>2261022</th>\n",
       "      <td>10x 3' v2</td>\n",
       "      <td>lung</td>\n",
       "      <td>lung</td>\n",
       "      <td>cell</td>\n",
       "      <td>lung adenocarcinoma</td>\n",
       "      <td>RU675</td>\n",
       "      <td>576f193c-75d0-4a11-bd25-8676587e6dc2</td>\n",
       "      <td>True</td>\n",
       "    </tr>\n",
       "  </tbody>\n",
       "</table>\n",
       "</div>"
      ],
      "text/plain": [
       "             assay tissue tissue_general suspension_type              disease  \\\n",
       "2260955  10x 3' v2   lung           lung            cell               normal   \n",
       "2261004  10x 3' v2   lung           lung            cell               normal   \n",
       "2261022  10x 3' v2   lung           lung            cell  lung adenocarcinoma   \n",
       "\n",
       "        donor_id                            dataset_id  is_primary_data  \n",
       "2260955    RU675  f64e1be1-de15-4d27-8da4-82225cd4c035             True  \n",
       "2261004    RU675  576f193c-75d0-4a11-bd25-8676587e6dc2             True  \n",
       "2261022    RU675  576f193c-75d0-4a11-bd25-8676587e6dc2             True  "
      ]
     },
     "execution_count": 67,
     "metadata": {},
     "output_type": "execute_result"
    }
   ],
   "source": [
    "lung_adata.obs[lung_adata.obs.donor_id=='RU675'].drop(columns=['cell_type']).drop_duplicates()"
   ]
  },
  {
   "cell_type": "code",
   "execution_count": 79,
   "id": "173e5fa4-570b-428c-83ce-81975fa18c02",
   "metadata": {},
   "outputs": [
    {
     "data": {
      "text/html": [
       "<div>\n",
       "<style scoped>\n",
       "    .dataframe tbody tr th:only-of-type {\n",
       "        vertical-align: middle;\n",
       "    }\n",
       "\n",
       "    .dataframe tbody tr th {\n",
       "        vertical-align: top;\n",
       "    }\n",
       "\n",
       "    .dataframe thead th {\n",
       "        text-align: right;\n",
       "    }\n",
       "</style>\n",
       "<table border=\"1\" class=\"dataframe\">\n",
       "  <thead>\n",
       "    <tr style=\"text-align: right;\">\n",
       "      <th></th>\n",
       "      <th>assay</th>\n",
       "      <th>tissue</th>\n",
       "      <th>tissue_general</th>\n",
       "      <th>suspension_type</th>\n",
       "      <th>disease</th>\n",
       "      <th>donor_id</th>\n",
       "      <th>dataset_id</th>\n",
       "      <th>is_primary_data</th>\n",
       "    </tr>\n",
       "  </thead>\n",
       "  <tbody>\n",
       "    <tr>\n",
       "      <th>4</th>\n",
       "      <td>10x 3' v2</td>\n",
       "      <td>lung</td>\n",
       "      <td>lung</td>\n",
       "      <td>cell</td>\n",
       "      <td>lung adenocarcinoma</td>\n",
       "      <td>homosapiens_None_2023_None_sikkemalisa_002_d10...</td>\n",
       "      <td>9f222629-9e39-47d0-b83f-e08d610c7479</td>\n",
       "      <td>True</td>\n",
       "    </tr>\n",
       "    <tr>\n",
       "      <th>442</th>\n",
       "      <td>10x 3' v2</td>\n",
       "      <td>lung</td>\n",
       "      <td>lung</td>\n",
       "      <td>cell</td>\n",
       "      <td>normal</td>\n",
       "      <td>homosapiens_None_2023_None_sikkemalisa_002_d10...</td>\n",
       "      <td>9f222629-9e39-47d0-b83f-e08d610c7479</td>\n",
       "      <td>True</td>\n",
       "    </tr>\n",
       "  </tbody>\n",
       "</table>\n",
       "</div>"
      ],
      "text/plain": [
       "         assay tissue tissue_general suspension_type              disease  \\\n",
       "4    10x 3' v2   lung           lung            cell  lung adenocarcinoma   \n",
       "442  10x 3' v2   lung           lung            cell               normal   \n",
       "\n",
       "                                              donor_id  \\\n",
       "4    homosapiens_None_2023_None_sikkemalisa_002_d10...   \n",
       "442  homosapiens_None_2023_None_sikkemalisa_002_d10...   \n",
       "\n",
       "                               dataset_id  is_primary_data  \n",
       "4    9f222629-9e39-47d0-b83f-e08d610c7479             True  \n",
       "442  9f222629-9e39-47d0-b83f-e08d610c7479             True  "
      ]
     },
     "execution_count": 79,
     "metadata": {},
     "output_type": "execute_result"
    }
   ],
   "source": [
    "lung_adata.obs[lung_adata.obs.donor_id=='homosapiens_None_2023_None_sikkemalisa_002_d10_1101_2022_03_10_483747RU684'].drop(columns=['cell_type']).drop_duplicates()"
   ]
  },
  {
   "cell_type": "code",
   "execution_count": 25,
   "id": "edc24668-7c0f-4227-bdf2-25897e2f4d70",
   "metadata": {},
   "outputs": [],
   "source": [
    "pbulk_embs = {}"
   ]
  },
  {
   "cell_type": "markdown",
   "id": "9e8f94e9-4265-445f-9d79-fb568fb14296",
   "metadata": {},
   "source": [
    "#### scGPT"
   ]
  },
  {
   "cell_type": "code",
   "execution_count": 27,
   "id": "b191e606-5bda-49fd-8cc6-84fab78cb267",
   "metadata": {},
   "outputs": [],
   "source": [
    "emb_name = 'scgpt'\n",
    "\n",
    "## Input\n",
    "pseudobulk_input = pd.DataFrame(adata.obsm[emb_name], index=adata.obs.loc[:,sample_col]).reset_index().groupby(sample_col).mean()\n",
    "\n",
    "#limit to the sample pool, this will also put it in the right order to index using the groupkfold inds\n",
    "pbulk_embs[emb_name] = pseudobulk_input#.loc[sample_pool,:]"
   ]
  },
  {
   "cell_type": "markdown",
   "id": "a57f8c12-dc7a-4128-a0cf-0512a44f8e95",
   "metadata": {},
   "source": [
    "#### scGPT -> 40 PCs"
   ]
  },
  {
   "cell_type": "code",
   "execution_count": 32,
   "id": "91e18ce0-049b-47a0-a93f-404e7eb1c261",
   "metadata": {},
   "outputs": [],
   "source": [
    "emb_name = 'scgpt'\n",
    "\n",
    "pca = sklearn.decomposition.PCA(n_components=40)\n",
    "scgpt_input_pca = pca.fit_transform(adata.obsm[emb_name])\n",
    "\n",
    "## Input\n",
    "pseudobulk_input = pd.DataFrame(scgpt_input_pca, index=adata.obs.loc[:,sample_col]).reset_index().groupby(sample_col).mean()\n",
    "\n",
    "#limit to the sample pool, this will also put it in the right order to index using the groupkfold inds\n",
    "pbulk_embs['scgpt_40PCs'] = pseudobulk_input#.loc[sample_pool,:]"
   ]
  },
  {
   "cell_type": "markdown",
   "id": "3ae69462-902c-4ad4-b455-919116b8641f",
   "metadata": {},
   "source": [
    "#### cell type props"
   ]
  },
  {
   "cell_type": "code",
   "execution_count": 33,
   "id": "e30c08b6-ee9d-4a03-a57a-cf5cc99eae13",
   "metadata": {},
   "outputs": [],
   "source": [
    "## Input\n",
    "celltype_counts_df = pd.DataFrame(adata.obs.groupby(sample_col).cell_type.value_counts()).rename({'count':'cell_type_counts'},axis=1).reset_index().pivot(index=sample_col, columns=\"cell_type\", values=\"cell_type_counts\")\n",
    "celltype_fracs_df = celltype_counts_df.div(celltype_counts_df.sum(axis=1), axis=0)\n",
    "pseudobulk_input = celltype_fracs_df\n",
    "pbulk_embs['ct_props'] = pseudobulk_input#.loc[sample_pool,:]"
   ]
  },
  {
   "cell_type": "markdown",
   "id": "57609344-18d9-4457-aecd-a50e3f8aaf2a",
   "metadata": {},
   "source": [
    "#### cell type props + mean embedding based on scGPT"
   ]
  },
  {
   "cell_type": "code",
   "execution_count": 34,
   "id": "c7241268-752b-4df3-a218-de8fd74eaf51",
   "metadata": {},
   "outputs": [],
   "source": [
    "#get mean embedding per cell type\n",
    "\n",
    "emb_name = 'scgpt'\n",
    "\n",
    "# get mean embedding per sample+cell_type\n",
    "pseudobulk_input = pd.DataFrame(adata.obsm[emb_name], index=adata.obs.index).merge(adata.obs[[sample_col,'cell_type']], right_index=True, left_index=True).groupby([sample_col,'cell_type']).mean()\n",
    "\n",
    "# change columns to more interpretable strs \n",
    "pseudobulk_input.columns = ['scgpt_'+str(c) for c in pseudobulk_input.columns]\n",
    "\n",
    "# cell types that dont exist in a given sample - fill 0 for mean expression\n",
    "pseudobulk_input = pseudobulk_input.fillna(0).reset_index()\n",
    "\n",
    "# Pivot the dataframe\n",
    "psblk_per_celltype = pseudobulk_input.pivot(index=sample_col, columns='cell_type')\n",
    "\n",
    "# Flatten the multi-level columns\n",
    "psblk_per_celltype.columns = ['_'.join(col).strip() for col in psblk_per_celltype.columns.values]"
   ]
  },
  {
   "cell_type": "code",
   "execution_count": 35,
   "id": "4ce6ddba-837f-435c-9390-05676488b3b1",
   "metadata": {},
   "outputs": [],
   "source": [
    "# concat cell type fracs and mean embs dfs\n",
    "pbulk_embs['ct_fracs_means_scGPTfull'] = pbulk_embs['ct_props'].merge(psblk_per_celltype, right_index=True, left_index=True)"
   ]
  },
  {
   "cell_type": "markdown",
   "id": "2ed246fb-ec33-4e94-9ec2-039c3af9c428",
   "metadata": {},
   "source": [
    "#### cell type props + mean embedding based on scGPT+40PCs"
   ]
  },
  {
   "cell_type": "code",
   "execution_count": 36,
   "id": "275cf92f-b4e5-4e7d-8c09-a079896555c1",
   "metadata": {},
   "outputs": [],
   "source": [
    "#get mean embedding per cell type\n",
    "\n",
    "emb_name = 'scgpt'\n",
    "pca = sklearn.decomposition.PCA(n_components=40)\n",
    "scgpt_input_pca = pca.fit_transform(adata.obsm[emb_name])\n",
    "\n",
    "# get mean embedding per sample+cell_type\n",
    "pseudobulk_input = pd.DataFrame(scgpt_input_pca, index=adata.obs.index).merge(adata.obs[[sample_col,'cell_type']], right_index=True, left_index=True).groupby([sample_col,'cell_type']).mean()\n",
    "\n",
    "# change columns to more interpretable strs \n",
    "pseudobulk_input.columns = ['scgpt_'+str(c) for c in pseudobulk_input.columns]\n",
    "\n",
    "# cell types that dont exist in a given sample - fill 0 for mean expression\n",
    "pseudobulk_input = pseudobulk_input.fillna(0).reset_index()\n",
    "\n",
    "# Pivot the dataframe\n",
    "psblk_per_celltype = pseudobulk_input.pivot(index=sample_col, columns='cell_type')\n",
    "\n",
    "# Flatten the multi-level columns\n",
    "psblk_per_celltype.columns = ['_'.join(col).strip() for col in psblk_per_celltype.columns.values]"
   ]
  },
  {
   "cell_type": "code",
   "execution_count": 37,
   "id": "0abf8cff-bbd9-42c1-b213-3d941a4774bc",
   "metadata": {},
   "outputs": [],
   "source": [
    "# concat cell type fracs and mean embs dfs\n",
    "pbulk_embs['ct_fracs_means_scGPT_40PCs'] = pbulk_embs['ct_props'].merge(psblk_per_celltype, right_index=True, left_index=True)"
   ]
  },
  {
   "cell_type": "markdown",
   "id": "8aa07200-3cdc-448e-ae04-88aedb33e584",
   "metadata": {
    "jp-MarkdownHeadingCollapsed": true
   },
   "source": [
    "## Task 1: squamous cell lung carcinoma vs lung adenocarcinoma"
   ]
  },
  {
   "cell_type": "markdown",
   "id": "eecf317c-a90e-4d8d-8b6b-3e9ef6c19551",
   "metadata": {},
   "source": [
    "## define sample pool, target, X, splits for this task"
   ]
  },
  {
   "cell_type": "markdown",
   "id": "14db3b8b-6d0c-4c89-adf5-fdcb170c0b52",
   "metadata": {},
   "source": [
    "### define sample_pool for this target"
   ]
  },
  {
   "cell_type": "code",
   "execution_count": 38,
   "id": "f39c9003-ea6e-490f-ac0b-ae3ac42d0887",
   "metadata": {},
   "outputs": [],
   "source": [
    "sample_col = 'donor_id'\n",
    "target_col = 'disease'"
   ]
  },
  {
   "cell_type": "code",
   "execution_count": 39,
   "id": "011938c3-1425-4e85-ba30-e51af900d910",
   "metadata": {
    "scrolled": true
   },
   "outputs": [
    {
     "data": {
      "text/plain": [
       "disease\n",
       "normal                                   217\n",
       "lung adenocarcinoma                      162\n",
       "COVID-19                                  68\n",
       "squamous cell lung carcinoma              47\n",
       "cystic fibrosis                           22\n",
       "chronic obstructive pulmonary disease     18\n",
       "non-small cell lung carcinoma             15\n",
       "pneumonia                                 13\n",
       "small cell lung carcinoma                  9\n",
       "pulmonary fibrosis                         6\n",
       "interstitial lung disease                  6\n",
       "pulmonary emphysema                        3\n",
       "lymphangioleiomyomatosis                   2\n",
       "pleomorphic carcinoma                      1\n",
       "lung large cell carcinoma                  1\n",
       "Name: count, dtype: int64"
      ]
     },
     "execution_count": 39,
     "metadata": {},
     "output_type": "execute_result"
    }
   ],
   "source": [
    "adata.obs[[sample_col, target_col]].drop_duplicates()[target_col].value_counts()"
   ]
  },
  {
   "cell_type": "code",
   "execution_count": 42,
   "id": "36beeb55-5990-4c2c-9a69-22cf56f7ba75",
   "metadata": {},
   "outputs": [],
   "source": [
    "disease_samples = adata.obs[sample_col][adata.obs[target_col].isin(['lung adenocarcinoma','squamous cell lung carcinoma'])].drop_duplicates()"
   ]
  },
  {
   "cell_type": "code",
   "execution_count": 44,
   "id": "dce02c61-dcea-4ca8-b341-ea135a917355",
   "metadata": {},
   "outputs": [
    {
     "data": {
      "text/plain": [
       "209"
      ]
     },
     "execution_count": 44,
     "metadata": {},
     "output_type": "execute_result"
    }
   ],
   "source": [
    "sample_pool = disease_samples\n",
    "len(sample_pool)"
   ]
  },
  {
   "cell_type": "markdown",
   "id": "487302e7-3f99-4716-a49a-a00f9ba602b1",
   "metadata": {},
   "source": [
    "### define target, and limit/order by sample_pool"
   ]
  },
  {
   "cell_type": "code",
   "execution_count": 45,
   "id": "1298656a-a9ab-4499-9ee3-5bd0f0689c99",
   "metadata": {},
   "outputs": [],
   "source": [
    "## Define targets\n",
    "targets = adata.obs.loc[:, [sample_col, target_col]].drop_duplicates().set_index(sample_col).loc[sample_pool,target_col]\n",
    "labels, targets_ind = np.unique(targets, return_inverse=True)\n",
    "targets = pd.Series(targets_ind, index=targets.index)"
   ]
  },
  {
   "cell_type": "code",
   "execution_count": 46,
   "id": "f13430f8-327d-4258-90f3-9bc6d1f4a559",
   "metadata": {},
   "outputs": [
    {
     "data": {
      "text/plain": [
       "array(['lung adenocarcinoma', 'normal', 'squamous cell lung carcinoma'],\n",
       "      dtype=object)"
      ]
     },
     "execution_count": 46,
     "metadata": {},
     "output_type": "execute_result"
    }
   ],
   "source": [
    "labels"
   ]
  },
  {
   "cell_type": "code",
   "execution_count": 47,
   "id": "0454d064-7636-44b1-9aa9-1266a681716b",
   "metadata": {
    "scrolled": true
   },
   "outputs": [
    {
     "data": {
      "text/plain": [
       "0    0.753488\n",
       "2    0.218605\n",
       "1    0.027907\n",
       "Name: count, dtype: float64"
      ]
     },
     "execution_count": 47,
     "metadata": {},
     "output_type": "execute_result"
    }
   ],
   "source": [
    "targets.value_counts()/len(targets)"
   ]
  },
  {
   "cell_type": "markdown",
   "id": "47cf57c8-f9c0-437c-983e-d64852680775",
   "metadata": {},
   "source": [
    "### limit/order pseudobulk embeddings by sample_pool"
   ]
  },
  {
   "cell_type": "code",
   "execution_count": 48,
   "id": "faefa3ba-44b4-4317-a2aa-97f7e4e38da5",
   "metadata": {},
   "outputs": [],
   "source": [
    "this_pbulk_embs = {}\n",
    "for emb in pbulk_embs:\n",
    "    this_pbulk_embs[emb] = pbulk_embs[emb].loc[sample_pool]"
   ]
  },
  {
   "cell_type": "markdown",
   "id": "cf9c1f23-e940-4f99-a847-c17cb20d44b5",
   "metadata": {},
   "source": [
    "### splits for grouped (by dataset) 10 fold cross validation (cv outer loop)"
   ]
  },
  {
   "cell_type": "code",
   "execution_count": 55,
   "id": "bc9544ff-8b2e-4630-a2d9-37826044a9cb",
   "metadata": {},
   "outputs": [
    {
     "data": {
      "text/plain": [
       "donor_id\n",
       "homosapiens_None_2023_None_sikkemalisa_002_d10_1101_2022_03_10_483747lambrechts_7    10x 3' transcription profiling\n",
       "homosapiens_None_2023_None_sikkemalisa_002_d10_1101_2022_03_10_483747lambrechts_7    10x 3' transcription profiling\n",
       "homosapiens_None_2023_None_sikkemalisa_002_d10_1101_2022_03_10_483747lambrechts_7    10x 3' transcription profiling\n",
       "homosapiens_None_2023_None_sikkemalisa_002_d10_1101_2022_03_10_483747lambrechts_7    10x 3' transcription profiling\n",
       "homosapiens_None_2023_None_sikkemalisa_002_d10_1101_2022_03_10_483747lambrechts_7    10x 3' transcription profiling\n",
       "                                                                                                  ...              \n",
       "RU684                                                                                                     10x 3' v2\n",
       "RU684                                                                                                     10x 3' v2\n",
       "RU684                                                                                                     10x 3' v2\n",
       "RU684                                                                                                     10x 3' v2\n",
       "RU684                                                                                                     10x 3' v2\n",
       "Name: assay, Length: 999247, dtype: object"
      ]
     },
     "execution_count": 55,
     "metadata": {},
     "output_type": "execute_result"
    }
   ],
   "source": [
    "adata.obs.set_index(sample_col).loc[sample_pool, 'assay']#.reset_index().drop_duplicates().assay"
   ]
  },
  {
   "cell_type": "code",
   "execution_count": 52,
   "id": "b8453ac6-4b10-42c2-b0af-1503e7390d7d",
   "metadata": {},
   "outputs": [
    {
     "ename": "ValueError",
     "evalue": "Found input variables with inconsistent numbers of samples: [209, 213]",
     "output_type": "error",
     "traceback": [
      "\u001b[0;31m---------------------------------------------------------------------------\u001b[0m",
      "\u001b[0;31mValueError\u001b[0m                                Traceback (most recent call last)",
      "Cell \u001b[0;32mIn[52], line 4\u001b[0m\n\u001b[1;32m      2\u001b[0m group_kfold \u001b[38;5;241m=\u001b[39m GroupKFold(n_splits\u001b[38;5;241m=\u001b[39m\u001b[38;5;241m10\u001b[39m)\n\u001b[1;32m      3\u001b[0m groups \u001b[38;5;241m=\u001b[39m adata\u001b[38;5;241m.\u001b[39mobs\u001b[38;5;241m.\u001b[39mset_index(sample_col)\u001b[38;5;241m.\u001b[39mloc[sample_pool, \u001b[38;5;124m'\u001b[39m\u001b[38;5;124massay\u001b[39m\u001b[38;5;124m'\u001b[39m]\u001b[38;5;241m.\u001b[39mreset_index()\u001b[38;5;241m.\u001b[39mdrop_duplicates()\u001b[38;5;241m.\u001b[39massay\n\u001b[0;32m----> 4\u001b[0m splits \u001b[38;5;241m=\u001b[39m \u001b[38;5;28;43mlist\u001b[39;49m\u001b[43m(\u001b[49m\u001b[43mgroup_kfold\u001b[49m\u001b[38;5;241;43m.\u001b[39;49m\u001b[43msplit\u001b[49m\u001b[43m(\u001b[49m\u001b[43msample_pool\u001b[49m\u001b[43m,\u001b[49m\u001b[43m \u001b[49m\u001b[43mgroups\u001b[49m\u001b[38;5;241;43m=\u001b[39;49m\u001b[43mgroups\u001b[49m\u001b[43m)\u001b[49m\u001b[43m)\u001b[49m \u001b[38;5;66;03m#if don't convert to list, iterator is exhausted after one use\u001b[39;00m\n",
      "File \u001b[0;32m/opt/conda/rpeyser/envs/scgpt_4/lib/python3.10/site-packages/sklearn/model_selection/_split.py:406\u001b[0m, in \u001b[0;36m_BaseKFold.split\u001b[0;34m(self, X, y, groups)\u001b[0m\n\u001b[1;32m    382\u001b[0m \u001b[38;5;28;01mdef\u001b[39;00m \u001b[38;5;21msplit\u001b[39m(\u001b[38;5;28mself\u001b[39m, X, y\u001b[38;5;241m=\u001b[39m\u001b[38;5;28;01mNone\u001b[39;00m, groups\u001b[38;5;241m=\u001b[39m\u001b[38;5;28;01mNone\u001b[39;00m):\n\u001b[1;32m    383\u001b[0m \u001b[38;5;250m    \u001b[39m\u001b[38;5;124;03m\"\"\"Generate indices to split data into training and test set.\u001b[39;00m\n\u001b[1;32m    384\u001b[0m \n\u001b[1;32m    385\u001b[0m \u001b[38;5;124;03m    Parameters\u001b[39;00m\n\u001b[0;32m   (...)\u001b[0m\n\u001b[1;32m    404\u001b[0m \u001b[38;5;124;03m        The testing set indices for that split.\u001b[39;00m\n\u001b[1;32m    405\u001b[0m \u001b[38;5;124;03m    \"\"\"\u001b[39;00m\n\u001b[0;32m--> 406\u001b[0m     X, y, groups \u001b[38;5;241m=\u001b[39m \u001b[43mindexable\u001b[49m\u001b[43m(\u001b[49m\u001b[43mX\u001b[49m\u001b[43m,\u001b[49m\u001b[43m \u001b[49m\u001b[43my\u001b[49m\u001b[43m,\u001b[49m\u001b[43m \u001b[49m\u001b[43mgroups\u001b[49m\u001b[43m)\u001b[49m\n\u001b[1;32m    407\u001b[0m     n_samples \u001b[38;5;241m=\u001b[39m _num_samples(X)\n\u001b[1;32m    408\u001b[0m     \u001b[38;5;28;01mif\u001b[39;00m \u001b[38;5;28mself\u001b[39m\u001b[38;5;241m.\u001b[39mn_splits \u001b[38;5;241m>\u001b[39m n_samples:\n",
      "File \u001b[0;32m/opt/conda/rpeyser/envs/scgpt_4/lib/python3.10/site-packages/sklearn/utils/validation.py:517\u001b[0m, in \u001b[0;36mindexable\u001b[0;34m(*iterables)\u001b[0m\n\u001b[1;32m    487\u001b[0m \u001b[38;5;250m\u001b[39m\u001b[38;5;124;03m\"\"\"Make arrays indexable for cross-validation.\u001b[39;00m\n\u001b[1;32m    488\u001b[0m \n\u001b[1;32m    489\u001b[0m \u001b[38;5;124;03mChecks consistent length, passes through None, and ensures that everything\u001b[39;00m\n\u001b[0;32m   (...)\u001b[0m\n\u001b[1;32m    513\u001b[0m \u001b[38;5;124;03m[[1, 2, 3], array([2, 3, 4]), None, <3x1 sparse matrix ...>]\u001b[39;00m\n\u001b[1;32m    514\u001b[0m \u001b[38;5;124;03m\"\"\"\u001b[39;00m\n\u001b[1;32m    516\u001b[0m result \u001b[38;5;241m=\u001b[39m [_make_indexable(X) \u001b[38;5;28;01mfor\u001b[39;00m X \u001b[38;5;129;01min\u001b[39;00m iterables]\n\u001b[0;32m--> 517\u001b[0m \u001b[43mcheck_consistent_length\u001b[49m\u001b[43m(\u001b[49m\u001b[38;5;241;43m*\u001b[39;49m\u001b[43mresult\u001b[49m\u001b[43m)\u001b[49m\n\u001b[1;32m    518\u001b[0m \u001b[38;5;28;01mreturn\u001b[39;00m result\n",
      "File \u001b[0;32m/opt/conda/rpeyser/envs/scgpt_4/lib/python3.10/site-packages/sklearn/utils/validation.py:460\u001b[0m, in \u001b[0;36mcheck_consistent_length\u001b[0;34m(*arrays)\u001b[0m\n\u001b[1;32m    458\u001b[0m uniques \u001b[38;5;241m=\u001b[39m np\u001b[38;5;241m.\u001b[39munique(lengths)\n\u001b[1;32m    459\u001b[0m \u001b[38;5;28;01mif\u001b[39;00m \u001b[38;5;28mlen\u001b[39m(uniques) \u001b[38;5;241m>\u001b[39m \u001b[38;5;241m1\u001b[39m:\n\u001b[0;32m--> 460\u001b[0m     \u001b[38;5;28;01mraise\u001b[39;00m \u001b[38;5;167;01mValueError\u001b[39;00m(\n\u001b[1;32m    461\u001b[0m         \u001b[38;5;124m\"\u001b[39m\u001b[38;5;124mFound input variables with inconsistent numbers of samples: \u001b[39m\u001b[38;5;132;01m%r\u001b[39;00m\u001b[38;5;124m\"\u001b[39m\n\u001b[1;32m    462\u001b[0m         \u001b[38;5;241m%\u001b[39m [\u001b[38;5;28mint\u001b[39m(l) \u001b[38;5;28;01mfor\u001b[39;00m l \u001b[38;5;129;01min\u001b[39;00m lengths]\n\u001b[1;32m    463\u001b[0m     )\n",
      "\u001b[0;31mValueError\u001b[0m: Found input variables with inconsistent numbers of samples: [209, 213]"
     ]
    }
   ],
   "source": [
    "from sklearn.model_selection import GroupKFold\n",
    "group_kfold = GroupKFold(n_splits=10)\n",
    "groups = adata.obs.set_index(sample_col).loc[sample_pool, 'assay'].reset_index().drop_duplicates().assay\n",
    "splits = list(group_kfold.split(sample_pool, groups=groups)) #if don't convert to list, iterator is exhausted after one use\n"
   ]
  },
  {
   "cell_type": "code",
   "execution_count": 51,
   "id": "073734c9-e383-41a3-8606-051dc3c9ccd1",
   "metadata": {},
   "outputs": [
    {
     "ename": "NameError",
     "evalue": "name 'splits' is not defined",
     "output_type": "error",
     "traceback": [
      "\u001b[0;31m---------------------------------------------------------------------------\u001b[0m",
      "\u001b[0;31mNameError\u001b[0m                                 Traceback (most recent call last)",
      "Cell \u001b[0;32mIn[51], line 1\u001b[0m\n\u001b[0;32m----> 1\u001b[0m \u001b[38;5;28;01mfor\u001b[39;00m (train_index, test_index) \u001b[38;5;129;01min\u001b[39;00m \u001b[43msplits\u001b[49m:\n\u001b[1;32m      2\u001b[0m     \u001b[38;5;28mprint\u001b[39m(\u001b[38;5;124m\"\u001b[39m\u001b[38;5;124mdatasets reserved for test fold: \u001b[39m\u001b[38;5;124m\"\u001b[39m, \u001b[38;5;28mlist\u001b[39m(adata\u001b[38;5;241m.\u001b[39mobs\u001b[38;5;241m.\u001b[39mset_index(sample_col)\u001b[38;5;241m.\u001b[39mloc[sample_pool[test_index]]\u001b[38;5;241m.\u001b[39mdataset\u001b[38;5;241m.\u001b[39mdrop_duplicates()))\n\u001b[1;32m      3\u001b[0m     \u001b[38;5;28mprint\u001b[39m(\u001b[38;5;124m\"\u001b[39m\u001b[38;5;124mn samples in train: \u001b[39m\u001b[38;5;124m\"\u001b[39m, \u001b[38;5;28mlen\u001b[39m(train_index))\n",
      "\u001b[0;31mNameError\u001b[0m: name 'splits' is not defined"
     ]
    }
   ],
   "source": [
    "for (train_index, test_index) in splits:\n",
    "    print(\"datasets reserved for test fold: \", list(adata.obs.set_index(sample_col).loc[sample_pool[test_index]].dataset.drop_duplicates()))\n",
    "    print(\"n samples in train: \", len(train_index))\n",
    "    print(\"n samples in test: \", len(test_index))\n",
    "    print(\"\\n\")"
   ]
  },
  {
   "cell_type": "markdown",
   "id": "0433d261-5517-4c2c-a5e9-a164bb5e73d8",
   "metadata": {},
   "source": [
    "## anyway, we saw a lot of this lung data in HLCA, so abandoning this task"
   ]
  },
  {
   "cell_type": "code",
   "execution_count": 100,
   "id": "9735c582-1d3e-40cd-84a6-5da531f74750",
   "metadata": {},
   "outputs": [],
   "source": [
    "del lung_adata"
   ]
  },
  {
   "cell_type": "markdown",
   "id": "ae581e99-c809-4058-9eab-5bc4d119b8b0",
   "metadata": {},
   "source": [
    "# task 1: predict tissue of origin"
   ]
  },
  {
   "cell_type": "markdown",
   "id": "b7c6fa0a-0877-44d8-b6e0-4757e756085c",
   "metadata": {},
   "source": [
    "## pull relevant adata from CZI census"
   ]
  },
  {
   "cell_type": "code",
   "execution_count": null,
   "id": "ed5e7f18-6de5-443d-b8e7-10bfdb0b6a11",
   "metadata": {},
   "outputs": [],
   "source": [
    "with cellxgene_census.open_soma() as census:\n",
    "\n",
    "    # Reads SOMADataFrame as a slice\n",
    "    cell_metadata = census[\"census_data\"][\"homo_sapiens\"].obs.read(\n",
    "        value_filter = \"is_primary_data == True\"\n",
    "    )\n",
    "\n",
    "    # Concatenates results to pyarrow.Table\n",
    "    cell_metadata = cell_metadata.concat()\n",
    "\n",
    "    # Converts to pandas.DataFrame\n",
    "    cell_metadata = cell_metadata.to_pandas()"
   ]
  },
  {
   "cell_type": "code",
   "execution_count": 39,
   "id": "a2ac09e1-3fb2-4315-9b0e-ad7ba63740f6",
   "metadata": {},
   "outputs": [],
   "source": [
    "#using combo of donor_id, dataset, assay, age, disease, tissue as a unique sample\n",
    "sample_proxies = cell_metadata.loc[cell_metadata.suspension_type==\"cell\",['donor_id','dataset_id','assay','development_stage','disease', 'tissue','tissue_general']].drop_duplicates()"
   ]
  },
  {
   "cell_type": "code",
   "execution_count": 40,
   "id": "c56cecf7-0522-411e-8302-0d8f14509ca4",
   "metadata": {},
   "outputs": [
    {
     "data": {
      "text/plain": [
       "tissue_general\n",
       "blood              2603\n",
       "lung                565\n",
       "brain               371\n",
       "small intestine     326\n",
       "breast              204\n",
       "colon               171\n",
       "bone marrow         155\n",
       "kidney              155\n",
       "nose                107\n",
       "heart               105\n",
       "Name: count, dtype: int64"
      ]
     },
     "execution_count": 40,
     "metadata": {},
     "output_type": "execute_result"
    }
   ],
   "source": [
    "sample_proxies.tissue_general.value_counts()[:10]"
   ]
  },
  {
   "cell_type": "code",
   "execution_count": 41,
   "id": "66cf23d6-43ba-49a8-83f1-a40dc3e8d4df",
   "metadata": {},
   "outputs": [
    {
     "data": {
      "text/plain": [
       "tissue\n",
       "blood                 2598\n",
       "lung                   514\n",
       "breast                 197\n",
       "ileum                  170\n",
       "bone marrow            155\n",
       "brain                  133\n",
       "kidney                 118\n",
       "respiratory airway      75\n",
       "nasal cavity            70\n",
       "lymph node              70\n",
       "gonad                   66\n",
       "ileal epithelium        63\n",
       "liver                   62\n",
       "body of stomach         60\n",
       "thymus                  44\n",
       "prefrontal cortex       43\n",
       "colon                   39\n",
       "fovea centralis         39\n",
       "nose                    37\n",
       "colonic epithelium      37\n",
       "Name: count, dtype: int64"
      ]
     },
     "execution_count": 41,
     "metadata": {},
     "output_type": "execute_result"
    }
   ],
   "source": [
    "sample_proxies.tissue.value_counts()[:20]"
   ]
  },
  {
   "cell_type": "code",
   "execution_count": 42,
   "id": "a581cef9-4f1b-43e4-a379-e400c0daaaa6",
   "metadata": {},
   "outputs": [
    {
     "data": {
      "text/plain": [
       "Index(['blood', 'lung', 'brain', 'small intestine', 'breast'], dtype='object', name='tissue_general')"
      ]
     },
     "execution_count": 42,
     "metadata": {},
     "output_type": "execute_result"
    }
   ],
   "source": [
    "sample_proxies.tissue_general.value_counts().index[sample_proxies.tissue_general.value_counts()>200]"
   ]
  },
  {
   "cell_type": "markdown",
   "id": "861ca5f9-1496-4421-a900-7fc3926bfc5b",
   "metadata": {},
   "source": [
    "### choose a random sampling of samples that won't be too large for memory"
   ]
  },
  {
   "cell_type": "code",
   "execution_count": 43,
   "id": "3860e328-35de-4958-a6a9-58ce7a7ffb7c",
   "metadata": {},
   "outputs": [],
   "source": [
    "select_sample_proxies = cell_metadata.loc[(cell_metadata.suspension_type==\"cell\") & (cell_metadata.tissue_general.isin(['blood', 'lung', 'brain', 'small intestine', 'breast'])),['donor_id', 'dataset_id','assay','development_stage','disease', 'tissue','tissue_general']].drop_duplicates()"
   ]
  },
  {
   "cell_type": "code",
   "execution_count": 44,
   "id": "15f735f4-0d30-48b5-9032-30df4c387f2a",
   "metadata": {},
   "outputs": [
    {
     "data": {
      "text/plain": [
       "tissue_general\n",
       "blood              2603\n",
       "lung                565\n",
       "brain               371\n",
       "small intestine     326\n",
       "breast              204\n",
       "Name: count, dtype: int64"
      ]
     },
     "execution_count": 44,
     "metadata": {},
     "output_type": "execute_result"
    }
   ],
   "source": [
    "select_sample_proxies.tissue_general.value_counts()"
   ]
  },
  {
   "cell_type": "code",
   "execution_count": 46,
   "id": "ce7c9e16-1671-4d15-a74b-529b1fd6affc",
   "metadata": {},
   "outputs": [],
   "source": [
    "# choose MIN_SAMPLES examples from  now get all the cells from those sample proxies, in order to grab soma_joinid\n",
    "select_cells = select_sample_proxies.groupby(\"tissue_general\").sample(n=min(select_sample_proxies.tissue_general.value_counts())).merge(cell_metadata)"
   ]
  },
  {
   "cell_type": "code",
   "execution_count": 47,
   "id": "730a8068-76dc-44e6-a3b8-71afc5872b47",
   "metadata": {},
   "outputs": [
    {
     "data": {
      "text/plain": [
       "4166754"
      ]
     },
     "execution_count": 47,
     "metadata": {},
     "output_type": "execute_result"
    }
   ],
   "source": [
    "len(select_cells)"
   ]
  },
  {
   "cell_type": "code",
   "execution_count": 48,
   "id": "582216ef-6ccd-4c9e-86da-0962ee5dc9a5",
   "metadata": {},
   "outputs": [
    {
     "data": {
      "text/plain": [
       "4166754"
      ]
     },
     "execution_count": 48,
     "metadata": {},
     "output_type": "execute_result"
    }
   ],
   "source": [
    "# double check\n",
    "select_cells = select_cells.loc[select_cells.suspension_type==\"cell\",:]\n",
    "len(select_cells)"
   ]
  },
  {
   "cell_type": "code",
   "execution_count": 50,
   "id": "266a973b-9523-4930-8c33-2b9da55767b0",
   "metadata": {},
   "outputs": [
    {
     "data": {
      "text/plain": [
       "1020"
      ]
     },
     "execution_count": 50,
     "metadata": {},
     "output_type": "execute_result"
    }
   ],
   "source": [
    "#num \"samples\" pulled\n",
    "len(select_cells[['donor_id', 'dataset_id','assay','development_stage','disease', 'tissue','tissue_general']].drop_duplicates())"
   ]
  },
  {
   "cell_type": "code",
   "execution_count": 51,
   "id": "76aedd22-212a-41ba-9477-32f910f776f9",
   "metadata": {},
   "outputs": [
    {
     "data": {
      "text/plain": [
       "4166754"
      ]
     },
     "execution_count": 51,
     "metadata": {},
     "output_type": "execute_result"
    }
   ],
   "source": [
    "#double check\n",
    "len(select_cells[select_cells.is_primary_data==True])"
   ]
  },
  {
   "cell_type": "code",
   "execution_count": 52,
   "id": "05d1cec2-6b8e-4edd-aa1c-7a5105c55a3f",
   "metadata": {},
   "outputs": [
    {
     "name": "stderr",
     "output_type": "stream",
     "text": [
      "The \"stable\" release is currently 2023-12-15. Specify 'census_version=\"2023-12-15\"' in future calls to open_soma() to ensure data consistency.\n"
     ]
    },
    {
     "name": "stdout",
     "output_type": "stream",
     "text": [
      "AnnData object with n_obs × n_vars = 4166754 × 60664\n",
      "    obs: 'assay', 'cell_type', 'tissue', 'tissue_general', 'suspension_type', 'development_stage', 'disease', 'donor_id', 'dataset_id'\n",
      "    var: 'soma_joinid', 'feature_id', 'feature_name', 'feature_length', 'nnz', 'n_measured_obs'\n",
      "    obsm: 'scgpt'\n"
     ]
    }
   ],
   "source": [
    "with cellxgene_census.open_soma() as census:\n",
    "    #print(census.get_embedding_metadata())\n",
    "    tissue_general_adata = cellxgene_census.get_anndata(\n",
    "        census = census,\n",
    "        organism = \"Homo sapiens\",\n",
    "        measurement_name = \"RNA\",\n",
    "        obs_coords = select_cells.soma_joinid.tolist(),\n",
    "        column_names = {\"obs\": [\"soma_joinid\", \"assay\", \"cell_type\", \"tissue\", \"tissue_general\", \"suspension_type\", \"development_stage\", \"disease\", \"donor_id\",\"dataset_id\"]},\n",
    "        obs_embeddings = [\"scgpt\"]\n",
    "    )\n",
    "\n",
    "    print(tissue_general_adata)"
   ]
  },
  {
   "cell_type": "code",
   "execution_count": 53,
   "id": "8bf46f36-ced4-4a2a-b792-cc08414a6277",
   "metadata": {},
   "outputs": [
    {
     "data": {
      "text/plain": [
       "AnnData object with n_obs × n_vars = 4166754 × 60664\n",
       "    obs: 'assay', 'cell_type', 'tissue', 'tissue_general', 'suspension_type', 'development_stage', 'disease', 'donor_id', 'dataset_id'\n",
       "    var: 'soma_joinid', 'feature_id', 'feature_name', 'feature_length', 'nnz', 'n_measured_obs'\n",
       "    obsm: 'scgpt'"
      ]
     },
     "execution_count": 53,
     "metadata": {},
     "output_type": "execute_result"
    }
   ],
   "source": [
    "tissue_general_adata"
   ]
  },
  {
   "cell_type": "code",
   "execution_count": 56,
   "id": "f2aecdd2-4006-4378-9c3f-cf16098dae5c",
   "metadata": {},
   "outputs": [
    {
     "data": {
      "text/html": [
       "<div>\n",
       "<style scoped>\n",
       "    .dataframe tbody tr th:only-of-type {\n",
       "        vertical-align: middle;\n",
       "    }\n",
       "\n",
       "    .dataframe tbody tr th {\n",
       "        vertical-align: top;\n",
       "    }\n",
       "\n",
       "    .dataframe thead th {\n",
       "        text-align: right;\n",
       "    }\n",
       "</style>\n",
       "<table border=\"1\" class=\"dataframe\">\n",
       "  <thead>\n",
       "    <tr style=\"text-align: right;\">\n",
       "      <th></th>\n",
       "      <th>dataset_id</th>\n",
       "      <th>assay</th>\n",
       "      <th>disease</th>\n",
       "      <th>donor_id</th>\n",
       "      <th>tissue</th>\n",
       "      <th>tissue_general</th>\n",
       "      <th>pseudosample_id</th>\n",
       "    </tr>\n",
       "  </thead>\n",
       "  <tbody>\n",
       "    <tr>\n",
       "      <th>0</th>\n",
       "      <td>cf83c98a-3791-4537-bbde-a719f6d73c13</td>\n",
       "      <td>10x 3' v3</td>\n",
       "      <td>B-cell acute lymphoblastic leukemia</td>\n",
       "      <td>HTA4_5</td>\n",
       "      <td>blood</td>\n",
       "      <td>blood</td>\n",
       "      <td>1</td>\n",
       "    </tr>\n",
       "    <tr>\n",
       "      <th>8358</th>\n",
       "      <td>6ceeaa86-9ceb-4582-b390-6d4dd6ff0572</td>\n",
       "      <td>10x 3' v2</td>\n",
       "      <td>digestive system disorder</td>\n",
       "      <td>PREDICT_FGID_LP_p028</td>\n",
       "      <td>lamina propria of small intestine</td>\n",
       "      <td>small intestine</td>\n",
       "      <td>2</td>\n",
       "    </tr>\n",
       "    <tr>\n",
       "      <th>18215</th>\n",
       "      <td>6ceeaa86-9ceb-4582-b390-6d4dd6ff0572</td>\n",
       "      <td>10x 3' v2</td>\n",
       "      <td>digestive system disorder</td>\n",
       "      <td>PREDICT_FGID_LP_p023</td>\n",
       "      <td>lamina propria of small intestine</td>\n",
       "      <td>small intestine</td>\n",
       "      <td>3</td>\n",
       "    </tr>\n",
       "    <tr>\n",
       "      <th>28852</th>\n",
       "      <td>6ceeaa86-9ceb-4582-b390-6d4dd6ff0572</td>\n",
       "      <td>10x 3' v2</td>\n",
       "      <td>digestive system disorder</td>\n",
       "      <td>PREDICT_FGID_LP_p034</td>\n",
       "      <td>lamina propria of small intestine</td>\n",
       "      <td>small intestine</td>\n",
       "      <td>4</td>\n",
       "    </tr>\n",
       "    <tr>\n",
       "      <th>36539</th>\n",
       "      <td>6ceeaa86-9ceb-4582-b390-6d4dd6ff0572</td>\n",
       "      <td>10x 3' v2</td>\n",
       "      <td>digestive system disorder</td>\n",
       "      <td>PREDICT_FGID_LP_p049</td>\n",
       "      <td>lamina propria of small intestine</td>\n",
       "      <td>small intestine</td>\n",
       "      <td>5</td>\n",
       "    </tr>\n",
       "    <tr>\n",
       "      <th>...</th>\n",
       "      <td>...</td>\n",
       "      <td>...</td>\n",
       "      <td>...</td>\n",
       "      <td>...</td>\n",
       "      <td>...</td>\n",
       "      <td>...</td>\n",
       "      <td>...</td>\n",
       "    </tr>\n",
       "    <tr>\n",
       "      <th>4143989</th>\n",
       "      <td>2adb1f8a-a6b1-4909-8ee8-484814e2d4bf</td>\n",
       "      <td>microwell-seq</td>\n",
       "      <td>normal</td>\n",
       "      <td>Donor46</td>\n",
       "      <td>blood</td>\n",
       "      <td>blood</td>\n",
       "      <td>1016</td>\n",
       "    </tr>\n",
       "    <tr>\n",
       "      <th>4149285</th>\n",
       "      <td>2adb1f8a-a6b1-4909-8ee8-484814e2d4bf</td>\n",
       "      <td>microwell-seq</td>\n",
       "      <td>normal</td>\n",
       "      <td>Donor8</td>\n",
       "      <td>brain</td>\n",
       "      <td>brain</td>\n",
       "      <td>1017</td>\n",
       "    </tr>\n",
       "    <tr>\n",
       "      <th>4152189</th>\n",
       "      <td>2adb1f8a-a6b1-4909-8ee8-484814e2d4bf</td>\n",
       "      <td>microwell-seq</td>\n",
       "      <td>normal</td>\n",
       "      <td>Donor9</td>\n",
       "      <td>brain</td>\n",
       "      <td>brain</td>\n",
       "      <td>1018</td>\n",
       "    </tr>\n",
       "    <tr>\n",
       "      <th>4156109</th>\n",
       "      <td>2adb1f8a-a6b1-4909-8ee8-484814e2d4bf</td>\n",
       "      <td>microwell-seq</td>\n",
       "      <td>normal</td>\n",
       "      <td>Donor10</td>\n",
       "      <td>brain</td>\n",
       "      <td>brain</td>\n",
       "      <td>1019</td>\n",
       "    </tr>\n",
       "    <tr>\n",
       "      <th>4161205</th>\n",
       "      <td>2adb1f8a-a6b1-4909-8ee8-484814e2d4bf</td>\n",
       "      <td>microwell-seq</td>\n",
       "      <td>normal</td>\n",
       "      <td>Donor35</td>\n",
       "      <td>jejunum</td>\n",
       "      <td>small intestine</td>\n",
       "      <td>1020</td>\n",
       "    </tr>\n",
       "  </tbody>\n",
       "</table>\n",
       "<p>1020 rows × 7 columns</p>\n",
       "</div>"
      ],
      "text/plain": [
       "                                   dataset_id          assay  \\\n",
       "0        cf83c98a-3791-4537-bbde-a719f6d73c13      10x 3' v3   \n",
       "8358     6ceeaa86-9ceb-4582-b390-6d4dd6ff0572      10x 3' v2   \n",
       "18215    6ceeaa86-9ceb-4582-b390-6d4dd6ff0572      10x 3' v2   \n",
       "28852    6ceeaa86-9ceb-4582-b390-6d4dd6ff0572      10x 3' v2   \n",
       "36539    6ceeaa86-9ceb-4582-b390-6d4dd6ff0572      10x 3' v2   \n",
       "...                                       ...            ...   \n",
       "4143989  2adb1f8a-a6b1-4909-8ee8-484814e2d4bf  microwell-seq   \n",
       "4149285  2adb1f8a-a6b1-4909-8ee8-484814e2d4bf  microwell-seq   \n",
       "4152189  2adb1f8a-a6b1-4909-8ee8-484814e2d4bf  microwell-seq   \n",
       "4156109  2adb1f8a-a6b1-4909-8ee8-484814e2d4bf  microwell-seq   \n",
       "4161205  2adb1f8a-a6b1-4909-8ee8-484814e2d4bf  microwell-seq   \n",
       "\n",
       "                                     disease              donor_id  \\\n",
       "0        B-cell acute lymphoblastic leukemia                HTA4_5   \n",
       "8358               digestive system disorder  PREDICT_FGID_LP_p028   \n",
       "18215              digestive system disorder  PREDICT_FGID_LP_p023   \n",
       "28852              digestive system disorder  PREDICT_FGID_LP_p034   \n",
       "36539              digestive system disorder  PREDICT_FGID_LP_p049   \n",
       "...                                      ...                   ...   \n",
       "4143989                               normal               Donor46   \n",
       "4149285                               normal                Donor8   \n",
       "4152189                               normal                Donor9   \n",
       "4156109                               normal               Donor10   \n",
       "4161205                               normal               Donor35   \n",
       "\n",
       "                                    tissue   tissue_general  pseudosample_id  \n",
       "0                                    blood            blood                1  \n",
       "8358     lamina propria of small intestine  small intestine                2  \n",
       "18215    lamina propria of small intestine  small intestine                3  \n",
       "28852    lamina propria of small intestine  small intestine                4  \n",
       "36539    lamina propria of small intestine  small intestine                5  \n",
       "...                                    ...              ...              ...  \n",
       "4143989                              blood            blood             1016  \n",
       "4149285                              brain            brain             1017  \n",
       "4152189                              brain            brain             1018  \n",
       "4156109                              brain            brain             1019  \n",
       "4161205                            jejunum  small intestine             1020  \n",
       "\n",
       "[1020 rows x 7 columns]"
      ]
     },
     "execution_count": 56,
     "metadata": {},
     "output_type": "execute_result"
    }
   ],
   "source": [
    "# add pseudosample_id\n",
    "sample_df = tissue_general_adata.obs[['dataset_id','assay','disease','donor_id', 'tissue','tissue_general']].drop_duplicates()\n",
    "sample_df['pseudosample_id'] = np.arange(len(sample_df))+1\n",
    "sample_df"
   ]
  },
  {
   "cell_type": "code",
   "execution_count": 79,
   "id": "cef2a113-2f26-40fa-990c-0f4a63c21cb3",
   "metadata": {
    "scrolled": true
   },
   "outputs": [
    {
     "name": "stdout",
     "output_type": "stream",
     "text": [
      "assay                                                        10x 5' v2\n",
      "cell_type            CD16-positive, CD56-dim natural killer cell, h...\n",
      "tissue                                                           blood\n",
      "tissue_general                                                   blood\n",
      "suspension_type                                                   cell\n",
      "development_stage                              63-year-old human stage\n",
      "disease                                                         normal\n",
      "donor_id                                                   KR_SGI_H129\n",
      "dataset_id                        b0e547f0-462b-4f81-b31b-5b0a5d96f537\n",
      "Name: 1139378, dtype: object\n",
      "assay                                                        10x 5' v2\n",
      "cell_type            CD16-positive, CD56-dim natural killer cell, h...\n",
      "tissue                                                           blood\n",
      "tissue_general                                                   blood\n",
      "suspension_type                                                   cell\n",
      "development_stage                              63-year-old human stage\n",
      "disease                                                         normal\n",
      "donor_id                                                   KR_SGI_H129\n",
      "dataset_id                        b0e547f0-462b-4f81-b31b-5b0a5d96f537\n",
      "Name: 1139378, dtype: object\n",
      "assay                                           10x 3' v3\n",
      "cell_type                      CD4-positive helper T cell\n",
      "tissue                                             breast\n",
      "tissue_general                                     breast\n",
      "suspension_type                                      cell\n",
      "development_stage                            mature stage\n",
      "disease                                            normal\n",
      "donor_id                                             P126\n",
      "dataset_id           842c6f5d-4a94-4eef-8510-8c792d1124bc\n",
      "Name: 500150, dtype: object\n",
      "assay                                           10x 3' v3\n",
      "cell_type                      CD4-positive helper T cell\n",
      "tissue                                             breast\n",
      "tissue_general                                     breast\n",
      "suspension_type                                      cell\n",
      "development_stage                            mature stage\n",
      "disease                                            normal\n",
      "donor_id                                             P126\n",
      "dataset_id           842c6f5d-4a94-4eef-8510-8c792d1124bc\n",
      "Name: 500150, dtype: object\n",
      "assay                                           10x 3' v2\n",
      "cell_type                 CD4-positive, alpha-beta T cell\n",
      "tissue                                               lung\n",
      "tissue_general                                       lung\n",
      "suspension_type                                      cell\n",
      "development_stage                                 unknown\n",
      "disease                               lung adenocarcinoma\n",
      "donor_id                               Kim_Lee_2020_P0030\n",
      "dataset_id           1e6a6ef9-7ec9-4c90-bbfb-2ad3c3165fd1\n",
      "Name: 2148223, dtype: object\n",
      "assay                                           10x 3' v2\n",
      "cell_type                 CD4-positive, alpha-beta T cell\n",
      "tissue                                               lung\n",
      "tissue_general                                       lung\n",
      "suspension_type                                      cell\n",
      "development_stage                                 unknown\n",
      "disease                               lung adenocarcinoma\n",
      "donor_id                               Kim_Lee_2020_P0030\n",
      "dataset_id           1e6a6ef9-7ec9-4c90-bbfb-2ad3c3165fd1\n",
      "Name: 2148223, dtype: object\n",
      "assay                                           10x 3' v2\n",
      "cell_type                             natural killer cell\n",
      "tissue                                              blood\n",
      "tissue_general                                      blood\n",
      "suspension_type                                      cell\n",
      "development_stage                 68-year-old human stage\n",
      "disease                                            normal\n",
      "donor_id                                          517_518\n",
      "dataset_id           3faad104-2ab8-4434-816d-474d8d2641db\n",
      "Name: 3272052, dtype: object\n",
      "assay                                           10x 3' v2\n",
      "cell_type                             natural killer cell\n",
      "tissue                                              blood\n",
      "tissue_general                                      blood\n",
      "suspension_type                                      cell\n",
      "development_stage                 68-year-old human stage\n",
      "disease                                            normal\n",
      "donor_id                                          517_518\n",
      "dataset_id           3faad104-2ab8-4434-816d-474d8d2641db\n",
      "Name: 3272052, dtype: object\n",
      "assay                                           10x 3' v2\n",
      "cell_type                 CD4-positive, alpha-beta T cell\n",
      "tissue                                               lung\n",
      "tissue_general                                       lung\n",
      "suspension_type                                      cell\n",
      "development_stage                 48-year-old human stage\n",
      "disease                               lung adenocarcinoma\n",
      "donor_id                                   He_Fan_2021_P1\n",
      "dataset_id           1e6a6ef9-7ec9-4c90-bbfb-2ad3c3165fd1\n",
      "Name: 2183595, dtype: object\n",
      "assay                                           10x 3' v2\n",
      "cell_type                 CD4-positive, alpha-beta T cell\n",
      "tissue                                               lung\n",
      "tissue_general                                       lung\n",
      "suspension_type                                      cell\n",
      "development_stage                 48-year-old human stage\n",
      "disease                               lung adenocarcinoma\n",
      "donor_id                                   He_Fan_2021_P1\n",
      "dataset_id           1e6a6ef9-7ec9-4c90-bbfb-2ad3c3165fd1\n",
      "Name: 2183595, dtype: object\n",
      "assay                                             10x 3' v3\n",
      "cell_type            vascular associated smooth muscle cell\n",
      "tissue                                               breast\n",
      "tissue_general                                       breast\n",
      "suspension_type                                        cell\n",
      "development_stage                              mature stage\n",
      "disease                                       breast cancer\n",
      "donor_id                                               P119\n",
      "dataset_id             842c6f5d-4a94-4eef-8510-8c792d1124bc\n",
      "Name: 674438, dtype: object\n",
      "assay                                             10x 3' v3\n",
      "cell_type            vascular associated smooth muscle cell\n",
      "tissue                                               breast\n",
      "tissue_general                                       breast\n",
      "suspension_type                                        cell\n",
      "development_stage                              mature stage\n",
      "disease                                       breast cancer\n",
      "donor_id                                               P119\n",
      "dataset_id             842c6f5d-4a94-4eef-8510-8c792d1124bc\n",
      "Name: 674438, dtype: object\n",
      "assay                                           10x 3' v3\n",
      "cell_type                                   mature B cell\n",
      "tissue                                              blood\n",
      "tissue_general                                      blood\n",
      "suspension_type                                      cell\n",
      "development_stage                 2-month-old human stage\n",
      "disease               B-cell acute lymphoblastic leukemia\n",
      "donor_id                                           HTA4_5\n",
      "dataset_id           cf83c98a-3791-4537-bbde-a719f6d73c13\n",
      "Name: 5629, dtype: object\n",
      "assay                                           10x 3' v3\n",
      "cell_type                                   mature B cell\n",
      "tissue                                              blood\n",
      "tissue_general                                      blood\n",
      "suspension_type                                      cell\n",
      "development_stage                 2-month-old human stage\n",
      "disease               B-cell acute lymphoblastic leukemia\n",
      "donor_id                                           HTA4_5\n",
      "dataset_id           cf83c98a-3791-4537-bbde-a719f6d73c13\n",
      "Name: 5629, dtype: object\n",
      "assay                                               10x 3' v2\n",
      "cell_type               cerebral cortex GABAergic interneuron\n",
      "tissue                                   primary motor cortex\n",
      "tissue_general                                          brain\n",
      "suspension_type                                          cell\n",
      "development_stage    18th week post-fertilization human stage\n",
      "disease                                                normal\n",
      "donor_id                                               GW18_2\n",
      "dataset_id               ae4f8ddd-cac9-4172-9681-2175da462f2e\n",
      "Name: 3637097, dtype: object\n",
      "assay                                               10x 3' v2\n",
      "cell_type               cerebral cortex GABAergic interneuron\n",
      "tissue                                   primary motor cortex\n",
      "tissue_general                                          brain\n",
      "suspension_type                                          cell\n",
      "development_stage    18th week post-fertilization human stage\n",
      "disease                                                normal\n",
      "donor_id                                               GW18_2\n",
      "dataset_id               ae4f8ddd-cac9-4172-9681-2175da462f2e\n",
      "Name: 3637097, dtype: object\n",
      "assay                                           10x 3' v2\n",
      "cell_type                 CD4-positive, alpha-beta T cell\n",
      "tissue                                              blood\n",
      "tissue_general                                      blood\n",
      "suspension_type                                      cell\n",
      "development_stage                 24-year-old human stage\n",
      "disease                      systemic lupus erythematosus\n",
      "donor_id                                         FLARE015\n",
      "dataset_id           218acb0f-9f2f-4f76-b90b-15a4b7c7f629\n",
      "Name: 3716388, dtype: object\n",
      "assay                                           10x 3' v2\n",
      "cell_type                 CD4-positive, alpha-beta T cell\n",
      "tissue                                              blood\n",
      "tissue_general                                      blood\n",
      "suspension_type                                      cell\n",
      "development_stage                 24-year-old human stage\n",
      "disease                      systemic lupus erythematosus\n",
      "donor_id                                         FLARE015\n",
      "dataset_id           218acb0f-9f2f-4f76-b90b-15a4b7c7f629\n",
      "Name: 3716388, dtype: object\n",
      "assay                                           10x 3' v2\n",
      "cell_type                        vascular lymphangioblast\n",
      "tissue                                             breast\n",
      "tissue_general                                     breast\n",
      "suspension_type                                      cell\n",
      "development_stage                 35-year-old human stage\n",
      "disease                                            normal\n",
      "donor_id                                    Human-BRCA1-E\n",
      "dataset_id           9a64bf99-ebe5-4276-93a8-bee9dff1cd47\n",
      "Name: 74448, dtype: object\n",
      "assay                                           10x 3' v2\n",
      "cell_type                        vascular lymphangioblast\n",
      "tissue                                             breast\n",
      "tissue_general                                     breast\n",
      "suspension_type                                      cell\n",
      "development_stage                 35-year-old human stage\n",
      "disease                                            normal\n",
      "donor_id                                    Human-BRCA1-E\n",
      "dataset_id           9a64bf99-ebe5-4276-93a8-bee9dff1cd47\n",
      "Name: 74448, dtype: object\n"
     ]
    }
   ],
   "source": [
    "#double checking that .obs will still be in same order after merge\n",
    "tmp = tissue_general_adata.obs.merge(sample_df).iloc[:,:-1]\n",
    "\n",
    "import random\n",
    "for n in random.sample(list(np.arange(len(tissue_general_adata.obs))), 10):\n",
    "    print(tissue_general_adata.obs.iloc[n])\n",
    "    print(tmp.iloc[n])"
   ]
  },
  {
   "cell_type": "code",
   "execution_count": 80,
   "id": "494e237a-1b3b-4516-8fdd-52721f515d50",
   "metadata": {},
   "outputs": [],
   "source": [
    "tissue_general_adata.obs = tissue_general_adata.obs.merge(sample_df)"
   ]
  },
  {
   "cell_type": "code",
   "execution_count": 81,
   "id": "df69df2d-a9d4-40a7-9d3b-ecca457d86d1",
   "metadata": {},
   "outputs": [
    {
     "data": {
      "text/html": [
       "<div>\n",
       "<style scoped>\n",
       "    .dataframe tbody tr th:only-of-type {\n",
       "        vertical-align: middle;\n",
       "    }\n",
       "\n",
       "    .dataframe tbody tr th {\n",
       "        vertical-align: top;\n",
       "    }\n",
       "\n",
       "    .dataframe thead th {\n",
       "        text-align: right;\n",
       "    }\n",
       "</style>\n",
       "<table border=\"1\" class=\"dataframe\">\n",
       "  <thead>\n",
       "    <tr style=\"text-align: right;\">\n",
       "      <th></th>\n",
       "      <th>assay</th>\n",
       "      <th>cell_type</th>\n",
       "      <th>tissue</th>\n",
       "      <th>tissue_general</th>\n",
       "      <th>suspension_type</th>\n",
       "      <th>development_stage</th>\n",
       "      <th>disease</th>\n",
       "      <th>donor_id</th>\n",
       "      <th>dataset_id</th>\n",
       "      <th>pseudosample_id</th>\n",
       "    </tr>\n",
       "  </thead>\n",
       "  <tbody>\n",
       "    <tr>\n",
       "      <th>0</th>\n",
       "      <td>10x 3' v3</td>\n",
       "      <td>early pro-B cell</td>\n",
       "      <td>blood</td>\n",
       "      <td>blood</td>\n",
       "      <td>cell</td>\n",
       "      <td>2-month-old human stage</td>\n",
       "      <td>B-cell acute lymphoblastic leukemia</td>\n",
       "      <td>HTA4_5</td>\n",
       "      <td>cf83c98a-3791-4537-bbde-a719f6d73c13</td>\n",
       "      <td>1</td>\n",
       "    </tr>\n",
       "    <tr>\n",
       "      <th>1</th>\n",
       "      <td>10x 3' v3</td>\n",
       "      <td>pro-B cell</td>\n",
       "      <td>blood</td>\n",
       "      <td>blood</td>\n",
       "      <td>cell</td>\n",
       "      <td>2-month-old human stage</td>\n",
       "      <td>B-cell acute lymphoblastic leukemia</td>\n",
       "      <td>HTA4_5</td>\n",
       "      <td>cf83c98a-3791-4537-bbde-a719f6d73c13</td>\n",
       "      <td>1</td>\n",
       "    </tr>\n",
       "    <tr>\n",
       "      <th>2</th>\n",
       "      <td>10x 3' v3</td>\n",
       "      <td>pro-B cell</td>\n",
       "      <td>blood</td>\n",
       "      <td>blood</td>\n",
       "      <td>cell</td>\n",
       "      <td>2-month-old human stage</td>\n",
       "      <td>B-cell acute lymphoblastic leukemia</td>\n",
       "      <td>HTA4_5</td>\n",
       "      <td>cf83c98a-3791-4537-bbde-a719f6d73c13</td>\n",
       "      <td>1</td>\n",
       "    </tr>\n",
       "    <tr>\n",
       "      <th>3</th>\n",
       "      <td>10x 3' v3</td>\n",
       "      <td>monocyte</td>\n",
       "      <td>blood</td>\n",
       "      <td>blood</td>\n",
       "      <td>cell</td>\n",
       "      <td>2-month-old human stage</td>\n",
       "      <td>B-cell acute lymphoblastic leukemia</td>\n",
       "      <td>HTA4_5</td>\n",
       "      <td>cf83c98a-3791-4537-bbde-a719f6d73c13</td>\n",
       "      <td>1</td>\n",
       "    </tr>\n",
       "    <tr>\n",
       "      <th>4</th>\n",
       "      <td>10x 3' v3</td>\n",
       "      <td>pro-B cell</td>\n",
       "      <td>blood</td>\n",
       "      <td>blood</td>\n",
       "      <td>cell</td>\n",
       "      <td>2-month-old human stage</td>\n",
       "      <td>B-cell acute lymphoblastic leukemia</td>\n",
       "      <td>HTA4_5</td>\n",
       "      <td>cf83c98a-3791-4537-bbde-a719f6d73c13</td>\n",
       "      <td>1</td>\n",
       "    </tr>\n",
       "    <tr>\n",
       "      <th>...</th>\n",
       "      <td>...</td>\n",
       "      <td>...</td>\n",
       "      <td>...</td>\n",
       "      <td>...</td>\n",
       "      <td>...</td>\n",
       "      <td>...</td>\n",
       "      <td>...</td>\n",
       "      <td>...</td>\n",
       "      <td>...</td>\n",
       "      <td>...</td>\n",
       "    </tr>\n",
       "    <tr>\n",
       "      <th>4166749</th>\n",
       "      <td>microwell-seq</td>\n",
       "      <td>endothelial cell</td>\n",
       "      <td>jejunum</td>\n",
       "      <td>small intestine</td>\n",
       "      <td>cell</td>\n",
       "      <td>64-year-old human stage</td>\n",
       "      <td>normal</td>\n",
       "      <td>Donor35</td>\n",
       "      <td>2adb1f8a-a6b1-4909-8ee8-484814e2d4bf</td>\n",
       "      <td>1020</td>\n",
       "    </tr>\n",
       "    <tr>\n",
       "      <th>4166750</th>\n",
       "      <td>microwell-seq</td>\n",
       "      <td>endothelial cell</td>\n",
       "      <td>jejunum</td>\n",
       "      <td>small intestine</td>\n",
       "      <td>cell</td>\n",
       "      <td>64-year-old human stage</td>\n",
       "      <td>normal</td>\n",
       "      <td>Donor35</td>\n",
       "      <td>2adb1f8a-a6b1-4909-8ee8-484814e2d4bf</td>\n",
       "      <td>1020</td>\n",
       "    </tr>\n",
       "    <tr>\n",
       "      <th>4166751</th>\n",
       "      <td>microwell-seq</td>\n",
       "      <td>endothelial cell</td>\n",
       "      <td>jejunum</td>\n",
       "      <td>small intestine</td>\n",
       "      <td>cell</td>\n",
       "      <td>64-year-old human stage</td>\n",
       "      <td>normal</td>\n",
       "      <td>Donor35</td>\n",
       "      <td>2adb1f8a-a6b1-4909-8ee8-484814e2d4bf</td>\n",
       "      <td>1020</td>\n",
       "    </tr>\n",
       "    <tr>\n",
       "      <th>4166752</th>\n",
       "      <td>microwell-seq</td>\n",
       "      <td>endothelial cell</td>\n",
       "      <td>jejunum</td>\n",
       "      <td>small intestine</td>\n",
       "      <td>cell</td>\n",
       "      <td>64-year-old human stage</td>\n",
       "      <td>normal</td>\n",
       "      <td>Donor35</td>\n",
       "      <td>2adb1f8a-a6b1-4909-8ee8-484814e2d4bf</td>\n",
       "      <td>1020</td>\n",
       "    </tr>\n",
       "    <tr>\n",
       "      <th>4166753</th>\n",
       "      <td>microwell-seq</td>\n",
       "      <td>enterocyte</td>\n",
       "      <td>jejunum</td>\n",
       "      <td>small intestine</td>\n",
       "      <td>cell</td>\n",
       "      <td>64-year-old human stage</td>\n",
       "      <td>normal</td>\n",
       "      <td>Donor35</td>\n",
       "      <td>2adb1f8a-a6b1-4909-8ee8-484814e2d4bf</td>\n",
       "      <td>1020</td>\n",
       "    </tr>\n",
       "  </tbody>\n",
       "</table>\n",
       "<p>4166754 rows × 10 columns</p>\n",
       "</div>"
      ],
      "text/plain": [
       "                 assay         cell_type   tissue   tissue_general  \\\n",
       "0            10x 3' v3  early pro-B cell    blood            blood   \n",
       "1            10x 3' v3        pro-B cell    blood            blood   \n",
       "2            10x 3' v3        pro-B cell    blood            blood   \n",
       "3            10x 3' v3          monocyte    blood            blood   \n",
       "4            10x 3' v3        pro-B cell    blood            blood   \n",
       "...                ...               ...      ...              ...   \n",
       "4166749  microwell-seq  endothelial cell  jejunum  small intestine   \n",
       "4166750  microwell-seq  endothelial cell  jejunum  small intestine   \n",
       "4166751  microwell-seq  endothelial cell  jejunum  small intestine   \n",
       "4166752  microwell-seq  endothelial cell  jejunum  small intestine   \n",
       "4166753  microwell-seq        enterocyte  jejunum  small intestine   \n",
       "\n",
       "        suspension_type        development_stage  \\\n",
       "0                  cell  2-month-old human stage   \n",
       "1                  cell  2-month-old human stage   \n",
       "2                  cell  2-month-old human stage   \n",
       "3                  cell  2-month-old human stage   \n",
       "4                  cell  2-month-old human stage   \n",
       "...                 ...                      ...   \n",
       "4166749            cell  64-year-old human stage   \n",
       "4166750            cell  64-year-old human stage   \n",
       "4166751            cell  64-year-old human stage   \n",
       "4166752            cell  64-year-old human stage   \n",
       "4166753            cell  64-year-old human stage   \n",
       "\n",
       "                                     disease donor_id  \\\n",
       "0        B-cell acute lymphoblastic leukemia   HTA4_5   \n",
       "1        B-cell acute lymphoblastic leukemia   HTA4_5   \n",
       "2        B-cell acute lymphoblastic leukemia   HTA4_5   \n",
       "3        B-cell acute lymphoblastic leukemia   HTA4_5   \n",
       "4        B-cell acute lymphoblastic leukemia   HTA4_5   \n",
       "...                                      ...      ...   \n",
       "4166749                               normal  Donor35   \n",
       "4166750                               normal  Donor35   \n",
       "4166751                               normal  Donor35   \n",
       "4166752                               normal  Donor35   \n",
       "4166753                               normal  Donor35   \n",
       "\n",
       "                                   dataset_id  pseudosample_id  \n",
       "0        cf83c98a-3791-4537-bbde-a719f6d73c13                1  \n",
       "1        cf83c98a-3791-4537-bbde-a719f6d73c13                1  \n",
       "2        cf83c98a-3791-4537-bbde-a719f6d73c13                1  \n",
       "3        cf83c98a-3791-4537-bbde-a719f6d73c13                1  \n",
       "4        cf83c98a-3791-4537-bbde-a719f6d73c13                1  \n",
       "...                                       ...              ...  \n",
       "4166749  2adb1f8a-a6b1-4909-8ee8-484814e2d4bf             1020  \n",
       "4166750  2adb1f8a-a6b1-4909-8ee8-484814e2d4bf             1020  \n",
       "4166751  2adb1f8a-a6b1-4909-8ee8-484814e2d4bf             1020  \n",
       "4166752  2adb1f8a-a6b1-4909-8ee8-484814e2d4bf             1020  \n",
       "4166753  2adb1f8a-a6b1-4909-8ee8-484814e2d4bf             1020  \n",
       "\n",
       "[4166754 rows x 10 columns]"
      ]
     },
     "execution_count": 81,
     "metadata": {},
     "output_type": "execute_result"
    }
   ],
   "source": [
    "tissue_general_adata.obs "
   ]
  },
  {
   "cell_type": "code",
   "execution_count": 55,
   "id": "a1cec8e8-4f36-4135-9e40-c1580d6e0b8b",
   "metadata": {},
   "outputs": [
    {
     "data": {
      "text/plain": [
       "tissue_general\n",
       "breast             1202968\n",
       "brain               944072\n",
       "lung                805464\n",
       "blood               670534\n",
       "small intestine     543716\n",
       "Name: count, dtype: int64"
      ]
     },
     "execution_count": 55,
     "metadata": {},
     "output_type": "execute_result"
    }
   ],
   "source": [
    "tissue_general_adata.obs.tissue_general.value_counts()"
   ]
  },
  {
   "cell_type": "markdown",
   "id": "91ca418c-046c-4fc0-b7d5-de2d11f4d312",
   "metadata": {
    "jp-MarkdownHeadingCollapsed": true
   },
   "source": [
    "## create pseudobulk embeddings to use downstream"
   ]
  },
  {
   "cell_type": "code",
   "execution_count": 84,
   "id": "ec84d4c4",
   "metadata": {},
   "outputs": [],
   "source": [
    "adata = tissue_general_adata\n",
    "sample_col = 'pseudosample_id'"
   ]
  },
  {
   "cell_type": "code",
   "execution_count": 83,
   "id": "6ee8f49f",
   "metadata": {},
   "outputs": [],
   "source": [
    "pbulk_embs = {}"
   ]
  },
  {
   "cell_type": "markdown",
   "id": "91f56704-aff2-47fe-ae67-8c0cad447322",
   "metadata": {},
   "source": [
    "#### scGPT"
   ]
  },
  {
   "cell_type": "code",
   "execution_count": 86,
   "id": "aeeaea24",
   "metadata": {},
   "outputs": [],
   "source": [
    "emb_name = 'scgpt'\n",
    "\n",
    "## Input\n",
    "pseudobulk_input = pd.DataFrame(adata.obsm[emb_name], index=adata.obs.loc[:,sample_col]).reset_index().groupby(sample_col).mean()\n",
    "\n",
    "#limit to the sample pool, this will also put it in the right order to index using the groupkfold inds\n",
    "pbulk_embs[emb_name] = pseudobulk_input#.loc[sample_pool,:]"
   ]
  },
  {
   "cell_type": "markdown",
   "id": "7971eefc-1f26-4d6d-bcd9-96870b57ba27",
   "metadata": {},
   "source": [
    "#### scGPT -> 40 PCs"
   ]
  },
  {
   "cell_type": "code",
   "execution_count": 87,
   "id": "6acc4977",
   "metadata": {},
   "outputs": [],
   "source": [
    "emb_name = 'scgpt'\n",
    "\n",
    "pca = sklearn.decomposition.PCA(n_components=40)\n",
    "scgpt_input_pca = pca.fit_transform(adata.obsm[emb_name])\n",
    "\n",
    "## Input\n",
    "pseudobulk_input = pd.DataFrame(scgpt_input_pca, index=adata.obs.loc[:,sample_col]).reset_index().groupby(sample_col).mean()\n",
    "\n",
    "#limit to the sample pool, this will also put it in the right order to index using the groupkfold inds\n",
    "pbulk_embs['scgpt_40PCs'] = pseudobulk_input#.loc[sample_pool,:]"
   ]
  },
  {
   "cell_type": "markdown",
   "id": "1ed4dc3f-3ee3-42f7-9a5a-f1b8a5d6bcc5",
   "metadata": {},
   "source": [
    "#### cell type props"
   ]
  },
  {
   "cell_type": "code",
   "execution_count": 88,
   "id": "c4667265",
   "metadata": {},
   "outputs": [],
   "source": [
    "## Input\n",
    "celltype_counts_df = pd.DataFrame(adata.obs.groupby(sample_col).cell_type.value_counts()).rename({'count':'cell_type_counts'},axis=1).reset_index().pivot(index=sample_col, columns=\"cell_type\", values=\"cell_type_counts\")\n",
    "celltype_fracs_df = celltype_counts_df.div(celltype_counts_df.sum(axis=1), axis=0)\n",
    "pseudobulk_input = celltype_fracs_df.fillna(0) # replace nan with 0 \n",
    "pbulk_embs['ct_props'] = pseudobulk_input#.loc[sample_pool,:]"
   ]
  },
  {
   "cell_type": "markdown",
   "id": "0009c1d5-52bf-4c59-90d8-f6f5ca32eb5a",
   "metadata": {},
   "source": [
    "#### cell type props + mean embedding based on scGPT"
   ]
  },
  {
   "cell_type": "code",
   "execution_count": 165,
   "id": "b0ec0381",
   "metadata": {},
   "outputs": [],
   "source": [
    "#get mean embedding per cell type\n",
    "\n",
    "emb_name = 'scgpt'\n",
    "\n",
    "# get mean embedding per sample+cell_type\n",
    "pseudobulk_input = pd.DataFrame(adata.obsm[emb_name], index=adata.obs.index).merge(adata.obs[[sample_col,'cell_type']], right_index=True, left_index=True).groupby([sample_col,'cell_type']).mean()\n",
    "\n",
    "# change columns to more interpretable strs \n",
    "pseudobulk_input.columns = ['scgpt_'+str(c) for c in pseudobulk_input.columns]\n",
    "\n",
    "# reset index\n",
    "pseudobulk_input = pseudobulk_input.reset_index()\n",
    "\n",
    "# Pivot the dataframe - cell types that dont exist in a given sample - fill 0 for mean expression\n",
    "psblk_per_celltype = pseudobulk_input.pivot(index=sample_col, columns='cell_type').fillna(0)\n",
    "\n",
    "# Flatten the multi-level columns\n",
    "psblk_per_celltype.columns = ['_'.join(col).strip() for col in psblk_per_celltype.columns.values]"
   ]
  },
  {
   "cell_type": "code",
   "execution_count": 167,
   "id": "a785a1b4",
   "metadata": {},
   "outputs": [],
   "source": [
    "# concat cell type fracs and mean embs dfs\n",
    "pbulk_embs['ct_fracs_means_scGPTfull'] = pbulk_embs['ct_props'].merge(psblk_per_celltype, right_index=True, left_index=True).fillna(0)"
   ]
  },
  {
   "cell_type": "markdown",
   "id": "a98e1631-62c8-489f-b2ef-a51160870854",
   "metadata": {},
   "source": [
    "#### cell type props + mean embedding based on scGPT+40PCs"
   ]
  },
  {
   "cell_type": "code",
   "execution_count": 169,
   "id": "8924d395",
   "metadata": {},
   "outputs": [],
   "source": [
    "#get mean embedding per cell type\n",
    "\n",
    "emb_name = 'scgpt'\n",
    "pca = sklearn.decomposition.PCA(n_components=40)\n",
    "scgpt_input_pca = pca.fit_transform(adata.obsm[emb_name])\n",
    "\n",
    "# get mean embedding per sample+cell_type\n",
    "pseudobulk_input = pd.DataFrame(scgpt_input_pca, index=adata.obs.index).merge(adata.obs[[sample_col,'cell_type']], right_index=True, left_index=True).groupby([sample_col,'cell_type']).mean()\n",
    "\n",
    "# change columns to more interpretable strs \n",
    "pseudobulk_input.columns = ['scgpt_'+str(c) for c in pseudobulk_input.columns]\n",
    "\n",
    "# reset index\n",
    "pseudobulk_input = pseudobulk_input.reset_index()\n",
    "\n",
    "# Pivot the dataframe - cell types that dont exist in a given sample - fill 0 for mean expression\n",
    "psblk_per_celltype = pseudobulk_input.pivot(index=sample_col, columns='cell_type').fillna(0)\n",
    "\n",
    "# Flatten the multi-level columns\n",
    "psblk_per_celltype.columns = ['_'.join(col).strip() for col in psblk_per_celltype.columns.values]"
   ]
  },
  {
   "cell_type": "code",
   "execution_count": 170,
   "id": "82e57852",
   "metadata": {},
   "outputs": [],
   "source": [
    "# concat cell type fracs and mean embs dfs\n",
    "pbulk_embs['ct_fracs_means_scGPT_40PCs'] = pbulk_embs['ct_props'].merge(psblk_per_celltype, right_index=True, left_index=True)"
   ]
  },
  {
   "cell_type": "markdown",
   "id": "773fb94d-d060-406b-9609-b518bdda2fa9",
   "metadata": {
    "jp-MarkdownHeadingCollapsed": true
   },
   "source": [
    "## define sample pool, target, X, splits for this task"
   ]
  },
  {
   "cell_type": "markdown",
   "id": "60a5e072-e65e-4f3a-8341-a92f075b9366",
   "metadata": {},
   "source": [
    "### define sample_pool for this target"
   ]
  },
  {
   "cell_type": "code",
   "execution_count": 94,
   "id": "15b909c7-cfb7-4b84-bef1-9a8b2e22a5a7",
   "metadata": {
    "tags": []
   },
   "outputs": [
    {
     "name": "stdout",
     "output_type": "stream",
     "text": [
      "this target has 1020 non-NA samples\n"
     ]
    }
   ],
   "source": [
    "target_col = 'tissue_general'\n",
    "\n",
    "#get sample IDs that are not NA for this target\n",
    "notNA_samples = adata.obs[[sample_col,target_col]].drop_duplicates()[sample_col][~adata.obs[[sample_col,target_col]].drop_duplicates()[target_col].isna()]\n",
    "print(\"this target has {} non-NA samples\".format(len(notNA_samples)))\n"
   ]
  },
  {
   "cell_type": "code",
   "execution_count": 95,
   "id": "fc6e3832",
   "metadata": {},
   "outputs": [
    {
     "name": "stdout",
     "output_type": "stream",
     "text": [
      "1020\n"
     ]
    }
   ],
   "source": [
    "sample_pool = np.array(notNA_samples)\n",
    "print(len(sample_pool))"
   ]
  },
  {
   "cell_type": "markdown",
   "id": "34acee17-55a3-4ab0-ac34-3ae4030d285d",
   "metadata": {},
   "source": [
    "### define target, and limit/order by sample_pool"
   ]
  },
  {
   "cell_type": "code",
   "execution_count": 96,
   "id": "eafdb5d4",
   "metadata": {},
   "outputs": [],
   "source": [
    "## Define targets\n",
    "targets = adata.obs.loc[:, [sample_col, target_col]].drop_duplicates().set_index(sample_col).loc[sample_pool,target_col]\n",
    "labels, targets_ind = np.unique(targets, return_inverse=True)\n",
    "targets = pd.Series(targets_ind, index=targets.index)"
   ]
  },
  {
   "cell_type": "code",
   "execution_count": 97,
   "id": "84955f90",
   "metadata": {},
   "outputs": [
    {
     "data": {
      "text/plain": [
       "array(['blood', 'brain', 'breast', 'lung', 'small intestine'],\n",
       "      dtype=object)"
      ]
     },
     "execution_count": 97,
     "metadata": {},
     "output_type": "execute_result"
    }
   ],
   "source": [
    "labels"
   ]
  },
  {
   "cell_type": "code",
   "execution_count": 98,
   "id": "aa4f97d1",
   "metadata": {
    "scrolled": true
   },
   "outputs": [
    {
     "data": {
      "text/plain": [
       "0    0.2\n",
       "4    0.2\n",
       "2    0.2\n",
       "3    0.2\n",
       "1    0.2\n",
       "Name: count, dtype: float64"
      ]
     },
     "execution_count": 98,
     "metadata": {},
     "output_type": "execute_result"
    }
   ],
   "source": [
    "targets.value_counts()/len(targets)"
   ]
  },
  {
   "cell_type": "markdown",
   "id": "1fb3dce8-b205-4d3d-ae1f-d299a91647f9",
   "metadata": {},
   "source": [
    "### splits for leave one (dataset) out cross validation"
   ]
  },
  {
   "cell_type": "code",
   "execution_count": 101,
   "id": "4117df40",
   "metadata": {},
   "outputs": [],
   "source": [
    "from sklearn.model_selection import GroupKFold\n",
    "group_kfold = GroupKFold(n_splits=10)\n",
    "groups = adata.obs.set_index(sample_col).loc[sample_pool, 'dataset_id'].reset_index().drop_duplicates()['dataset_id']\n",
    "splits = list(group_kfold.split(sample_pool, groups=groups)) #if don't convert to list, iterator is exhausted after one use\n"
   ]
  },
  {
   "cell_type": "code",
   "execution_count": 134,
   "id": "f3c9083e-f87a-41d5-96b1-4e2c86033171",
   "metadata": {
    "scrolled": true
   },
   "outputs": [
    {
     "name": "stdout",
     "output_type": "stream",
     "text": [
      "datasets reserved for test fold:  ['842c6f5d-4a94-4eef-8510-8c792d1124bc']\n",
      "targets in test fold:\n",
      " 2    126\n",
      "Name: count, dtype: int64\n",
      "n samples in train:  894\n",
      "n samples in test:  126\n",
      "\n",
      "\n",
      "datasets reserved for test fold:  ['56c4912d-2bae-4b64-98f2-af8a84389208']\n",
      "targets in test fold:\n",
      " 1    121\n",
      "Name: count, dtype: int64\n",
      "n samples in train:  899\n",
      "n samples in test:  121\n",
      "\n",
      "\n",
      "datasets reserved for test fold:  ['019c7af2-c827-4454-9970-44d5e39ce068', '1e6a6ef9-7ec9-4c90-bbfb-2ad3c3165fd1', '774c18c5-efa1-4dc5-9e5e-2c824bab2e34', '456e8b9b-f872-488b-871d-94534090a865']\n",
      "targets in test fold:\n",
      " 3    84\n",
      "1     9\n",
      "4     3\n",
      "0     1\n",
      "Name: count, dtype: int64\n",
      "n samples in train:  923\n",
      "n samples in test:  97\n",
      "\n",
      "\n",
      "datasets reserved for test fold:  ['7bb64315-9e5a-41b9-9235-59acf9642a3e', '248cf7bf-508b-4c28-a2fd-cabe2ab956aa', '0ba16f4b-cb87-4fa3-9363-19fc51eec6e7', '39ed7d98-676d-4b8d-9d0a-0f3b60914ead', '3faad104-2ab8-4434-816d-474d8d2641db', '2a498ace-872a-4935-984b-1afa70fd9886', 'de985818-285f-4f59-9dbd-d74968fddba3']\n",
      "targets in test fold:\n",
      " 0    82\n",
      "2     7\n",
      "1     4\n",
      "4     3\n",
      "3     1\n",
      "Name: count, dtype: int64\n",
      "n samples in train:  923\n",
      "n samples in test:  97\n",
      "\n",
      "\n",
      "datasets reserved for test fold:  ['9f222629-9e39-47d0-b83f-e08d610c7479', 'd41f45c1-1b7b-4573-a998-ac5c5acb1647', '80a2c5b6-02e7-4fc0-9f12-179f5247c1bc', '1b9d8702-5af8-4142-85ed-020eb06ec4f6', '2672b679-8048-4f5e-9786-f1b196ccfd08', '01ad3cd7-3929-4654-84c0-6db05bd5fd59', '21d3e683-80a4-4d9b-bc89-ebb2df513dde']\n",
      "targets in test fold:\n",
      " 3    74\n",
      "4    13\n",
      "0    10\n",
      "Name: count, dtype: int64\n",
      "n samples in train:  923\n",
      "n samples in test:  97\n",
      "\n",
      "\n",
      "datasets reserved for test fold:  ['6ceeaa86-9ceb-4582-b390-6d4dd6ff0572', '0ba636a1-4754-4786-a8be-7ab3cf760fd6', '3dc61ca1-ce40-46b6-8337-f27260fd9a03', 'b46237d1-19c6-4af2-9335-9854634bad16', 'ed5d841d-6346-47d4-ab2f-7119ad7e3a35', 'c2a461b1-0c15-4047-9fcb-1f966fe55100', 'fa8605cf-f27e-44af-ac2a-476bee4410d3', '9813a1d4-d107-459e-9b2e-7687be935f69']\n",
      "targets in test fold:\n",
      " 2    55\n",
      "4    22\n",
      "1     9\n",
      "3     7\n",
      "0     4\n",
      "Name: count, dtype: int64\n",
      "n samples in train:  923\n",
      "n samples in test:  97\n",
      "\n",
      "\n",
      "datasets reserved for test fold:  ['cf83c98a-3791-4537-bbde-a719f6d73c13', '9968be68-ab65-4a38-9e1a-c9b6abece194', 'fe4b89d5-461e-440c-a5a8-621b37b122c0', '5bc42b88-bb76-4954-927b-8bb7369adc64', 'f64e1be1-de15-4d27-8da4-82225cd4c035', 'a1b9c51e-a408-4f7f-bccb-abefe20ae2a5', '9dbab10c-118d-496b-966a-67f1763a6b7d', '85c60876-7f35-40c5-a256-7808d84c6ba5']\n",
      "targets in test fold:\n",
      " 4    53\n",
      "1    20\n",
      "0    13\n",
      "3    11\n",
      "Name: count, dtype: int64\n",
      "n samples in train:  923\n",
      "n samples in test:  97\n",
      "\n",
      "\n",
      "datasets reserved for test fold:  ['9a64bf99-ebe5-4276-93a8-bee9dff1cd47', '3f32121d-126b-4e8d-9f69-d86502d2a1b1', 'a37f857c-779f-464e-9310-3db43a1811e7', '3c75a463-6a87-4132-83a8-c3002624394d', '4b6af54a-4a21-46e0-bc8d-673c0561a836', '36c867a7-be10-4e69-9b39-5de12b0af6da', 'c7775e88-49bf-4ba2-a03b-93f00447c958', '2adb1f8a-a6b1-4909-8ee8-484814e2d4bf']\n",
      "targets in test fold:\n",
      " 4    68\n",
      "2    16\n",
      "0     6\n",
      "3     3\n",
      "1     3\n",
      "Name: count, dtype: int64\n",
      "n samples in train:  924\n",
      "n samples in test:  96\n",
      "\n",
      "\n",
      "datasets reserved for test fold:  ['bd65a70f-b274-4133-b9dd-0d1431b6af34', 'b0e547f0-462b-4f81-b31b-5b0a5d96f537', '0f4865d5-8000-4f68-8ac7-f5efea9e5e70', '2f132ec9-24b5-422f-9be0-ccef03b4fe28', 'ebc2e1ff-c8f9-466a-acf4-9d291afaf8b3', '53d208b0-2cfd-4366-9866-c3c6114081bc']\n",
      "targets in test fold:\n",
      " 0    58\n",
      "4    27\n",
      "3    11\n",
      "Name: count, dtype: int64\n",
      "n samples in train:  924\n",
      "n samples in test:  96\n",
      "\n",
      "\n",
      "datasets reserved for test fold:  ['1e5bd3b8-6a0e-4959-8d69-cafed30fe814', '8e47ed12-c658-4252-b126-381df8d52a3d', '576f193c-75d0-4a11-bd25-8676587e6dc2', 'ae4f8ddd-cac9-4172-9681-2175da462f2e', '218acb0f-9f2f-4f76-b90b-15a4b7c7f629', '9d5df009-eb76-43a3-b6cd-22017cc53700', '30cd5311-6c09-46c9-94f1-71fe4b91813c', '59b69042-47c2-47fd-ad03-d21beb99818f']\n",
      "targets in test fold:\n",
      " 1    38\n",
      "0    30\n",
      "4    15\n",
      "3    13\n",
      "Name: count, dtype: int64\n",
      "n samples in train:  924\n",
      "n samples in test:  96\n",
      "\n",
      "\n"
     ]
    }
   ],
   "source": [
    "for (train_index, test_index) in splits:\n",
    "    print(\"datasets reserved for test fold: \", list(adata.obs.set_index(sample_col).loc[sample_pool[test_index],'dataset_id'].drop_duplicates()))\n",
    "    print(\"targets in test fold:\\n\", targets.iloc[test_index].value_counts())\n",
    "    print(\"n samples in train: \", len(train_index))\n",
    "    print(\"n samples in test: \", len(test_index))\n",
    "    print(\"\\n\")"
   ]
  },
  {
   "cell_type": "markdown",
   "id": "965dfc4d-deb8-479f-af03-6073c00a5f48",
   "metadata": {},
   "source": [
    "### limit/order pseudobulk embeddings by sample_pool"
   ]
  },
  {
   "cell_type": "code",
   "execution_count": 171,
   "id": "13dbe9bc",
   "metadata": {},
   "outputs": [],
   "source": [
    "this_pbulk_embs = {}\n",
    "for emb in pbulk_embs:\n",
    "    this_pbulk_embs[emb] = pbulk_embs[emb].loc[sample_pool]"
   ]
  },
  {
   "cell_type": "markdown",
   "id": "15ec9501-5abf-444e-8bd9-bf3addf2836e",
   "metadata": {
    "jp-MarkdownHeadingCollapsed": true
   },
   "source": [
    "## calculate heuristic baseline performance on these splits\n",
    "\n",
    "not including majority class per study as a baseline, since we shouldn't have study based batch effects affecting performance using our GroupKFold!"
   ]
  },
  {
   "cell_type": "code",
   "execution_count": 139,
   "id": "c4936a70-483a-4bc9-93af-902225831198",
   "metadata": {},
   "outputs": [
    {
     "name": "stdout",
     "output_type": "stream",
     "text": [
      "baseline accuracy on K val sets:  [0, 0, 0, 0.010309278350515464, 0, 0.041237113402061855, 0, 0.03125, 0, 0]\n",
      "mean accuracy:  0.008279639175257732\n"
     ]
    }
   ],
   "source": [
    "val_majclass_bline_accs= []\n",
    "\n",
    "for (train_index, val_index) in splits:\n",
    "    #calculate baseline performance - majority class\n",
    "    majclass_bline_pred = targets.iloc[train_index].value_counts().index[targets.iloc[train_index].value_counts().argmax()]\n",
    "    if majclass_bline_pred not in targets.iloc[val_index].value_counts().index:\n",
    "        val_majclass_bline_accs.append(0)\n",
    "    else:\n",
    "        val_majclass_bline_accs.append(targets.iloc[val_index].value_counts()[majclass_bline_pred]/len(val_index))\n",
    "\n",
    "print(\"baseline accuracy on K val sets: \", val_majclass_bline_accs)\n",
    "print(\"mean accuracy: \", np.mean(val_majclass_bline_accs))"
   ]
  },
  {
   "cell_type": "markdown",
   "id": "00b6349e-cb0c-464c-95fa-2bcfba433e08",
   "metadata": {},
   "source": [
    "## Evaluate models using nested GroupKFold CV"
   ]
  },
  {
   "cell_type": "code",
   "execution_count": 140,
   "id": "f100bd64-5130-44ed-9cef-be8e2971752e",
   "metadata": {
    "scrolled": true
   },
   "outputs": [],
   "source": [
    "## train KNN w/ Kfold CV\n",
    "from sklearn.model_selection import GridSearchCV, cross_val_score\n",
    "\n",
    "def nested_kfold_eval(pseudobulk_input, targets, splits, model, param_grid):\n",
    "\n",
    "    # Inner CV for hyperparameter tuning\n",
    "    inner_cv = GridSearchCV(model, param_grid, cv=5)\n",
    "\n",
    "    # Nested CV\n",
    "    nested_score = cross_val_score(inner_cv, pseudobulk_input, targets, cv=group_kfold, groups=groups)\n",
    "    \n",
    "    print(\"Nested CV Score: \", nested_score.mean())\n",
    "    \n",
    "    return nested_score"
   ]
  },
  {
   "cell_type": "code",
   "execution_count": 176,
   "id": "936db901-2700-4a23-bbc1-990a7aa269de",
   "metadata": {},
   "outputs": [],
   "source": [
    "# set up a dict with models and hparams to test\n",
    "\n",
    "model_param_dict = {\n",
    "    'KNN': (KNeighborsClassifier(), {'n_neighbors':np.arange(10)+1}),\n",
    "    'random_forest': (RandomForestClassifier(), {'min_samples_leaf': [1,2,3,4,5,6,7,8,9,10,11,12,13,14,15,16,17,18,19,20]}),\n",
    "    #'l1_logistic_regression': (LogisticRegression(max_iter=500, solver='saga', penalty='l1'), {'C':[1e-5,1e-4,1e-3,1e-2,1e-1,1,10,100,1000,10000]}),\n",
    "    'l2_logistic_regression': (LogisticRegression(max_iter=500, penalty='l2'), {'C':[1e-5,1e-4,1e-3,1e-2,1e-1,1,10,100,1000,10000]})\n",
    "}\n"
   ]
  },
  {
   "cell_type": "code",
   "execution_count": 172,
   "id": "93792fe1-2174-494a-b72d-d9ad770ea6ea",
   "metadata": {
    "scrolled": true
   },
   "outputs": [
    {
     "name": "stdout",
     "output_type": "stream",
     "text": [
      "--------- KNN ----------\n",
      "embedding:  scgpt\n",
      "shape of embedding:  (1020, 512)\n",
      "Nested CV Score:  0.7245378583329614\n",
      "\n",
      "\n",
      "embedding:  scgpt_40PCs\n",
      "shape of embedding:  (1020, 40)\n",
      "Nested CV Score:  0.722549640365362\n",
      "\n",
      "\n",
      "embedding:  ct_props\n",
      "shape of embedding:  (1020, 302)\n",
      "Nested CV Score:  0.526896889297311\n",
      "\n",
      "\n",
      "embedding:  ct_fracs_means_scGPTfull\n",
      "shape of embedding:  (1020, 154926)\n",
      "Nested CV Score:  0.5527266954252662\n",
      "\n",
      "\n",
      "embedding:  ct_fracs_means_scGPT_40PCs\n",
      "shape of embedding:  (1020, 12382)\n",
      "Nested CV Score:  0.5033297055438574\n",
      "\n",
      "\n",
      "\n",
      "\n",
      "--------- random_forest ----------\n",
      "embedding:  scgpt\n",
      "shape of embedding:  (1020, 512)\n",
      "Nested CV Score:  0.6975554852312116\n",
      "\n",
      "\n",
      "embedding:  scgpt_40PCs\n",
      "shape of embedding:  (1020, 40)\n",
      "Nested CV Score:  0.6232797245449542\n",
      "\n",
      "\n",
      "embedding:  ct_props\n",
      "shape of embedding:  (1020, 302)\n",
      "Nested CV Score:  0.5780646664462269\n",
      "\n",
      "\n",
      "embedding:  ct_fracs_means_scGPTfull\n",
      "shape of embedding:  (1020, 154926)\n",
      "Nested CV Score:  0.623759341642425\n",
      "\n",
      "\n",
      "embedding:  ct_fracs_means_scGPT_40PCs\n",
      "shape of embedding:  (1020, 12382)\n",
      "Nested CV Score:  0.6802270512732087\n",
      "\n",
      "\n",
      "\n",
      "\n",
      "--------- l1_logistic_regression ----------\n",
      "embedding:  scgpt\n",
      "shape of embedding:  (1020, 512)\n"
     ]
    },
    {
     "ename": "ValueError",
     "evalue": "\nAll the 10 fits failed.\nIt is very likely that your model is misconfigured.\nYou can try to debug the error by setting error_score='raise'.\n\nBelow are more details about the failures:\n--------------------------------------------------------------------------------\n10 fits failed with the following error:\nTraceback (most recent call last):\n  File \"/opt/conda/rpeyser/envs/scgpt_4/lib/python3.10/site-packages/sklearn/model_selection/_validation.py\", line 888, in _fit_and_score\n    estimator.fit(X_train, y_train, **fit_params)\n  File \"/opt/conda/rpeyser/envs/scgpt_4/lib/python3.10/site-packages/sklearn/base.py\", line 1473, in wrapper\n    return fit_method(estimator, *args, **kwargs)\n  File \"/opt/conda/rpeyser/envs/scgpt_4/lib/python3.10/site-packages/sklearn/model_selection/_search.py\", line 968, in fit\n    self._run_search(evaluate_candidates)\n  File \"/opt/conda/rpeyser/envs/scgpt_4/lib/python3.10/site-packages/sklearn/model_selection/_search.py\", line 1543, in _run_search\n    evaluate_candidates(ParameterGrid(self.param_grid))\n  File \"/opt/conda/rpeyser/envs/scgpt_4/lib/python3.10/site-packages/sklearn/model_selection/_search.py\", line 945, in evaluate_candidates\n    _warn_or_raise_about_fit_failures(out, self.error_score)\n  File \"/opt/conda/rpeyser/envs/scgpt_4/lib/python3.10/site-packages/sklearn/model_selection/_validation.py\", line 529, in _warn_or_raise_about_fit_failures\n    raise ValueError(all_fits_failed_message)\nValueError: \nAll the 50 fits failed.\nIt is very likely that your model is misconfigured.\nYou can try to debug the error by setting error_score='raise'.\n\nBelow are more details about the failures:\n--------------------------------------------------------------------------------\n50 fits failed with the following error:\nTraceback (most recent call last):\n  File \"/opt/conda/rpeyser/envs/scgpt_4/lib/python3.10/site-packages/sklearn/model_selection/_validation.py\", line 888, in _fit_and_score\n    estimator.fit(X_train, y_train, **fit_params)\n  File \"/opt/conda/rpeyser/envs/scgpt_4/lib/python3.10/site-packages/sklearn/base.py\", line 1473, in wrapper\n    return fit_method(estimator, *args, **kwargs)\n  File \"/opt/conda/rpeyser/envs/scgpt_4/lib/python3.10/site-packages/sklearn/linear_model/_logistic.py\", line 1194, in fit\n    solver = _check_solver(self.solver, self.penalty, self.dual)\n  File \"/opt/conda/rpeyser/envs/scgpt_4/lib/python3.10/site-packages/sklearn/linear_model/_logistic.py\", line 67, in _check_solver\n    raise ValueError(\nValueError: Solver lbfgs supports only 'l2' or None penalties, got l1 penalty.\n\n",
     "output_type": "error",
     "traceback": [
      "\u001b[0;31m---------------------------------------------------------------------------\u001b[0m",
      "\u001b[0;31mValueError\u001b[0m                                Traceback (most recent call last)",
      "Cell \u001b[0;32mIn[172], line 8\u001b[0m\n\u001b[1;32m      6\u001b[0m     \u001b[38;5;28mprint\u001b[39m(\u001b[38;5;124m'\u001b[39m\u001b[38;5;124membedding: \u001b[39m\u001b[38;5;124m'\u001b[39m, emb)\n\u001b[1;32m      7\u001b[0m     \u001b[38;5;28mprint\u001b[39m(\u001b[38;5;124m'\u001b[39m\u001b[38;5;124mshape of embedding: \u001b[39m\u001b[38;5;124m'\u001b[39m, this_pbulk_embs[emb]\u001b[38;5;241m.\u001b[39mshape)\n\u001b[0;32m----> 8\u001b[0m     ds_results[model][emb] \u001b[38;5;241m=\u001b[39m \u001b[43mnested_kfold_eval\u001b[49m\u001b[43m(\u001b[49m\u001b[43mthis_pbulk_embs\u001b[49m\u001b[43m[\u001b[49m\u001b[43memb\u001b[49m\u001b[43m]\u001b[49m\u001b[43m,\u001b[49m\u001b[43m \u001b[49m\u001b[43mtargets\u001b[49m\u001b[43m,\u001b[49m\u001b[43m \u001b[49m\u001b[43msplits\u001b[49m\u001b[43m,\u001b[49m\u001b[43m \u001b[49m\u001b[43mmodel\u001b[49m\u001b[38;5;241;43m=\u001b[39;49m\u001b[43mmodel_param_dict\u001b[49m\u001b[43m[\u001b[49m\u001b[43mmodel\u001b[49m\u001b[43m]\u001b[49m\u001b[43m[\u001b[49m\u001b[38;5;241;43m0\u001b[39;49m\u001b[43m]\u001b[49m\u001b[43m,\u001b[49m\u001b[43m \u001b[49m\u001b[43mparam_grid\u001b[49m\u001b[43m \u001b[49m\u001b[38;5;241;43m=\u001b[39;49m\u001b[43m \u001b[49m\u001b[43mmodel_param_dict\u001b[49m\u001b[43m[\u001b[49m\u001b[43mmodel\u001b[49m\u001b[43m]\u001b[49m\u001b[43m[\u001b[49m\u001b[38;5;241;43m1\u001b[39;49m\u001b[43m]\u001b[49m\u001b[43m)\u001b[49m\n\u001b[1;32m      9\u001b[0m     \u001b[38;5;28mprint\u001b[39m(\u001b[38;5;124m\"\u001b[39m\u001b[38;5;130;01m\\n\u001b[39;00m\u001b[38;5;124m\"\u001b[39m)\n\u001b[1;32m     10\u001b[0m \u001b[38;5;28mprint\u001b[39m(\u001b[38;5;124m\"\u001b[39m\u001b[38;5;130;01m\\n\u001b[39;00m\u001b[38;5;124m\"\u001b[39m)\n",
      "Cell \u001b[0;32mIn[140], line 10\u001b[0m, in \u001b[0;36mnested_kfold_eval\u001b[0;34m(pseudobulk_input, targets, splits, model, param_grid)\u001b[0m\n\u001b[1;32m      7\u001b[0m inner_cv \u001b[38;5;241m=\u001b[39m GridSearchCV(model, param_grid, cv\u001b[38;5;241m=\u001b[39m\u001b[38;5;241m5\u001b[39m)\n\u001b[1;32m      9\u001b[0m \u001b[38;5;66;03m# Nested CV\u001b[39;00m\n\u001b[0;32m---> 10\u001b[0m nested_score \u001b[38;5;241m=\u001b[39m \u001b[43mcross_val_score\u001b[49m\u001b[43m(\u001b[49m\u001b[43minner_cv\u001b[49m\u001b[43m,\u001b[49m\u001b[43m \u001b[49m\u001b[43mpseudobulk_input\u001b[49m\u001b[43m,\u001b[49m\u001b[43m \u001b[49m\u001b[43mtargets\u001b[49m\u001b[43m,\u001b[49m\u001b[43m \u001b[49m\u001b[43mcv\u001b[49m\u001b[38;5;241;43m=\u001b[39;49m\u001b[43mgroup_kfold\u001b[49m\u001b[43m,\u001b[49m\u001b[43m \u001b[49m\u001b[43mgroups\u001b[49m\u001b[38;5;241;43m=\u001b[39;49m\u001b[43mgroups\u001b[49m\u001b[43m)\u001b[49m\n\u001b[1;32m     12\u001b[0m \u001b[38;5;28mprint\u001b[39m(\u001b[38;5;124m\"\u001b[39m\u001b[38;5;124mNested CV Score: \u001b[39m\u001b[38;5;124m\"\u001b[39m, nested_score\u001b[38;5;241m.\u001b[39mmean())\n\u001b[1;32m     14\u001b[0m \u001b[38;5;28;01mreturn\u001b[39;00m nested_score\n",
      "File \u001b[0;32m/opt/conda/rpeyser/envs/scgpt_4/lib/python3.10/site-packages/sklearn/utils/_param_validation.py:213\u001b[0m, in \u001b[0;36mvalidate_params.<locals>.decorator.<locals>.wrapper\u001b[0;34m(*args, **kwargs)\u001b[0m\n\u001b[1;32m    207\u001b[0m \u001b[38;5;28;01mtry\u001b[39;00m:\n\u001b[1;32m    208\u001b[0m     \u001b[38;5;28;01mwith\u001b[39;00m config_context(\n\u001b[1;32m    209\u001b[0m         skip_parameter_validation\u001b[38;5;241m=\u001b[39m(\n\u001b[1;32m    210\u001b[0m             prefer_skip_nested_validation \u001b[38;5;129;01mor\u001b[39;00m global_skip_validation\n\u001b[1;32m    211\u001b[0m         )\n\u001b[1;32m    212\u001b[0m     ):\n\u001b[0;32m--> 213\u001b[0m         \u001b[38;5;28;01mreturn\u001b[39;00m \u001b[43mfunc\u001b[49m\u001b[43m(\u001b[49m\u001b[38;5;241;43m*\u001b[39;49m\u001b[43margs\u001b[49m\u001b[43m,\u001b[49m\u001b[43m \u001b[49m\u001b[38;5;241;43m*\u001b[39;49m\u001b[38;5;241;43m*\u001b[39;49m\u001b[43mkwargs\u001b[49m\u001b[43m)\u001b[49m\n\u001b[1;32m    214\u001b[0m \u001b[38;5;28;01mexcept\u001b[39;00m InvalidParameterError \u001b[38;5;28;01mas\u001b[39;00m e:\n\u001b[1;32m    215\u001b[0m     \u001b[38;5;66;03m# When the function is just a wrapper around an estimator, we allow\u001b[39;00m\n\u001b[1;32m    216\u001b[0m     \u001b[38;5;66;03m# the function to delegate validation to the estimator, but we replace\u001b[39;00m\n\u001b[1;32m    217\u001b[0m     \u001b[38;5;66;03m# the name of the estimator by the name of the function in the error\u001b[39;00m\n\u001b[1;32m    218\u001b[0m     \u001b[38;5;66;03m# message to avoid confusion.\u001b[39;00m\n\u001b[1;32m    219\u001b[0m     msg \u001b[38;5;241m=\u001b[39m re\u001b[38;5;241m.\u001b[39msub(\n\u001b[1;32m    220\u001b[0m         \u001b[38;5;124mr\u001b[39m\u001b[38;5;124m\"\u001b[39m\u001b[38;5;124mparameter of \u001b[39m\u001b[38;5;124m\\\u001b[39m\u001b[38;5;124mw+ must be\u001b[39m\u001b[38;5;124m\"\u001b[39m,\n\u001b[1;32m    221\u001b[0m         \u001b[38;5;124mf\u001b[39m\u001b[38;5;124m\"\u001b[39m\u001b[38;5;124mparameter of \u001b[39m\u001b[38;5;132;01m{\u001b[39;00mfunc\u001b[38;5;241m.\u001b[39m\u001b[38;5;18m__qualname__\u001b[39m\u001b[38;5;132;01m}\u001b[39;00m\u001b[38;5;124m must be\u001b[39m\u001b[38;5;124m\"\u001b[39m,\n\u001b[1;32m    222\u001b[0m         \u001b[38;5;28mstr\u001b[39m(e),\n\u001b[1;32m    223\u001b[0m     )\n",
      "File \u001b[0;32m/opt/conda/rpeyser/envs/scgpt_4/lib/python3.10/site-packages/sklearn/model_selection/_validation.py:712\u001b[0m, in \u001b[0;36mcross_val_score\u001b[0;34m(estimator, X, y, groups, scoring, cv, n_jobs, verbose, fit_params, params, pre_dispatch, error_score)\u001b[0m\n\u001b[1;32m    709\u001b[0m \u001b[38;5;66;03m# To ensure multimetric format is not supported\u001b[39;00m\n\u001b[1;32m    710\u001b[0m scorer \u001b[38;5;241m=\u001b[39m check_scoring(estimator, scoring\u001b[38;5;241m=\u001b[39mscoring)\n\u001b[0;32m--> 712\u001b[0m cv_results \u001b[38;5;241m=\u001b[39m \u001b[43mcross_validate\u001b[49m\u001b[43m(\u001b[49m\n\u001b[1;32m    713\u001b[0m \u001b[43m    \u001b[49m\u001b[43mestimator\u001b[49m\u001b[38;5;241;43m=\u001b[39;49m\u001b[43mestimator\u001b[49m\u001b[43m,\u001b[49m\n\u001b[1;32m    714\u001b[0m \u001b[43m    \u001b[49m\u001b[43mX\u001b[49m\u001b[38;5;241;43m=\u001b[39;49m\u001b[43mX\u001b[49m\u001b[43m,\u001b[49m\n\u001b[1;32m    715\u001b[0m \u001b[43m    \u001b[49m\u001b[43my\u001b[49m\u001b[38;5;241;43m=\u001b[39;49m\u001b[43my\u001b[49m\u001b[43m,\u001b[49m\n\u001b[1;32m    716\u001b[0m \u001b[43m    \u001b[49m\u001b[43mgroups\u001b[49m\u001b[38;5;241;43m=\u001b[39;49m\u001b[43mgroups\u001b[49m\u001b[43m,\u001b[49m\n\u001b[1;32m    717\u001b[0m \u001b[43m    \u001b[49m\u001b[43mscoring\u001b[49m\u001b[38;5;241;43m=\u001b[39;49m\u001b[43m{\u001b[49m\u001b[38;5;124;43m\"\u001b[39;49m\u001b[38;5;124;43mscore\u001b[39;49m\u001b[38;5;124;43m\"\u001b[39;49m\u001b[43m:\u001b[49m\u001b[43m \u001b[49m\u001b[43mscorer\u001b[49m\u001b[43m}\u001b[49m\u001b[43m,\u001b[49m\n\u001b[1;32m    718\u001b[0m \u001b[43m    \u001b[49m\u001b[43mcv\u001b[49m\u001b[38;5;241;43m=\u001b[39;49m\u001b[43mcv\u001b[49m\u001b[43m,\u001b[49m\n\u001b[1;32m    719\u001b[0m \u001b[43m    \u001b[49m\u001b[43mn_jobs\u001b[49m\u001b[38;5;241;43m=\u001b[39;49m\u001b[43mn_jobs\u001b[49m\u001b[43m,\u001b[49m\n\u001b[1;32m    720\u001b[0m \u001b[43m    \u001b[49m\u001b[43mverbose\u001b[49m\u001b[38;5;241;43m=\u001b[39;49m\u001b[43mverbose\u001b[49m\u001b[43m,\u001b[49m\n\u001b[1;32m    721\u001b[0m \u001b[43m    \u001b[49m\u001b[43mfit_params\u001b[49m\u001b[38;5;241;43m=\u001b[39;49m\u001b[43mfit_params\u001b[49m\u001b[43m,\u001b[49m\n\u001b[1;32m    722\u001b[0m \u001b[43m    \u001b[49m\u001b[43mparams\u001b[49m\u001b[38;5;241;43m=\u001b[39;49m\u001b[43mparams\u001b[49m\u001b[43m,\u001b[49m\n\u001b[1;32m    723\u001b[0m \u001b[43m    \u001b[49m\u001b[43mpre_dispatch\u001b[49m\u001b[38;5;241;43m=\u001b[39;49m\u001b[43mpre_dispatch\u001b[49m\u001b[43m,\u001b[49m\n\u001b[1;32m    724\u001b[0m \u001b[43m    \u001b[49m\u001b[43merror_score\u001b[49m\u001b[38;5;241;43m=\u001b[39;49m\u001b[43merror_score\u001b[49m\u001b[43m,\u001b[49m\n\u001b[1;32m    725\u001b[0m \u001b[43m\u001b[49m\u001b[43m)\u001b[49m\n\u001b[1;32m    726\u001b[0m \u001b[38;5;28;01mreturn\u001b[39;00m cv_results[\u001b[38;5;124m\"\u001b[39m\u001b[38;5;124mtest_score\u001b[39m\u001b[38;5;124m\"\u001b[39m]\n",
      "File \u001b[0;32m/opt/conda/rpeyser/envs/scgpt_4/lib/python3.10/site-packages/sklearn/utils/_param_validation.py:213\u001b[0m, in \u001b[0;36mvalidate_params.<locals>.decorator.<locals>.wrapper\u001b[0;34m(*args, **kwargs)\u001b[0m\n\u001b[1;32m    207\u001b[0m \u001b[38;5;28;01mtry\u001b[39;00m:\n\u001b[1;32m    208\u001b[0m     \u001b[38;5;28;01mwith\u001b[39;00m config_context(\n\u001b[1;32m    209\u001b[0m         skip_parameter_validation\u001b[38;5;241m=\u001b[39m(\n\u001b[1;32m    210\u001b[0m             prefer_skip_nested_validation \u001b[38;5;129;01mor\u001b[39;00m global_skip_validation\n\u001b[1;32m    211\u001b[0m         )\n\u001b[1;32m    212\u001b[0m     ):\n\u001b[0;32m--> 213\u001b[0m         \u001b[38;5;28;01mreturn\u001b[39;00m \u001b[43mfunc\u001b[49m\u001b[43m(\u001b[49m\u001b[38;5;241;43m*\u001b[39;49m\u001b[43margs\u001b[49m\u001b[43m,\u001b[49m\u001b[43m \u001b[49m\u001b[38;5;241;43m*\u001b[39;49m\u001b[38;5;241;43m*\u001b[39;49m\u001b[43mkwargs\u001b[49m\u001b[43m)\u001b[49m\n\u001b[1;32m    214\u001b[0m \u001b[38;5;28;01mexcept\u001b[39;00m InvalidParameterError \u001b[38;5;28;01mas\u001b[39;00m e:\n\u001b[1;32m    215\u001b[0m     \u001b[38;5;66;03m# When the function is just a wrapper around an estimator, we allow\u001b[39;00m\n\u001b[1;32m    216\u001b[0m     \u001b[38;5;66;03m# the function to delegate validation to the estimator, but we replace\u001b[39;00m\n\u001b[1;32m    217\u001b[0m     \u001b[38;5;66;03m# the name of the estimator by the name of the function in the error\u001b[39;00m\n\u001b[1;32m    218\u001b[0m     \u001b[38;5;66;03m# message to avoid confusion.\u001b[39;00m\n\u001b[1;32m    219\u001b[0m     msg \u001b[38;5;241m=\u001b[39m re\u001b[38;5;241m.\u001b[39msub(\n\u001b[1;32m    220\u001b[0m         \u001b[38;5;124mr\u001b[39m\u001b[38;5;124m\"\u001b[39m\u001b[38;5;124mparameter of \u001b[39m\u001b[38;5;124m\\\u001b[39m\u001b[38;5;124mw+ must be\u001b[39m\u001b[38;5;124m\"\u001b[39m,\n\u001b[1;32m    221\u001b[0m         \u001b[38;5;124mf\u001b[39m\u001b[38;5;124m\"\u001b[39m\u001b[38;5;124mparameter of \u001b[39m\u001b[38;5;132;01m{\u001b[39;00mfunc\u001b[38;5;241m.\u001b[39m\u001b[38;5;18m__qualname__\u001b[39m\u001b[38;5;132;01m}\u001b[39;00m\u001b[38;5;124m must be\u001b[39m\u001b[38;5;124m\"\u001b[39m,\n\u001b[1;32m    222\u001b[0m         \u001b[38;5;28mstr\u001b[39m(e),\n\u001b[1;32m    223\u001b[0m     )\n",
      "File \u001b[0;32m/opt/conda/rpeyser/envs/scgpt_4/lib/python3.10/site-packages/sklearn/model_selection/_validation.py:443\u001b[0m, in \u001b[0;36mcross_validate\u001b[0;34m(estimator, X, y, groups, scoring, cv, n_jobs, verbose, fit_params, params, pre_dispatch, return_train_score, return_estimator, return_indices, error_score)\u001b[0m\n\u001b[1;32m    422\u001b[0m parallel \u001b[38;5;241m=\u001b[39m Parallel(n_jobs\u001b[38;5;241m=\u001b[39mn_jobs, verbose\u001b[38;5;241m=\u001b[39mverbose, pre_dispatch\u001b[38;5;241m=\u001b[39mpre_dispatch)\n\u001b[1;32m    423\u001b[0m results \u001b[38;5;241m=\u001b[39m parallel(\n\u001b[1;32m    424\u001b[0m     delayed(_fit_and_score)(\n\u001b[1;32m    425\u001b[0m         clone(estimator),\n\u001b[0;32m   (...)\u001b[0m\n\u001b[1;32m    440\u001b[0m     \u001b[38;5;28;01mfor\u001b[39;00m train, test \u001b[38;5;129;01min\u001b[39;00m indices\n\u001b[1;32m    441\u001b[0m )\n\u001b[0;32m--> 443\u001b[0m \u001b[43m_warn_or_raise_about_fit_failures\u001b[49m\u001b[43m(\u001b[49m\u001b[43mresults\u001b[49m\u001b[43m,\u001b[49m\u001b[43m \u001b[49m\u001b[43merror_score\u001b[49m\u001b[43m)\u001b[49m\n\u001b[1;32m    445\u001b[0m \u001b[38;5;66;03m# For callable scoring, the return type is only know after calling. If the\u001b[39;00m\n\u001b[1;32m    446\u001b[0m \u001b[38;5;66;03m# return type is a dictionary, the error scores can now be inserted with\u001b[39;00m\n\u001b[1;32m    447\u001b[0m \u001b[38;5;66;03m# the correct key.\u001b[39;00m\n\u001b[1;32m    448\u001b[0m \u001b[38;5;28;01mif\u001b[39;00m \u001b[38;5;28mcallable\u001b[39m(scoring):\n",
      "File \u001b[0;32m/opt/conda/rpeyser/envs/scgpt_4/lib/python3.10/site-packages/sklearn/model_selection/_validation.py:529\u001b[0m, in \u001b[0;36m_warn_or_raise_about_fit_failures\u001b[0;34m(results, error_score)\u001b[0m\n\u001b[1;32m    522\u001b[0m \u001b[38;5;28;01mif\u001b[39;00m num_failed_fits \u001b[38;5;241m==\u001b[39m num_fits:\n\u001b[1;32m    523\u001b[0m     all_fits_failed_message \u001b[38;5;241m=\u001b[39m (\n\u001b[1;32m    524\u001b[0m         \u001b[38;5;124mf\u001b[39m\u001b[38;5;124m\"\u001b[39m\u001b[38;5;130;01m\\n\u001b[39;00m\u001b[38;5;124mAll the \u001b[39m\u001b[38;5;132;01m{\u001b[39;00mnum_fits\u001b[38;5;132;01m}\u001b[39;00m\u001b[38;5;124m fits failed.\u001b[39m\u001b[38;5;130;01m\\n\u001b[39;00m\u001b[38;5;124m\"\u001b[39m\n\u001b[1;32m    525\u001b[0m         \u001b[38;5;124m\"\u001b[39m\u001b[38;5;124mIt is very likely that your model is misconfigured.\u001b[39m\u001b[38;5;130;01m\\n\u001b[39;00m\u001b[38;5;124m\"\u001b[39m\n\u001b[1;32m    526\u001b[0m         \u001b[38;5;124m\"\u001b[39m\u001b[38;5;124mYou can try to debug the error by setting error_score=\u001b[39m\u001b[38;5;124m'\u001b[39m\u001b[38;5;124mraise\u001b[39m\u001b[38;5;124m'\u001b[39m\u001b[38;5;124m.\u001b[39m\u001b[38;5;130;01m\\n\u001b[39;00m\u001b[38;5;130;01m\\n\u001b[39;00m\u001b[38;5;124m\"\u001b[39m\n\u001b[1;32m    527\u001b[0m         \u001b[38;5;124mf\u001b[39m\u001b[38;5;124m\"\u001b[39m\u001b[38;5;124mBelow are more details about the failures:\u001b[39m\u001b[38;5;130;01m\\n\u001b[39;00m\u001b[38;5;132;01m{\u001b[39;00mfit_errors_summary\u001b[38;5;132;01m}\u001b[39;00m\u001b[38;5;124m\"\u001b[39m\n\u001b[1;32m    528\u001b[0m     )\n\u001b[0;32m--> 529\u001b[0m     \u001b[38;5;28;01mraise\u001b[39;00m \u001b[38;5;167;01mValueError\u001b[39;00m(all_fits_failed_message)\n\u001b[1;32m    531\u001b[0m \u001b[38;5;28;01melse\u001b[39;00m:\n\u001b[1;32m    532\u001b[0m     some_fits_failed_message \u001b[38;5;241m=\u001b[39m (\n\u001b[1;32m    533\u001b[0m         \u001b[38;5;124mf\u001b[39m\u001b[38;5;124m\"\u001b[39m\u001b[38;5;130;01m\\n\u001b[39;00m\u001b[38;5;132;01m{\u001b[39;00mnum_failed_fits\u001b[38;5;132;01m}\u001b[39;00m\u001b[38;5;124m fits failed out of a total of \u001b[39m\u001b[38;5;132;01m{\u001b[39;00mnum_fits\u001b[38;5;132;01m}\u001b[39;00m\u001b[38;5;124m.\u001b[39m\u001b[38;5;130;01m\\n\u001b[39;00m\u001b[38;5;124m\"\u001b[39m\n\u001b[1;32m    534\u001b[0m         \u001b[38;5;124m\"\u001b[39m\u001b[38;5;124mThe score on these train-test partitions for these parameters\u001b[39m\u001b[38;5;124m\"\u001b[39m\n\u001b[0;32m   (...)\u001b[0m\n\u001b[1;32m    538\u001b[0m         \u001b[38;5;124mf\u001b[39m\u001b[38;5;124m\"\u001b[39m\u001b[38;5;124mBelow are more details about the failures:\u001b[39m\u001b[38;5;130;01m\\n\u001b[39;00m\u001b[38;5;132;01m{\u001b[39;00mfit_errors_summary\u001b[38;5;132;01m}\u001b[39;00m\u001b[38;5;124m\"\u001b[39m\n\u001b[1;32m    539\u001b[0m     )\n",
      "\u001b[0;31mValueError\u001b[0m: \nAll the 10 fits failed.\nIt is very likely that your model is misconfigured.\nYou can try to debug the error by setting error_score='raise'.\n\nBelow are more details about the failures:\n--------------------------------------------------------------------------------\n10 fits failed with the following error:\nTraceback (most recent call last):\n  File \"/opt/conda/rpeyser/envs/scgpt_4/lib/python3.10/site-packages/sklearn/model_selection/_validation.py\", line 888, in _fit_and_score\n    estimator.fit(X_train, y_train, **fit_params)\n  File \"/opt/conda/rpeyser/envs/scgpt_4/lib/python3.10/site-packages/sklearn/base.py\", line 1473, in wrapper\n    return fit_method(estimator, *args, **kwargs)\n  File \"/opt/conda/rpeyser/envs/scgpt_4/lib/python3.10/site-packages/sklearn/model_selection/_search.py\", line 968, in fit\n    self._run_search(evaluate_candidates)\n  File \"/opt/conda/rpeyser/envs/scgpt_4/lib/python3.10/site-packages/sklearn/model_selection/_search.py\", line 1543, in _run_search\n    evaluate_candidates(ParameterGrid(self.param_grid))\n  File \"/opt/conda/rpeyser/envs/scgpt_4/lib/python3.10/site-packages/sklearn/model_selection/_search.py\", line 945, in evaluate_candidates\n    _warn_or_raise_about_fit_failures(out, self.error_score)\n  File \"/opt/conda/rpeyser/envs/scgpt_4/lib/python3.10/site-packages/sklearn/model_selection/_validation.py\", line 529, in _warn_or_raise_about_fit_failures\n    raise ValueError(all_fits_failed_message)\nValueError: \nAll the 50 fits failed.\nIt is very likely that your model is misconfigured.\nYou can try to debug the error by setting error_score='raise'.\n\nBelow are more details about the failures:\n--------------------------------------------------------------------------------\n50 fits failed with the following error:\nTraceback (most recent call last):\n  File \"/opt/conda/rpeyser/envs/scgpt_4/lib/python3.10/site-packages/sklearn/model_selection/_validation.py\", line 888, in _fit_and_score\n    estimator.fit(X_train, y_train, **fit_params)\n  File \"/opt/conda/rpeyser/envs/scgpt_4/lib/python3.10/site-packages/sklearn/base.py\", line 1473, in wrapper\n    return fit_method(estimator, *args, **kwargs)\n  File \"/opt/conda/rpeyser/envs/scgpt_4/lib/python3.10/site-packages/sklearn/linear_model/_logistic.py\", line 1194, in fit\n    solver = _check_solver(self.solver, self.penalty, self.dual)\n  File \"/opt/conda/rpeyser/envs/scgpt_4/lib/python3.10/site-packages/sklearn/linear_model/_logistic.py\", line 67, in _check_solver\n    raise ValueError(\nValueError: Solver lbfgs supports only 'l2' or None penalties, got l1 penalty.\n\n"
     ]
    }
   ],
   "source": [
    "ds_results = {}\n",
    "for model in model_param_dict:\n",
    "    print(\"--------- {} ----------\".format(model))\n",
    "    ds_results[model] = {}\n",
    "    for emb in this_pbulk_embs:\n",
    "        print('embedding: ', emb)\n",
    "        print('shape of embedding: ', this_pbulk_embs[emb].shape)\n",
    "        ds_results[model][emb] = nested_kfold_eval(this_pbulk_embs[emb], targets, splits, model=model_param_dict[model][0], param_grid = model_param_dict[model][1])\n",
    "        print(\"\\n\")\n",
    "    print(\"\\n\")"
   ]
  },
  {
   "cell_type": "code",
   "execution_count": 177,
   "id": "0a739970-69a3-45b8-bb52-edcc4a02fbc8",
   "metadata": {},
   "outputs": [
    {
     "name": "stdout",
     "output_type": "stream",
     "text": [
      "--------- l2_logistic_regression ----------\n",
      "embedding:  scgpt\n",
      "shape of embedding:  (1020, 512)\n",
      "Nested CV Score:  0.8886254050411736\n",
      "\n",
      "\n",
      "embedding:  scgpt_40PCs\n",
      "shape of embedding:  (1020, 40)\n",
      "Nested CV Score:  0.8545562060557375\n",
      "\n",
      "\n",
      "embedding:  ct_props\n",
      "shape of embedding:  (1020, 302)\n",
      "Nested CV Score:  0.5994205257150431\n",
      "\n",
      "\n",
      "embedding:  ct_fracs_means_scGPTfull\n",
      "shape of embedding:  (1020, 154926)\n",
      "Nested CV Score:  0.6705729768903387\n",
      "\n",
      "\n",
      "embedding:  ct_fracs_means_scGPT_40PCs\n",
      "shape of embedding:  (1020, 12382)\n",
      "Nested CV Score:  0.6776627273200609\n",
      "\n",
      "\n",
      "\n",
      "\n"
     ]
    }
   ],
   "source": [
    "for model in ['l2_logistic_regression']:\n",
    "    print(\"--------- {} ----------\".format(model))\n",
    "    ds_results[model] = {}\n",
    "    for emb in this_pbulk_embs:\n",
    "        print('embedding: ', emb)\n",
    "        print('shape of embedding: ', this_pbulk_embs[emb].shape)\n",
    "        ds_results[model][emb] = nested_kfold_eval(this_pbulk_embs[emb], targets, splits, model=model_param_dict[model][0], param_grid = model_param_dict[model][1])\n",
    "        print(\"\\n\")\n",
    "    print(\"\\n\")"
   ]
  },
  {
   "cell_type": "code",
   "execution_count": 180,
   "id": "c2536031-d524-4d98-83a4-1fc8ba5d9902",
   "metadata": {},
   "outputs": [
    {
     "data": {
      "text/plain": [
       "{'KNN': {'scgpt': array([0.73015873, 0.45454545, 0.60824742, 0.97938144, 0.69072165,\n",
       "         0.94845361, 0.94845361, 0.33333333, 0.70833333, 0.84375   ]),\n",
       "  'scgpt_40PCs': array([0.65873016, 0.45454545, 0.64948454, 0.96907216, 0.72164948,\n",
       "         0.93814433, 0.94845361, 0.34375   , 0.71875   , 0.82291667]),\n",
       "  'ct_props': array([0.08730159, 0.46280992, 0.35051546, 0.88659794, 0.39175258,\n",
       "         0.58762887, 0.77319588, 0.38541667, 0.70833333, 0.63541667]),\n",
       "  'ct_fracs_means_scGPTfull': array([0.13492063, 0.69421488, 0.81443299, 0.89690722, 0.54639175,\n",
       "         0.4742268 , 0.24742268, 0.16666667, 0.57291667, 0.97916667]),\n",
       "  'ct_fracs_means_scGPT_40PCs': array([0.32539683, 0.20661157, 0.41237113, 0.96907216, 0.44329897,\n",
       "         0.53608247, 0.51546392, 0.1875    , 0.84375   , 0.59375   ])},\n",
       " 'random_forest': {'scgpt': array([0.53968254, 0.23140496, 0.74226804, 0.92783505, 0.80412371,\n",
       "         0.95876289, 0.93814433, 0.30208333, 0.71875   , 0.8125    ]),\n",
       "  'scgpt_40PCs': array([0.07936508, 0.24793388, 0.73195876, 0.91752577, 0.79381443,\n",
       "         0.70103093, 0.92783505, 0.41666667, 0.8125    , 0.60416667]),\n",
       "  'ct_props': array([0.1031746 , 0.87603306, 0.77319588, 0.97938144, 0.63917526,\n",
       "         0.41237113, 0.25773196, 0.09375   , 0.94791667, 0.69791667]),\n",
       "  'ct_fracs_means_scGPTfull': array([0.71428571, 0.99173554, 0.80412371, 0.95876289, 0.51546392,\n",
       "         0.40206186, 0.28865979, 0.28125   , 0.77083333, 0.51041667]),\n",
       "  'ct_fracs_means_scGPT_40PCs': array([0.1984127 , 0.97520661, 0.78350515, 1.        , 0.58762887,\n",
       "         0.4742268 , 0.80412371, 0.20833333, 0.96875   , 0.80208333])},\n",
       " 'l2_logistic_regression': {'scgpt': array([0.82539683, 0.85950413, 0.83505155, 0.97938144, 0.91752577,\n",
       "         0.98969072, 0.94845361, 0.84375   , 0.78125   , 0.90625   ]),\n",
       "  'scgpt_40PCs': array([0.78571429, 0.85950413, 0.84536082, 0.92783505, 0.88659794,\n",
       "         0.96907216, 0.93814433, 0.69791667, 0.77083333, 0.86458333]),\n",
       "  'ct_props': array([0.07936508, 0.80165289, 0.6185567 , 0.94845361, 0.3814433 ,\n",
       "         0.3814433 , 0.80412371, 0.35416667, 0.75      , 0.875     ]),\n",
       "  'ct_fracs_means_scGPTfull': array([0.02380952, 0.99173554, 0.8556701 , 0.97938144, 0.63917526,\n",
       "         0.44329897, 0.82474227, 0.17708333, 0.97916667, 0.79166667]),\n",
       "  'ct_fracs_means_scGPT_40PCs': array([0.05555556, 0.87603306, 0.82474227, 0.94845361, 0.73195876,\n",
       "         0.44329897, 0.92783505, 0.22916667, 0.98958333, 0.75      ])}}"
      ]
     },
     "execution_count": 180,
     "metadata": {},
     "output_type": "execute_result"
    }
   ],
   "source": [
    "ds_results"
   ]
  },
  {
   "cell_type": "code",
   "execution_count": 277,
   "id": "f0e00a77-fb74-459c-a710-8166eb8a3112",
   "metadata": {},
   "outputs": [
    {
     "data": {
      "image/png": "[encoded data removed]",
      "text/plain": [
       "<Figure size 1000x300 with 1 Axes>"
      ]
     },
     "metadata": {},
     "output_type": "display_data"
    }
   ],
   "source": [
    "import seaborn as sns\n",
    "import matplotlib.pyplot as plt\n",
    "\n",
    "# Adjust the figure size\n",
    "plt.figure(figsize=(10, 3))  # Width = 12, Height = 6 (you can change these values as needed)\n",
    "\n",
    "# Create the stripplot\n",
    "sns.stripplot(\n",
    "    data=pd.DataFrame(ds_results['KNN']).reset_index().rename(columns={\"index\": \"fold\"}).melt(id_vars=\"fold\"),\n",
    "    x=\"fold\",\n",
    "    y=\"value\",\n",
    "    hue=\"variable\"\n",
    ")\n",
    "\n",
    "# Move the legend to the right side outside the plot\n",
    "plt.legend(bbox_to_anchor=(1.02, 1), loc='upper left')\n",
    "plt.ylabel(\"accuracy\")\n",
    "plt.title(\"Cross Validation Results using KNN\")\n",
    "\n",
    "# Show the plot\n",
    "plt.show()"
   ]
  },
  {
   "cell_type": "code",
   "execution_count": 278,
   "id": "e6d302cf-48d7-4f86-824f-9871989865a9",
   "metadata": {},
   "outputs": [
    {
     "data": {
      "image/png": "[encoded data removed]",
      "text/plain": [
       "<Figure size 1000x300 with 1 Axes>"
      ]
     },
     "metadata": {},
     "output_type": "display_data"
    }
   ],
   "source": [
    "import seaborn as sns\n",
    "import matplotlib.pyplot as plt\n",
    "\n",
    "# Adjust the figure size\n",
    "plt.figure(figsize=(10, 3))  # Width = 12, Height = 6 (you can change these values as needed)\n",
    "\n",
    "# Create the stripplot\n",
    "sns.stripplot(\n",
    "    data=pd.DataFrame(ds_results['random_forest']).reset_index().rename(columns={\"index\": \"fold\"}).melt(id_vars=\"fold\"),\n",
    "    x=\"fold\",\n",
    "    y=\"value\",\n",
    "    hue=\"variable\"\n",
    ")\n",
    "\n",
    "# Move the legend to the right side outside the plot\n",
    "plt.legend(bbox_to_anchor=(1.02, 1), loc='upper left')\n",
    "plt.ylabel(\"accuracy\")\n",
    "plt.title(\"Cross Validation Results using Random Forest\")\n",
    "\n",
    "# Show the plot\n",
    "plt.show()"
   ]
  },
  {
   "cell_type": "code",
   "execution_count": 279,
   "id": "edf6fd22-3d5d-453f-8fe3-45a63928c16b",
   "metadata": {},
   "outputs": [
    {
     "data": {
      "image/png": "[encoded data removed]",
      "text/plain": [
       "<Figure size 1000x300 with 1 Axes>"
      ]
     },
     "metadata": {},
     "output_type": "display_data"
    }
   ],
   "source": [
    "import seaborn as sns\n",
    "import matplotlib.pyplot as plt\n",
    "\n",
    "# Adjust the figure size\n",
    "plt.figure(figsize=(10, 3))  # Width = 12, Height = 6 (you can change these values as needed)\n",
    "\n",
    "# Create the stripplot\n",
    "sns.stripplot(\n",
    "    data=pd.DataFrame(ds_results['l2_logistic_regression']).reset_index().rename(columns={\"index\": \"fold\"}).melt(id_vars=\"fold\"),\n",
    "    x=\"fold\",\n",
    "    y=\"value\",\n",
    "    hue=\"variable\"\n",
    ")\n",
    "\n",
    "# Move the legend to the right side outside the plot\n",
    "plt.legend(bbox_to_anchor=(1.02, 1), loc='upper left')\n",
    "plt.ylabel(\"accuracy\")\n",
    "plt.title(\"Cross Validation Results using L2 Logistic Regression\")\n",
    "\n",
    "# Show the plot\n",
    "plt.show()"
   ]
  },
  {
   "cell_type": "markdown",
   "id": "dc79baaf-bdf8-428a-8a9c-a686f6495782",
   "metadata": {
    "jp-MarkdownHeadingCollapsed": true
   },
   "source": [
    "## TO DO - significance testing, not most important for getting high level sense of where the signal is"
   ]
  },
  {
   "cell_type": "code",
   "execution_count": null,
   "id": "6811ef2b-1b4d-4bc7-8ff3-b4ddaee6bb52",
   "metadata": {},
   "outputs": [],
   "source": [
    "# where CTprops >> baseline, compare to closest baseline\n",
    "# for every sample\n",
    "from statsmodels.stats.contingency_tables import mcnemar\n",
    "\n",
    "#for logistic regression, are scgpt and ctprops_scgpt significantly different?\n",
    "\n",
    "#what info can i pull out of nestedCV score? that might determine what ype of stat test is possible to do easily\n"
   ]
  },
  {
   "cell_type": "code",
   "execution_count": null,
   "id": "fb536229-3674-4986-8bbc-52dbf083d1c1",
   "metadata": {},
   "outputs": [],
   "source": [
    "# check significance of promising results\n",
    "\n",
    "# need to record per-sample predictions and then FOR SAMPLES where models disagree, can run either binomial or wilcoxon signed-rank test\n"
   ]
  },
  {
   "cell_type": "markdown",
   "id": "3e8dd533-122d-46e2-a4f7-976398de876e",
   "metadata": {
    "jp-MarkdownHeadingCollapsed": true
   },
   "source": [
    "# task 2: predict tissue of origin, but only using shared cell types \n",
    "#### note: there could be some potential confounding factors here (also above), like whether cell is labeled as just T cell or as a subtype "
   ]
  },
  {
   "cell_type": "code",
   "execution_count": 225,
   "id": "a23a6904-c23c-4172-a9ee-bec914066701",
   "metadata": {},
   "outputs": [
    {
     "data": {
      "text/plain": [
       "15"
      ]
     },
     "execution_count": 225,
     "metadata": {},
     "output_type": "execute_result"
    }
   ],
   "source": [
    "np.sum(tissue_general_adata.obs[[\"tissue_general\",\"cell_type\"]].drop_duplicates().groupby(\"cell_type\").size()==5)"
   ]
  },
  {
   "cell_type": "code",
   "execution_count": 228,
   "id": "975a1748-e988-41c6-8570-e55d43374545",
   "metadata": {},
   "outputs": [
    {
     "data": {
      "text/plain": [
       "Index(['B cell', 'CD4-positive, alpha-beta T cell',\n",
       "       'CD8-positive, alpha-beta T cell', 'T cell', 'classical monocyte',\n",
       "       'conventional dendritic cell', 'macrophage', 'mast cell',\n",
       "       'natural killer cell', 'neutrophil', 'non-classical monocyte',\n",
       "       'plasma cell', 'plasmacytoid dendritic cell', 'progenitor cell',\n",
       "       'regulatory T cell'],\n",
       "      dtype='object', name='cell_type')"
      ]
     },
     "execution_count": 228,
     "metadata": {},
     "output_type": "execute_result"
    }
   ],
   "source": [
    "ct_tmp = tissue_general_adata.obs[[\"tissue_general\",\"cell_type\"]].drop_duplicates().groupby(\"cell_type\").size()[tissue_general_adata.obs[[\"tissue_general\",\"cell_type\"]].drop_duplicates().groupby(\"cell_type\").size()==5].index\n",
    "ct_tmp"
   ]
  },
  {
   "cell_type": "markdown",
   "id": "704d9134-197d-4086-bc90-b05bcc07cec2",
   "metadata": {
    "jp-MarkdownHeadingCollapsed": true
   },
   "source": [
    "## define sample pool, target, X, splits for this task"
   ]
  },
  {
   "cell_type": "markdown",
   "id": "0250e7f1-04c8-41f3-a854-1e3928833387",
   "metadata": {},
   "source": [
    "### define sample_pool for this target - samples that contain at least some of these cell types"
   ]
  },
  {
   "cell_type": "code",
   "execution_count": 248,
   "id": "88d92a3f-9cf1-4501-a634-1d2629292c4e",
   "metadata": {
    "tags": []
   },
   "outputs": [
    {
     "data": {
      "text/plain": [
       "869"
      ]
     },
     "execution_count": 248,
     "metadata": {},
     "output_type": "execute_result"
    }
   ],
   "source": [
    "target_col = 'tissue_general'\n",
    "\n",
    "sample_pool = tissue_general_adata[tissue_general_adata.obs.cell_type.isin(ct_tmp)].obs.pseudosample_id.drop_duplicates()\n",
    "len(sample_pool)\n"
   ]
  },
  {
   "cell_type": "markdown",
   "id": "40756c4a-c1e8-43fc-a759-0efc98e7fa3f",
   "metadata": {},
   "source": [
    "### define target, and limit/order by sample_pool"
   ]
  },
  {
   "cell_type": "code",
   "execution_count": 249,
   "id": "3d1c9cb1-3d31-4fa3-bb63-f3ab008b3841",
   "metadata": {},
   "outputs": [],
   "source": [
    "## Define targets\n",
    "targets = adata.obs.loc[:, [sample_col, target_col]].drop_duplicates().set_index(sample_col).loc[sample_pool,target_col]\n",
    "labels, targets_ind = np.unique(targets, return_inverse=True)\n",
    "targets = pd.Series(targets_ind, index=targets.index)"
   ]
  },
  {
   "cell_type": "code",
   "execution_count": 250,
   "id": "07be6980-81c5-4b70-bd6d-667295e2ff29",
   "metadata": {},
   "outputs": [
    {
     "data": {
      "text/plain": [
       "array(['blood', 'brain', 'breast', 'lung', 'small intestine'],\n",
       "      dtype=object)"
      ]
     },
     "execution_count": 250,
     "metadata": {},
     "output_type": "execute_result"
    }
   ],
   "source": [
    "labels"
   ]
  },
  {
   "cell_type": "code",
   "execution_count": 251,
   "id": "c7cf3266-7be1-4f3e-b1b0-0950b3a59750",
   "metadata": {
    "scrolled": true
   },
   "outputs": [
    {
     "data": {
      "text/plain": [
       "0    0.234753\n",
       "3    0.222094\n",
       "2    0.209436\n",
       "1    0.194476\n",
       "4    0.139241\n",
       "Name: count, dtype: float64"
      ]
     },
     "execution_count": 251,
     "metadata": {},
     "output_type": "execute_result"
    }
   ],
   "source": [
    "targets.value_counts()/len(targets)"
   ]
  },
  {
   "cell_type": "markdown",
   "id": "113f568b-e855-489c-81e4-8f67d5146e35",
   "metadata": {},
   "source": [
    "### splits for leave one (dataset) out cross validation"
   ]
  },
  {
   "cell_type": "code",
   "execution_count": 252,
   "id": "63a4e7fb-296a-41a6-a048-bb04cdbaf31c",
   "metadata": {},
   "outputs": [],
   "source": [
    "from sklearn.model_selection import GroupKFold\n",
    "group_kfold = GroupKFold(n_splits=10)\n",
    "groups = adata.obs.set_index(sample_col).loc[sample_pool, 'dataset_id'].reset_index().drop_duplicates()['dataset_id']\n",
    "splits = list(group_kfold.split(sample_pool, groups=groups)) #if don't convert to list, iterator is exhausted after one use\n"
   ]
  },
  {
   "cell_type": "code",
   "execution_count": 254,
   "id": "f4b5c90f-7d20-4318-a2cd-04d629986c12",
   "metadata": {
    "scrolled": true
   },
   "outputs": [
    {
     "name": "stdout",
     "output_type": "stream",
     "text": [
      "datasets reserved for test fold:  ['842c6f5d-4a94-4eef-8510-8c792d1124bc']\n",
      "targets in test fold:\n",
      " 2    126\n",
      "Name: count, dtype: int64\n",
      "n samples in train:  743\n",
      "n samples in test:  126\n",
      "\n",
      "\n",
      "datasets reserved for test fold:  ['56c4912d-2bae-4b64-98f2-af8a84389208']\n",
      "targets in test fold:\n",
      " 1    116\n",
      "Name: count, dtype: int64\n",
      "n samples in train:  753\n",
      "n samples in test:  116\n",
      "\n",
      "\n",
      "datasets reserved for test fold:  ['1e6a6ef9-7ec9-4c90-bbfb-2ad3c3165fd1']\n",
      "targets in test fold:\n",
      " 3    84\n",
      "1     7\n",
      "Name: count, dtype: int64\n",
      "n samples in train:  778\n",
      "n samples in test:  91\n",
      "\n",
      "\n",
      "datasets reserved for test fold:  ['cf83c98a-3791-4537-bbde-a719f6d73c13', '3faad104-2ab8-4434-816d-474d8d2641db', '59b69042-47c2-47fd-ad03-d21beb99818f', '456e8b9b-f872-488b-871d-94534090a865']\n",
      "targets in test fold:\n",
      " 0    77\n",
      "Name: count, dtype: int64\n",
      "n samples in train:  792\n",
      "n samples in test:  77\n",
      "\n",
      "\n",
      "datasets reserved for test fold:  ['0ba636a1-4754-4786-a8be-7ab3cf760fd6', '0ba16f4b-cb87-4fa3-9363-19fc51eec6e7', '8e47ed12-c658-4252-b126-381df8d52a3d', 'f64e1be1-de15-4d27-8da4-82225cd4c035', '2672b679-8048-4f5e-9786-f1b196ccfd08', '2a498ace-872a-4935-984b-1afa70fd9886', 'ebc2e1ff-c8f9-466a-acf4-9d291afaf8b3']\n",
      "targets in test fold:\n",
      " 2    49\n",
      "0    16\n",
      "4     7\n",
      "3     5\n",
      "Name: count, dtype: int64\n",
      "n samples in train:  792\n",
      "n samples in test:  77\n",
      "\n",
      "\n",
      "datasets reserved for test fold:  ['a37f857c-779f-464e-9310-3db43a1811e7', '248cf7bf-508b-4c28-a2fd-cabe2ab956aa', '3dc61ca1-ce40-46b6-8337-f27260fd9a03', 'ed5d841d-6346-47d4-ab2f-7119ad7e3a35', '36c867a7-be10-4e69-9b39-5de12b0af6da', '01ad3cd7-3929-4654-84c0-6db05bd5fd59', '30cd5311-6c09-46c9-94f1-71fe4b91813c']\n",
      "targets in test fold:\n",
      " 4    59\n",
      "0    11\n",
      "3     7\n",
      "Name: count, dtype: int64\n",
      "n samples in train:  792\n",
      "n samples in test:  77\n",
      "\n",
      "\n",
      "datasets reserved for test fold:  ['6ceeaa86-9ceb-4582-b390-6d4dd6ff0572', 'bd65a70f-b274-4133-b9dd-0d1431b6af34', '9f222629-9e39-47d0-b83f-e08d610c7479', '9968be68-ab65-4a38-9e1a-c9b6abece194', '2f132ec9-24b5-422f-9be0-ccef03b4fe28', 'fa8605cf-f27e-44af-ac2a-476bee4410d3', '21d3e683-80a4-4d9b-bc89-ebb2df513dde']\n",
      "targets in test fold:\n",
      " 3    60\n",
      "4    12\n",
      "0     5\n",
      "Name: count, dtype: int64\n",
      "n samples in train:  792\n",
      "n samples in test:  77\n",
      "\n",
      "\n",
      "datasets reserved for test fold:  ['b0e547f0-462b-4f81-b31b-5b0a5d96f537', '1b9d8702-5af8-4142-85ed-020eb06ec4f6', 'c2a461b1-0c15-4047-9fcb-1f966fe55100', '53d208b0-2cfd-4366-9866-c3c6114081bc', '2adb1f8a-a6b1-4909-8ee8-484814e2d4bf']\n",
      "targets in test fold:\n",
      " 0    53\n",
      "4    10\n",
      "3    10\n",
      "1     3\n",
      "Name: count, dtype: int64\n",
      "n samples in train:  793\n",
      "n samples in test:  76\n",
      "\n",
      "\n",
      "datasets reserved for test fold:  ['d41f45c1-1b7b-4573-a998-ac5c5acb1647', '3c75a463-6a87-4132-83a8-c3002624394d', '019c7af2-c827-4454-9970-44d5e39ce068', '5bc42b88-bb76-4954-927b-8bb7369adc64', '80a2c5b6-02e7-4fc0-9f12-179f5247c1bc', 'b46237d1-19c6-4af2-9335-9854634bad16', 'ae4f8ddd-cac9-4172-9681-2175da462f2e', 'a1b9c51e-a408-4f7f-bccb-abefe20ae2a5']\n",
      "targets in test fold:\n",
      " 1    42\n",
      "4    23\n",
      "3     9\n",
      "0     2\n",
      "Name: count, dtype: int64\n",
      "n samples in train:  793\n",
      "n samples in test:  76\n",
      "\n",
      "\n",
      "datasets reserved for test fold:  ['3f32121d-126b-4e8d-9f69-d86502d2a1b1', '7bb64315-9e5a-41b9-9235-59acf9642a3e', '1e5bd3b8-6a0e-4959-8d69-cafed30fe814', '576f193c-75d0-4a11-bd25-8676587e6dc2', 'c7775e88-49bf-4ba2-a03b-93f00447c958', '218acb0f-9f2f-4f76-b90b-15a4b7c7f629', '9dbab10c-118d-496b-966a-67f1763a6b7d', 'de985818-285f-4f59-9dbd-d74968fddba3']\n",
      "targets in test fold:\n",
      " 0    40\n",
      "3    18\n",
      "4    10\n",
      "2     7\n",
      "1     1\n",
      "Name: count, dtype: int64\n",
      "n samples in train:  793\n",
      "n samples in test:  76\n",
      "\n",
      "\n"
     ]
    }
   ],
   "source": [
    "for (train_index, test_index) in splits:\n",
    "    print(\"datasets reserved for test fold: \", list(adata.obs.set_index(sample_col).loc[sample_pool.iloc[test_index],'dataset_id'].drop_duplicates()))\n",
    "    print(\"targets in test fold:\\n\", targets.iloc[test_index].value_counts())\n",
    "    print(\"n samples in train: \", len(train_index))\n",
    "    print(\"n samples in test: \", len(test_index))\n",
    "    print(\"\\n\")"
   ]
  },
  {
   "cell_type": "markdown",
   "id": "0626c858-a52e-4159-974b-80e54dec18f4",
   "metadata": {
    "jp-MarkdownHeadingCollapsed": true
   },
   "source": [
    "## create pseudobulk embeddings to use downstream"
   ]
  },
  {
   "cell_type": "code",
   "execution_count": 256,
   "id": "91909971-a219-4116-bc81-8d9433182627",
   "metadata": {},
   "outputs": [],
   "source": [
    "adata = tissue_general_adata[tissue_general_adata.obs.cell_type.isin(ct_tmp)]\n",
    "sample_col = 'pseudosample_id'"
   ]
  },
  {
   "cell_type": "code",
   "execution_count": 257,
   "id": "42c7a9c3-ab0a-47e2-be6a-9a65c7d98a02",
   "metadata": {},
   "outputs": [],
   "source": [
    "pbulk_embs = {}"
   ]
  },
  {
   "cell_type": "markdown",
   "id": "a669d542-0b83-4332-8711-286383316837",
   "metadata": {},
   "source": [
    "#### scGPT"
   ]
  },
  {
   "cell_type": "code",
   "execution_count": 258,
   "id": "ff01bd4d-2906-45af-849a-3bb0eacfa748",
   "metadata": {},
   "outputs": [],
   "source": [
    "emb_name = 'scgpt'\n",
    "\n",
    "## Input\n",
    "pseudobulk_input = pd.DataFrame(adata.obsm[emb_name], index=adata.obs.loc[:,sample_col]).reset_index().groupby(sample_col).mean()\n",
    "\n",
    "#limit to the sample pool, this will also put it in the right order to index using the groupkfold inds\n",
    "pbulk_embs[emb_name] = pseudobulk_input#.loc[sample_pool,:]"
   ]
  },
  {
   "cell_type": "markdown",
   "id": "dddf3660-04a5-4e4e-95ce-5a99ac4dae5e",
   "metadata": {},
   "source": [
    "#### scGPT -> 40 PCs"
   ]
  },
  {
   "cell_type": "code",
   "execution_count": 259,
   "id": "9fc0b7fd-daaf-49e3-b41b-c4fe38471f9a",
   "metadata": {},
   "outputs": [],
   "source": [
    "emb_name = 'scgpt'\n",
    "\n",
    "pca = sklearn.decomposition.PCA(n_components=40)\n",
    "scgpt_input_pca = pca.fit_transform(adata.obsm[emb_name])\n",
    "\n",
    "## Input\n",
    "pseudobulk_input = pd.DataFrame(scgpt_input_pca, index=adata.obs.loc[:,sample_col]).reset_index().groupby(sample_col).mean()\n",
    "\n",
    "#limit to the sample pool, this will also put it in the right order to index using the groupkfold inds\n",
    "pbulk_embs['scgpt_40PCs'] = pseudobulk_input#.loc[sample_pool,:]"
   ]
  },
  {
   "cell_type": "markdown",
   "id": "16f60387-4e98-41b4-ad35-a54e1c1a6006",
   "metadata": {},
   "source": [
    "#### cell type props"
   ]
  },
  {
   "cell_type": "code",
   "execution_count": 260,
   "id": "884b92f6-c01a-4268-932d-c9c89e1f5be4",
   "metadata": {},
   "outputs": [],
   "source": [
    "## Input\n",
    "celltype_counts_df = pd.DataFrame(adata.obs.groupby(sample_col).cell_type.value_counts()).rename({'count':'cell_type_counts'},axis=1).reset_index().pivot(index=sample_col, columns=\"cell_type\", values=\"cell_type_counts\")\n",
    "celltype_fracs_df = celltype_counts_df.div(celltype_counts_df.sum(axis=1), axis=0)\n",
    "pseudobulk_input = celltype_fracs_df.fillna(0) # replace nan with 0 \n",
    "pbulk_embs['ct_props'] = pseudobulk_input#.loc[sample_pool,:]"
   ]
  },
  {
   "cell_type": "markdown",
   "id": "a395f873-679d-41eb-8e35-1790495f6262",
   "metadata": {},
   "source": [
    "#### cell type props + mean embedding based on scGPT"
   ]
  },
  {
   "cell_type": "code",
   "execution_count": 261,
   "id": "5882af59-4e9e-414d-ac8b-92f8f7a71a17",
   "metadata": {},
   "outputs": [],
   "source": [
    "#get mean embedding per cell type\n",
    "\n",
    "emb_name = 'scgpt'\n",
    "\n",
    "# get mean embedding per sample+cell_type\n",
    "pseudobulk_input = pd.DataFrame(adata.obsm[emb_name], index=adata.obs.index).merge(adata.obs[[sample_col,'cell_type']], right_index=True, left_index=True).groupby([sample_col,'cell_type']).mean()\n",
    "\n",
    "# change columns to more interpretable strs \n",
    "pseudobulk_input.columns = ['scgpt_'+str(c) for c in pseudobulk_input.columns]\n",
    "\n",
    "# reset index\n",
    "pseudobulk_input = pseudobulk_input.reset_index()\n",
    "\n",
    "# Pivot the dataframe - cell types that dont exist in a given sample - fill 0 for mean expression\n",
    "psblk_per_celltype = pseudobulk_input.pivot(index=sample_col, columns='cell_type').fillna(0)\n",
    "\n",
    "# Flatten the multi-level columns\n",
    "psblk_per_celltype.columns = ['_'.join(col).strip() for col in psblk_per_celltype.columns.values]"
   ]
  },
  {
   "cell_type": "code",
   "execution_count": 262,
   "id": "9e717017-b724-4579-bd04-141192cfd59d",
   "metadata": {},
   "outputs": [],
   "source": [
    "# concat cell type fracs and mean embs dfs\n",
    "pbulk_embs['ct_fracs_means_scGPTfull'] = pbulk_embs['ct_props'].merge(psblk_per_celltype, right_index=True, left_index=True).fillna(0)"
   ]
  },
  {
   "cell_type": "markdown",
   "id": "7b3dd501-ebc9-4b1e-bded-1792607e9b0f",
   "metadata": {},
   "source": [
    "#### cell type props + mean embedding based on scGPT+40PCs"
   ]
  },
  {
   "cell_type": "code",
   "execution_count": 263,
   "id": "770e8d57-64cd-4371-92db-6e06f5a8bb8d",
   "metadata": {},
   "outputs": [],
   "source": [
    "#get mean embedding per cell type\n",
    "\n",
    "emb_name = 'scgpt'\n",
    "pca = sklearn.decomposition.PCA(n_components=40)\n",
    "scgpt_input_pca = pca.fit_transform(adata.obsm[emb_name])\n",
    "\n",
    "# get mean embedding per sample+cell_type\n",
    "pseudobulk_input = pd.DataFrame(scgpt_input_pca, index=adata.obs.index).merge(adata.obs[[sample_col,'cell_type']], right_index=True, left_index=True).groupby([sample_col,'cell_type']).mean()\n",
    "\n",
    "# change columns to more interpretable strs \n",
    "pseudobulk_input.columns = ['scgpt_'+str(c) for c in pseudobulk_input.columns]\n",
    "\n",
    "# reset index\n",
    "pseudobulk_input = pseudobulk_input.reset_index()\n",
    "\n",
    "# Pivot the dataframe - cell types that dont exist in a given sample - fill 0 for mean expression\n",
    "psblk_per_celltype = pseudobulk_input.pivot(index=sample_col, columns='cell_type').fillna(0)\n",
    "\n",
    "# Flatten the multi-level columns\n",
    "psblk_per_celltype.columns = ['_'.join(col).strip() for col in psblk_per_celltype.columns.values]"
   ]
  },
  {
   "cell_type": "code",
   "execution_count": 264,
   "id": "819a8185-007f-4bdf-b8e1-fcf04e6a6723",
   "metadata": {},
   "outputs": [],
   "source": [
    "# concat cell type fracs and mean embs dfs\n",
    "pbulk_embs['ct_fracs_means_scGPT_40PCs'] = pbulk_embs['ct_props'].merge(psblk_per_celltype, right_index=True, left_index=True)"
   ]
  },
  {
   "cell_type": "markdown",
   "id": "f40b76ae-de42-4332-85b5-68dc707b0856",
   "metadata": {},
   "source": [
    "### limit/order pseudobulk embeddings by sample_pool"
   ]
  },
  {
   "cell_type": "code",
   "execution_count": 265,
   "id": "bda57cb8-22e4-467f-940c-3aef6f2038ab",
   "metadata": {},
   "outputs": [],
   "source": [
    "this_pbulk_embs = {}\n",
    "for emb in pbulk_embs:\n",
    "    this_pbulk_embs[emb] = pbulk_embs[emb].loc[sample_pool]"
   ]
  },
  {
   "cell_type": "markdown",
   "id": "be182ce9-d09b-4174-89df-43e485bf9f0e",
   "metadata": {
    "jp-MarkdownHeadingCollapsed": true
   },
   "source": [
    "## calculate heuristic baseline performance on these splits\n",
    "\n",
    "not including majority class per study as a baseline, since we shouldn't have study based batch effects affecting performance using our GroupKFold!"
   ]
  },
  {
   "cell_type": "code",
   "execution_count": 266,
   "id": "e95667a9-21ee-4713-8a7e-67f9ef4206ba",
   "metadata": {},
   "outputs": [
    {
     "name": "stdout",
     "output_type": "stream",
     "text": [
      "baseline accuracy on K val sets:  [0, 0, 0, 0, 0.2077922077922078, 0.14285714285714285, 0.06493506493506493, 0.13157894736842105, 0.02631578947368421, 0.09210526315789473]\n",
      "mean accuracy:  0.06655844155844155\n"
     ]
    }
   ],
   "source": [
    "val_majclass_bline_accs= []\n",
    "\n",
    "for (train_index, val_index) in splits:\n",
    "    #calculate baseline performance - majority class\n",
    "    majclass_bline_pred = targets.iloc[train_index].value_counts().index[targets.iloc[train_index].value_counts().argmax()]\n",
    "    if majclass_bline_pred not in targets.iloc[val_index].value_counts().index:\n",
    "        val_majclass_bline_accs.append(0)\n",
    "    else:\n",
    "        val_majclass_bline_accs.append(targets.iloc[val_index].value_counts()[majclass_bline_pred]/len(val_index))\n",
    "\n",
    "print(\"baseline accuracy on K val sets: \", val_majclass_bline_accs)\n",
    "print(\"mean accuracy: \", np.mean(val_majclass_bline_accs))"
   ]
  },
  {
   "cell_type": "markdown",
   "id": "c63c6764-cd7d-4896-8ba8-8eded78c57f4",
   "metadata": {
    "jp-MarkdownHeadingCollapsed": true
   },
   "source": [
    "## Evaluate models using nested GroupKFold CV"
   ]
  },
  {
   "cell_type": "code",
   "execution_count": 267,
   "id": "f188e21d-1c1b-41c5-8cd7-d8e28ce9fe52",
   "metadata": {
    "scrolled": true
   },
   "outputs": [],
   "source": [
    "## train KNN w/ Kfold CV\n",
    "from sklearn.model_selection import GridSearchCV, cross_val_score\n",
    "\n",
    "def nested_kfold_eval(pseudobulk_input, targets, splits, model, param_grid):\n",
    "\n",
    "    # Inner CV for hyperparameter tuning\n",
    "    inner_cv = GridSearchCV(model, param_grid, cv=5)\n",
    "\n",
    "    # Nested CV\n",
    "    nested_score = cross_val_score(inner_cv, pseudobulk_input, targets, cv=group_kfold, groups=groups)\n",
    "    \n",
    "    print(\"Nested CV Score: \", nested_score.mean())\n",
    "    \n",
    "    return nested_score"
   ]
  },
  {
   "cell_type": "code",
   "execution_count": 268,
   "id": "6b198cf7-38ce-4bee-b154-2c92fd264d07",
   "metadata": {},
   "outputs": [],
   "source": [
    "# set up a dict with models and hparams to test\n",
    "\n",
    "model_param_dict = {\n",
    "    'KNN': (KNeighborsClassifier(), {'n_neighbors':np.arange(10)+1}),\n",
    "    'random_forest': (RandomForestClassifier(), {'min_samples_leaf': [1,2,3,4,5,6,7,8,9,10,11,12,13,14,15,16,17,18,19,20]}),\n",
    "    #'l1_logistic_regression': (LogisticRegression(max_iter=500, solver='saga', penalty='l1'), {'C':[1e-5,1e-4,1e-3,1e-2,1e-1,1,10,100,1000,10000]}),\n",
    "    'l2_logistic_regression': (LogisticRegression(max_iter=500, penalty='l2'), {'C':[1e-5,1e-4,1e-3,1e-2,1e-1,1,10,100,1000,10000]})\n",
    "}\n"
   ]
  },
  {
   "cell_type": "code",
   "execution_count": 269,
   "id": "f2ae90f6-0d12-447a-8fe1-eb3a73a6a40b",
   "metadata": {},
   "outputs": [
    {
     "name": "stdout",
     "output_type": "stream",
     "text": [
      "--------- KNN ----------\n",
      "embedding:  scgpt\n",
      "shape of embedding:  (869, 512)\n",
      "Nested CV Score:  0.3304752416367661\n",
      "\n",
      "\n",
      "embedding:  scgpt_40PCs\n",
      "shape of embedding:  (869, 40)\n",
      "Nested CV Score:  0.3252002987937652\n",
      "\n",
      "\n",
      "embedding:  ct_props\n",
      "shape of embedding:  (869, 15)\n",
      "Nested CV Score:  0.28003412195789695\n",
      "\n",
      "\n",
      "embedding:  ct_fracs_means_scGPTfull\n",
      "shape of embedding:  (869, 7695)\n",
      "Nested CV Score:  0.30177617301029286\n",
      "\n",
      "\n",
      "embedding:  ct_fracs_means_scGPT_40PCs\n",
      "shape of embedding:  (869, 615)\n",
      "Nested CV Score:  0.36481190215309994\n",
      "\n",
      "\n",
      "\n",
      "\n",
      "--------- random_forest ----------\n",
      "embedding:  scgpt\n",
      "shape of embedding:  (869, 512)\n",
      "Nested CV Score:  0.3999960565750039\n",
      "\n",
      "\n",
      "embedding:  scgpt_40PCs\n",
      "shape of embedding:  (869, 40)\n",
      "Nested CV Score:  0.3522705062632467\n",
      "\n",
      "\n",
      "embedding:  ct_props\n",
      "shape of embedding:  (869, 15)\n",
      "Nested CV Score:  0.315724611142034\n",
      "\n",
      "\n",
      "embedding:  ct_fracs_means_scGPTfull\n",
      "shape of embedding:  (869, 7695)\n",
      "Nested CV Score:  0.30136442504863553\n",
      "\n",
      "\n",
      "embedding:  ct_fracs_means_scGPT_40PCs\n",
      "shape of embedding:  (869, 615)\n",
      "Nested CV Score:  0.33042878174457124\n",
      "\n",
      "\n",
      "\n",
      "\n",
      "--------- l2_logistic_regression ----------\n",
      "embedding:  scgpt\n",
      "shape of embedding:  (869, 512)\n",
      "Nested CV Score:  0.5241751442749628\n",
      "\n",
      "\n",
      "embedding:  scgpt_40PCs\n",
      "shape of embedding:  (869, 40)\n",
      "Nested CV Score:  0.4851549539389831\n",
      "\n",
      "\n",
      "embedding:  ct_props\n",
      "shape of embedding:  (869, 15)\n"
     ]
    },
    {
     "name": "stderr",
     "output_type": "stream",
     "text": [
      "/opt/conda/rpeyser/envs/scgpt_4/lib/python3.10/site-packages/sklearn/linear_model/_logistic.py:469: ConvergenceWarning: lbfgs failed to converge (status=1):\n",
      "STOP: TOTAL NO. of ITERATIONS REACHED LIMIT.\n",
      "\n",
      "Increase the number of iterations (max_iter) or scale the data as shown in:\n",
      "    https://scikit-learn.org/stable/modules/preprocessing.html\n",
      "Please also refer to the documentation for alternative solver options:\n",
      "    https://scikit-learn.org/stable/modules/linear_model.html#logistic-regression\n",
      "  n_iter_i = _check_optimize_result(\n",
      "/opt/conda/rpeyser/envs/scgpt_4/lib/python3.10/site-packages/sklearn/linear_model/_logistic.py:469: ConvergenceWarning: lbfgs failed to converge (status=1):\n",
      "STOP: TOTAL NO. of ITERATIONS REACHED LIMIT.\n",
      "\n",
      "Increase the number of iterations (max_iter) or scale the data as shown in:\n",
      "    https://scikit-learn.org/stable/modules/preprocessing.html\n",
      "Please also refer to the documentation for alternative solver options:\n",
      "    https://scikit-learn.org/stable/modules/linear_model.html#logistic-regression\n",
      "  n_iter_i = _check_optimize_result(\n",
      "/opt/conda/rpeyser/envs/scgpt_4/lib/python3.10/site-packages/sklearn/linear_model/_logistic.py:469: ConvergenceWarning: lbfgs failed to converge (status=1):\n",
      "STOP: TOTAL NO. of ITERATIONS REACHED LIMIT.\n",
      "\n",
      "Increase the number of iterations (max_iter) or scale the data as shown in:\n",
      "    https://scikit-learn.org/stable/modules/preprocessing.html\n",
      "Please also refer to the documentation for alternative solver options:\n",
      "    https://scikit-learn.org/stable/modules/linear_model.html#logistic-regression\n",
      "  n_iter_i = _check_optimize_result(\n",
      "/opt/conda/rpeyser/envs/scgpt_4/lib/python3.10/site-packages/sklearn/linear_model/_logistic.py:469: ConvergenceWarning: lbfgs failed to converge (status=1):\n",
      "STOP: TOTAL NO. of ITERATIONS REACHED LIMIT.\n",
      "\n",
      "Increase the number of iterations (max_iter) or scale the data as shown in:\n",
      "    https://scikit-learn.org/stable/modules/preprocessing.html\n",
      "Please also refer to the documentation for alternative solver options:\n",
      "    https://scikit-learn.org/stable/modules/linear_model.html#logistic-regression\n",
      "  n_iter_i = _check_optimize_result(\n",
      "/opt/conda/rpeyser/envs/scgpt_4/lib/python3.10/site-packages/sklearn/linear_model/_logistic.py:469: ConvergenceWarning: lbfgs failed to converge (status=1):\n",
      "STOP: TOTAL NO. of ITERATIONS REACHED LIMIT.\n",
      "\n",
      "Increase the number of iterations (max_iter) or scale the data as shown in:\n",
      "    https://scikit-learn.org/stable/modules/preprocessing.html\n",
      "Please also refer to the documentation for alternative solver options:\n",
      "    https://scikit-learn.org/stable/modules/linear_model.html#logistic-regression\n",
      "  n_iter_i = _check_optimize_result(\n",
      "/opt/conda/rpeyser/envs/scgpt_4/lib/python3.10/site-packages/sklearn/linear_model/_logistic.py:469: ConvergenceWarning: lbfgs failed to converge (status=1):\n",
      "STOP: TOTAL NO. of ITERATIONS REACHED LIMIT.\n",
      "\n",
      "Increase the number of iterations (max_iter) or scale the data as shown in:\n",
      "    https://scikit-learn.org/stable/modules/preprocessing.html\n",
      "Please also refer to the documentation for alternative solver options:\n",
      "    https://scikit-learn.org/stable/modules/linear_model.html#logistic-regression\n",
      "  n_iter_i = _check_optimize_result(\n"
     ]
    },
    {
     "name": "stdout",
     "output_type": "stream",
     "text": [
      "Nested CV Score:  0.37935401964440074\n",
      "\n",
      "\n",
      "embedding:  ct_fracs_means_scGPTfull\n",
      "shape of embedding:  (869, 7695)\n",
      "Nested CV Score:  0.4465080745026298\n",
      "\n",
      "\n",
      "embedding:  ct_fracs_means_scGPT_40PCs\n",
      "shape of embedding:  (869, 615)\n",
      "Nested CV Score:  0.4885028764339109\n",
      "\n",
      "\n",
      "\n",
      "\n"
     ]
    }
   ],
   "source": [
    "tissue_results_sharedctonly = {}\n",
    "for model in model_param_dict:\n",
    "    print(\"--------- {} ----------\".format(model))\n",
    "    tissue_results_sharedctonly[model] = {}\n",
    "    for emb in this_pbulk_embs:\n",
    "        print('embedding: ', emb)\n",
    "        print('shape of embedding: ', this_pbulk_embs[emb].shape)\n",
    "        tissue_results_sharedctonly[model][emb] = nested_kfold_eval(this_pbulk_embs[emb], targets, splits, model=model_param_dict[model][0], param_grid = model_param_dict[model][1])\n",
    "        print(\"\\n\")\n",
    "    print(\"\\n\")"
   ]
  },
  {
   "cell_type": "code",
   "execution_count": 274,
   "id": "6d242490-1323-401e-84d6-0fdba8d291a3",
   "metadata": {},
   "outputs": [
    {
     "data": {
      "image/png": "[encoded data removed]",
      "text/plain": [
       "<Figure size 1000x300 with 1 Axes>"
      ]
     },
     "metadata": {},
     "output_type": "display_data"
    }
   ],
   "source": [
    "import seaborn as sns\n",
    "import matplotlib.pyplot as plt\n",
    "\n",
    "# Adjust the figure size\n",
    "plt.figure(figsize=(10, 3))  # Width = 12, Height = 6 (you can change these values as needed)\n",
    "\n",
    "# Create the stripplot\n",
    "sns.stripplot(\n",
    "    data=pd.DataFrame(tissue_results_sharedctonly['KNN']).reset_index().rename(columns={\"index\": \"fold\"}).melt(id_vars=\"fold\"),\n",
    "    x=\"fold\",\n",
    "    y=\"value\",\n",
    "    hue=\"variable\"\n",
    ")\n",
    "\n",
    "# Move the legend to the right side outside the plot\n",
    "plt.legend(bbox_to_anchor=(1.02, 1), loc='upper left')\n",
    "plt.ylabel(\"accuracy\")\n",
    "plt.title(\"Cross Validation Results using KNN\")\n",
    "\n",
    "# Show the plot\n",
    "plt.show()"
   ]
  },
  {
   "cell_type": "code",
   "execution_count": 275,
   "id": "2962397d-0b08-4b78-b785-0c11aa14270e",
   "metadata": {},
   "outputs": [
    {
     "data": {
      "image/png": "[encoded data removed]",
      "text/plain": [
       "<Figure size 1000x300 with 1 Axes>"
      ]
     },
     "metadata": {},
     "output_type": "display_data"
    }
   ],
   "source": [
    "import seaborn as sns\n",
    "import matplotlib.pyplot as plt\n",
    "\n",
    "# Adjust the figure size\n",
    "plt.figure(figsize=(10, 3))  # Width = 12, Height = 6 (you can change these values as needed)\n",
    "\n",
    "# Create the stripplot\n",
    "sns.stripplot(\n",
    "    data=pd.DataFrame(tissue_results_sharedctonly['random_forest']).reset_index().rename(columns={\"index\": \"fold\"}).melt(id_vars=\"fold\"),\n",
    "    x=\"fold\",\n",
    "    y=\"value\",\n",
    "    hue=\"variable\"\n",
    ")\n",
    "\n",
    "# Move the legend to the right side outside the plot\n",
    "plt.legend(bbox_to_anchor=(1.02, 1), loc='upper left')\n",
    "plt.ylabel(\"accuracy\")\n",
    "plt.title(\"Cross Validation Results using Random Forest\")\n",
    "\n",
    "# Show the plot\n",
    "plt.show()"
   ]
  },
  {
   "cell_type": "code",
   "execution_count": 276,
   "id": "ade424c6-cbc2-48af-ae33-ca6f9d36a1e2",
   "metadata": {},
   "outputs": [
    {
     "data": {
      "image/png": "[encoded data removed]",
      "text/plain": [
       "<Figure size 1000x300 with 1 Axes>"
      ]
     },
     "metadata": {},
     "output_type": "display_data"
    }
   ],
   "source": [
    "import seaborn as sns\n",
    "import matplotlib.pyplot as plt\n",
    "\n",
    "# Adjust the figure size\n",
    "plt.figure(figsize=(10, 3))  # Width = 12, Height = 6 (you can change these values as needed)\n",
    "\n",
    "# Create the stripplot\n",
    "sns.stripplot(\n",
    "    data=pd.DataFrame(tissue_results_sharedctonly['l2_logistic_regression']).reset_index().rename(columns={\"index\": \"fold\"}).melt(id_vars=\"fold\"),\n",
    "    x=\"fold\",\n",
    "    y=\"value\",\n",
    "    hue=\"variable\"\n",
    ")\n",
    "\n",
    "# Move the legend to the right side outside the plot\n",
    "plt.legend(bbox_to_anchor=(1.02, 1), loc='upper left')\n",
    "plt.ylabel(\"accuracy\")\n",
    "plt.title(\"Cross Validation Results using L2 Logistic Regression\")\n",
    "\n",
    "# Show the plot\n",
    "plt.show()"
   ]
  },
  {
   "cell_type": "markdown",
   "id": "dbeac850-7ceb-4bc6-9a23-8b1e4e7d8905",
   "metadata": {},
   "source": [
    "## TO DO - significance testing, not most important for getting high level sense of where the signal is"
   ]
  },
  {
   "cell_type": "code",
   "execution_count": null,
   "id": "ba5d35b1-7aab-41b1-8688-98d4025d44a8",
   "metadata": {},
   "outputs": [],
   "source": [
    "# where CTprops >> baseline, compare to closest baseline\n",
    "# for every sample\n",
    "from statsmodels.stats.contingency_tables import mcnemar\n",
    "\n",
    "#for logistic regression, are scgpt and ctprops_scgpt significantly different?\n",
    "\n",
    "#what info can i pull out of nestedCV score? that might determine what ype of stat test is possible to do easily\n"
   ]
  },
  {
   "cell_type": "markdown",
   "id": "704d33b6-46dc-4d83-a5d8-5d6f66c4c487",
   "metadata": {},
   "source": [
    "# task 3: predict disease state in XXTISSUE samples"
   ]
  },
  {
   "cell_type": "markdown",
   "id": "d3f80fbc-4e76-4bc5-a882-0d949930ff87",
   "metadata": {
    "jp-MarkdownHeadingCollapsed": true
   },
   "source": [
    "## pull relevant adata from CZI census"
   ]
  },
  {
   "cell_type": "code",
   "execution_count": 2,
   "id": "78f930dd-03c6-4c2e-b93c-f033c9e6593c",
   "metadata": {},
   "outputs": [
    {
     "name": "stderr",
     "output_type": "stream",
     "text": [
      "The \"stable\" release is currently 2023-12-15. Specify 'census_version=\"2023-12-15\"' in future calls to open_soma() to ensure data consistency.\n"
     ]
    }
   ],
   "source": [
    "with cellxgene_census.open_soma() as census:\n",
    "\n",
    "    # Reads SOMADataFrame as a slice\n",
    "    cell_metadata = census[\"census_data\"][\"homo_sapiens\"].obs.read(\n",
    "        value_filter = \"is_primary_data == True\"\n",
    "    )\n",
    "\n",
    "    # Concatenates results to pyarrow.Table\n",
    "    cell_metadata = cell_metadata.concat()\n",
    "\n",
    "    # Converts to pandas.DataFrame\n",
    "    cell_metadata = cell_metadata.to_pandas()"
   ]
  },
  {
   "cell_type": "code",
   "execution_count": 3,
   "id": "787fbc6a-dae9-497a-926a-8ef141d8d31b",
   "metadata": {},
   "outputs": [],
   "source": [
    "#using combo of donor_id, dataset, assay, age, disease, tissue as a unique sample\n",
    "sample_proxies = cell_metadata.loc[cell_metadata.suspension_type==\"cell\",['donor_id','dataset_id','assay','development_stage','disease', 'tissue','tissue_general']].drop_duplicates()"
   ]
  },
  {
   "cell_type": "code",
   "execution_count": 284,
   "id": "616800e4-642d-4128-ade1-09168c5138f7",
   "metadata": {},
   "outputs": [
    {
     "data": {
      "text/plain": [
       "tissue              disease                     \n",
       "blood               normal                          1805\n",
       "                    COVID-19                         538\n",
       "lung                normal                           177\n",
       "blood               systemic lupus erythematosus     164\n",
       "breast              normal                           157\n",
       "lung                lung adenocarcinoma              147\n",
       "brain               glioblastoma                     115\n",
       "ileum               Crohn disease                     90\n",
       "respiratory airway  normal                            75\n",
       "ileum               normal                            67\n",
       "gonad               normal                            66\n",
       "kidney              normal                            64\n",
       "bone marrow         normal                            63\n",
       "                    plasma cell myeloma               55\n",
       "liver               normal                            54\n",
       "dtype: int64"
      ]
     },
     "execution_count": 284,
     "metadata": {},
     "output_type": "execute_result"
    }
   ],
   "source": [
    "sample_proxies.groupby([\"tissue\",\"disease\"]).size().sort_values(ascending=False)[:15]"
   ]
  },
  {
   "cell_type": "markdown",
   "id": "6fe5a0bc-00c7-4bcd-b773-b00627bcbd32",
   "metadata": {},
   "source": [
    "# task 3a: blood, distinguish normal vs covid-19"
   ]
  },
  {
   "cell_type": "markdown",
   "id": "a2836815-f4d8-4209-bb50-249bfc5ef1da",
   "metadata": {},
   "source": [
    "### choose a random sampling of samples that won't be too large for memory"
   ]
  },
  {
   "cell_type": "code",
   "execution_count": 4,
   "id": "0d337d61-5b36-4d27-8aae-906111007252",
   "metadata": {},
   "outputs": [],
   "source": [
    "select_sample_proxies = cell_metadata.loc[(cell_metadata.suspension_type==\"cell\") & (cell_metadata.tissue_general=='blood') & (cell_metadata.disease.isin([\"normal\",\"COVID-19\"])),['donor_id', 'dataset_id','assay','development_stage','disease', 'tissue','tissue_general']].drop_duplicates()"
   ]
  },
  {
   "cell_type": "code",
   "execution_count": 287,
   "id": "dcb64c05-d53a-4823-b7b4-45c60f7689e5",
   "metadata": {},
   "outputs": [
    {
     "data": {
      "text/plain": [
       "disease\n",
       "normal      1810\n",
       "COVID-19     538\n",
       "Name: count, dtype: int64"
      ]
     },
     "execution_count": 287,
     "metadata": {},
     "output_type": "execute_result"
    }
   ],
   "source": [
    "select_sample_proxies.disease.value_counts()"
   ]
  },
  {
   "cell_type": "code",
   "execution_count": 5,
   "id": "c6028a28-1bad-42cd-8a0c-02ef17ca19d1",
   "metadata": {},
   "outputs": [],
   "source": [
    "# choose MIN_SAMPLES examples from one target label to get balanced sample from those sample proxies -- merge with cell info to get all cells, in order to grab soma_joinid\n",
    "select_cells = select_sample_proxies.groupby(\"disease\").sample(n=min(select_sample_proxies.disease.value_counts())).merge(cell_metadata)"
   ]
  },
  {
   "cell_type": "code",
   "execution_count": 291,
   "id": "bd4a9705-b110-412d-b8c3-71068af18007",
   "metadata": {},
   "outputs": [
    {
     "data": {
      "text/plain": [
       "4605341"
      ]
     },
     "execution_count": 291,
     "metadata": {},
     "output_type": "execute_result"
    }
   ],
   "source": [
    "len(select_cells)"
   ]
  },
  {
   "cell_type": "code",
   "execution_count": 292,
   "id": "6587af11-3495-4700-9f8a-86dde98501c9",
   "metadata": {},
   "outputs": [
    {
     "data": {
      "text/plain": [
       "1076"
      ]
     },
     "execution_count": 292,
     "metadata": {},
     "output_type": "execute_result"
    }
   ],
   "source": [
    "#num \"samples\" pulled\n",
    "len(select_cells[['donor_id', 'dataset_id','assay','development_stage','disease', 'tissue','tissue_general']].drop_duplicates())"
   ]
  },
  {
   "cell_type": "code",
   "execution_count": 6,
   "id": "4f98f5ec-35de-4785-91c8-25133503ccda",
   "metadata": {},
   "outputs": [
    {
     "name": "stderr",
     "output_type": "stream",
     "text": [
      "The \"stable\" release is currently 2023-12-15. Specify 'census_version=\"2023-12-15\"' in future calls to open_soma() to ensure data consistency.\n"
     ]
    }
   ],
   "source": [
    "with cellxgene_census.open_soma() as census:\n",
    "    covidvsnormal_blood_adata = cellxgene_census.get_anndata(\n",
    "        census = census,\n",
    "        organism = \"Homo sapiens\",\n",
    "        measurement_name = \"RNA\",\n",
    "        obs_coords = select_cells.soma_joinid.tolist(),\n",
    "        column_names = {\"obs\": [\"soma_joinid\", \"assay\", \"cell_type\", \"tissue\", \"tissue_general\", \"suspension_type\", \"development_stage\", \"disease\", \"donor_id\",\"dataset_id\"]},\n",
    "        obs_embeddings = [\"scgpt\"]\n",
    "    )"
   ]
  },
  {
   "cell_type": "code",
   "execution_count": 7,
   "id": "ed3f520e-f6c6-495c-b73a-be8e2cffc370",
   "metadata": {},
   "outputs": [],
   "source": [
    "adata = covidvsnormal_blood_adata"
   ]
  },
  {
   "cell_type": "code",
   "execution_count": 8,
   "id": "90690cf0-650f-456e-a247-5fc2e8b0e9f9",
   "metadata": {},
   "outputs": [
    {
     "data": {
      "text/plain": [
       "AnnData object with n_obs × n_vars = 4641436 × 60664\n",
       "    obs: 'soma_joinid', 'assay', 'cell_type', 'tissue', 'tissue_general', 'suspension_type', 'development_stage', 'disease', 'donor_id', 'dataset_id'\n",
       "    var: 'soma_joinid', 'feature_id', 'feature_name', 'feature_length', 'nnz', 'n_measured_obs'\n",
       "    obsm: 'scgpt'"
      ]
     },
     "execution_count": 8,
     "metadata": {},
     "output_type": "execute_result"
    }
   ],
   "source": [
    "adata"
   ]
  },
  {
   "cell_type": "code",
   "execution_count": 9,
   "id": "3d550ad7-5821-4566-8107-d24dc807ad01",
   "metadata": {},
   "outputs": [
    {
     "data": {
      "text/html": [
       "<div>\n",
       "<style scoped>\n",
       "    .dataframe tbody tr th:only-of-type {\n",
       "        vertical-align: middle;\n",
       "    }\n",
       "\n",
       "    .dataframe tbody tr th {\n",
       "        vertical-align: top;\n",
       "    }\n",
       "\n",
       "    .dataframe thead th {\n",
       "        text-align: right;\n",
       "    }\n",
       "</style>\n",
       "<table border=\"1\" class=\"dataframe\">\n",
       "  <thead>\n",
       "    <tr style=\"text-align: right;\">\n",
       "      <th></th>\n",
       "      <th>dataset_id</th>\n",
       "      <th>assay</th>\n",
       "      <th>disease</th>\n",
       "      <th>donor_id</th>\n",
       "      <th>tissue</th>\n",
       "      <th>tissue_general</th>\n",
       "      <th>pseudosample_id</th>\n",
       "    </tr>\n",
       "  </thead>\n",
       "  <tbody>\n",
       "    <tr>\n",
       "      <th>0</th>\n",
       "      <td>5af90777-6760-4003-9dba-8f945fec6fdf</td>\n",
       "      <td>10x 5' transcription profiling</td>\n",
       "      <td>normal</td>\n",
       "      <td>PD43948</td>\n",
       "      <td>blood</td>\n",
       "      <td>blood</td>\n",
       "      <td>1</td>\n",
       "    </tr>\n",
       "    <tr>\n",
       "      <th>61</th>\n",
       "      <td>5af90777-6760-4003-9dba-8f945fec6fdf</td>\n",
       "      <td>10x 5' transcription profiling</td>\n",
       "      <td>normal</td>\n",
       "      <td>PD45815</td>\n",
       "      <td>blood</td>\n",
       "      <td>blood</td>\n",
       "      <td>2</td>\n",
       "    </tr>\n",
       "    <tr>\n",
       "      <th>739</th>\n",
       "      <td>5af90777-6760-4003-9dba-8f945fec6fdf</td>\n",
       "      <td>10x 5' transcription profiling</td>\n",
       "      <td>normal</td>\n",
       "      <td>PD47465</td>\n",
       "      <td>blood</td>\n",
       "      <td>blood</td>\n",
       "      <td>3</td>\n",
       "    </tr>\n",
       "    <tr>\n",
       "      <th>16161</th>\n",
       "      <td>b0e547f0-462b-4f81-b31b-5b0a5d96f537</td>\n",
       "      <td>10x 5' v2</td>\n",
       "      <td>normal</td>\n",
       "      <td>SG_HEL_H02a</td>\n",
       "      <td>blood</td>\n",
       "      <td>blood</td>\n",
       "      <td>4</td>\n",
       "    </tr>\n",
       "    <tr>\n",
       "      <th>17015</th>\n",
       "      <td>b0e547f0-462b-4f81-b31b-5b0a5d96f537</td>\n",
       "      <td>10x 5' v2</td>\n",
       "      <td>normal</td>\n",
       "      <td>SG_HEL_H09a</td>\n",
       "      <td>blood</td>\n",
       "      <td>blood</td>\n",
       "      <td>5</td>\n",
       "    </tr>\n",
       "    <tr>\n",
       "      <th>...</th>\n",
       "      <td>...</td>\n",
       "      <td>...</td>\n",
       "      <td>...</td>\n",
       "      <td>...</td>\n",
       "      <td>...</td>\n",
       "      <td>...</td>\n",
       "      <td>...</td>\n",
       "    </tr>\n",
       "    <tr>\n",
       "      <th>4629070</th>\n",
       "      <td>456e8b9b-f872-488b-871d-94534090a865</td>\n",
       "      <td>Seq-Well</td>\n",
       "      <td>COVID-19</td>\n",
       "      <td>C6</td>\n",
       "      <td>blood</td>\n",
       "      <td>blood</td>\n",
       "      <td>1072</td>\n",
       "    </tr>\n",
       "    <tr>\n",
       "      <th>4630963</th>\n",
       "      <td>456e8b9b-f872-488b-871d-94534090a865</td>\n",
       "      <td>Seq-Well</td>\n",
       "      <td>COVID-19</td>\n",
       "      <td>C7</td>\n",
       "      <td>blood</td>\n",
       "      <td>blood</td>\n",
       "      <td>1073</td>\n",
       "    </tr>\n",
       "    <tr>\n",
       "      <th>4634327</th>\n",
       "      <td>456e8b9b-f872-488b-871d-94534090a865</td>\n",
       "      <td>Seq-Well</td>\n",
       "      <td>normal</td>\n",
       "      <td>H2</td>\n",
       "      <td>blood</td>\n",
       "      <td>blood</td>\n",
       "      <td>1074</td>\n",
       "    </tr>\n",
       "    <tr>\n",
       "      <th>4636268</th>\n",
       "      <td>2adb1f8a-a6b1-4909-8ee8-484814e2d4bf</td>\n",
       "      <td>microwell-seq</td>\n",
       "      <td>normal</td>\n",
       "      <td>Donor45</td>\n",
       "      <td>blood</td>\n",
       "      <td>blood</td>\n",
       "      <td>1075</td>\n",
       "    </tr>\n",
       "    <tr>\n",
       "      <th>4638987</th>\n",
       "      <td>8c42cfd0-0b0a-46d5-910c-fc833d83c45e</td>\n",
       "      <td>10x 3' v2</td>\n",
       "      <td>normal</td>\n",
       "      <td>3</td>\n",
       "      <td>blood</td>\n",
       "      <td>blood</td>\n",
       "      <td>1076</td>\n",
       "    </tr>\n",
       "  </tbody>\n",
       "</table>\n",
       "<p>1076 rows × 7 columns</p>\n",
       "</div>"
      ],
      "text/plain": [
       "                                   dataset_id                           assay  \\\n",
       "0        5af90777-6760-4003-9dba-8f945fec6fdf  10x 5' transcription profiling   \n",
       "61       5af90777-6760-4003-9dba-8f945fec6fdf  10x 5' transcription profiling   \n",
       "739      5af90777-6760-4003-9dba-8f945fec6fdf  10x 5' transcription profiling   \n",
       "16161    b0e547f0-462b-4f81-b31b-5b0a5d96f537                       10x 5' v2   \n",
       "17015    b0e547f0-462b-4f81-b31b-5b0a5d96f537                       10x 5' v2   \n",
       "...                                       ...                             ...   \n",
       "4629070  456e8b9b-f872-488b-871d-94534090a865                        Seq-Well   \n",
       "4630963  456e8b9b-f872-488b-871d-94534090a865                        Seq-Well   \n",
       "4634327  456e8b9b-f872-488b-871d-94534090a865                        Seq-Well   \n",
       "4636268  2adb1f8a-a6b1-4909-8ee8-484814e2d4bf                   microwell-seq   \n",
       "4638987  8c42cfd0-0b0a-46d5-910c-fc833d83c45e                       10x 3' v2   \n",
       "\n",
       "          disease     donor_id tissue tissue_general  pseudosample_id  \n",
       "0          normal      PD43948  blood          blood                1  \n",
       "61         normal      PD45815  blood          blood                2  \n",
       "739        normal      PD47465  blood          blood                3  \n",
       "16161      normal  SG_HEL_H02a  blood          blood                4  \n",
       "17015      normal  SG_HEL_H09a  blood          blood                5  \n",
       "...           ...          ...    ...            ...              ...  \n",
       "4629070  COVID-19           C6  blood          blood             1072  \n",
       "4630963  COVID-19           C7  blood          blood             1073  \n",
       "4634327    normal           H2  blood          blood             1074  \n",
       "4636268    normal      Donor45  blood          blood             1075  \n",
       "4638987    normal            3  blood          blood             1076  \n",
       "\n",
       "[1076 rows x 7 columns]"
      ]
     },
     "execution_count": 9,
     "metadata": {},
     "output_type": "execute_result"
    }
   ],
   "source": [
    "# add pseudosample_id\n",
    "sample_df = adata.obs[['dataset_id','assay','disease','donor_id', 'tissue','tissue_general']].drop_duplicates()\n",
    "sample_df['pseudosample_id'] = np.arange(len(sample_df))+1\n",
    "sample_df"
   ]
  },
  {
   "cell_type": "code",
   "execution_count": 10,
   "id": "6b77c5f7-fcf8-4f24-8dc7-c98877d1ed48",
   "metadata": {},
   "outputs": [],
   "source": [
    "adata.obs = adata.obs.merge(sample_df)"
   ]
  },
  {
   "cell_type": "markdown",
   "id": "9256f062-e384-46e6-8c94-886729a5eb8b",
   "metadata": {},
   "source": [
    "## create pseudobulk embeddings to use downstream"
   ]
  },
  {
   "cell_type": "code",
   "execution_count": 11,
   "id": "cf3f7218-c416-4df4-9ac7-af474266f337",
   "metadata": {},
   "outputs": [],
   "source": [
    "sample_col = 'pseudosample_id'"
   ]
  },
  {
   "cell_type": "code",
   "execution_count": 12,
   "id": "142b99ea-3583-4627-9d5c-eb3ae808c0d7",
   "metadata": {},
   "outputs": [],
   "source": [
    "pbulk_embs = {}"
   ]
  },
  {
   "cell_type": "markdown",
   "id": "c85d6395-7f96-4f53-bfc9-e92519014a4a",
   "metadata": {},
   "source": [
    "#### scGPT"
   ]
  },
  {
   "cell_type": "code",
   "execution_count": 13,
   "id": "b3c36c1a-17b0-497f-89e2-e4e7d244a2a2",
   "metadata": {},
   "outputs": [],
   "source": [
    "emb_name = 'scgpt'\n",
    "\n",
    "## Input\n",
    "pseudobulk_input = pd.DataFrame(adata.obsm[emb_name], index=adata.obs.loc[:,sample_col]).reset_index().groupby(sample_col).mean()\n",
    "\n",
    "#limit to the sample pool, this will also put it in the right order to index using the groupkfold inds\n",
    "pbulk_embs[emb_name] = pseudobulk_input#.loc[sample_pool,:]"
   ]
  },
  {
   "cell_type": "markdown",
   "id": "46958f8b-0cb2-4658-94ce-0869f46365f5",
   "metadata": {},
   "source": [
    "#### scGPT -> 40 PCs"
   ]
  },
  {
   "cell_type": "code",
   "execution_count": 14,
   "id": "62fcb10b-6ac6-45c7-b250-5081b25dbda8",
   "metadata": {},
   "outputs": [],
   "source": [
    "emb_name = 'scgpt'\n",
    "\n",
    "pca = sklearn.decomposition.PCA(n_components=40)\n",
    "scgpt_input_pca = pca.fit_transform(adata.obsm[emb_name])\n",
    "\n",
    "## Input\n",
    "pseudobulk_input = pd.DataFrame(scgpt_input_pca, index=adata.obs.loc[:,sample_col]).reset_index().groupby(sample_col).mean()\n",
    "\n",
    "#limit to the sample pool, this will also put it in the right order to index using the groupkfold inds\n",
    "pbulk_embs['scgpt_40PCs'] = pseudobulk_input#.loc[sample_pool,:]"
   ]
  },
  {
   "cell_type": "markdown",
   "id": "99ce8a9d-8976-4417-ac34-7112a886769b",
   "metadata": {},
   "source": [
    "#### cell type props"
   ]
  },
  {
   "cell_type": "code",
   "execution_count": 15,
   "id": "96642de8-38f5-4bed-b7cf-aa4b215922e9",
   "metadata": {},
   "outputs": [],
   "source": [
    "## Input\n",
    "celltype_counts_df = pd.DataFrame(adata.obs.groupby(sample_col).cell_type.value_counts()).rename({'count':'cell_type_counts'},axis=1).reset_index().pivot(index=sample_col, columns=\"cell_type\", values=\"cell_type_counts\")\n",
    "celltype_fracs_df = celltype_counts_df.div(celltype_counts_df.sum(axis=1), axis=0)\n",
    "pseudobulk_input = celltype_fracs_df.fillna(0) # replace nan with 0 \n",
    "pbulk_embs['ct_props'] = pseudobulk_input#.loc[sample_pool,:]"
   ]
  },
  {
   "cell_type": "markdown",
   "id": "d3e2991b-5389-42a2-a97f-422ee7b6b5b7",
   "metadata": {},
   "source": [
    "#### cell type props + mean embedding based on scGPT"
   ]
  },
  {
   "cell_type": "code",
   "execution_count": 16,
   "id": "25b3edaf-1a5b-45bd-b5b2-a7b3e035848f",
   "metadata": {},
   "outputs": [],
   "source": [
    "#get mean embedding per cell type\n",
    "\n",
    "emb_name = 'scgpt'\n",
    "\n",
    "# get mean embedding per sample+cell_type\n",
    "pseudobulk_input = pd.DataFrame(adata.obsm[emb_name], index=adata.obs.index).merge(adata.obs[[sample_col,'cell_type']], right_index=True, left_index=True).groupby([sample_col,'cell_type']).mean()\n",
    "\n",
    "# change columns to more interpretable strs \n",
    "pseudobulk_input.columns = ['scgpt_'+str(c) for c in pseudobulk_input.columns]\n",
    "\n",
    "# reset index\n",
    "pseudobulk_input = pseudobulk_input.reset_index()\n",
    "\n",
    "# Pivot the dataframe - cell types that dont exist in a given sample - fill 0 for mean expression\n",
    "psblk_per_celltype = pseudobulk_input.pivot(index=sample_col, columns='cell_type').fillna(0)\n",
    "\n",
    "# Flatten the multi-level columns\n",
    "psblk_per_celltype.columns = ['_'.join(col).strip() for col in psblk_per_celltype.columns.values]"
   ]
  },
  {
   "cell_type": "code",
   "execution_count": 17,
   "id": "29b01e3b-2dd5-474b-9b28-c13fda9d88c0",
   "metadata": {},
   "outputs": [],
   "source": [
    "# concat cell type fracs and mean embs dfs\n",
    "pbulk_embs['ct_fracs_means_scGPTfull'] = pbulk_embs['ct_props'].merge(psblk_per_celltype, right_index=True, left_index=True).fillna(0)"
   ]
  },
  {
   "cell_type": "markdown",
   "id": "bd2049ea-95c7-4a6b-9efd-d86ad3846b53",
   "metadata": {},
   "source": [
    "#### cell type props + mean embedding based on scGPT+40PCs"
   ]
  },
  {
   "cell_type": "code",
   "execution_count": 18,
   "id": "9481c105-c66c-4760-87b3-d9aec43a1b4c",
   "metadata": {},
   "outputs": [],
   "source": [
    "#get mean embedding per cell type\n",
    "\n",
    "emb_name = 'scgpt'\n",
    "pca = sklearn.decomposition.PCA(n_components=40)\n",
    "scgpt_input_pca = pca.fit_transform(adata.obsm[emb_name])\n",
    "\n",
    "# get mean embedding per sample+cell_type\n",
    "pseudobulk_input = pd.DataFrame(scgpt_input_pca, index=adata.obs.index).merge(adata.obs[[sample_col,'cell_type']], right_index=True, left_index=True).groupby([sample_col,'cell_type']).mean()\n",
    "\n",
    "# change columns to more interpretable strs \n",
    "pseudobulk_input.columns = ['scgpt_'+str(c) for c in pseudobulk_input.columns]\n",
    "\n",
    "# reset index\n",
    "pseudobulk_input = pseudobulk_input.reset_index()\n",
    "\n",
    "# Pivot the dataframe - cell types that dont exist in a given sample - fill 0 for mean expression\n",
    "psblk_per_celltype = pseudobulk_input.pivot(index=sample_col, columns='cell_type').fillna(0)\n",
    "\n",
    "# Flatten the multi-level columns\n",
    "psblk_per_celltype.columns = ['_'.join(col).strip() for col in psblk_per_celltype.columns.values]"
   ]
  },
  {
   "cell_type": "code",
   "execution_count": 19,
   "id": "8971ba50-95e2-4656-a859-3945f7a76d39",
   "metadata": {},
   "outputs": [],
   "source": [
    "# concat cell type fracs and mean embs dfs\n",
    "pbulk_embs['ct_fracs_means_scGPT_40PCs'] = pbulk_embs['ct_props'].merge(psblk_per_celltype, right_index=True, left_index=True)"
   ]
  },
  {
   "cell_type": "markdown",
   "id": "27d53abd-6f6e-487b-93f5-f2d76014cbf0",
   "metadata": {},
   "source": [
    "## define sample pool, target, X, splits for this task"
   ]
  },
  {
   "cell_type": "markdown",
   "id": "a756a1b9-1ec7-4a3d-bfae-2c00894b391f",
   "metadata": {},
   "source": [
    "### define sample_pool for this target"
   ]
  },
  {
   "cell_type": "code",
   "execution_count": 20,
   "id": "859c4ef6-ced6-48c2-bdfd-68c4fbf60ffb",
   "metadata": {
    "tags": []
   },
   "outputs": [
    {
     "name": "stdout",
     "output_type": "stream",
     "text": [
      "this target has 1076 non-NA samples\n"
     ]
    }
   ],
   "source": [
    "target_col = 'disease'\n",
    "\n",
    "#get sample IDs that are not NA for this target\n",
    "notNA_samples = adata.obs[[sample_col,target_col]].drop_duplicates()[sample_col][~adata.obs[[sample_col,target_col]].drop_duplicates()[target_col].isna()]\n",
    "print(\"this target has {} non-NA samples\".format(len(notNA_samples)))\n"
   ]
  },
  {
   "cell_type": "code",
   "execution_count": 21,
   "id": "07859cc3-b596-48c0-a51e-c52c0a20d91c",
   "metadata": {},
   "outputs": [
    {
     "name": "stdout",
     "output_type": "stream",
     "text": [
      "1076\n"
     ]
    }
   ],
   "source": [
    "sample_pool = np.array(notNA_samples)\n",
    "print(len(sample_pool))"
   ]
  },
  {
   "cell_type": "markdown",
   "id": "5321d9df-c556-4e07-82cb-22b11b7ff16c",
   "metadata": {},
   "source": [
    "### define target, and limit/order by sample_pool"
   ]
  },
  {
   "cell_type": "code",
   "execution_count": 22,
   "id": "bf2d831c-35ee-4899-8b4c-0c3f87146917",
   "metadata": {},
   "outputs": [],
   "source": [
    "## Define targets\n",
    "targets = adata.obs.loc[:, [sample_col, target_col]].drop_duplicates().set_index(sample_col).loc[sample_pool,target_col]\n",
    "labels, targets_ind = np.unique(targets, return_inverse=True)\n",
    "targets = pd.Series(targets_ind, index=targets.index)"
   ]
  },
  {
   "cell_type": "code",
   "execution_count": 23,
   "id": "a82cfa9a-d3d9-4bf2-a767-9726461a112a",
   "metadata": {},
   "outputs": [
    {
     "data": {
      "text/plain": [
       "array(['COVID-19', 'normal'], dtype=object)"
      ]
     },
     "execution_count": 23,
     "metadata": {},
     "output_type": "execute_result"
    }
   ],
   "source": [
    "labels"
   ]
  },
  {
   "cell_type": "code",
   "execution_count": 24,
   "id": "ff403244-b117-4784-a7d1-aa763eef01bc",
   "metadata": {
    "scrolled": true
   },
   "outputs": [
    {
     "data": {
      "text/plain": [
       "1    0.5\n",
       "0    0.5\n",
       "Name: count, dtype: float64"
      ]
     },
     "execution_count": 24,
     "metadata": {},
     "output_type": "execute_result"
    }
   ],
   "source": [
    "targets.value_counts()/len(targets)"
   ]
  },
  {
   "cell_type": "markdown",
   "id": "7d0c163c-7655-43fd-9ea9-c596c0d23cab",
   "metadata": {},
   "source": [
    "### splits for leave one (dataset) out cross validation"
   ]
  },
  {
   "cell_type": "code",
   "execution_count": 25,
   "id": "e923c2d4-ae2d-4e61-90d9-9388fe4bcf9f",
   "metadata": {},
   "outputs": [],
   "source": [
    "from sklearn.model_selection import GroupKFold\n",
    "group_kfold = GroupKFold(n_splits=10)\n",
    "groups = adata.obs.set_index(sample_col).loc[sample_pool, 'dataset_id'].reset_index().drop_duplicates()['dataset_id']\n",
    "splits = list(group_kfold.split(sample_pool, groups=groups)) #if don't convert to list, iterator is exhausted after one use\n"
   ]
  },
  {
   "cell_type": "code",
   "execution_count": 26,
   "id": "14eb1d1e-378c-42e0-a00c-c69c76f78217",
   "metadata": {
    "scrolled": true
   },
   "outputs": [
    {
     "name": "stdout",
     "output_type": "stream",
     "text": [
      "datasets reserved for test fold:  ['3faad104-2ab8-4434-816d-474d8d2641db']\n",
      "targets in test fold:\n",
      " 1    303\n",
      "Name: count, dtype: int64\n",
      "n samples in train:  773\n",
      "n samples in test:  303\n",
      "\n",
      "\n",
      "datasets reserved for test fold:  ['9dbab10c-118d-496b-966a-67f1763a6b7d']\n",
      "targets in test fold:\n",
      " 0    158\n",
      "1      7\n",
      "Name: count, dtype: int64\n",
      "n samples in train:  911\n",
      "n samples in test:  165\n",
      "\n",
      "\n",
      "datasets reserved for test fold:  ['b0e547f0-462b-4f81-b31b-5b0a5d96f537']\n",
      "targets in test fold:\n",
      " 1    152\n",
      "Name: count, dtype: int64\n",
      "n samples in train:  924\n",
      "n samples in test:  152\n",
      "\n",
      "\n",
      "datasets reserved for test fold:  ['ebc2e1ff-c8f9-466a-acf4-9d291afaf8b3']\n",
      "targets in test fold:\n",
      " 0    102\n",
      "1      3\n",
      "Name: count, dtype: int64\n",
      "n samples in train:  971\n",
      "n samples in test:  105\n",
      "\n",
      "\n",
      "datasets reserved for test fold:  ['c7775e88-49bf-4ba2-a03b-93f00447c958']\n",
      "targets in test fold:\n",
      " 0    86\n",
      "1     8\n",
      "Name: count, dtype: int64\n",
      "n samples in train:  982\n",
      "n samples in test:  94\n",
      "\n",
      "\n",
      "datasets reserved for test fold:  ['01ad3cd7-3929-4654-84c0-6db05bd5fd59']\n",
      "targets in test fold:\n",
      " 0    54\n",
      "1     3\n",
      "Name: count, dtype: int64\n",
      "n samples in train:  1019\n",
      "n samples in test:  57\n",
      "\n",
      "\n",
      "datasets reserved for test fold:  ['21d3e683-80a4-4d9b-bc89-ebb2df513dde', '59b69042-47c2-47fd-ad03-d21beb99818f', '2adb1f8a-a6b1-4909-8ee8-484814e2d4bf']\n",
      "targets in test fold:\n",
      " 0    40\n",
      "1    10\n",
      "Name: count, dtype: int64\n",
      "n samples in train:  1026\n",
      "n samples in test:  50\n",
      "\n",
      "\n",
      "datasets reserved for test fold:  ['5af90777-6760-4003-9dba-8f945fec6fdf', '5bc42b88-bb76-4954-927b-8bb7369adc64', 'de2c780c-1747-40bd-9ccf-9588ec186cee', '30cd5311-6c09-46c9-94f1-71fe4b91813c']\n",
      "targets in test fold:\n",
      " 0    41\n",
      "1     9\n",
      "Name: count, dtype: int64\n",
      "n samples in train:  1026\n",
      "n samples in test:  50\n",
      "\n",
      "\n",
      "datasets reserved for test fold:  ['471647b3-04fe-4c76-8372-3264feb950e8', 'fa8605cf-f27e-44af-ac2a-476bee4410d3', '218acb0f-9f2f-4f76-b90b-15a4b7c7f629', '456e8b9b-f872-488b-871d-94534090a865', '8c42cfd0-0b0a-46d5-910c-fc833d83c45e']\n",
      "targets in test fold:\n",
      " 1    29\n",
      "0    21\n",
      "Name: count, dtype: int64\n",
      "n samples in train:  1026\n",
      "n samples in test:  50\n",
      "\n",
      "\n",
      "datasets reserved for test fold:  ['ed5d841d-6346-47d4-ab2f-7119ad7e3a35', '1b9d8702-5af8-4142-85ed-020eb06ec4f6', 'c2a461b1-0c15-4047-9fcb-1f966fe55100', '2a498ace-872a-4935-984b-1afa70fd9886', '53d208b0-2cfd-4366-9866-c3c6114081bc']\n",
      "targets in test fold:\n",
      " 0    36\n",
      "1    14\n",
      "Name: count, dtype: int64\n",
      "n samples in train:  1026\n",
      "n samples in test:  50\n",
      "\n",
      "\n"
     ]
    }
   ],
   "source": [
    "for (train_index, test_index) in splits:\n",
    "    print(\"datasets reserved for test fold: \", list(adata.obs.set_index(sample_col).loc[sample_pool[test_index],'dataset_id'].drop_duplicates()))\n",
    "    print(\"targets in test fold:\\n\", targets.iloc[test_index].value_counts())\n",
    "    print(\"n samples in train: \", len(train_index))\n",
    "    print(\"n samples in test: \", len(test_index))\n",
    "    print(\"\\n\")"
   ]
  },
  {
   "cell_type": "markdown",
   "id": "680fc0b4-8428-4cdd-8cf1-e6c0f1bc7120",
   "metadata": {},
   "source": [
    "### limit/order pseudobulk embeddings by sample_pool"
   ]
  },
  {
   "cell_type": "code",
   "execution_count": 27,
   "id": "595787d0-a340-49d0-b9a0-daba5465b13e",
   "metadata": {},
   "outputs": [],
   "source": [
    "this_pbulk_embs = {}\n",
    "for emb in pbulk_embs:\n",
    "    this_pbulk_embs[emb] = pbulk_embs[emb].loc[sample_pool]"
   ]
  },
  {
   "cell_type": "markdown",
   "id": "e0d4ba03-c7b3-4326-a4ff-259ca3065d28",
   "metadata": {},
   "source": [
    "## calculate heuristic baseline performance on these splits\n",
    "\n",
    "not including majority class per study as a baseline, since we shouldn't have study based batch effects affecting performance using our GroupKFold!"
   ]
  },
  {
   "cell_type": "code",
   "execution_count": 28,
   "id": "b0853f57-de80-4965-9c0d-998681f40cf8",
   "metadata": {},
   "outputs": [
    {
     "name": "stdout",
     "output_type": "stream",
     "text": [
      "baseline accuracy on K val sets:  [0, 0.04242424242424243, 0, 0.02857142857142857, 0.0851063829787234, 0.05263157894736842, 0.2, 0.18, 0.42, 0.28]\n",
      "mean accuracy:  0.12887336329217627\n"
     ]
    }
   ],
   "source": [
    "val_majclass_bline_accs= []\n",
    "\n",
    "for (train_index, val_index) in splits:\n",
    "    #calculate baseline performance - majority class\n",
    "    majclass_bline_pred = targets.iloc[train_index].value_counts().index[targets.iloc[train_index].value_counts().argmax()]\n",
    "    if majclass_bline_pred not in targets.iloc[val_index].value_counts().index:\n",
    "        val_majclass_bline_accs.append(0)\n",
    "    else:\n",
    "        val_majclass_bline_accs.append(targets.iloc[val_index].value_counts()[majclass_bline_pred]/len(val_index))\n",
    "\n",
    "print(\"baseline accuracy on K val sets: \", val_majclass_bline_accs)\n",
    "print(\"mean accuracy: \", np.mean(val_majclass_bline_accs))"
   ]
  },
  {
   "cell_type": "markdown",
   "id": "30b00549-3124-447b-afe3-5d0f1fe11bc0",
   "metadata": {},
   "source": [
    "## Evaluate models using nested GroupKFold CV"
   ]
  },
  {
   "cell_type": "code",
   "execution_count": 29,
   "id": "ce1afbf1-2ed4-4043-8e10-996ae43ec6d9",
   "metadata": {
    "scrolled": true
   },
   "outputs": [],
   "source": [
    "## train KNN w/ Kfold CV\n",
    "from sklearn.model_selection import GridSearchCV, cross_val_score\n",
    "\n",
    "def nested_kfold_eval(pseudobulk_input, targets, splits, model, param_grid):\n",
    "\n",
    "    # Inner CV for hyperparameter tuning\n",
    "    inner_cv = GridSearchCV(model, param_grid, cv=5)\n",
    "\n",
    "    # Nested CV\n",
    "    nested_score = cross_val_score(inner_cv, pseudobulk_input, targets, cv=group_kfold, groups=groups)\n",
    "    \n",
    "    print(\"Nested CV Score: \", nested_score.mean())\n",
    "    \n",
    "    return nested_score"
   ]
  },
  {
   "cell_type": "code",
   "execution_count": 30,
   "id": "aa7d0c43-b9a8-4444-8374-7a2ca7e64559",
   "metadata": {},
   "outputs": [],
   "source": [
    "# set up a dict with models and hparams to test\n",
    "\n",
    "model_param_dict = {\n",
    "    'KNN': (KNeighborsClassifier(), {'n_neighbors':np.arange(10)+1}),\n",
    "    'random_forest': (RandomForestClassifier(), {'min_samples_leaf': [1,2,3,4,5,6,7,8,9,10,11,12,13,14,15,16,17,18,19,20]}),\n",
    "    #'l1_logistic_regression': (LogisticRegression(max_iter=500, solver='saga', penalty='l1'), {'C':[1e-5,1e-4,1e-3,1e-2,1e-1,1,10,100,1000,10000]}),\n",
    "    'l2_logistic_regression': (LogisticRegression(max_iter=500, penalty='l2'), {'C':[1e-5,1e-4,1e-3,1e-2,1e-1,1,10,100,1000,10000]})\n",
    "}\n"
   ]
  },
  {
   "cell_type": "code",
   "execution_count": 31,
   "id": "6d23a1d3-56dc-427d-877b-84e921af5de4",
   "metadata": {},
   "outputs": [
    {
     "name": "stdout",
     "output_type": "stream",
     "text": [
      "--------- KNN ----------\n",
      "embedding:  scgpt\n",
      "shape of embedding:  (1076, 512)\n",
      "Nested CV Score:  0.7829796220063536\n",
      "\n",
      "\n",
      "embedding:  scgpt_40PCs\n",
      "shape of embedding:  (1076, 40)\n",
      "Nested CV Score:  0.785378061850338\n",
      "\n",
      "\n",
      "embedding:  ct_props\n",
      "shape of embedding:  (1076, 120)\n",
      "Nested CV Score:  0.5265483427482085\n",
      "\n",
      "\n",
      "embedding:  ct_fracs_means_scGPTfull\n",
      "shape of embedding:  (1076, 61560)\n",
      "Nested CV Score:  0.6559946733995108\n",
      "\n",
      "\n",
      "embedding:  ct_fracs_means_scGPT_40PCs\n",
      "shape of embedding:  (1076, 4920)\n",
      "Nested CV Score:  0.6058737345979038\n",
      "\n",
      "\n",
      "\n",
      "\n",
      "--------- random_forest ----------\n",
      "embedding:  scgpt\n",
      "shape of embedding:  (1076, 512)\n",
      "Nested CV Score:  0.7871689014606148\n",
      "\n",
      "\n",
      "embedding:  scgpt_40PCs\n",
      "shape of embedding:  (1076, 40)\n",
      "Nested CV Score:  0.6885140520451022\n",
      "\n",
      "\n",
      "embedding:  ct_props\n",
      "shape of embedding:  (1076, 120)\n",
      "Nested CV Score:  0.561644171328027\n",
      "\n",
      "\n",
      "embedding:  ct_fracs_means_scGPTfull\n",
      "shape of embedding:  (1076, 61560)\n",
      "Nested CV Score:  0.5735850167003582\n",
      "\n",
      "\n",
      "embedding:  ct_fracs_means_scGPT_40PCs\n",
      "shape of embedding:  (1076, 4920)\n",
      "Nested CV Score:  0.580105360112079\n",
      "\n",
      "\n",
      "\n",
      "\n",
      "--------- l2_logistic_regression ----------\n",
      "embedding:  scgpt\n",
      "shape of embedding:  (1076, 512)\n",
      "Nested CV Score:  0.7964503327952377\n",
      "\n",
      "\n",
      "embedding:  scgpt_40PCs\n",
      "shape of embedding:  (1076, 40)\n",
      "Nested CV Score:  0.7596603380062851\n",
      "\n",
      "\n",
      "embedding:  ct_props\n",
      "shape of embedding:  (1076, 120)\n",
      "Nested CV Score:  0.5424007941747622\n",
      "\n",
      "\n",
      "embedding:  ct_fracs_means_scGPTfull\n",
      "shape of embedding:  (1076, 61560)\n",
      "Nested CV Score:  0.45907138666994196\n",
      "\n",
      "\n",
      "embedding:  ct_fracs_means_scGPT_40PCs\n",
      "shape of embedding:  (1076, 4920)\n",
      "Nested CV Score:  0.6224068783378097\n",
      "\n",
      "\n",
      "\n",
      "\n"
     ]
    }
   ],
   "source": [
    "blood_covVSnormal_results = {}\n",
    "for model in model_param_dict:\n",
    "    print(\"--------- {} ----------\".format(model))\n",
    "    blood_covVSnormal_results[model] = {}\n",
    "    for emb in this_pbulk_embs:\n",
    "        print('embedding: ', emb)\n",
    "        print('shape of embedding: ', this_pbulk_embs[emb].shape)\n",
    "        blood_covVSnormal_results[model][emb] = nested_kfold_eval(this_pbulk_embs[emb], targets, splits, model=model_param_dict[model][0], param_grid = model_param_dict[model][1])\n",
    "        print(\"\\n\")\n",
    "    print(\"\\n\")"
   ]
  },
  {
   "cell_type": "code",
   "execution_count": 32,
   "id": "68c8103f-008c-4cf8-a922-86578d213579",
   "metadata": {},
   "outputs": [
    {
     "data": {
      "image/png": "[encoded data removed]",
      "text/plain": [
       "<Figure size 1000x300 with 1 Axes>"
      ]
     },
     "metadata": {},
     "output_type": "display_data"
    }
   ],
   "source": [
    "import seaborn as sns\n",
    "import matplotlib.pyplot as plt\n",
    "\n",
    "# Adjust the figure size\n",
    "plt.figure(figsize=(10, 3))  # Width = 12, Height = 6 (you can change these values as needed)\n",
    "\n",
    "# Create the stripplot\n",
    "sns.stripplot(\n",
    "    data=pd.DataFrame(blood_covVSnormal_results['KNN']).reset_index().rename(columns={\"index\": \"fold\"}).melt(id_vars=\"fold\"),\n",
    "    x=\"fold\",\n",
    "    y=\"value\",\n",
    "    hue=\"variable\"\n",
    ")\n",
    "\n",
    "# Move the legend to the right side outside the plot\n",
    "plt.legend(bbox_to_anchor=(1.02, 1), loc='upper left')\n",
    "plt.ylabel(\"accuracy\")\n",
    "plt.title(\"Cross Validation Results using KNN\")\n",
    "\n",
    "# Show the plot\n",
    "plt.show()"
   ]
  },
  {
   "cell_type": "code",
   "execution_count": 33,
   "id": "df998d56-f35e-47e2-a10a-d863c64892af",
   "metadata": {},
   "outputs": [
    {
     "data": {
      "image/png": "[encoded data removed]",
      "text/plain": [
       "<Figure size 1000x300 with 1 Axes>"
      ]
     },
     "metadata": {},
     "output_type": "display_data"
    }
   ],
   "source": [
    "import seaborn as sns\n",
    "import matplotlib.pyplot as plt\n",
    "\n",
    "# Adjust the figure size\n",
    "plt.figure(figsize=(10, 3))  # Width = 12, Height = 6 (you can change these values as needed)\n",
    "\n",
    "# Create the stripplot\n",
    "sns.stripplot(\n",
    "    data=pd.DataFrame(blood_covVSnormal_results['random_forest']).reset_index().rename(columns={\"index\": \"fold\"}).melt(id_vars=\"fold\"),\n",
    "    x=\"fold\",\n",
    "    y=\"value\",\n",
    "    hue=\"variable\"\n",
    ")\n",
    "\n",
    "# Move the legend to the right side outside the plot\n",
    "plt.legend(bbox_to_anchor=(1.02, 1), loc='upper left')\n",
    "plt.ylabel(\"accuracy\")\n",
    "plt.title(\"Cross Validation Results using Random Forest\")\n",
    "\n",
    "# Show the plot\n",
    "plt.show()"
   ]
  },
  {
   "cell_type": "code",
   "execution_count": 34,
   "id": "1b5bb32a-e3a1-42c3-8f12-681fb9d837c2",
   "metadata": {},
   "outputs": [
    {
     "data": {
      "image/png": "[encoded data removed]",
      "text/plain": [
       "<Figure size 1000x300 with 1 Axes>"
      ]
     },
     "metadata": {},
     "output_type": "display_data"
    }
   ],
   "source": [
    "import seaborn as sns\n",
    "import matplotlib.pyplot as plt\n",
    "\n",
    "# Adjust the figure size\n",
    "plt.figure(figsize=(10, 3))  # Width = 12, Height = 6 (you can change these values as needed)\n",
    "\n",
    "# Create the stripplot\n",
    "sns.stripplot(\n",
    "    data=pd.DataFrame(blood_covVSnormal_results['l2_logistic_regression']).reset_index().rename(columns={\"index\": \"fold\"}).melt(id_vars=\"fold\"),\n",
    "    x=\"fold\",\n",
    "    y=\"value\",\n",
    "    hue=\"variable\"\n",
    ")\n",
    "\n",
    "# Move the legend to the right side outside the plot\n",
    "plt.legend(bbox_to_anchor=(1.02, 1), loc='upper left')\n",
    "plt.ylabel(\"accuracy\")\n",
    "plt.title(\"Cross Validation Results using L2 Logistic Regression\")\n",
    "\n",
    "# Show the plot\n",
    "plt.show()"
   ]
  },
  {
   "cell_type": "markdown",
   "id": "b5a244ff-e1b8-4689-952f-72b7978de2f9",
   "metadata": {},
   "source": [
    "# task 3b: blood, distinguish normal vs lupus"
   ]
  },
  {
   "cell_type": "markdown",
   "id": "53ecc1c5-fb35-4676-8b9c-647e3f527cad",
   "metadata": {},
   "source": [
    "### choose a random sampling of samples that won't be too large for memory"
   ]
  },
  {
   "cell_type": "code",
   "execution_count": 35,
   "id": "74c7da88-894d-4781-87e6-1deaadbe2acb",
   "metadata": {},
   "outputs": [],
   "source": [
    "select_sample_proxies = cell_metadata.loc[(cell_metadata.suspension_type==\"cell\") & (cell_metadata.tissue_general=='blood') & (cell_metadata.disease.isin([\"normal\",\"systemic lupus erythematosus\"])),['donor_id', 'dataset_id','assay','development_stage','disease', 'tissue','tissue_general']].drop_duplicates()"
   ]
  },
  {
   "cell_type": "code",
   "execution_count": 36,
   "id": "a4951c66-7f9c-4556-9114-1d419e891533",
   "metadata": {},
   "outputs": [
    {
     "data": {
      "text/plain": [
       "disease\n",
       "normal                          1810\n",
       "systemic lupus erythematosus     164\n",
       "Name: count, dtype: int64"
      ]
     },
     "execution_count": 36,
     "metadata": {},
     "output_type": "execute_result"
    }
   ],
   "source": [
    "select_sample_proxies.disease.value_counts()"
   ]
  },
  {
   "cell_type": "code",
   "execution_count": 37,
   "id": "5ddc3254-7708-4135-8b6b-132292a21865",
   "metadata": {},
   "outputs": [],
   "source": [
    "# choose MIN_SAMPLES examples from one target label to get balanced sample from those sample proxies -- merge with cell info to get all cells, in order to grab soma_joinid\n",
    "select_cells = select_sample_proxies.groupby(\"disease\").sample(n=min(select_sample_proxies.disease.value_counts())).merge(cell_metadata)"
   ]
  },
  {
   "cell_type": "code",
   "execution_count": 38,
   "id": "2b4583a0-ea6d-4c2a-937c-ecf7891738a6",
   "metadata": {},
   "outputs": [
    {
     "data": {
      "text/plain": [
       "1127558"
      ]
     },
     "execution_count": 38,
     "metadata": {},
     "output_type": "execute_result"
    }
   ],
   "source": [
    "len(select_cells)"
   ]
  },
  {
   "cell_type": "code",
   "execution_count": 39,
   "id": "ad9dd5b8-7d5b-4a70-ae51-1764397baea1",
   "metadata": {},
   "outputs": [
    {
     "data": {
      "text/plain": [
       "328"
      ]
     },
     "execution_count": 39,
     "metadata": {},
     "output_type": "execute_result"
    }
   ],
   "source": [
    "#num \"samples\" pulled\n",
    "len(select_cells[['donor_id', 'dataset_id','assay','development_stage','disease', 'tissue','tissue_general']].drop_duplicates())"
   ]
  },
  {
   "cell_type": "code",
   "execution_count": 41,
   "id": "61b34b45-f141-4460-b7aa-1402b11b1293",
   "metadata": {},
   "outputs": [
    {
     "name": "stderr",
     "output_type": "stream",
     "text": [
      "The \"stable\" release is currently 2023-12-15. Specify 'census_version=\"2023-12-15\"' in future calls to open_soma() to ensure data consistency.\n"
     ]
    }
   ],
   "source": [
    "with cellxgene_census.open_soma() as census:\n",
    "    covidvsnormal_blood_adata = cellxgene_census.get_anndata(\n",
    "        census = census,\n",
    "        organism = \"Homo sapiens\",\n",
    "        measurement_name = \"RNA\",\n",
    "        obs_coords = select_cells.soma_joinid.tolist(),\n",
    "        column_names = {\"obs\": [\"soma_joinid\", \"assay\", \"cell_type\", \"tissue\", \"tissue_general\", \"suspension_type\", \"development_stage\", \"disease\", \"donor_id\",\"dataset_id\"]},\n",
    "        obs_embeddings = [\"scgpt\"]\n",
    "    )"
   ]
  },
  {
   "cell_type": "code",
   "execution_count": 42,
   "id": "c784d00b-3908-451d-8bf7-c73d2ea63b26",
   "metadata": {},
   "outputs": [],
   "source": [
    "adata = covidvsnormal_blood_adata"
   ]
  },
  {
   "cell_type": "code",
   "execution_count": 43,
   "id": "bd389e1e-b458-4572-8524-86fcec795bd3",
   "metadata": {},
   "outputs": [
    {
     "data": {
      "text/plain": [
       "AnnData object with n_obs × n_vars = 1127558 × 60664\n",
       "    obs: 'soma_joinid', 'assay', 'cell_type', 'tissue', 'tissue_general', 'suspension_type', 'development_stage', 'disease', 'donor_id', 'dataset_id'\n",
       "    var: 'soma_joinid', 'feature_id', 'feature_name', 'feature_length', 'nnz', 'n_measured_obs'\n",
       "    obsm: 'scgpt'"
      ]
     },
     "execution_count": 43,
     "metadata": {},
     "output_type": "execute_result"
    }
   ],
   "source": [
    "adata"
   ]
  },
  {
   "cell_type": "code",
   "execution_count": 44,
   "id": "c44c8138-9e94-439b-b21f-14834a6c9618",
   "metadata": {},
   "outputs": [
    {
     "data": {
      "text/html": [
       "<div>\n",
       "<style scoped>\n",
       "    .dataframe tbody tr th:only-of-type {\n",
       "        vertical-align: middle;\n",
       "    }\n",
       "\n",
       "    .dataframe tbody tr th {\n",
       "        vertical-align: top;\n",
       "    }\n",
       "\n",
       "    .dataframe thead th {\n",
       "        text-align: right;\n",
       "    }\n",
       "</style>\n",
       "<table border=\"1\" class=\"dataframe\">\n",
       "  <thead>\n",
       "    <tr style=\"text-align: right;\">\n",
       "      <th></th>\n",
       "      <th>dataset_id</th>\n",
       "      <th>assay</th>\n",
       "      <th>disease</th>\n",
       "      <th>donor_id</th>\n",
       "      <th>tissue</th>\n",
       "      <th>tissue_general</th>\n",
       "      <th>pseudosample_id</th>\n",
       "    </tr>\n",
       "  </thead>\n",
       "  <tbody>\n",
       "    <tr>\n",
       "      <th>0</th>\n",
       "      <td>5af90777-6760-4003-9dba-8f945fec6fdf</td>\n",
       "      <td>10x 5' transcription profiling</td>\n",
       "      <td>normal</td>\n",
       "      <td>PD47512</td>\n",
       "      <td>blood</td>\n",
       "      <td>blood</td>\n",
       "      <td>1</td>\n",
       "    </tr>\n",
       "    <tr>\n",
       "      <th>6427</th>\n",
       "      <td>b0e547f0-462b-4f81-b31b-5b0a5d96f537</td>\n",
       "      <td>10x 5' v2</td>\n",
       "      <td>normal</td>\n",
       "      <td>SG_HEL_H06a</td>\n",
       "      <td>blood</td>\n",
       "      <td>blood</td>\n",
       "      <td>2</td>\n",
       "    </tr>\n",
       "    <tr>\n",
       "      <th>7812</th>\n",
       "      <td>b0e547f0-462b-4f81-b31b-5b0a5d96f537</td>\n",
       "      <td>10x 5' v2</td>\n",
       "      <td>normal</td>\n",
       "      <td>SG_HEL_H181</td>\n",
       "      <td>blood</td>\n",
       "      <td>blood</td>\n",
       "      <td>3</td>\n",
       "    </tr>\n",
       "    <tr>\n",
       "      <th>8979</th>\n",
       "      <td>b0e547f0-462b-4f81-b31b-5b0a5d96f537</td>\n",
       "      <td>10x 5' v2</td>\n",
       "      <td>normal</td>\n",
       "      <td>SG_HEL_H191</td>\n",
       "      <td>blood</td>\n",
       "      <td>blood</td>\n",
       "      <td>4</td>\n",
       "    </tr>\n",
       "    <tr>\n",
       "      <th>12379</th>\n",
       "      <td>b0e547f0-462b-4f81-b31b-5b0a5d96f537</td>\n",
       "      <td>10x 5' v2</td>\n",
       "      <td>normal</td>\n",
       "      <td>SG_HEL_H052</td>\n",
       "      <td>blood</td>\n",
       "      <td>blood</td>\n",
       "      <td>5</td>\n",
       "    </tr>\n",
       "    <tr>\n",
       "      <th>...</th>\n",
       "      <td>...</td>\n",
       "      <td>...</td>\n",
       "      <td>...</td>\n",
       "      <td>...</td>\n",
       "      <td>...</td>\n",
       "      <td>...</td>\n",
       "      <td>...</td>\n",
       "    </tr>\n",
       "    <tr>\n",
       "      <th>1105392</th>\n",
       "      <td>9dbab10c-118d-496b-966a-67f1763a6b7d</td>\n",
       "      <td>10x 5' v2</td>\n",
       "      <td>normal</td>\n",
       "      <td>P-HC018</td>\n",
       "      <td>blood</td>\n",
       "      <td>blood</td>\n",
       "      <td>322</td>\n",
       "    </tr>\n",
       "    <tr>\n",
       "      <th>1111713</th>\n",
       "      <td>9dbab10c-118d-496b-966a-67f1763a6b7d</td>\n",
       "      <td>10x 5' v2</td>\n",
       "      <td>normal</td>\n",
       "      <td>P-HC021</td>\n",
       "      <td>blood</td>\n",
       "      <td>blood</td>\n",
       "      <td>323</td>\n",
       "    </tr>\n",
       "    <tr>\n",
       "      <th>1117679</th>\n",
       "      <td>30cd5311-6c09-46c9-94f1-71fe4b91813c</td>\n",
       "      <td>10x 5' v1</td>\n",
       "      <td>normal</td>\n",
       "      <td>AA220534</td>\n",
       "      <td>blood</td>\n",
       "      <td>blood</td>\n",
       "      <td>324</td>\n",
       "    </tr>\n",
       "    <tr>\n",
       "      <th>1118554</th>\n",
       "      <td>21d3e683-80a4-4d9b-bc89-ebb2df513dde</td>\n",
       "      <td>10x 5' v1</td>\n",
       "      <td>normal</td>\n",
       "      <td>AA220907</td>\n",
       "      <td>blood</td>\n",
       "      <td>blood</td>\n",
       "      <td>325</td>\n",
       "    </tr>\n",
       "    <tr>\n",
       "      <th>1119528</th>\n",
       "      <td>59b69042-47c2-47fd-ad03-d21beb99818f</td>\n",
       "      <td>10x 3' v3</td>\n",
       "      <td>normal</td>\n",
       "      <td>cov17</td>\n",
       "      <td>blood</td>\n",
       "      <td>blood</td>\n",
       "      <td>326</td>\n",
       "    </tr>\n",
       "  </tbody>\n",
       "</table>\n",
       "<p>326 rows × 7 columns</p>\n",
       "</div>"
      ],
      "text/plain": [
       "                                   dataset_id                           assay  \\\n",
       "0        5af90777-6760-4003-9dba-8f945fec6fdf  10x 5' transcription profiling   \n",
       "6427     b0e547f0-462b-4f81-b31b-5b0a5d96f537                       10x 5' v2   \n",
       "7812     b0e547f0-462b-4f81-b31b-5b0a5d96f537                       10x 5' v2   \n",
       "8979     b0e547f0-462b-4f81-b31b-5b0a5d96f537                       10x 5' v2   \n",
       "12379    b0e547f0-462b-4f81-b31b-5b0a5d96f537                       10x 5' v2   \n",
       "...                                       ...                             ...   \n",
       "1105392  9dbab10c-118d-496b-966a-67f1763a6b7d                       10x 5' v2   \n",
       "1111713  9dbab10c-118d-496b-966a-67f1763a6b7d                       10x 5' v2   \n",
       "1117679  30cd5311-6c09-46c9-94f1-71fe4b91813c                       10x 5' v1   \n",
       "1118554  21d3e683-80a4-4d9b-bc89-ebb2df513dde                       10x 5' v1   \n",
       "1119528  59b69042-47c2-47fd-ad03-d21beb99818f                       10x 3' v3   \n",
       "\n",
       "        disease     donor_id tissue tissue_general  pseudosample_id  \n",
       "0        normal      PD47512  blood          blood                1  \n",
       "6427     normal  SG_HEL_H06a  blood          blood                2  \n",
       "7812     normal  SG_HEL_H181  blood          blood                3  \n",
       "8979     normal  SG_HEL_H191  blood          blood                4  \n",
       "12379    normal  SG_HEL_H052  blood          blood                5  \n",
       "...         ...          ...    ...            ...              ...  \n",
       "1105392  normal      P-HC018  blood          blood              322  \n",
       "1111713  normal      P-HC021  blood          blood              323  \n",
       "1117679  normal     AA220534  blood          blood              324  \n",
       "1118554  normal     AA220907  blood          blood              325  \n",
       "1119528  normal        cov17  blood          blood              326  \n",
       "\n",
       "[326 rows x 7 columns]"
      ]
     },
     "execution_count": 44,
     "metadata": {},
     "output_type": "execute_result"
    }
   ],
   "source": [
    "# add pseudosample_id\n",
    "sample_df = adata.obs[['dataset_id','assay','disease','donor_id', 'tissue','tissue_general']].drop_duplicates()\n",
    "sample_df['pseudosample_id'] = np.arange(len(sample_df))+1\n",
    "sample_df"
   ]
  },
  {
   "cell_type": "code",
   "execution_count": 45,
   "id": "b919f8a4-424d-44fa-aab8-76c9aedddd8b",
   "metadata": {},
   "outputs": [],
   "source": [
    "adata.obs = adata.obs.merge(sample_df)"
   ]
  },
  {
   "cell_type": "markdown",
   "id": "c871f378-39af-4051-803f-7477da502a00",
   "metadata": {},
   "source": [
    "## create pseudobulk embeddings to use downstream"
   ]
  },
  {
   "cell_type": "code",
   "execution_count": 46,
   "id": "d8c1c150-9d5f-481f-8ac0-55a8ffd94ef6",
   "metadata": {},
   "outputs": [],
   "source": [
    "sample_col = 'pseudosample_id'"
   ]
  },
  {
   "cell_type": "code",
   "execution_count": 47,
   "id": "d5b625d8-0bf3-49ec-971e-896327ce04fe",
   "metadata": {},
   "outputs": [],
   "source": [
    "pbulk_embs = {}"
   ]
  },
  {
   "cell_type": "markdown",
   "id": "3701b152-cfd3-4b32-bf57-65fc706bb730",
   "metadata": {},
   "source": [
    "#### scGPT"
   ]
  },
  {
   "cell_type": "code",
   "execution_count": 48,
   "id": "4b33fa60-e8ee-4bbb-b9c3-5260d087761c",
   "metadata": {},
   "outputs": [],
   "source": [
    "emb_name = 'scgpt'\n",
    "\n",
    "## Input\n",
    "pseudobulk_input = pd.DataFrame(adata.obsm[emb_name], index=adata.obs.loc[:,sample_col]).reset_index().groupby(sample_col).mean()\n",
    "\n",
    "#limit to the sample pool, this will also put it in the right order to index using the groupkfold inds\n",
    "pbulk_embs[emb_name] = pseudobulk_input#.loc[sample_pool,:]"
   ]
  },
  {
   "cell_type": "markdown",
   "id": "05b11238-5e87-4f01-bcca-95a09f3583a8",
   "metadata": {},
   "source": [
    "#### scGPT -> 40 PCs"
   ]
  },
  {
   "cell_type": "code",
   "execution_count": 49,
   "id": "90ea3788-3863-4f0f-ad4e-b108adcbc354",
   "metadata": {},
   "outputs": [],
   "source": [
    "emb_name = 'scgpt'\n",
    "\n",
    "pca = sklearn.decomposition.PCA(n_components=40)\n",
    "scgpt_input_pca = pca.fit_transform(adata.obsm[emb_name])\n",
    "\n",
    "## Input\n",
    "pseudobulk_input = pd.DataFrame(scgpt_input_pca, index=adata.obs.loc[:,sample_col]).reset_index().groupby(sample_col).mean()\n",
    "\n",
    "#limit to the sample pool, this will also put it in the right order to index using the groupkfold inds\n",
    "pbulk_embs['scgpt_40PCs'] = pseudobulk_input#.loc[sample_pool,:]"
   ]
  },
  {
   "cell_type": "markdown",
   "id": "710b5874-6cff-4ad6-90fe-c2b50719c607",
   "metadata": {},
   "source": [
    "#### cell type props"
   ]
  },
  {
   "cell_type": "code",
   "execution_count": 50,
   "id": "d23a2374-5ab5-4ad3-a21e-4f89682c9d03",
   "metadata": {},
   "outputs": [],
   "source": [
    "## Input\n",
    "celltype_counts_df = pd.DataFrame(adata.obs.groupby(sample_col).cell_type.value_counts()).rename({'count':'cell_type_counts'},axis=1).reset_index().pivot(index=sample_col, columns=\"cell_type\", values=\"cell_type_counts\")\n",
    "celltype_fracs_df = celltype_counts_df.div(celltype_counts_df.sum(axis=1), axis=0)\n",
    "pseudobulk_input = celltype_fracs_df.fillna(0) # replace nan with 0 \n",
    "pbulk_embs['ct_props'] = pseudobulk_input#.loc[sample_pool,:]"
   ]
  },
  {
   "cell_type": "markdown",
   "id": "db007081-6289-416c-878a-f7068e19eb32",
   "metadata": {},
   "source": [
    "#### cell type props + mean embedding based on scGPT"
   ]
  },
  {
   "cell_type": "code",
   "execution_count": 51,
   "id": "e0e84fd2-6c39-4ed7-a958-33fee0b45011",
   "metadata": {},
   "outputs": [],
   "source": [
    "#get mean embedding per cell type\n",
    "\n",
    "emb_name = 'scgpt'\n",
    "\n",
    "# get mean embedding per sample+cell_type\n",
    "pseudobulk_input = pd.DataFrame(adata.obsm[emb_name], index=adata.obs.index).merge(adata.obs[[sample_col,'cell_type']], right_index=True, left_index=True).groupby([sample_col,'cell_type']).mean()\n",
    "\n",
    "# change columns to more interpretable strs \n",
    "pseudobulk_input.columns = ['scgpt_'+str(c) for c in pseudobulk_input.columns]\n",
    "\n",
    "# reset index\n",
    "pseudobulk_input = pseudobulk_input.reset_index()\n",
    "\n",
    "# Pivot the dataframe - cell types that dont exist in a given sample - fill 0 for mean expression\n",
    "psblk_per_celltype = pseudobulk_input.pivot(index=sample_col, columns='cell_type').fillna(0)\n",
    "\n",
    "# Flatten the multi-level columns\n",
    "psblk_per_celltype.columns = ['_'.join(col).strip() for col in psblk_per_celltype.columns.values]"
   ]
  },
  {
   "cell_type": "code",
   "execution_count": 52,
   "id": "b0639593-17a3-4c74-b2ba-c300d089147f",
   "metadata": {},
   "outputs": [],
   "source": [
    "# concat cell type fracs and mean embs dfs\n",
    "pbulk_embs['ct_fracs_means_scGPTfull'] = pbulk_embs['ct_props'].merge(psblk_per_celltype, right_index=True, left_index=True).fillna(0)"
   ]
  },
  {
   "cell_type": "markdown",
   "id": "0497d19d-c0ed-4a67-9ea2-c11ea27f9377",
   "metadata": {},
   "source": [
    "#### cell type props + mean embedding based on scGPT+40PCs"
   ]
  },
  {
   "cell_type": "code",
   "execution_count": 53,
   "id": "b251caf0-3b0e-4d5b-8ca0-18bf4525356e",
   "metadata": {},
   "outputs": [],
   "source": [
    "#get mean embedding per cell type\n",
    "\n",
    "emb_name = 'scgpt'\n",
    "pca = sklearn.decomposition.PCA(n_components=40)\n",
    "scgpt_input_pca = pca.fit_transform(adata.obsm[emb_name])\n",
    "\n",
    "# get mean embedding per sample+cell_type\n",
    "pseudobulk_input = pd.DataFrame(scgpt_input_pca, index=adata.obs.index).merge(adata.obs[[sample_col,'cell_type']], right_index=True, left_index=True).groupby([sample_col,'cell_type']).mean()\n",
    "\n",
    "# change columns to more interpretable strs \n",
    "pseudobulk_input.columns = ['scgpt_'+str(c) for c in pseudobulk_input.columns]\n",
    "\n",
    "# reset index\n",
    "pseudobulk_input = pseudobulk_input.reset_index()\n",
    "\n",
    "# Pivot the dataframe - cell types that dont exist in a given sample - fill 0 for mean expression\n",
    "psblk_per_celltype = pseudobulk_input.pivot(index=sample_col, columns='cell_type').fillna(0)\n",
    "\n",
    "# Flatten the multi-level columns\n",
    "psblk_per_celltype.columns = ['_'.join(col).strip() for col in psblk_per_celltype.columns.values]"
   ]
  },
  {
   "cell_type": "code",
   "execution_count": 54,
   "id": "fa1ee6b4-69c8-4948-adcc-5fcbde548187",
   "metadata": {},
   "outputs": [],
   "source": [
    "# concat cell type fracs and mean embs dfs\n",
    "pbulk_embs['ct_fracs_means_scGPT_40PCs'] = pbulk_embs['ct_props'].merge(psblk_per_celltype, right_index=True, left_index=True)"
   ]
  },
  {
   "cell_type": "markdown",
   "id": "c3068a86-f7a5-45fa-8512-876b858d8040",
   "metadata": {},
   "source": [
    "## define sample pool, target, X, splits for this task"
   ]
  },
  {
   "cell_type": "markdown",
   "id": "4c843cc4-6203-40ce-856c-86ad70c19b4e",
   "metadata": {},
   "source": [
    "### define sample_pool for this target"
   ]
  },
  {
   "cell_type": "code",
   "execution_count": 55,
   "id": "e8f01504-2585-4844-9ca1-a69d1e34b5b6",
   "metadata": {
    "tags": []
   },
   "outputs": [
    {
     "name": "stdout",
     "output_type": "stream",
     "text": [
      "this target has 326 non-NA samples\n"
     ]
    }
   ],
   "source": [
    "target_col = 'disease'\n",
    "\n",
    "#get sample IDs that are not NA for this target\n",
    "notNA_samples = adata.obs[[sample_col,target_col]].drop_duplicates()[sample_col][~adata.obs[[sample_col,target_col]].drop_duplicates()[target_col].isna()]\n",
    "print(\"this target has {} non-NA samples\".format(len(notNA_samples)))\n"
   ]
  },
  {
   "cell_type": "code",
   "execution_count": 56,
   "id": "8e682a17-4a0f-4e8c-a964-92ea8a374d13",
   "metadata": {},
   "outputs": [
    {
     "name": "stdout",
     "output_type": "stream",
     "text": [
      "326\n"
     ]
    }
   ],
   "source": [
    "sample_pool = np.array(notNA_samples)\n",
    "print(len(sample_pool))"
   ]
  },
  {
   "cell_type": "markdown",
   "id": "2d846242-f874-472d-8d52-d77e0da49eec",
   "metadata": {},
   "source": [
    "### define target, and limit/order by sample_pool"
   ]
  },
  {
   "cell_type": "code",
   "execution_count": 57,
   "id": "ad5409cb-8b70-489e-a27b-43bd8c543988",
   "metadata": {},
   "outputs": [],
   "source": [
    "## Define targets\n",
    "targets = adata.obs.loc[:, [sample_col, target_col]].drop_duplicates().set_index(sample_col).loc[sample_pool,target_col]\n",
    "labels, targets_ind = np.unique(targets, return_inverse=True)\n",
    "targets = pd.Series(targets_ind, index=targets.index)"
   ]
  },
  {
   "cell_type": "code",
   "execution_count": 58,
   "id": "831926ee-c07b-46b3-9d65-0e8bcfd32eed",
   "metadata": {},
   "outputs": [
    {
     "data": {
      "text/plain": [
       "array(['normal', 'systemic lupus erythematosus'], dtype=object)"
      ]
     },
     "execution_count": 58,
     "metadata": {},
     "output_type": "execute_result"
    }
   ],
   "source": [
    "labels"
   ]
  },
  {
   "cell_type": "code",
   "execution_count": 59,
   "id": "0b0f8f5e-57a2-48fc-baf8-50c7949d6798",
   "metadata": {
    "scrolled": true
   },
   "outputs": [
    {
     "data": {
      "text/plain": [
       "0    0.503067\n",
       "1    0.496933\n",
       "Name: count, dtype: float64"
      ]
     },
     "execution_count": 59,
     "metadata": {},
     "output_type": "execute_result"
    }
   ],
   "source": [
    "targets.value_counts()/len(targets)"
   ]
  },
  {
   "cell_type": "markdown",
   "id": "6bcc8ea0-0309-4c61-9585-3052ff6e7237",
   "metadata": {},
   "source": [
    "### splits for leave one (dataset) out cross validation"
   ]
  },
  {
   "cell_type": "code",
   "execution_count": 60,
   "id": "ac83ffc7-8da3-400c-8f3c-73cfce35e853",
   "metadata": {},
   "outputs": [],
   "source": [
    "from sklearn.model_selection import GroupKFold\n",
    "group_kfold = GroupKFold(n_splits=10)\n",
    "groups = adata.obs.set_index(sample_col).loc[sample_pool, 'dataset_id'].reset_index().drop_duplicates()['dataset_id']\n",
    "splits = list(group_kfold.split(sample_pool, groups=groups)) #if don't convert to list, iterator is exhausted after one use\n"
   ]
  },
  {
   "cell_type": "code",
   "execution_count": 61,
   "id": "80c54df6-c590-4a3e-9222-2d0af9c3d860",
   "metadata": {
    "scrolled": true
   },
   "outputs": [
    {
     "name": "stdout",
     "output_type": "stream",
     "text": [
      "datasets reserved for test fold:  ['218acb0f-9f2f-4f76-b90b-15a4b7c7f629']\n",
      "targets in test fold:\n",
      " 1    162\n",
      "0      9\n",
      "Name: count, dtype: int64\n",
      "n samples in train:  155\n",
      "n samples in test:  171\n",
      "\n",
      "\n",
      "datasets reserved for test fold:  ['3faad104-2ab8-4434-816d-474d8d2641db']\n",
      "targets in test fold:\n",
      " 0    93\n",
      "Name: count, dtype: int64\n",
      "n samples in train:  233\n",
      "n samples in test:  93\n",
      "\n",
      "\n",
      "datasets reserved for test fold:  ['b0e547f0-462b-4f81-b31b-5b0a5d96f537']\n",
      "targets in test fold:\n",
      " 0    50\n",
      "Name: count, dtype: int64\n",
      "n samples in train:  276\n",
      "n samples in test:  50\n",
      "\n",
      "\n",
      "datasets reserved for test fold:  ['9dbab10c-118d-496b-966a-67f1763a6b7d']\n",
      "targets in test fold:\n",
      " 0    3\n",
      "Name: count, dtype: int64\n",
      "n samples in train:  323\n",
      "n samples in test:  3\n",
      "\n",
      "\n",
      "datasets reserved for test fold:  ['c7775e88-49bf-4ba2-a03b-93f00447c958']\n",
      "targets in test fold:\n",
      " 0    2\n",
      "Name: count, dtype: int64\n",
      "n samples in train:  324\n",
      "n samples in test:  2\n",
      "\n",
      "\n",
      "datasets reserved for test fold:  ['ebc2e1ff-c8f9-466a-acf4-9d291afaf8b3', '21d3e683-80a4-4d9b-bc89-ebb2df513dde']\n",
      "targets in test fold:\n",
      " 0    2\n",
      "Name: count, dtype: int64\n",
      "n samples in train:  324\n",
      "n samples in test:  2\n",
      "\n",
      "\n",
      "datasets reserved for test fold:  ['5af90777-6760-4003-9dba-8f945fec6fdf', '01ad3cd7-3929-4654-84c0-6db05bd5fd59']\n",
      "targets in test fold:\n",
      " 0    2\n",
      "Name: count, dtype: int64\n",
      "n samples in train:  324\n",
      "n samples in test:  2\n",
      "\n",
      "\n",
      "datasets reserved for test fold:  ['59b69042-47c2-47fd-ad03-d21beb99818f']\n",
      "targets in test fold:\n",
      " 0    1\n",
      "Name: count, dtype: int64\n",
      "n samples in train:  325\n",
      "n samples in test:  1\n",
      "\n",
      "\n",
      "datasets reserved for test fold:  ['30cd5311-6c09-46c9-94f1-71fe4b91813c']\n",
      "targets in test fold:\n",
      " 0    1\n",
      "Name: count, dtype: int64\n",
      "n samples in train:  325\n",
      "n samples in test:  1\n",
      "\n",
      "\n",
      "datasets reserved for test fold:  ['2a498ace-872a-4935-984b-1afa70fd9886']\n",
      "targets in test fold:\n",
      " 0    1\n",
      "Name: count, dtype: int64\n",
      "n samples in train:  325\n",
      "n samples in test:  1\n",
      "\n",
      "\n"
     ]
    }
   ],
   "source": [
    "for (train_index, test_index) in splits:\n",
    "    print(\"datasets reserved for test fold: \", list(adata.obs.set_index(sample_col).loc[sample_pool[test_index],'dataset_id'].drop_duplicates()))\n",
    "    print(\"targets in test fold:\\n\", targets.iloc[test_index].value_counts())\n",
    "    print(\"n samples in train: \", len(train_index))\n",
    "    print(\"n samples in test: \", len(test_index))\n",
    "    print(\"\\n\")"
   ]
  },
  {
   "cell_type": "markdown",
   "id": "0ab6fd4d-c697-446d-87af-f8f3fbddbc1b",
   "metadata": {},
   "source": [
    "### limit/order pseudobulk embeddings by sample_pool"
   ]
  },
  {
   "cell_type": "code",
   "execution_count": 62,
   "id": "2d566d8e-cbd6-459d-a4b8-4470e0f96d7f",
   "metadata": {},
   "outputs": [],
   "source": [
    "this_pbulk_embs = {}\n",
    "for emb in pbulk_embs:\n",
    "    this_pbulk_embs[emb] = pbulk_embs[emb].loc[sample_pool]"
   ]
  },
  {
   "cell_type": "markdown",
   "id": "49079272-44ba-47a8-afc5-26a4fe2440ca",
   "metadata": {},
   "source": [
    "## calculate heuristic baseline performance on these splits\n",
    "\n",
    "not including majority class per study as a baseline, since we shouldn't have study based batch effects affecting performance using our GroupKFold!"
   ]
  },
  {
   "cell_type": "code",
   "execution_count": 63,
   "id": "629e386f-db66-4785-ad8c-4c14aa704713",
   "metadata": {},
   "outputs": [
    {
     "name": "stdout",
     "output_type": "stream",
     "text": [
      "baseline accuracy on K val sets:  [0.05263157894736842, 0, 0, 0, 1.0, 1.0, 1.0, 1.0, 1.0, 1.0]\n",
      "mean accuracy:  0.6052631578947368\n"
     ]
    }
   ],
   "source": [
    "val_majclass_bline_accs= []\n",
    "\n",
    "for (train_index, val_index) in splits:\n",
    "    #calculate baseline performance - majority class\n",
    "    majclass_bline_pred = targets.iloc[train_index].value_counts().index[targets.iloc[train_index].value_counts().argmax()]\n",
    "    if majclass_bline_pred not in targets.iloc[val_index].value_counts().index:\n",
    "        val_majclass_bline_accs.append(0)\n",
    "    else:\n",
    "        val_majclass_bline_accs.append(targets.iloc[val_index].value_counts()[majclass_bline_pred]/len(val_index))\n",
    "\n",
    "print(\"baseline accuracy on K val sets: \", val_majclass_bline_accs)\n",
    "print(\"mean accuracy: \", np.mean(val_majclass_bline_accs))"
   ]
  },
  {
   "cell_type": "markdown",
   "id": "a753fef1-8dc5-4158-8d1a-f48bb51e4885",
   "metadata": {},
   "source": [
    "## Evaluate models using nested GroupKFold CV"
   ]
  },
  {
   "cell_type": "code",
   "execution_count": 64,
   "id": "2f220296-d1e6-42b2-9580-5a78368019de",
   "metadata": {
    "scrolled": true
   },
   "outputs": [],
   "source": [
    "## train KNN w/ Kfold CV\n",
    "from sklearn.model_selection import GridSearchCV, cross_val_score\n",
    "\n",
    "def nested_kfold_eval(pseudobulk_input, targets, splits, model, param_grid):\n",
    "\n",
    "    # Inner CV for hyperparameter tuning\n",
    "    inner_cv = GridSearchCV(model, param_grid, cv=5)\n",
    "\n",
    "    # Nested CV\n",
    "    nested_score = cross_val_score(inner_cv, pseudobulk_input, targets, cv=group_kfold, groups=groups)\n",
    "    \n",
    "    print(\"Nested CV Score: \", nested_score.mean())\n",
    "    \n",
    "    return nested_score"
   ]
  },
  {
   "cell_type": "code",
   "execution_count": 65,
   "id": "439cca2e-b5e3-4520-a12c-8feb070cbf54",
   "metadata": {},
   "outputs": [],
   "source": [
    "# set up a dict with models and hparams to test\n",
    "\n",
    "model_param_dict = {\n",
    "    'KNN': (KNeighborsClassifier(), {'n_neighbors':np.arange(10)+1}),\n",
    "    'random_forest': (RandomForestClassifier(), {'min_samples_leaf': [1,2,3,4,5,6,7,8,9,10,11,12,13,14,15,16,17,18,19,20]}),\n",
    "    #'l1_logistic_regression': (LogisticRegression(max_iter=500, solver='saga', penalty='l1'), {'C':[1e-5,1e-4,1e-3,1e-2,1e-1,1,10,100,1000,10000]}),\n",
    "    'l2_logistic_regression': (LogisticRegression(max_iter=500, penalty='l2'), {'C':[1e-5,1e-4,1e-3,1e-2,1e-1,1,10,100,1000,10000]})\n",
    "}\n"
   ]
  },
  {
   "cell_type": "code",
   "execution_count": 66,
   "id": "3998b66e-5236-43d9-8f2f-520258370a2f",
   "metadata": {
    "scrolled": true
   },
   "outputs": [
    {
     "name": "stdout",
     "output_type": "stream",
     "text": [
      "--------- KNN ----------\n",
      "embedding:  scgpt\n",
      "shape of embedding:  (326, 512)\n",
      "Nested CV Score:  0.6660158460667798\n",
      "\n",
      "\n",
      "embedding:  scgpt_40PCs\n",
      "shape of embedding:  (326, 40)\n",
      "Nested CV Score:  0.6660158460667798\n",
      "\n",
      "\n",
      "embedding:  ct_props\n",
      "shape of embedding:  (326, 79)\n",
      "Nested CV Score:  0.4552631578947368\n",
      "\n",
      "\n",
      "embedding:  ct_fracs_means_scGPTfull\n",
      "shape of embedding:  (326, 40527)\n",
      "Nested CV Score:  0.5552631578947368\n",
      "\n",
      "\n",
      "embedding:  ct_fracs_means_scGPT_40PCs\n",
      "shape of embedding:  (326, 3239)\n",
      "Nested CV Score:  0.4014997170345218\n",
      "\n",
      "\n",
      "\n",
      "\n",
      "--------- random_forest ----------\n",
      "embedding:  scgpt\n",
      "shape of embedding:  (326, 512)\n",
      "Nested CV Score:  0.8988115449915111\n",
      "\n",
      "\n",
      "embedding:  scgpt_40PCs\n",
      "shape of embedding:  (326, 40)\n",
      "Nested CV Score:  0.8491341256366723\n",
      "\n",
      "\n",
      "embedding:  ct_props\n",
      "shape of embedding:  (326, 79)\n",
      "Nested CV Score:  0.8552631578947368\n",
      "\n",
      "\n",
      "embedding:  ct_fracs_means_scGPTfull\n",
      "shape of embedding:  (326, 40527)\n",
      "Nested CV Score:  0.9052631578947368\n",
      "\n",
      "\n",
      "embedding:  ct_fracs_means_scGPT_40PCs\n",
      "shape of embedding:  (326, 3239)\n",
      "Nested CV Score:  0.9052631578947368\n",
      "\n",
      "\n",
      "\n",
      "\n",
      "--------- l2_logistic_regression ----------\n",
      "embedding:  scgpt\n",
      "shape of embedding:  (326, 512)\n"
     ]
    },
    {
     "name": "stderr",
     "output_type": "stream",
     "text": [
      "/opt/conda/rpeyser/envs/scgpt_4/lib/python3.10/site-packages/sklearn/model_selection/_validation.py:540: FitFailedWarning: \n",
      "1 fits failed out of a total of 10.\n",
      "The score on these train-test partitions for these parameters will be set to nan.\n",
      "If these failures are not expected, you can try to debug them by setting error_score='raise'.\n",
      "\n",
      "Below are more details about the failures:\n",
      "--------------------------------------------------------------------------------\n",
      "1 fits failed with the following error:\n",
      "Traceback (most recent call last):\n",
      "  File \"/opt/conda/rpeyser/envs/scgpt_4/lib/python3.10/site-packages/sklearn/model_selection/_validation.py\", line 888, in _fit_and_score\n",
      "    estimator.fit(X_train, y_train, **fit_params)\n",
      "  File \"/opt/conda/rpeyser/envs/scgpt_4/lib/python3.10/site-packages/sklearn/base.py\", line 1473, in wrapper\n",
      "    return fit_method(estimator, *args, **kwargs)\n",
      "  File \"/opt/conda/rpeyser/envs/scgpt_4/lib/python3.10/site-packages/sklearn/model_selection/_search.py\", line 968, in fit\n",
      "    self._run_search(evaluate_candidates)\n",
      "  File \"/opt/conda/rpeyser/envs/scgpt_4/lib/python3.10/site-packages/sklearn/model_selection/_search.py\", line 1543, in _run_search\n",
      "    evaluate_candidates(ParameterGrid(self.param_grid))\n",
      "  File \"/opt/conda/rpeyser/envs/scgpt_4/lib/python3.10/site-packages/sklearn/model_selection/_search.py\", line 945, in evaluate_candidates\n",
      "    _warn_or_raise_about_fit_failures(out, self.error_score)\n",
      "  File \"/opt/conda/rpeyser/envs/scgpt_4/lib/python3.10/site-packages/sklearn/model_selection/_validation.py\", line 529, in _warn_or_raise_about_fit_failures\n",
      "    raise ValueError(all_fits_failed_message)\n",
      "ValueError: \n",
      "All the 50 fits failed.\n",
      "It is very likely that your model is misconfigured.\n",
      "You can try to debug the error by setting error_score='raise'.\n",
      "\n",
      "Below are more details about the failures:\n",
      "--------------------------------------------------------------------------------\n",
      "50 fits failed with the following error:\n",
      "Traceback (most recent call last):\n",
      "  File \"/opt/conda/rpeyser/envs/scgpt_4/lib/python3.10/site-packages/sklearn/model_selection/_validation.py\", line 888, in _fit_and_score\n",
      "    estimator.fit(X_train, y_train, **fit_params)\n",
      "  File \"/opt/conda/rpeyser/envs/scgpt_4/lib/python3.10/site-packages/sklearn/base.py\", line 1473, in wrapper\n",
      "    return fit_method(estimator, *args, **kwargs)\n",
      "  File \"/opt/conda/rpeyser/envs/scgpt_4/lib/python3.10/site-packages/sklearn/linear_model/_logistic.py\", line 1301, in fit\n",
      "    raise ValueError(\n",
      "ValueError: This solver needs samples of at least 2 classes in the data, but the data contains only one class: 0\n",
      "\n",
      "\n",
      "  warnings.warn(some_fits_failed_message, FitFailedWarning)\n"
     ]
    },
    {
     "name": "stdout",
     "output_type": "stream",
     "text": [
      "Nested CV Score:  nan\n",
      "\n",
      "\n",
      "embedding:  scgpt_40PCs\n",
      "shape of embedding:  (326, 40)\n"
     ]
    },
    {
     "name": "stderr",
     "output_type": "stream",
     "text": [
      "/opt/conda/rpeyser/envs/scgpt_4/lib/python3.10/site-packages/sklearn/model_selection/_validation.py:540: FitFailedWarning: \n",
      "1 fits failed out of a total of 10.\n",
      "The score on these train-test partitions for these parameters will be set to nan.\n",
      "If these failures are not expected, you can try to debug them by setting error_score='raise'.\n",
      "\n",
      "Below are more details about the failures:\n",
      "--------------------------------------------------------------------------------\n",
      "1 fits failed with the following error:\n",
      "Traceback (most recent call last):\n",
      "  File \"/opt/conda/rpeyser/envs/scgpt_4/lib/python3.10/site-packages/sklearn/model_selection/_validation.py\", line 888, in _fit_and_score\n",
      "    estimator.fit(X_train, y_train, **fit_params)\n",
      "  File \"/opt/conda/rpeyser/envs/scgpt_4/lib/python3.10/site-packages/sklearn/base.py\", line 1473, in wrapper\n",
      "    return fit_method(estimator, *args, **kwargs)\n",
      "  File \"/opt/conda/rpeyser/envs/scgpt_4/lib/python3.10/site-packages/sklearn/model_selection/_search.py\", line 968, in fit\n",
      "    self._run_search(evaluate_candidates)\n",
      "  File \"/opt/conda/rpeyser/envs/scgpt_4/lib/python3.10/site-packages/sklearn/model_selection/_search.py\", line 1543, in _run_search\n",
      "    evaluate_candidates(ParameterGrid(self.param_grid))\n",
      "  File \"/opt/conda/rpeyser/envs/scgpt_4/lib/python3.10/site-packages/sklearn/model_selection/_search.py\", line 945, in evaluate_candidates\n",
      "    _warn_or_raise_about_fit_failures(out, self.error_score)\n",
      "  File \"/opt/conda/rpeyser/envs/scgpt_4/lib/python3.10/site-packages/sklearn/model_selection/_validation.py\", line 529, in _warn_or_raise_about_fit_failures\n",
      "    raise ValueError(all_fits_failed_message)\n",
      "ValueError: \n",
      "All the 50 fits failed.\n",
      "It is very likely that your model is misconfigured.\n",
      "You can try to debug the error by setting error_score='raise'.\n",
      "\n",
      "Below are more details about the failures:\n",
      "--------------------------------------------------------------------------------\n",
      "50 fits failed with the following error:\n",
      "Traceback (most recent call last):\n",
      "  File \"/opt/conda/rpeyser/envs/scgpt_4/lib/python3.10/site-packages/sklearn/model_selection/_validation.py\", line 888, in _fit_and_score\n",
      "    estimator.fit(X_train, y_train, **fit_params)\n",
      "  File \"/opt/conda/rpeyser/envs/scgpt_4/lib/python3.10/site-packages/sklearn/base.py\", line 1473, in wrapper\n",
      "    return fit_method(estimator, *args, **kwargs)\n",
      "  File \"/opt/conda/rpeyser/envs/scgpt_4/lib/python3.10/site-packages/sklearn/linear_model/_logistic.py\", line 1301, in fit\n",
      "    raise ValueError(\n",
      "ValueError: This solver needs samples of at least 2 classes in the data, but the data contains only one class: 0\n",
      "\n",
      "\n",
      "  warnings.warn(some_fits_failed_message, FitFailedWarning)\n"
     ]
    },
    {
     "name": "stdout",
     "output_type": "stream",
     "text": [
      "Nested CV Score:  nan\n",
      "\n",
      "\n",
      "embedding:  ct_props\n",
      "shape of embedding:  (326, 79)\n"
     ]
    },
    {
     "name": "stderr",
     "output_type": "stream",
     "text": [
      "/opt/conda/rpeyser/envs/scgpt_4/lib/python3.10/site-packages/sklearn/model_selection/_validation.py:540: FitFailedWarning: \n",
      "1 fits failed out of a total of 10.\n",
      "The score on these train-test partitions for these parameters will be set to nan.\n",
      "If these failures are not expected, you can try to debug them by setting error_score='raise'.\n",
      "\n",
      "Below are more details about the failures:\n",
      "--------------------------------------------------------------------------------\n",
      "1 fits failed with the following error:\n",
      "Traceback (most recent call last):\n",
      "  File \"/opt/conda/rpeyser/envs/scgpt_4/lib/python3.10/site-packages/sklearn/model_selection/_validation.py\", line 888, in _fit_and_score\n",
      "    estimator.fit(X_train, y_train, **fit_params)\n",
      "  File \"/opt/conda/rpeyser/envs/scgpt_4/lib/python3.10/site-packages/sklearn/base.py\", line 1473, in wrapper\n",
      "    return fit_method(estimator, *args, **kwargs)\n",
      "  File \"/opt/conda/rpeyser/envs/scgpt_4/lib/python3.10/site-packages/sklearn/model_selection/_search.py\", line 968, in fit\n",
      "    self._run_search(evaluate_candidates)\n",
      "  File \"/opt/conda/rpeyser/envs/scgpt_4/lib/python3.10/site-packages/sklearn/model_selection/_search.py\", line 1543, in _run_search\n",
      "    evaluate_candidates(ParameterGrid(self.param_grid))\n",
      "  File \"/opt/conda/rpeyser/envs/scgpt_4/lib/python3.10/site-packages/sklearn/model_selection/_search.py\", line 945, in evaluate_candidates\n",
      "    _warn_or_raise_about_fit_failures(out, self.error_score)\n",
      "  File \"/opt/conda/rpeyser/envs/scgpt_4/lib/python3.10/site-packages/sklearn/model_selection/_validation.py\", line 529, in _warn_or_raise_about_fit_failures\n",
      "    raise ValueError(all_fits_failed_message)\n",
      "ValueError: \n",
      "All the 50 fits failed.\n",
      "It is very likely that your model is misconfigured.\n",
      "You can try to debug the error by setting error_score='raise'.\n",
      "\n",
      "Below are more details about the failures:\n",
      "--------------------------------------------------------------------------------\n",
      "50 fits failed with the following error:\n",
      "Traceback (most recent call last):\n",
      "  File \"/opt/conda/rpeyser/envs/scgpt_4/lib/python3.10/site-packages/sklearn/model_selection/_validation.py\", line 888, in _fit_and_score\n",
      "    estimator.fit(X_train, y_train, **fit_params)\n",
      "  File \"/opt/conda/rpeyser/envs/scgpt_4/lib/python3.10/site-packages/sklearn/base.py\", line 1473, in wrapper\n",
      "    return fit_method(estimator, *args, **kwargs)\n",
      "  File \"/opt/conda/rpeyser/envs/scgpt_4/lib/python3.10/site-packages/sklearn/linear_model/_logistic.py\", line 1301, in fit\n",
      "    raise ValueError(\n",
      "ValueError: This solver needs samples of at least 2 classes in the data, but the data contains only one class: 0\n",
      "\n",
      "\n",
      "  warnings.warn(some_fits_failed_message, FitFailedWarning)\n"
     ]
    },
    {
     "name": "stdout",
     "output_type": "stream",
     "text": [
      "Nested CV Score:  nan\n",
      "\n",
      "\n",
      "embedding:  ct_fracs_means_scGPTfull\n",
      "shape of embedding:  (326, 40527)\n"
     ]
    },
    {
     "name": "stderr",
     "output_type": "stream",
     "text": [
      "/opt/conda/rpeyser/envs/scgpt_4/lib/python3.10/site-packages/sklearn/model_selection/_validation.py:540: FitFailedWarning: \n",
      "1 fits failed out of a total of 10.\n",
      "The score on these train-test partitions for these parameters will be set to nan.\n",
      "If these failures are not expected, you can try to debug them by setting error_score='raise'.\n",
      "\n",
      "Below are more details about the failures:\n",
      "--------------------------------------------------------------------------------\n",
      "1 fits failed with the following error:\n",
      "Traceback (most recent call last):\n",
      "  File \"/opt/conda/rpeyser/envs/scgpt_4/lib/python3.10/site-packages/sklearn/model_selection/_validation.py\", line 888, in _fit_and_score\n",
      "    estimator.fit(X_train, y_train, **fit_params)\n",
      "  File \"/opt/conda/rpeyser/envs/scgpt_4/lib/python3.10/site-packages/sklearn/base.py\", line 1473, in wrapper\n",
      "    return fit_method(estimator, *args, **kwargs)\n",
      "  File \"/opt/conda/rpeyser/envs/scgpt_4/lib/python3.10/site-packages/sklearn/model_selection/_search.py\", line 968, in fit\n",
      "    self._run_search(evaluate_candidates)\n",
      "  File \"/opt/conda/rpeyser/envs/scgpt_4/lib/python3.10/site-packages/sklearn/model_selection/_search.py\", line 1543, in _run_search\n",
      "    evaluate_candidates(ParameterGrid(self.param_grid))\n",
      "  File \"/opt/conda/rpeyser/envs/scgpt_4/lib/python3.10/site-packages/sklearn/model_selection/_search.py\", line 945, in evaluate_candidates\n",
      "    _warn_or_raise_about_fit_failures(out, self.error_score)\n",
      "  File \"/opt/conda/rpeyser/envs/scgpt_4/lib/python3.10/site-packages/sklearn/model_selection/_validation.py\", line 529, in _warn_or_raise_about_fit_failures\n",
      "    raise ValueError(all_fits_failed_message)\n",
      "ValueError: \n",
      "All the 50 fits failed.\n",
      "It is very likely that your model is misconfigured.\n",
      "You can try to debug the error by setting error_score='raise'.\n",
      "\n",
      "Below are more details about the failures:\n",
      "--------------------------------------------------------------------------------\n",
      "50 fits failed with the following error:\n",
      "Traceback (most recent call last):\n",
      "  File \"/opt/conda/rpeyser/envs/scgpt_4/lib/python3.10/site-packages/sklearn/model_selection/_validation.py\", line 888, in _fit_and_score\n",
      "    estimator.fit(X_train, y_train, **fit_params)\n",
      "  File \"/opt/conda/rpeyser/envs/scgpt_4/lib/python3.10/site-packages/sklearn/base.py\", line 1473, in wrapper\n",
      "    return fit_method(estimator, *args, **kwargs)\n",
      "  File \"/opt/conda/rpeyser/envs/scgpt_4/lib/python3.10/site-packages/sklearn/linear_model/_logistic.py\", line 1301, in fit\n",
      "    raise ValueError(\n",
      "ValueError: This solver needs samples of at least 2 classes in the data, but the data contains only one class: 0\n",
      "\n",
      "\n",
      "  warnings.warn(some_fits_failed_message, FitFailedWarning)\n"
     ]
    },
    {
     "name": "stdout",
     "output_type": "stream",
     "text": [
      "Nested CV Score:  nan\n",
      "\n",
      "\n",
      "embedding:  ct_fracs_means_scGPT_40PCs\n",
      "shape of embedding:  (326, 3239)\n",
      "Nested CV Score:  nan\n",
      "\n",
      "\n",
      "\n",
      "\n"
     ]
    },
    {
     "name": "stderr",
     "output_type": "stream",
     "text": [
      "/opt/conda/rpeyser/envs/scgpt_4/lib/python3.10/site-packages/sklearn/model_selection/_validation.py:540: FitFailedWarning: \n",
      "1 fits failed out of a total of 10.\n",
      "The score on these train-test partitions for these parameters will be set to nan.\n",
      "If these failures are not expected, you can try to debug them by setting error_score='raise'.\n",
      "\n",
      "Below are more details about the failures:\n",
      "--------------------------------------------------------------------------------\n",
      "1 fits failed with the following error:\n",
      "Traceback (most recent call last):\n",
      "  File \"/opt/conda/rpeyser/envs/scgpt_4/lib/python3.10/site-packages/sklearn/model_selection/_validation.py\", line 888, in _fit_and_score\n",
      "    estimator.fit(X_train, y_train, **fit_params)\n",
      "  File \"/opt/conda/rpeyser/envs/scgpt_4/lib/python3.10/site-packages/sklearn/base.py\", line 1473, in wrapper\n",
      "    return fit_method(estimator, *args, **kwargs)\n",
      "  File \"/opt/conda/rpeyser/envs/scgpt_4/lib/python3.10/site-packages/sklearn/model_selection/_search.py\", line 968, in fit\n",
      "    self._run_search(evaluate_candidates)\n",
      "  File \"/opt/conda/rpeyser/envs/scgpt_4/lib/python3.10/site-packages/sklearn/model_selection/_search.py\", line 1543, in _run_search\n",
      "    evaluate_candidates(ParameterGrid(self.param_grid))\n",
      "  File \"/opt/conda/rpeyser/envs/scgpt_4/lib/python3.10/site-packages/sklearn/model_selection/_search.py\", line 945, in evaluate_candidates\n",
      "    _warn_or_raise_about_fit_failures(out, self.error_score)\n",
      "  File \"/opt/conda/rpeyser/envs/scgpt_4/lib/python3.10/site-packages/sklearn/model_selection/_validation.py\", line 529, in _warn_or_raise_about_fit_failures\n",
      "    raise ValueError(all_fits_failed_message)\n",
      "ValueError: \n",
      "All the 50 fits failed.\n",
      "It is very likely that your model is misconfigured.\n",
      "You can try to debug the error by setting error_score='raise'.\n",
      "\n",
      "Below are more details about the failures:\n",
      "--------------------------------------------------------------------------------\n",
      "50 fits failed with the following error:\n",
      "Traceback (most recent call last):\n",
      "  File \"/opt/conda/rpeyser/envs/scgpt_4/lib/python3.10/site-packages/sklearn/model_selection/_validation.py\", line 888, in _fit_and_score\n",
      "    estimator.fit(X_train, y_train, **fit_params)\n",
      "  File \"/opt/conda/rpeyser/envs/scgpt_4/lib/python3.10/site-packages/sklearn/base.py\", line 1473, in wrapper\n",
      "    return fit_method(estimator, *args, **kwargs)\n",
      "  File \"/opt/conda/rpeyser/envs/scgpt_4/lib/python3.10/site-packages/sklearn/linear_model/_logistic.py\", line 1301, in fit\n",
      "    raise ValueError(\n",
      "ValueError: This solver needs samples of at least 2 classes in the data, but the data contains only one class: 0\n",
      "\n",
      "\n",
      "  warnings.warn(some_fits_failed_message, FitFailedWarning)\n"
     ]
    }
   ],
   "source": [
    "lupus_results = {}\n",
    "for model in model_param_dict:\n",
    "    print(\"--------- {} ----------\".format(model))\n",
    "    lupus_results[model] = {}\n",
    "    for emb in this_pbulk_embs:\n",
    "        print('embedding: ', emb)\n",
    "        print('shape of embedding: ', this_pbulk_embs[emb].shape)\n",
    "        lupus_results[model][emb] = nested_kfold_eval(this_pbulk_embs[emb], targets, splits, model=model_param_dict[model][0], param_grid = model_param_dict[model][1])\n",
    "        print(\"\\n\")\n",
    "    print(\"\\n\")"
   ]
  },
  {
   "cell_type": "code",
   "execution_count": 67,
   "id": "c085f1ad-4b13-43c5-a95b-fcd34fd9b2c2",
   "metadata": {},
   "outputs": [
    {
     "data": {
      "image/png": "[encoded data removed]",
      "text/plain": [
       "<Figure size 1000x300 with 1 Axes>"
      ]
     },
     "metadata": {},
     "output_type": "display_data"
    }
   ],
   "source": [
    "import seaborn as sns\n",
    "import matplotlib.pyplot as plt\n",
    "\n",
    "# Adjust the figure size\n",
    "plt.figure(figsize=(10, 3))  # Width = 12, Height = 6 (you can change these values as needed)\n",
    "\n",
    "# Create the stripplot\n",
    "sns.stripplot(\n",
    "    data=pd.DataFrame(lupus_results['KNN']).reset_index().rename(columns={\"index\": \"fold\"}).melt(id_vars=\"fold\"),\n",
    "    x=\"fold\",\n",
    "    y=\"value\",\n",
    "    hue=\"variable\"\n",
    ")\n",
    "\n",
    "# Move the legend to the right side outside the plot\n",
    "plt.legend(bbox_to_anchor=(1.02, 1), loc='upper left')\n",
    "plt.ylabel(\"accuracy\")\n",
    "plt.title(\"Cross Validation Results using KNN\")\n",
    "\n",
    "# Show the plot\n",
    "plt.show()"
   ]
  },
  {
   "cell_type": "code",
   "execution_count": 68,
   "id": "4517b56e-a86f-4dd2-aa74-c5e4caee38df",
   "metadata": {},
   "outputs": [
    {
     "data": {
      "image/png": "[encoded data removed]",
      "text/plain": [
       "<Figure size 1000x300 with 1 Axes>"
      ]
     },
     "metadata": {},
     "output_type": "display_data"
    }
   ],
   "source": [
    "import seaborn as sns\n",
    "import matplotlib.pyplot as plt\n",
    "\n",
    "# Adjust the figure size\n",
    "plt.figure(figsize=(10, 3))  # Width = 12, Height = 6 (you can change these values as needed)\n",
    "\n",
    "# Create the stripplot\n",
    "sns.stripplot(\n",
    "    data=pd.DataFrame(lupus_results['random_forest']).reset_index().rename(columns={\"index\": \"fold\"}).melt(id_vars=\"fold\"),\n",
    "    x=\"fold\",\n",
    "    y=\"value\",\n",
    "    hue=\"variable\"\n",
    ")\n",
    "\n",
    "# Move the legend to the right side outside the plot\n",
    "plt.legend(bbox_to_anchor=(1.02, 1), loc='upper left')\n",
    "plt.ylabel(\"accuracy\")\n",
    "plt.title(\"Cross Validation Results using Random Forest\")\n",
    "\n",
    "# Show the plot\n",
    "plt.show()"
   ]
  },
  {
   "cell_type": "code",
   "execution_count": 69,
   "id": "968f9b91-5f55-4e9a-8db2-d68bf51168e7",
   "metadata": {},
   "outputs": [
    {
     "data": {
      "image/png": "[encoded data removed]",
      "text/plain": [
       "<Figure size 1000x300 with 1 Axes>"
      ]
     },
     "metadata": {},
     "output_type": "display_data"
    }
   ],
   "source": [
    "import seaborn as sns\n",
    "import matplotlib.pyplot as plt\n",
    "\n",
    "# Adjust the figure size\n",
    "plt.figure(figsize=(10, 3))  # Width = 12, Height = 6 (you can change these values as needed)\n",
    "\n",
    "# Create the stripplot\n",
    "sns.stripplot(\n",
    "    data=pd.DataFrame(lupus_results['l2_logistic_regression']).reset_index().rename(columns={\"index\": \"fold\"}).melt(id_vars=\"fold\"),\n",
    "    x=\"fold\",\n",
    "    y=\"value\",\n",
    "    hue=\"variable\"\n",
    ")\n",
    "\n",
    "# Move the legend to the right side outside the plot\n",
    "plt.legend(bbox_to_anchor=(1.02, 1), loc='upper left')\n",
    "plt.ylabel(\"accuracy\")\n",
    "plt.title(\"Cross Validation Results using L2 Logistic Regression\")\n",
    "\n",
    "# Show the plot\n",
    "plt.show()"
   ]
  },
  {
   "cell_type": "code",
   "execution_count": null,
   "id": "157fb2bf-8046-42b6-95d3-f9f6ef98a1ad",
   "metadata": {},
   "outputs": [],
   "source": []
  }
 ],
 "metadata": {
  "kernelspec": {
   "display_name": "scgpt_4",
   "language": "python",
   "name": "scgpt_4"
  },
  "language_info": {
   "codemirror_mode": {
    "name": "ipython",
    "version": 3
   },
   "file_extension": ".py",
   "mimetype": "text/x-python",
   "name": "python",
   "nbconvert_exporter": "python",
   "pygments_lexer": "ipython3",
   "version": "3.10.11"
  }
 },
 "nbformat": 4,
 "nbformat_minor": 5
}
