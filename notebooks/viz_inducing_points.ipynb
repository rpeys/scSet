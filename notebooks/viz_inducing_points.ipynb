{
 "cells": [
  {
   "cell_type": "code",
   "execution_count": null,
   "id": "88985fc9-26e3-46df-80c1-b2a494101298",
   "metadata": {},
   "outputs": [],
   "source": [
    "# for best model, what are the inducing points capturing? these are the I's, rather than the x \\dot I's"
   ]
  },
  {
   "cell_type": "code",
   "execution_count": null,
   "id": "751d3a1f-02ce-45be-9c3d-ccbfe1be26f6",
   "metadata": {},
   "outputs": [],
   "source": [
    "# best model is syn_props_scvi (this is trained on B cells vs. Monocytes 0.25 vs 0.1, dir_strength = 50)"
   ]
  },
  {
   "cell_type": "code",
   "execution_count": 2,
   "id": "8699e2fd-5fb8-4f35-8b46-a8df8554b420",
   "metadata": {
    "tags": []
   },
   "outputs": [
    {
     "name": "stdout",
     "output_type": "stream",
     "text": [
      "env: CUDA_VISIBLE_DEVICES=3\n",
      "cuda available: True\n"
     ]
    }
   ],
   "source": [
    "import os\n",
    "import random\n",
    "from tqdm.notebook import tqdm\n",
    "import matplotlib\n",
    "import matplotlib.pyplot as plt\n",
    "\n",
    "import numpy as np\n",
    "import pandas as pd\n",
    "import scanpy as sc\n",
    "import seaborn as sns\n",
    "import itertools\n",
    "\n",
    "\n",
    "%env CUDA_VISIBLE_DEVICES=3\n",
    "import torch\n",
    "torch.no_grad()\n",
    "print(\"cuda available: \" + str(torch.cuda.is_available()))\n",
    "\n",
    "#import cuml\n",
    "from torchvision.utils import save_image, make_grid\n"
   ]
  },
  {
   "cell_type": "code",
   "execution_count": 3,
   "id": "3c321b0a-5323-46eb-81b8-168582671a38",
   "metadata": {
    "tags": []
   },
   "outputs": [],
   "source": [
    "from matplotlib import rcParams, rcParamsDefault\n",
    "rcParams.update(rcParamsDefault)\n",
    "plt.rcParams.update({'font.size': 15})"
   ]
  },
  {
   "cell_type": "code",
   "execution_count": 7,
   "id": "a1eb4bbf-503a-4fc0-83b3-7fb438444dc3",
   "metadata": {
    "tags": []
   },
   "outputs": [],
   "source": [
    "save_dir = '../figures/images'\n",
    "experiment_name = 'syn_props_hdim32_scvi'\n",
    "summary_name = os.path.join('/home/rpeyser/GitHub/scSet/checkpoints/', experiment_name, 'summary.pth')\n",
    "\n",
    "imgdir = os.path.join(save_dir, experiment_name)\n",
    "imgdir_gt = os.path.join(imgdir, 'gt')\n",
    "imgdir_recon = os.path.join(imgdir, 'recon')\n",
    "imgdir_gen = os.path.join(imgdir, 'gen')\n",
    "\n",
    "os.makedirs(save_dir, exist_ok=True)\n",
    "os.makedirs(imgdir_gt, exist_ok=True)\n",
    "os.makedirs(imgdir_recon, exist_ok=True)\n",
    "os.makedirs(imgdir_gen, exist_ok=True)"
   ]
  },
  {
   "cell_type": "code",
   "execution_count": 8,
   "id": "ca734aa2-dad5-493c-923e-b17f663b15a2",
   "metadata": {
    "tags": []
   },
   "outputs": [
    {
     "name": "stdout",
     "output_type": "stream",
     "text": [
      "smp_set: torch.Size([100, 700, 20])\n",
      "smp_mask: torch.Size([100, 700])\n",
      "smp_att: 5\n",
      "priors: 6\n",
      "recon_set: torch.Size([100, 700, 20])\n",
      "recon_mask: torch.Size([100, 700])\n",
      "posteriors: 6\n",
      "dec_att: 5\n",
      "enc_att: 5\n",
      "enc_hiddens: 3\n",
      "init_set: torch.Size([100, 700, 32])\n",
      "dec_hiddens: 3\n",
      "dec_latents: 3\n",
      "gt_set: torch.Size([100, 503, 20])\n",
      "gt_mask: torch.Size([100, 503])\n",
      "mean: torch.Size([3])\n",
      "std: torch.Size([3])\n",
      "sid: 3\n",
      "mid: 3\n",
      "pid: 3\n",
      "cardinality: 3\n"
     ]
    }
   ],
   "source": [
    "summary = torch.load(summary_name)\n",
    "for k, v in summary.items():\n",
    "    try:\n",
    "        print(f\"{k}: {v.shape}\")\n",
    "    except AttributeError:\n",
    "        print(f\"{k}: {len(v)}\")"
   ]
  },
  {
   "cell_type": "code",
   "execution_count": 11,
   "id": "f14c93ac-0e8a-45a6-bd4a-c3dafb0ab002",
   "metadata": {
    "tags": []
   },
   "outputs": [],
   "source": [
    "# load the model and access the inducing pts weights (since the inducing points are not a per input item)\n",
    "model = torch.load(\"/home/rpeyser/GitHub/scSet/checkpoints/syn_props_hdim32_scvi/checkpoint-best.pt\")"
   ]
  },
  {
   "cell_type": "code",
   "execution_count": 13,
   "id": "b2b74032-17ae-41ea-a250-63c2e9c8ebc7",
   "metadata": {
    "tags": []
   },
   "outputs": [
    {
     "ename": "AttributeError",
     "evalue": "'dict' object has no attribute 'named_parameters'",
     "output_type": "error",
     "traceback": [
      "\u001b[0;31m---------------------------------------------------------------------------\u001b[0m",
      "\u001b[0;31mAttributeError\u001b[0m                            Traceback (most recent call last)",
      "Cell \u001b[0;32mIn[13], line 1\u001b[0m\n\u001b[0;32m----> 1\u001b[0m \u001b[38;5;28;01mfor\u001b[39;00m name, param \u001b[38;5;129;01min\u001b[39;00m \u001b[43mmodel\u001b[49m\u001b[38;5;241;43m.\u001b[39;49m\u001b[43mnamed_parameters\u001b[49m():\n\u001b[1;32m      2\u001b[0m     \u001b[38;5;28mprint\u001b[39m(name)\n",
      "\u001b[0;31mAttributeError\u001b[0m: 'dict' object has no attribute 'named_parameters'"
     ]
    }
   ],
   "source": [
    "for name, param in model.named_parameters():\n",
    "    print(name)"
   ]
  },
  {
   "cell_type": "code",
   "execution_count": 15,
   "id": "53bc069e-12b5-4f7e-b0fd-79d2702eb6f8",
   "metadata": {
    "tags": []
   },
   "outputs": [
    {
     "data": {
      "text/plain": [
       "dict_keys(['epoch', 'model', 'optimizer', 'scheduler'])"
      ]
     },
     "execution_count": 15,
     "metadata": {},
     "output_type": "execute_result"
    }
   ],
   "source": [
    "model.keys()"
   ]
  },
  {
   "cell_type": "code",
   "execution_count": null,
   "id": "2e5550f2-a95b-4886-b812-ca1fb32aca15",
   "metadata": {},
   "outputs": [],
   "source": [
    "#load a trained model from a checkpoint\n",
    "\n",
    "#the model needs args passed in as a dict so figure out how to parse them from the script, or maybe just build the dict manually here\n",
    "\n",
    "from args import get_args\n",
    "args = get_args()\n",
    "model = SetVAE(args)\n",
    "model = model.cuda()\n",
    "save_dir = Path(args.log_dir) / \"checkpoints\" / args.model_name\n",
    "# default to checkpoint-best\n",
    "if args.resume_checkpoint is None and Path(Path(save_dir) / 'checkpoint-best.pt').exists():\n",
    "    args.resume_checkpoint = os.path.join(save_dir, f'checkpoint-best.pt')\n",
    "checkpoint = torch.load(args.resume_checkpoint)\n",
    "model.load_state_dict(checkpoint['model'])\n",
    "model.eval()"
   ]
  }
 ],
 "metadata": {
  "kernelspec": {
   "display_name": "scset",
   "language": "python",
   "name": "scset"
  },
  "language_info": {
   "codemirror_mode": {
    "name": "ipython",
    "version": 3
   },
   "file_extension": ".py",
   "mimetype": "text/x-python",
   "name": "python",
   "nbconvert_exporter": "python",
   "pygments_lexer": "ipython3",
   "version": "3.8.15"
  }
 },
 "nbformat": 4,
 "nbformat_minor": 5
}
