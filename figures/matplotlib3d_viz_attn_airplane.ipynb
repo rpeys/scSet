{
 "cells": [
  {
   "cell_type": "markdown",
   "metadata": {},
   "source": [
    "# ShapeNet-Airplane Attention Visualization\n",
    "- By running this script, you can get images of attention-based-color-coded pointclouds.\n",
    "## To run this code...\n",
    "- You should prepare the summary file by running sample_and_summarize.py with a trained checkpoint.\n",
    "- You should install below libraries.\n",
    "    - matplotlib\n",
    "    - open3d\n",
    "    - numpy\n",
    "    - torch\n",
    "    - torchvision\n",
    "    - tqdm"
   ]
  },
  {
   "cell_type": "code",
   "execution_count": 37,
   "metadata": {},
   "outputs": [],
   "source": [
    "import os\n",
    "import random\n",
    "from tqdm.notebook import tqdm\n",
    "import matplotlib.pyplot as plt\n",
    "#import open3d as o3d\n",
    "\n",
    "import numpy as np\n",
    "import torch\n",
    "torch.no_grad()\n",
    "from torchvision.utils import save_image, make_grid\n",
    "\n",
    "from draw import draw, draw_attention_pointcloud"
   ]
  },
  {
   "cell_type": "markdown",
   "metadata": {},
   "source": [
    "## Set directories\n",
    "1. experiment_name: log_name.lstrip('gen/') in scripts\n",
    "2. save_dir: path to save images"
   ]
  },
  {
   "cell_type": "code",
   "execution_count": 38,
   "metadata": {},
   "outputs": [],
   "source": [
    "save_dir = 'images_attn'\n",
    "experiment_name = 'shapenet15k-airplane/n_samples_2000/'\n",
    "summary_name = os.path.join('/data/rna_rep_learning/nmsingh/scSet_ckpts/sample_complexity/', experiment_name, 'summary.pth')\n",
    "summary_train_name = os.path.join('/data/rna_rep_learning/nmsingh/scSet_ckpts/sample_complexity/', experiment_name, 'summary_train_recon.pth')\n",
    "\n",
    "imgdir = os.path.join(save_dir, experiment_name)\n",
    "imgdir_recon = os.path.join(imgdir, 'recon')\n",
    "imgdir_gt = os.path.join(imgdir, 'gt')\n",
    "imgdir_gen = os.path.join(imgdir, 'gen')\n",
    "imgdir_gt_train = os.path.join(imgdir, 'gt_train')\n",
    "\n",
    "os.makedirs(save_dir, exist_ok=True)\n",
    "os.makedirs(imgdir_gt, exist_ok=True)\n",
    "os.makedirs(imgdir_recon, exist_ok=True)\n",
    "os.makedirs(imgdir_gen, exist_ok=True)\n",
    "os.makedirs(imgdir_gt_train, exist_ok=True)"
   ]
  },
  {
   "cell_type": "code",
   "execution_count": 39,
   "metadata": {},
   "outputs": [
    {
     "name": "stdout",
     "output_type": "stream",
     "text": [
      "smp_set: torch.Size([405, 2500, 3])\n",
      "smp_mask: torch.Size([405, 2500])\n",
      "smp_att: 7\n",
      "priors: 8\n",
      "recon_set: torch.Size([405, 2500, 3])\n",
      "recon_mask: torch.Size([405, 2500])\n",
      "posteriors: 8\n",
      "dec_att: 7\n",
      "enc_att: 7\n",
      "enc_hiddens: 13\n",
      "gt_set: torch.Size([405, 2048, 3])\n",
      "gt_mask: torch.Size([405, 2048])\n",
      "mean: torch.Size([405, 1, 3])\n",
      "std: torch.Size([405, 1, 1])\n",
      "sid: 13\n",
      "mid: 13\n",
      "pid: 13\n",
      "cardinality: 13\n"
     ]
    }
   ],
   "source": [
    "# validation and generated\n",
    "summary = torch.load(summary_name)\n",
    "for k, v in summary.items():\n",
    "    try:\n",
    "        print(f\"{k}: {v.shape}\")\n",
    "    except AttributeError:\n",
    "        print(f\"{k}: {len(v)}\")\n",
    "len_att = len(summary['dec_att'])"
   ]
  },
  {
   "cell_type": "markdown",
   "metadata": {},
   "source": [
    "## Select the samples to visualize\n",
    "- parse the samples by index.\n",
    "- below default code will visualize all samples. **Warning: Requires Huge Memory**"
   ]
  },
  {
   "cell_type": "code",
   "execution_count": 40,
   "metadata": {},
   "outputs": [],
   "source": [
    "n_viz=10\n",
    "recon_targets = list(range(len(summary['gt_mask'])))[:n_viz]\n",
    "gen_targets = list(range(len(summary['smp_mask'])))[:n_viz]\n",
    "\n",
    "gt = summary['gt_set'][recon_targets]\n",
    "gt_mask = summary['gt_mask'][recon_targets]\n",
    "\n",
    "recon = summary['recon_set'][recon_targets]\n",
    "recon_mask = summary['recon_mask'][recon_targets]\n",
    "\n",
    "dec_att = [summary['dec_att'][l][:, :, recon_targets] for l in range(len_att)]\n",
    "enc_att = [summary['enc_att'][l][:, :, recon_targets] for l in range(len_att)]\n",
    "\n",
    "gen = summary['smp_set'][gen_targets]\n",
    "gen_mask = summary['smp_mask'][gen_targets]\n",
    "gen_att = [summary['smp_att'][l][:, :, gen_targets] for l in range(len_att)]"
   ]
  },
  {
   "cell_type": "markdown",
   "metadata": {},
   "source": [
    "## Visualize Attention\n",
    "- lidx: index of layer\n",
    "- projection: ISAB has 2 projection attention and back-projection attention.\n",
    "    - 0: projection, 1: back-projection"
   ]
  },
  {
   "cell_type": "code",
   "execution_count": 41,
   "metadata": {},
   "outputs": [],
   "source": [
    "def attention_selector(gt, gt_mask, att, lidx=0, projection=0, selected_heads=None, palette_permutation=None):\n",
    "    if selected_heads is not None:\n",
    "        att = [a[:, selected_heads].view(a.size(0), len(selected_heads), a.size(2), a.size(3), a.size(4)) for a in att]\n",
    "    return draw_attention_pointcloud(gt, gt_mask, att[lidx][projection], color_opt='gist_rainbow')"
   ]
  },
  {
   "cell_type": "markdown",
   "metadata": {},
   "source": [
    "### Visualize Encoder Attention on GT samples"
   ]
  },
  {
   "cell_type": "code",
   "execution_count": 42,
   "metadata": {
    "scrolled": true
   },
   "outputs": [
    {
     "data": {
      "application/vnd.jupyter.widget-view+json": {
       "model_id": "be12b33767e745678f7e5b331e97127f",
       "version_major": 2,
       "version_minor": 0
      },
      "text/plain": [
       "HBox(children=(FloatProgress(value=0.0, max=3.0), HTML(value='')))"
      ]
     },
     "metadata": {},
     "output_type": "display_data"
    },
    {
     "name": "stdout",
     "output_type": "stream",
     "text": [
      "HEAD: [2], COLOR: [1, 0]\n",
      "HEAD: [0], COLOR: [1, 2, 3, 0]\n",
      "HEAD: [2], COLOR: None\n",
      "\n",
      "gt DONE\n"
     ]
    }
   ],
   "source": [
    "for topdown in tqdm(range(2,5)):\n",
    "    for projection in [0]:\n",
    "        if topdown == 2:\n",
    "            selected_heads = [2]\n",
    "            palette_permutation = [1, 0]\n",
    "        elif topdown == 3:\n",
    "            selected_heads = [0]\n",
    "            palette_permutation = [1, 2, 3, 0]\n",
    "        elif topdown == 4:\n",
    "            selected_heads = [2]\n",
    "            palette_permutation = None\n",
    "        else:\n",
    "            selected_heads = list(range(enc_att[0].size(1)))\n",
    "            palette_permutation = None\n",
    "        print(f\"HEAD: {selected_heads}, COLOR: {palette_permutation}\")\n",
    "        gt_imgs = attention_selector(gt, gt_mask, enc_att, len(enc_att) - 1 - topdown, projection,\n",
    "                                     selected_heads=selected_heads, palette_permutation=palette_permutation)\n",
    "        for head_idx in range(len(selected_heads)):\n",
    "            for idx in range(len(recon_targets)):\n",
    "                data_idx = recon_targets[idx]\n",
    "                try:\n",
    "                    pos_min = torch.nonzero(gt_imgs[idx][head_idx].mean(0) != 1).min(0)[0]\n",
    "                    pos_max = torch.nonzero(gt_imgs[idx][head_idx].mean(0) != 1).max(0)[0]\n",
    "                    gt_img = gt_imgs[idx][head_idx][:, pos_min[0]:pos_max[0]+1, pos_min[1]:pos_max[1]+1]\n",
    "                except RuntimeError:\n",
    "                    gt_img = gt_imgs[idx][head_idx].float()\n",
    "                head = selected_heads[head_idx]\n",
    "                save_image(gt_img, os.path.join(imgdir_gt, f'{topdown}_{projection}_{head}_{data_idx}.png'))\n",
    "        del gt_imgs\n",
    "print('gt DONE')"
   ]
  },
  {
   "cell_type": "markdown",
   "metadata": {},
   "source": [
    "### Visualize Decoder Attention on Generated samples"
   ]
  },
  {
   "cell_type": "code",
   "execution_count": 43,
   "metadata": {
    "tags": []
   },
   "outputs": [
    {
     "data": {
      "application/vnd.jupyter.widget-view+json": {
       "model_id": "9b5a3224a9184590b5fa568f5695e596",
       "version_major": 2,
       "version_minor": 0
      },
      "text/plain": [
       "HBox(children=(FloatProgress(value=0.0, max=3.0), HTML(value='')))"
      ]
     },
     "metadata": {},
     "output_type": "display_data"
    },
    {
     "name": "stdout",
     "output_type": "stream",
     "text": [
      "HEAD: [1], COLOR: [0, 1]\n",
      "HEAD: [0, 2], COLOR: [0, 1, 2, 3]\n",
      "HEAD: [0, 1, 3], COLOR: None\n",
      "\n",
      "gen DONE\n"
     ]
    }
   ],
   "source": [
    "for topdown in tqdm(range(2, 5)):\n",
    "    for projection in [1]:\n",
    "        if topdown == 2:\n",
    "            selected_heads = [1]\n",
    "            palette_permutation = [0, 1]\n",
    "        elif topdown == 3:\n",
    "            selected_heads = [0, 2]\n",
    "            palette_permutation = [0, 1, 2, 3]\n",
    "        elif topdown == 4:\n",
    "            selected_heads = [0, 1, 3]\n",
    "            palette_permutation = None\n",
    "        else:\n",
    "            selected_heads = list(range(gen_att[0].size(1)))\n",
    "            palette_permutation = None\n",
    "        print(f\"HEAD: {selected_heads}, COLOR: {palette_permutation}\")\n",
    "        gen_imgs = attention_selector(gen, gen_mask, gen_att, topdown, projection, selected_heads, palette_permutation)\n",
    "        for head_idx in range(len(selected_heads)):\n",
    "            for idx in range(len(gen_targets)):\n",
    "                data_idx = gen_targets[idx]\n",
    "                try:\n",
    "                    pos_min = torch.nonzero(gen_imgs[idx][head_idx].mean(0) != 1).min(0)[0]\n",
    "                    pos_max = torch.nonzero(gen_imgs[idx][head_idx].mean(0) != 1).max(0)[0]\n",
    "                    gen_img = gen_imgs[idx][head_idx][:, pos_min[0]:pos_max[0]+1, pos_min[1]:pos_max[1]+1]\n",
    "                except RuntimeError:\n",
    "                    gen_img = gen_imgs[idx][head_idx]\n",
    "                head = selected_heads[head_idx]\n",
    "                save_image(gen_img.float(), os.path.join(imgdir_gen, f'{topdown}_{projection}_{head}_{data_idx}.png'))\n",
    "        del gen_imgs\n",
    "print('gen DONE')"
   ]
  },
  {
   "cell_type": "code",
   "execution_count": null,
   "metadata": {},
   "outputs": [],
   "source": []
  }
 ],
 "metadata": {
  "kernelspec": {
   "display_name": "scset",
   "language": "python",
   "name": "scset"
  },
  "language_info": {
   "codemirror_mode": {
    "name": "ipython",
    "version": 3
   },
   "file_extension": ".py",
   "mimetype": "text/x-python",
   "name": "python",
   "nbconvert_exporter": "python",
   "pygments_lexer": "ipython3",
   "version": "3.8.15"
  },
  "vscode": {
   "interpreter": {
    "hash": "30314d88031b0d7ffe696dc27ab20b7552f37a4dac8c459a5ad3e167b97b3a2e"
   }
  }
 },
 "nbformat": 4,
 "nbformat_minor": 4
}
