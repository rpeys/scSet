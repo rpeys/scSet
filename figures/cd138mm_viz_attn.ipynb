{
 "cells": [
  {
   "cell_type": "markdown",
   "metadata": {},
   "source": [
    "# MNIST Attention Visualization\n",
    "- By running this script, you can get images of attention-based-color-coded Set-MNIST.\n",
    "## To run this code...\n",
    "- You should prepare the summary file by running sample_and_summarize.py with a trained checkpoint.\n",
    "- You should install below libraries.\n",
    "    - matplotlib\n",
    "    - open3d\n",
    "    - numpy\n",
    "    - torch\n",
    "    - torchvision\n",
    "    - tqdm"
   ]
  },
  {
   "cell_type": "code",
   "execution_count": 1,
   "metadata": {
    "tags": []
   },
   "outputs": [
    {
     "name": "stdout",
     "output_type": "stream",
     "text": [
      "Jupyter environment detected. Enabling Open3D WebVisualizer.\n",
      "[Open3D INFO] WebRTC GUI backend enabled.\n",
      "[Open3D INFO] WebRTCWindowSystem: HTTP handshake server disabled.\n"
     ]
    }
   ],
   "source": [
    "import os\n",
    "import random\n",
    "from tqdm.notebook import tqdm\n",
    "import matplotlib.pyplot as plt\n",
    "import open3d as o3d\n",
    "\n",
    "import numpy as np\n",
    "import torch\n",
    "torch.no_grad()\n",
    "from torchvision.utils import save_image, make_grid\n",
    "\n",
    "from draw import draw, draw_attention"
   ]
  },
  {
   "cell_type": "markdown",
   "metadata": {},
   "source": [
    "## Set directories\n",
    "1. summary file path: summary_name\n",
    "2. path to save images: save_dir"
   ]
  },
  {
   "cell_type": "code",
   "execution_count": 2,
   "metadata": {
    "tags": []
   },
   "outputs": [],
   "source": [
    "save_dir = 'images_attn'\n",
    "experiment_name = 'syn_props_hdim32_scvi'\n",
    "summary_name = os.path.join('../checkpoints/', experiment_name, 'summary.pth')\n",
    "\n",
    "imgdir = os.path.join(save_dir, experiment_name)\n",
    "imgdir_gt = os.path.join(imgdir, 'gt')\n",
    "imgdir_recon = os.path.join(imgdir, 'recon')\n",
    "imgdir_gen = os.path.join(imgdir, 'gen')\n",
    "\n",
    "os.makedirs(save_dir, exist_ok=True)\n",
    "os.makedirs(imgdir_gt, exist_ok=True)\n",
    "os.makedirs(imgdir_recon, exist_ok=True)\n",
    "os.makedirs(imgdir_gen, exist_ok=True)"
   ]
  },
  {
   "cell_type": "code",
   "execution_count": 3,
   "metadata": {
    "tags": []
   },
   "outputs": [
    {
     "name": "stdout",
     "output_type": "stream",
     "text": [
      "smp_set: torch.Size([100, 700, 20])\n",
      "smp_mask: torch.Size([100, 700])\n",
      "smp_att: 5\n",
      "priors: 6\n",
      "recon_set: torch.Size([100, 700, 20])\n",
      "recon_mask: torch.Size([100, 700])\n",
      "posteriors: 6\n",
      "dec_att: 5\n",
      "enc_att: 5\n",
      "enc_hiddens: 3\n",
      "init_set: torch.Size([100, 700, 32])\n",
      "dec_hiddens: 3\n",
      "dec_latents: 3\n",
      "gt_set: torch.Size([100, 503, 20])\n",
      "gt_mask: torch.Size([100, 503])\n",
      "mean: torch.Size([3])\n",
      "std: torch.Size([3])\n",
      "sid: 3\n",
      "mid: 3\n",
      "pid: 3\n",
      "cardinality: 3\n"
     ]
    }
   ],
   "source": [
    "summary = torch.load(summary_name)\n",
    "for k, v in summary.items():\n",
    "    try:\n",
    "        print(f\"{k}: {v.shape}\")\n",
    "    except AttributeError:\n",
    "        print(f\"{k}: {len(v)}\")"
   ]
  },
  {
   "cell_type": "markdown",
   "metadata": {},
   "source": [
    "## Select the samples to visualize\n",
    "- parse the samples by index.\n",
    "- below default code will visualize all samples. **Warning: Requires Huge Memory**"
   ]
  },
  {
   "cell_type": "code",
   "execution_count": 4,
   "metadata": {
    "tags": []
   },
   "outputs": [],
   "source": [
    "recon_targets = list(range(len(summary['gt_mask'])))[:20]\n",
    "gen_targets = list(range(len(summary['smp_mask'])))[:20]"
   ]
  },
  {
   "cell_type": "code",
   "execution_count": 5,
   "metadata": {
    "tags": []
   },
   "outputs": [],
   "source": [
    "len_att = len(summary['dec_att'])\n",
    "gt = summary['gt_set'][recon_targets]\n",
    "gt_mask = summary['gt_mask'][recon_targets]\n",
    "\n",
    "recon = summary['recon_set'][recon_targets]\n",
    "recon_mask = summary['recon_mask'][recon_targets]\n",
    "\n",
    "dec_att = [summary['dec_att'][l][:, :, recon_targets] for l in range(len_att)]\n",
    "enc_att = [summary['enc_att'][l][:, :, recon_targets] for l in range(len_att)]\n",
    "\n",
    "gen = summary['smp_set'][gen_targets]\n",
    "gen_mask = summary['smp_mask'][gen_targets]\n",
    "gen_att = [summary['smp_att'][l][:, :, gen_targets] for l in range(len_att)]"
   ]
  },
  {
   "cell_type": "markdown",
   "metadata": {},
   "source": [
    "### Exploring encoder and decoder attention for sample SMM-3/idx 5"
   ]
  },
  {
   "cell_type": "code",
   "execution_count": 6,
   "metadata": {
    "tags": []
   },
   "outputs": [
    {
     "data": {
      "text/plain": [
       "torch.Size([4, 20, 503, 32])"
      ]
     },
     "execution_count": 6,
     "metadata": {},
     "output_type": "execute_result"
    }
   ],
   "source": [
    "this_sample = 5\n",
    "enc_att[0][0].shape #attnheads, input features, max cells, inducing pts"
   ]
  },
  {
   "cell_type": "markdown",
   "metadata": {},
   "source": [
    "## Visualize Attention\n",
    "- lidx: index of layer\n",
    "- projection: ISAB has 2 projection attention and back-projection attention.\n",
    "    - 0: projection, 1: back-projection"
   ]
  },
  {
   "cell_type": "code",
   "execution_count": 7,
   "metadata": {
    "tags": []
   },
   "outputs": [],
   "source": [
    "def attention_selector(gt, gt_mask, att, lidx=0, projection=0):\n",
    "    return draw_attention(gt, gt_mask, att[lidx][projection], color_opt='gist_rainbow', dot_size=300)  # use 300 for multimnist, 700 for mnist"
   ]
  },
  {
   "cell_type": "markdown",
   "metadata": {},
   "source": [
    "### Visualize Encoder Attention on GT samples"
   ]
  },
  {
   "cell_type": "code",
   "execution_count": 15,
   "metadata": {
    "tags": []
   },
   "outputs": [
    {
     "data": {
      "text/plain": [
       "5"
      ]
     },
     "execution_count": 15,
     "metadata": {},
     "output_type": "execute_result"
    }
   ],
   "source": [
    "len(enc_att)"
   ]
  },
  {
   "cell_type": "code",
   "execution_count": 17,
   "metadata": {
    "tags": []
   },
   "outputs": [
    {
     "data": {
      "text/plain": [
       "torch.Size([2, 4, 20, 503, 32])"
      ]
     },
     "execution_count": 17,
     "metadata": {},
     "output_type": "execute_result"
    }
   ],
   "source": [
    "enc_att[0].shape"
   ]
  },
  {
   "cell_type": "code",
   "execution_count": 10,
   "metadata": {
    "scrolled": true,
    "tags": []
   },
   "outputs": [
    {
     "data": {
      "application/vnd.jupyter.widget-view+json": {
       "model_id": "53ebe2cdb9784f6fb8884acaefdde640",
       "version_major": 2,
       "version_minor": 0
      },
      "text/plain": [
       "  0%|          | 0/5 [00:00<?, ?it/s]"
      ]
     },
     "metadata": {},
     "output_type": "display_data"
    },
    {
     "name": "stdout",
     "output_type": "stream",
     "text": [
      "WARNING: received input with 20 dimensions; only visualizing the first 3 [this is expected for RNA-seq data]\n",
      "WARNING: received input with 20 dimensions; only visualizing the first 3 [this is expected for RNA-seq data]\n",
      "WARNING: received input with 20 dimensions; only visualizing the first 3 [this is expected for RNA-seq data]\n",
      "WARNING: received input with 20 dimensions; only visualizing the first 3 [this is expected for RNA-seq data]\n",
      "WARNING: received input with 20 dimensions; only visualizing the first 3 [this is expected for RNA-seq data]\n",
      "gt DONE\n"
     ]
    }
   ],
   "source": [
    "for topdown in tqdm(range(len(enc_att))):\n",
    "    for projection in [0]:\n",
    "        gt_imgs = attention_selector(gt, gt_mask, enc_att, len(enc_att) - 1 - topdown, projection)\n",
    "        gt_imgs = [i/255. for i in gt_imgs]\n",
    "        for head in range(enc_att[0][0].shape[0]):\n",
    "            for idx in range(len(recon_targets)):\n",
    "                data_idx = recon_targets[idx]\n",
    "                gt_img = gt_imgs[idx][head]\n",
    "                save_image(gt_img, os.path.join(imgdir_gt, f'{topdown}_{projection}_{head}_{data_idx}.png'))\n",
    "del gt_imgs\n",
    "print('gt DONE')"
   ]
  },
  {
   "cell_type": "markdown",
   "metadata": {},
   "source": [
    "### Visualize Decoder Attention on Reconstructed samples"
   ]
  },
  {
   "cell_type": "code",
   "execution_count": 11,
   "metadata": {
    "tags": []
   },
   "outputs": [
    {
     "data": {
      "application/vnd.jupyter.widget-view+json": {
       "model_id": "69abdb682a884baab84b416959db8cd6",
       "version_major": 2,
       "version_minor": 0
      },
      "text/plain": [
       "  0%|          | 0/5 [00:00<?, ?it/s]"
      ]
     },
     "metadata": {},
     "output_type": "display_data"
    },
    {
     "name": "stdout",
     "output_type": "stream",
     "text": [
      "WARNING: received input with 20 dimensions; only visualizing the first 3 [this is expected for RNA-seq data]\n",
      "WARNING: received input with 20 dimensions; only visualizing the first 3 [this is expected for RNA-seq data]\n",
      "WARNING: received input with 20 dimensions; only visualizing the first 3 [this is expected for RNA-seq data]\n",
      "WARNING: received input with 20 dimensions; only visualizing the first 3 [this is expected for RNA-seq data]\n",
      "WARNING: received input with 20 dimensions; only visualizing the first 3 [this is expected for RNA-seq data]\n",
      "recon DONE\n"
     ]
    }
   ],
   "source": [
    "for topdown in tqdm(range(len(enc_att))):\n",
    "    for projection in [1]:\n",
    "        recon_imgs = attention_selector(recon, recon_mask, dec_att, topdown, projection)\n",
    "        recon_imgs = [i/255. for i in recon_imgs]\n",
    "        for head in range(enc_att[0][0].shape[0]):\n",
    "            for idx in range(len(recon_targets)):\n",
    "                data_idx = recon_targets[idx]\n",
    "                recon_img = recon_imgs[idx][head]\n",
    "                save_image(recon_img, os.path.join(imgdir_recon, f'{topdown}_{projection}_{head}_{data_idx}.png'))\n",
    "del recon_imgs\n",
    "print('recon DONE')"
   ]
  },
  {
   "cell_type": "markdown",
   "metadata": {},
   "source": [
    "### Visualize Decoder Attention on Generated samples"
   ]
  },
  {
   "cell_type": "code",
   "execution_count": 12,
   "metadata": {
    "tags": []
   },
   "outputs": [
    {
     "data": {
      "application/vnd.jupyter.widget-view+json": {
       "model_id": "dedb8c0ea9ba42c59978c5c0796b2f55",
       "version_major": 2,
       "version_minor": 0
      },
      "text/plain": [
       "  0%|          | 0/5 [00:00<?, ?it/s]"
      ]
     },
     "metadata": {},
     "output_type": "display_data"
    },
    {
     "name": "stdout",
     "output_type": "stream",
     "text": [
      "WARNING: received input with 20 dimensions; only visualizing the first 3 [this is expected for RNA-seq data]\n",
      "WARNING: received input with 20 dimensions; only visualizing the first 3 [this is expected for RNA-seq data]\n",
      "WARNING: received input with 20 dimensions; only visualizing the first 3 [this is expected for RNA-seq data]\n",
      "WARNING: received input with 20 dimensions; only visualizing the first 3 [this is expected for RNA-seq data]\n",
      "WARNING: received input with 20 dimensions; only visualizing the first 3 [this is expected for RNA-seq data]\n",
      "gen DONE\n"
     ]
    }
   ],
   "source": [
    "for topdown in tqdm(range(len(dec_att))):\n",
    "    for projection in [1,]:\n",
    "        gen_imgs = attention_selector(gen, gen_mask, gen_att, topdown, projection)\n",
    "        gen_imgs = [i/255. for i in gen_imgs]\n",
    "        for head in range(enc_att[0][0].shape[0]):\n",
    "            for idx in range(len(gen_targets)):\n",
    "                data_idx = gen_targets[idx]\n",
    "                gen_img = gen_imgs[idx][head]\n",
    "                save_image(gen_img.float(), os.path.join(imgdir_gen, f'{topdown}_{projection}_{head}_{data_idx}.png'))\n",
    "        del gen_imgs\n",
    "print('gen DONE')"
   ]
  }
 ],
 "metadata": {
  "kernelspec": {
   "display_name": "scset",
   "language": "python",
   "name": "scset"
  },
  "language_info": {
   "codemirror_mode": {
    "name": "ipython",
    "version": 3
   },
   "file_extension": ".py",
   "mimetype": "text/x-python",
   "name": "python",
   "nbconvert_exporter": "python",
   "pygments_lexer": "ipython3",
   "version": "3.8.15"
  },
  "vscode": {
   "interpreter": {
    "hash": "30314d88031b0d7ffe696dc27ab20b7552f37a4dac8c459a5ad3e167b97b3a2e"
   }
  }
 },
 "nbformat": 4,
 "nbformat_minor": 4
}
