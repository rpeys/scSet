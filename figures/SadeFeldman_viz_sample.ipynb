{
 "cells": [
  {
   "cell_type": "markdown",
   "metadata": {},
   "source": [
    "# MNIST Point Set Visualization\n",
    "- By running this script, you can get images of point sets.\n",
    "## To run this code...\n",
    "- You should prepare the summary file by running sample_and_summarize.py with a trained checkpoint.\n",
    "- You should install below libraries.\n",
    "    - matplotlib\n",
    "    - open3d\n",
    "    - numpy\n",
    "    - torch\n",
    "    - torchvision\n",
    "    - tqdm"
   ]
  },
  {
   "cell_type": "code",
   "execution_count": 1,
   "metadata": {},
   "outputs": [
    {
     "name": "stdout",
     "output_type": "stream",
     "text": [
      "Jupyter environment detected. Enabling Open3D WebVisualizer.\n",
      "[Open3D INFO] WebRTC GUI backend enabled.\n",
      "[Open3D INFO] WebRTCWindowSystem: HTTP handshake server disabled.\n"
     ]
    }
   ],
   "source": [
    "import os\n",
    "import random\n",
    "from tqdm.notebook import tqdm\n",
    "import matplotlib.pyplot as plt\n",
    "import open3d as o3d\n",
    "\n",
    "import numpy as np\n",
    "import torch\n",
    "torch.no_grad()\n",
    "from torchvision.utils import save_image, make_grid\n",
    "\n",
    "from draw import draw"
   ]
  },
  {
   "cell_type": "markdown",
   "metadata": {},
   "source": [
    "## Set directories\n",
    "1. summary file path: summary_name\n",
    "2. path to save images: save_dir"
   ]
  },
  {
   "cell_type": "code",
   "execution_count": 2,
   "metadata": {},
   "outputs": [],
   "source": [
    "save_dir = 'images'\n",
    "experiment_name = 'sadefeldman'\n",
    "summary_name = os.path.join('../checkpoints/gen/', experiment_name, 'summary.pth')\n",
    "\n",
    "imgdir = os.path.join(save_dir, experiment_name)\n",
    "imgdir_gt = os.path.join(imgdir, 'gt')\n",
    "imgdir_recon = os.path.join(imgdir, 'recon')\n",
    "imgdir_gen = os.path.join(imgdir, 'gen')\n",
    "\n",
    "os.makedirs(save_dir, exist_ok=True)\n",
    "os.makedirs(imgdir_gt, exist_ok=True)\n",
    "os.makedirs(imgdir_recon, exist_ok=True)\n",
    "os.makedirs(imgdir_gen, exist_ok=True)"
   ]
  },
  {
   "cell_type": "code",
   "execution_count": 3,
   "metadata": {},
   "outputs": [
    {
     "name": "stdout",
     "output_type": "stream",
     "text": [
      "smp_set: torch.Size([10, 700, 20])\n",
      "smp_mask: torch.Size([10, 700])\n",
      "smp_att: 5\n",
      "priors: 6\n",
      "recon_set: torch.Size([10, 700, 20])\n",
      "recon_mask: torch.Size([10, 700])\n",
      "posteriors: 6\n",
      "dec_att: 5\n",
      "enc_att: 5\n",
      "gt_set: torch.Size([10, 675, 20])\n",
      "gt_mask: torch.Size([10, 675])\n",
      "mean: torch.Size([2])\n",
      "std: torch.Size([2])\n",
      "sid: 2\n",
      "mid: 2\n",
      "cardinality: 2\n"
     ]
    }
   ],
   "source": [
    "summary = torch.load(summary_name)\n",
    "for k, v in summary.items():\n",
    "    try:\n",
    "        print(f\"{k}: {v.shape}\")\n",
    "    except AttributeError:\n",
    "        print(f\"{k}: {len(v)}\")"
   ]
  },
  {
   "cell_type": "markdown",
   "metadata": {},
   "source": [
    "## Select the samples to visualize\n",
    "- parse the samples by index.\n",
    "- below default code will visualize all samples. **Warning: Requires Huge Memory**"
   ]
  },
  {
   "cell_type": "code",
   "execution_count": 11,
   "metadata": {},
   "outputs": [
    {
     "data": {
      "text/plain": [
       "range(0, 10)"
      ]
     },
     "execution_count": 11,
     "metadata": {},
     "output_type": "execute_result"
    }
   ],
   "source": [
    "range(len(summary['smp_mask']))"
   ]
  },
  {
   "cell_type": "code",
   "execution_count": 4,
   "metadata": {},
   "outputs": [],
   "source": [
    "recon_targets = list(range(len(summary['gt_mask'])))[:]\n",
    "gen_targets = list(range(len(summary['smp_mask'])))[:]"
   ]
  },
  {
   "cell_type": "code",
   "execution_count": 5,
   "metadata": {},
   "outputs": [],
   "source": [
    "len_att = len(summary['dec_att'])\n",
    "gt = summary['gt_set'][recon_targets]\n",
    "gt_mask = summary['gt_mask'][recon_targets]\n",
    "\n",
    "recon = summary['recon_set'][recon_targets]\n",
    "recon_mask = summary['recon_mask'][recon_targets]\n",
    "\n",
    "dec_att = [summary['dec_att'][l][:, :, recon_targets] for l in range(len_att)]\n",
    "enc_att = [summary['enc_att'][l][:, :, recon_targets] for l in range(len_att)]\n",
    "\n",
    "gen = summary['smp_set'][gen_targets]\n",
    "gen_mask = summary['smp_mask'][gen_targets]\n",
    "gen_att = [summary['smp_att'][l][:, :, gen_targets] for l in range(len_att)]"
   ]
  },
  {
   "cell_type": "markdown",
   "metadata": {},
   "source": [
    "## Visualize"
   ]
  },
  {
   "cell_type": "code",
   "execution_count": 6,
   "metadata": {},
   "outputs": [],
   "source": [
    "def visualize(gt, gt_mask):\n",
    "    return draw(gt, gt_mask)"
   ]
  },
  {
   "cell_type": "markdown",
   "metadata": {},
   "source": [
    "### Visualize Recon"
   ]
  },
  {
   "cell_type": "code",
   "execution_count": 7,
   "metadata": {},
   "outputs": [
    {
     "name": "stdout",
     "output_type": "stream",
     "text": [
      "WARNING: received input with 20 dimensions; only visualizing the first 3 [this is expected for RNA-seq data]\n"
     ]
    }
   ],
   "source": [
    "recon_imgs = visualize(recon, recon_mask)\n",
    "for idx in range(len(recon_targets)):\n",
    "    data_idx = recon_targets[idx]\n",
    "    if torch.nonzero(recon_imgs[idx].float().mean(0) != 1).shape[0] == 0:\n",
    "        print(\"SKIP\")\n",
    "        continue\n",
    "    save_image(recon_imgs[idx] / 255., os.path.join(imgdir_recon, f'{data_idx}.png'))\n",
    "del recon_imgs"
   ]
  },
  {
   "cell_type": "markdown",
   "metadata": {},
   "source": [
    "### Visualize GT"
   ]
  },
  {
   "cell_type": "code",
   "execution_count": 8,
   "metadata": {},
   "outputs": [
    {
     "name": "stdout",
     "output_type": "stream",
     "text": [
      "WARNING: received input with 20 dimensions; only visualizing the first 3 [this is expected for RNA-seq data]\n"
     ]
    }
   ],
   "source": [
    "gt_imgs = visualize(gt, gt_mask)\n",
    "for idx in range(len(recon_targets)):\n",
    "    data_idx = recon_targets[idx]\n",
    "    if torch.nonzero(gt_imgs[idx].float().mean(0) != 1).shape[0] == 0:\n",
    "        print(\"SKIP\")\n",
    "        continue\n",
    "    save_image(gt_imgs[idx]/255, os.path.join(imgdir_gt, f'{data_idx}.png'))\n",
    "del gt_imgs"
   ]
  },
  {
   "cell_type": "markdown",
   "metadata": {},
   "source": [
    "### Visualize Generated Samples"
   ]
  },
  {
   "cell_type": "code",
   "execution_count": 9,
   "metadata": {},
   "outputs": [
    {
     "name": "stdout",
     "output_type": "stream",
     "text": [
      "WARNING: received input with 20 dimensions; only visualizing the first 3 [this is expected for RNA-seq data]\n"
     ]
    }
   ],
   "source": [
    "gen_imgs = visualize(gen, gen_mask)\n",
    "for idx in range(len(gen_targets)):\n",
    "    if torch.nonzero(gen_imgs[idx].float().mean(0) != 1).shape[0] == 0:\n",
    "        print(\"SKIP\")\n",
    "        continue\n",
    "    data_idx = gen_targets[idx]\n",
    "    save_image(gen_imgs[idx]/255, os.path.join(imgdir_gen, f'{data_idx}.png'))\n",
    "del gen_imgs"
   ]
  },
  {
   "cell_type": "code",
   "execution_count": 10,
   "metadata": {},
   "outputs": [
    {
     "name": "stdout",
     "output_type": "stream",
     "text": [
      "Done\n"
     ]
    }
   ],
   "source": [
    "print(\"Done\")"
   ]
  },
  {
   "cell_type": "code",
   "execution_count": null,
   "metadata": {},
   "outputs": [],
   "source": []
  }
 ],
 "metadata": {
  "kernelspec": {
   "display_name": "scset3",
   "language": "python",
   "name": "python3"
  },
  "language_info": {
   "codemirror_mode": {
    "name": "ipython",
    "version": 3
   },
   "file_extension": ".py",
   "mimetype": "text/x-python",
   "name": "python",
   "nbconvert_exporter": "python",
   "pygments_lexer": "ipython3",
   "version": "3.8.15"
  },
  "vscode": {
   "interpreter": {
    "hash": "30314d88031b0d7ffe696dc27ab20b7552f37a4dac8c459a5ad3e167b97b3a2e"
   }
  }
 },
 "nbformat": 4,
 "nbformat_minor": 4
}
